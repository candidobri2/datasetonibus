{
  "cells": [
    {
      "cell_type": "markdown",
      "metadata": {
        "id": "view-in-github",
        "colab_type": "text"
      },
      "source": [
        "<a href=\"https://colab.research.google.com/github/candidobri2/datasetonibus/blob/main/An%C3%A1lise_onibus_fortaleza.ipynb\" target=\"_parent\"><img src=\"https://colab.research.google.com/assets/colab-badge.svg\" alt=\"Open In Colab\"/></a>"
      ]
    },
    {
      "cell_type": "markdown",
      "metadata": {
        "id": "Q_b9AqAaSPbV"
      },
      "source": [
        "# Análise de demanda dos terminais e linhas de ônibus da cidade de Fortaleza - José Candido Brito Neto"
      ]
    },
    {
      "cell_type": "markdown",
      "source": [],
      "metadata": {
        "id": "mvXFjoe7NGD2"
      }
    },
    {
      "cell_type": "markdown",
      "metadata": {
        "id": "dnAwOuBBfWk-"
      },
      "source": []
    },
    {
      "cell_type": "markdown",
      "metadata": {
        "id": "6KroHflIR7Hf"
      },
      "source": []
    },
    {
      "cell_type": "code",
      "execution_count": 1,
      "metadata": {
        "id": "yEmtIfudGqqy"
      },
      "outputs": [],
      "source": [
        "import numpy as np"
      ]
    },
    {
      "cell_type": "markdown",
      "metadata": {
        "id": "VuAjBEV8g5VV"
      },
      "source": [
        "## E agora o que eu vou fazer?"
      ]
    },
    {
      "cell_type": "markdown",
      "metadata": {
        "id": "Iz5xJSrzosgU"
      },
      "source": [
        "- Qual é a proporção de pagantes x gratuidades e meias-entradas nos ônibus de Fortaleza? FEITO\n",
        "- Quais são as linhas que possuem a maior e menor demanda de Fortaleza? (Nos dias úteis e nos fins de semana) (levando em consideração que alguns ônibus tem mais viagens que outros) FEITO\n",
        "- Relação dos ônibus que mais recebem estudantes e dos ônibus que mais recebem idosos percentualmente.\n",
        "- Comparativo entre os terminais rodoviários de passageiros.\n",
        "- Como funciona a sazionalidade durante a semana, quais dias são mais lotados digamos assim.\n",
        "- Quais são os ônibus com maior média de passageiros por viagem (vou precisar saber quantas viagens cada ônibus fez)\n",
        "- Verificar se encontro algum outlier em determinados dias de alguma ou algumas linhas.\n"
      ]
    },
    {
      "cell_type": "markdown",
      "metadata": {
        "id": "46KGWW17Sa-U"
      },
      "source": [
        "Esse é o meu primeiro projeto de análise de dados usando Python. Nele, eu usarei os dados disponibilizados pela ETUFOR, que constam o número de passageiros que passaram pelos terminais ou linhas de ônibus durante os meses de janeiro e fevereiro de 2022."
      ]
    },
    {
      "cell_type": "code",
      "execution_count": 2,
      "metadata": {
        "id": "RrgajXQfSpd5"
      },
      "outputs": [],
      "source": [
        "import pandas as pd\n",
        "import numpy as np\n",
        "import matplotlib.pyplot as plt"
      ]
    },
    {
      "cell_type": "markdown",
      "metadata": {
        "id": "1Pz13jCFSt6C"
      },
      "source": [
        "Primeiro vamos carregar os dados das duas planilhas no formato CSV (comma separated values)"
      ]
    },
    {
      "cell_type": "markdown",
      "metadata": {
        "id": "xqBYg6FC2G9x"
      },
      "source": [
        "# Limpeza dos dados"
      ]
    },
    {
      "cell_type": "markdown",
      "metadata": {
        "id": "ggsi1hV7Y5LY"
      },
      "source": [
        "## Importando a demanda de janeiro, ajeitando as colunas e adicionando um cabeçalho."
      ]
    },
    {
      "cell_type": "code",
      "execution_count": 3,
      "metadata": {
        "id": "3o9GWFrSS6DQ"
      },
      "outputs": [],
      "source": [
        "demanda_jan = pd.read_csv(\"./demanda_202201.csv\")"
      ]
    },
    {
      "cell_type": "code",
      "execution_count": 3,
      "metadata": {
        "id": "g1uiwKxD8K0x"
      },
      "outputs": [],
      "source": []
    },
    {
      "cell_type": "code",
      "execution_count": 4,
      "metadata": {
        "colab": {
          "base_uri": "https://localhost:8080/",
          "height": 424
        },
        "id": "BeBbZAvRTxdz",
        "outputId": "508cabee-14fc-47d1-d221-93fc8032eeea"
      },
      "outputs": [
        {
          "output_type": "execute_result",
          "data": {
            "text/plain": [
              "      2022-01-01;1;Terminal Antônio Bezerra                ;3;Estudante;3\n",
              "0      2022-01-01;1;Terminal Antônio Bezerra         ...                 \n",
              "1      2022-01-01;1;Terminal Antônio Bezerra         ...                 \n",
              "2      2022-01-01;1;Terminal Antônio Bezerra         ...                 \n",
              "3      2022-01-01;1;Terminal Antônio Bezerra         ...                 \n",
              "4      2022-01-01;1;Terminal Antônio Bezerra         ...                 \n",
              "...                                                  ...                 \n",
              "86028  2022-01-31;920;Papicu/Caça e Pesca            ...                 \n",
              "86029  2022-01-31;920;Papicu/Caça e Pesca            ...                 \n",
              "86030  2022-01-31;999;Quilometragem/Terminal         ...                 \n",
              "86031  2022-01-31;999;Quilometragem/Terminal         ...                 \n",
              "86032  2022-01-31;999;Quilometragem/Terminal         ...                 \n",
              "\n",
              "[86033 rows x 1 columns]"
            ],
            "text/html": [
              "\n",
              "  <div id=\"df-d4ca0431-c14e-47e5-874c-756da60fea12\">\n",
              "    <div class=\"colab-df-container\">\n",
              "      <div>\n",
              "<style scoped>\n",
              "    .dataframe tbody tr th:only-of-type {\n",
              "        vertical-align: middle;\n",
              "    }\n",
              "\n",
              "    .dataframe tbody tr th {\n",
              "        vertical-align: top;\n",
              "    }\n",
              "\n",
              "    .dataframe thead th {\n",
              "        text-align: right;\n",
              "    }\n",
              "</style>\n",
              "<table border=\"1\" class=\"dataframe\">\n",
              "  <thead>\n",
              "    <tr style=\"text-align: right;\">\n",
              "      <th></th>\n",
              "      <th>2022-01-01;1;Terminal Antônio Bezerra                ;3;Estudante;3</th>\n",
              "    </tr>\n",
              "  </thead>\n",
              "  <tbody>\n",
              "    <tr>\n",
              "      <th>0</th>\n",
              "      <td>2022-01-01;1;Terminal Antônio Bezerra         ...</td>\n",
              "    </tr>\n",
              "    <tr>\n",
              "      <th>1</th>\n",
              "      <td>2022-01-01;1;Terminal Antônio Bezerra         ...</td>\n",
              "    </tr>\n",
              "    <tr>\n",
              "      <th>2</th>\n",
              "      <td>2022-01-01;1;Terminal Antônio Bezerra         ...</td>\n",
              "    </tr>\n",
              "    <tr>\n",
              "      <th>3</th>\n",
              "      <td>2022-01-01;1;Terminal Antônio Bezerra         ...</td>\n",
              "    </tr>\n",
              "    <tr>\n",
              "      <th>4</th>\n",
              "      <td>2022-01-01;1;Terminal Antônio Bezerra         ...</td>\n",
              "    </tr>\n",
              "    <tr>\n",
              "      <th>...</th>\n",
              "      <td>...</td>\n",
              "    </tr>\n",
              "    <tr>\n",
              "      <th>86028</th>\n",
              "      <td>2022-01-31;920;Papicu/Caça e Pesca            ...</td>\n",
              "    </tr>\n",
              "    <tr>\n",
              "      <th>86029</th>\n",
              "      <td>2022-01-31;920;Papicu/Caça e Pesca            ...</td>\n",
              "    </tr>\n",
              "    <tr>\n",
              "      <th>86030</th>\n",
              "      <td>2022-01-31;999;Quilometragem/Terminal         ...</td>\n",
              "    </tr>\n",
              "    <tr>\n",
              "      <th>86031</th>\n",
              "      <td>2022-01-31;999;Quilometragem/Terminal         ...</td>\n",
              "    </tr>\n",
              "    <tr>\n",
              "      <th>86032</th>\n",
              "      <td>2022-01-31;999;Quilometragem/Terminal         ...</td>\n",
              "    </tr>\n",
              "  </tbody>\n",
              "</table>\n",
              "<p>86033 rows × 1 columns</p>\n",
              "</div>\n",
              "      <button class=\"colab-df-convert\" onclick=\"convertToInteractive('df-d4ca0431-c14e-47e5-874c-756da60fea12')\"\n",
              "              title=\"Convert this dataframe to an interactive table.\"\n",
              "              style=\"display:none;\">\n",
              "        \n",
              "  <svg xmlns=\"http://www.w3.org/2000/svg\" height=\"24px\"viewBox=\"0 0 24 24\"\n",
              "       width=\"24px\">\n",
              "    <path d=\"M0 0h24v24H0V0z\" fill=\"none\"/>\n",
              "    <path d=\"M18.56 5.44l.94 2.06.94-2.06 2.06-.94-2.06-.94-.94-2.06-.94 2.06-2.06.94zm-11 1L8.5 8.5l.94-2.06 2.06-.94-2.06-.94L8.5 2.5l-.94 2.06-2.06.94zm10 10l.94 2.06.94-2.06 2.06-.94-2.06-.94-.94-2.06-.94 2.06-2.06.94z\"/><path d=\"M17.41 7.96l-1.37-1.37c-.4-.4-.92-.59-1.43-.59-.52 0-1.04.2-1.43.59L10.3 9.45l-7.72 7.72c-.78.78-.78 2.05 0 2.83L4 21.41c.39.39.9.59 1.41.59.51 0 1.02-.2 1.41-.59l7.78-7.78 2.81-2.81c.8-.78.8-2.07 0-2.86zM5.41 20L4 18.59l7.72-7.72 1.47 1.35L5.41 20z\"/>\n",
              "  </svg>\n",
              "      </button>\n",
              "      \n",
              "  <style>\n",
              "    .colab-df-container {\n",
              "      display:flex;\n",
              "      flex-wrap:wrap;\n",
              "      gap: 12px;\n",
              "    }\n",
              "\n",
              "    .colab-df-convert {\n",
              "      background-color: #E8F0FE;\n",
              "      border: none;\n",
              "      border-radius: 50%;\n",
              "      cursor: pointer;\n",
              "      display: none;\n",
              "      fill: #1967D2;\n",
              "      height: 32px;\n",
              "      padding: 0 0 0 0;\n",
              "      width: 32px;\n",
              "    }\n",
              "\n",
              "    .colab-df-convert:hover {\n",
              "      background-color: #E2EBFA;\n",
              "      box-shadow: 0px 1px 2px rgba(60, 64, 67, 0.3), 0px 1px 3px 1px rgba(60, 64, 67, 0.15);\n",
              "      fill: #174EA6;\n",
              "    }\n",
              "\n",
              "    [theme=dark] .colab-df-convert {\n",
              "      background-color: #3B4455;\n",
              "      fill: #D2E3FC;\n",
              "    }\n",
              "\n",
              "    [theme=dark] .colab-df-convert:hover {\n",
              "      background-color: #434B5C;\n",
              "      box-shadow: 0px 1px 3px 1px rgba(0, 0, 0, 0.15);\n",
              "      filter: drop-shadow(0px 1px 2px rgba(0, 0, 0, 0.3));\n",
              "      fill: #FFFFFF;\n",
              "    }\n",
              "  </style>\n",
              "\n",
              "      <script>\n",
              "        const buttonEl =\n",
              "          document.querySelector('#df-d4ca0431-c14e-47e5-874c-756da60fea12 button.colab-df-convert');\n",
              "        buttonEl.style.display =\n",
              "          google.colab.kernel.accessAllowed ? 'block' : 'none';\n",
              "\n",
              "        async function convertToInteractive(key) {\n",
              "          const element = document.querySelector('#df-d4ca0431-c14e-47e5-874c-756da60fea12');\n",
              "          const dataTable =\n",
              "            await google.colab.kernel.invokeFunction('convertToInteractive',\n",
              "                                                     [key], {});\n",
              "          if (!dataTable) return;\n",
              "\n",
              "          const docLinkHtml = 'Like what you see? Visit the ' +\n",
              "            '<a target=\"_blank\" href=https://colab.research.google.com/notebooks/data_table.ipynb>data table notebook</a>'\n",
              "            + ' to learn more about interactive tables.';\n",
              "          element.innerHTML = '';\n",
              "          dataTable['output_type'] = 'display_data';\n",
              "          await google.colab.output.renderOutput(dataTable, element);\n",
              "          const docLink = document.createElement('div');\n",
              "          docLink.innerHTML = docLinkHtml;\n",
              "          element.appendChild(docLink);\n",
              "        }\n",
              "      </script>\n",
              "    </div>\n",
              "  </div>\n",
              "  "
            ]
          },
          "metadata": {},
          "execution_count": 4
        }
      ],
      "source": [
        "demanda_jan"
      ]
    },
    {
      "cell_type": "markdown",
      "metadata": {
        "id": "W1yrqu4VU_R1"
      },
      "source": [
        "Quanto importei pela primeira vez, os dados se mostraram sem cabeçalho e com um erro grave, que é não separar as colunas. Tive que ver a questão das colunas e descobri um parametro da read_csv que é o _sep_. O problema acontece porque a separação default do csv é a virgula, e a separação do meu arquivo está como ponto e vírgula. Então vamos mudar."
      ]
    },
    {
      "cell_type": "code",
      "execution_count": 5,
      "metadata": {
        "id": "X2fvuVlTVNdR"
      },
      "outputs": [],
      "source": [
        "demanda_jan = pd.read_csv(\"./demanda_202201.csv\",sep=\";\")"
      ]
    },
    {
      "cell_type": "code",
      "execution_count": 6,
      "metadata": {
        "colab": {
          "base_uri": "https://localhost:8080/",
          "height": 424
        },
        "id": "6rJA1YLHViSv",
        "outputId": "7c4c5e39-d07f-464c-e5a9-fabf0513be04"
      },
      "outputs": [
        {
          "output_type": "execute_result",
          "data": {
            "text/plain": [
              "       2022-01-01    1  Terminal Antônio Bezerra                   3  \\\n",
              "0      2022-01-01    1  Terminal Antônio Bezerra                   4   \n",
              "1      2022-01-01    1  Terminal Antônio Bezerra                   5   \n",
              "2      2022-01-01    1  Terminal Antônio Bezerra                  11   \n",
              "3      2022-01-01    1  Terminal Antônio Bezerra                  12   \n",
              "4      2022-01-01    1  Terminal Antônio Bezerra                  16   \n",
              "...           ...  ...                                       ...  ..   \n",
              "86028  2022-01-31  920  Papicu/Caça e Pesca                       32   \n",
              "86029  2022-01-31  920  Papicu/Caça e Pesca                       37   \n",
              "86030  2022-01-31  999  Quilometragem/Terminal                     4   \n",
              "86031  2022-01-31  999  Quilometragem/Terminal                    11   \n",
              "86032  2022-01-31  999  Quilometragem/Terminal                    12   \n",
              "\n",
              "                        Estudante  3.1  \n",
              "0                Gratuidade Idoso  666  \n",
              "1      Vale-transporte (vermelho)    2  \n",
              "2             Idoso Identificação   97  \n",
              "3            Estudante com débito  873  \n",
              "4      Grat. Deficiente - S/Acomp    4  \n",
              "...                           ...  ...  \n",
              "86028         Gratuidade Infantil    2  \n",
              "86029     VT Beneficio Piloto BUM    3  \n",
              "86030            Gratuidade Idoso   23  \n",
              "86031         Idoso Identificação    1  \n",
              "86032        Estudante com débito   11  \n",
              "\n",
              "[86033 rows x 6 columns]"
            ],
            "text/html": [
              "\n",
              "  <div id=\"df-1b4e78c0-df48-44a9-96d2-4a946f802eac\">\n",
              "    <div class=\"colab-df-container\">\n",
              "      <div>\n",
              "<style scoped>\n",
              "    .dataframe tbody tr th:only-of-type {\n",
              "        vertical-align: middle;\n",
              "    }\n",
              "\n",
              "    .dataframe tbody tr th {\n",
              "        vertical-align: top;\n",
              "    }\n",
              "\n",
              "    .dataframe thead th {\n",
              "        text-align: right;\n",
              "    }\n",
              "</style>\n",
              "<table border=\"1\" class=\"dataframe\">\n",
              "  <thead>\n",
              "    <tr style=\"text-align: right;\">\n",
              "      <th></th>\n",
              "      <th>2022-01-01</th>\n",
              "      <th>1</th>\n",
              "      <th>Terminal Antônio Bezerra</th>\n",
              "      <th>3</th>\n",
              "      <th>Estudante</th>\n",
              "      <th>3.1</th>\n",
              "    </tr>\n",
              "  </thead>\n",
              "  <tbody>\n",
              "    <tr>\n",
              "      <th>0</th>\n",
              "      <td>2022-01-01</td>\n",
              "      <td>1</td>\n",
              "      <td>Terminal Antônio Bezerra</td>\n",
              "      <td>4</td>\n",
              "      <td>Gratuidade Idoso</td>\n",
              "      <td>666</td>\n",
              "    </tr>\n",
              "    <tr>\n",
              "      <th>1</th>\n",
              "      <td>2022-01-01</td>\n",
              "      <td>1</td>\n",
              "      <td>Terminal Antônio Bezerra</td>\n",
              "      <td>5</td>\n",
              "      <td>Vale-transporte (vermelho)</td>\n",
              "      <td>2</td>\n",
              "    </tr>\n",
              "    <tr>\n",
              "      <th>2</th>\n",
              "      <td>2022-01-01</td>\n",
              "      <td>1</td>\n",
              "      <td>Terminal Antônio Bezerra</td>\n",
              "      <td>11</td>\n",
              "      <td>Idoso Identificação</td>\n",
              "      <td>97</td>\n",
              "    </tr>\n",
              "    <tr>\n",
              "      <th>3</th>\n",
              "      <td>2022-01-01</td>\n",
              "      <td>1</td>\n",
              "      <td>Terminal Antônio Bezerra</td>\n",
              "      <td>12</td>\n",
              "      <td>Estudante com débito</td>\n",
              "      <td>873</td>\n",
              "    </tr>\n",
              "    <tr>\n",
              "      <th>4</th>\n",
              "      <td>2022-01-01</td>\n",
              "      <td>1</td>\n",
              "      <td>Terminal Antônio Bezerra</td>\n",
              "      <td>16</td>\n",
              "      <td>Grat. Deficiente - S/Acomp</td>\n",
              "      <td>4</td>\n",
              "    </tr>\n",
              "    <tr>\n",
              "      <th>...</th>\n",
              "      <td>...</td>\n",
              "      <td>...</td>\n",
              "      <td>...</td>\n",
              "      <td>...</td>\n",
              "      <td>...</td>\n",
              "      <td>...</td>\n",
              "    </tr>\n",
              "    <tr>\n",
              "      <th>86028</th>\n",
              "      <td>2022-01-31</td>\n",
              "      <td>920</td>\n",
              "      <td>Papicu/Caça e Pesca</td>\n",
              "      <td>32</td>\n",
              "      <td>Gratuidade Infantil</td>\n",
              "      <td>2</td>\n",
              "    </tr>\n",
              "    <tr>\n",
              "      <th>86029</th>\n",
              "      <td>2022-01-31</td>\n",
              "      <td>920</td>\n",
              "      <td>Papicu/Caça e Pesca</td>\n",
              "      <td>37</td>\n",
              "      <td>VT Beneficio Piloto BUM</td>\n",
              "      <td>3</td>\n",
              "    </tr>\n",
              "    <tr>\n",
              "      <th>86030</th>\n",
              "      <td>2022-01-31</td>\n",
              "      <td>999</td>\n",
              "      <td>Quilometragem/Terminal</td>\n",
              "      <td>4</td>\n",
              "      <td>Gratuidade Idoso</td>\n",
              "      <td>23</td>\n",
              "    </tr>\n",
              "    <tr>\n",
              "      <th>86031</th>\n",
              "      <td>2022-01-31</td>\n",
              "      <td>999</td>\n",
              "      <td>Quilometragem/Terminal</td>\n",
              "      <td>11</td>\n",
              "      <td>Idoso Identificação</td>\n",
              "      <td>1</td>\n",
              "    </tr>\n",
              "    <tr>\n",
              "      <th>86032</th>\n",
              "      <td>2022-01-31</td>\n",
              "      <td>999</td>\n",
              "      <td>Quilometragem/Terminal</td>\n",
              "      <td>12</td>\n",
              "      <td>Estudante com débito</td>\n",
              "      <td>11</td>\n",
              "    </tr>\n",
              "  </tbody>\n",
              "</table>\n",
              "<p>86033 rows × 6 columns</p>\n",
              "</div>\n",
              "      <button class=\"colab-df-convert\" onclick=\"convertToInteractive('df-1b4e78c0-df48-44a9-96d2-4a946f802eac')\"\n",
              "              title=\"Convert this dataframe to an interactive table.\"\n",
              "              style=\"display:none;\">\n",
              "        \n",
              "  <svg xmlns=\"http://www.w3.org/2000/svg\" height=\"24px\"viewBox=\"0 0 24 24\"\n",
              "       width=\"24px\">\n",
              "    <path d=\"M0 0h24v24H0V0z\" fill=\"none\"/>\n",
              "    <path d=\"M18.56 5.44l.94 2.06.94-2.06 2.06-.94-2.06-.94-.94-2.06-.94 2.06-2.06.94zm-11 1L8.5 8.5l.94-2.06 2.06-.94-2.06-.94L8.5 2.5l-.94 2.06-2.06.94zm10 10l.94 2.06.94-2.06 2.06-.94-2.06-.94-.94-2.06-.94 2.06-2.06.94z\"/><path d=\"M17.41 7.96l-1.37-1.37c-.4-.4-.92-.59-1.43-.59-.52 0-1.04.2-1.43.59L10.3 9.45l-7.72 7.72c-.78.78-.78 2.05 0 2.83L4 21.41c.39.39.9.59 1.41.59.51 0 1.02-.2 1.41-.59l7.78-7.78 2.81-2.81c.8-.78.8-2.07 0-2.86zM5.41 20L4 18.59l7.72-7.72 1.47 1.35L5.41 20z\"/>\n",
              "  </svg>\n",
              "      </button>\n",
              "      \n",
              "  <style>\n",
              "    .colab-df-container {\n",
              "      display:flex;\n",
              "      flex-wrap:wrap;\n",
              "      gap: 12px;\n",
              "    }\n",
              "\n",
              "    .colab-df-convert {\n",
              "      background-color: #E8F0FE;\n",
              "      border: none;\n",
              "      border-radius: 50%;\n",
              "      cursor: pointer;\n",
              "      display: none;\n",
              "      fill: #1967D2;\n",
              "      height: 32px;\n",
              "      padding: 0 0 0 0;\n",
              "      width: 32px;\n",
              "    }\n",
              "\n",
              "    .colab-df-convert:hover {\n",
              "      background-color: #E2EBFA;\n",
              "      box-shadow: 0px 1px 2px rgba(60, 64, 67, 0.3), 0px 1px 3px 1px rgba(60, 64, 67, 0.15);\n",
              "      fill: #174EA6;\n",
              "    }\n",
              "\n",
              "    [theme=dark] .colab-df-convert {\n",
              "      background-color: #3B4455;\n",
              "      fill: #D2E3FC;\n",
              "    }\n",
              "\n",
              "    [theme=dark] .colab-df-convert:hover {\n",
              "      background-color: #434B5C;\n",
              "      box-shadow: 0px 1px 3px 1px rgba(0, 0, 0, 0.15);\n",
              "      filter: drop-shadow(0px 1px 2px rgba(0, 0, 0, 0.3));\n",
              "      fill: #FFFFFF;\n",
              "    }\n",
              "  </style>\n",
              "\n",
              "      <script>\n",
              "        const buttonEl =\n",
              "          document.querySelector('#df-1b4e78c0-df48-44a9-96d2-4a946f802eac button.colab-df-convert');\n",
              "        buttonEl.style.display =\n",
              "          google.colab.kernel.accessAllowed ? 'block' : 'none';\n",
              "\n",
              "        async function convertToInteractive(key) {\n",
              "          const element = document.querySelector('#df-1b4e78c0-df48-44a9-96d2-4a946f802eac');\n",
              "          const dataTable =\n",
              "            await google.colab.kernel.invokeFunction('convertToInteractive',\n",
              "                                                     [key], {});\n",
              "          if (!dataTable) return;\n",
              "\n",
              "          const docLinkHtml = 'Like what you see? Visit the ' +\n",
              "            '<a target=\"_blank\" href=https://colab.research.google.com/notebooks/data_table.ipynb>data table notebook</a>'\n",
              "            + ' to learn more about interactive tables.';\n",
              "          element.innerHTML = '';\n",
              "          dataTable['output_type'] = 'display_data';\n",
              "          await google.colab.output.renderOutput(dataTable, element);\n",
              "          const docLink = document.createElement('div');\n",
              "          docLink.innerHTML = docLinkHtml;\n",
              "          element.appendChild(docLink);\n",
              "        }\n",
              "      </script>\n",
              "    </div>\n",
              "  </div>\n",
              "  "
            ]
          },
          "metadata": {},
          "execution_count": 6
        }
      ],
      "source": [
        "demanda_jan"
      ]
    },
    {
      "cell_type": "markdown",
      "metadata": {
        "id": "oS5gHWJlVoiQ"
      },
      "source": [
        "Agora precisamos consertar o problema com o cabeçalho, vou testar adicionando in-place com:"
      ]
    },
    {
      "cell_type": "code",
      "execution_count": 7,
      "metadata": {
        "id": "dbx-agF5Vtk8"
      },
      "outputs": [],
      "source": [
        "#demanda_jan[0] = [\"Data\", \"ID\", \"Nome\", \"ID Passageiro\",\"Tipo Passageiro\",\"Quantidade\" ] ##deu ruim"
      ]
    },
    {
      "cell_type": "markdown",
      "metadata": {
        "id": "Et-AxzCcWdwO"
      },
      "source": [
        "Olhando no google, vi que podemos adicionar um cabeçalho por meio do método _columns_"
      ]
    },
    {
      "cell_type": "code",
      "execution_count": 8,
      "metadata": {
        "id": "2qZA2tH2WBqM"
      },
      "outputs": [],
      "source": [
        "demanda_jan.columns = [\"Data\", \"ID\", \"Nome\", \"ID Passageiro\",\"Tipo Passageiro\",\"Quantidade\" ] "
      ]
    },
    {
      "cell_type": "code",
      "execution_count": 9,
      "metadata": {
        "colab": {
          "base_uri": "https://localhost:8080/",
          "height": 424
        },
        "id": "2IKafxCoWW2N",
        "outputId": "322e6a0e-e381-4e60-9844-7b8297563632"
      },
      "outputs": [
        {
          "output_type": "execute_result",
          "data": {
            "text/plain": [
              "             Data   ID                                      Nome  \\\n",
              "0      2022-01-01    1  Terminal Antônio Bezerra                   \n",
              "1      2022-01-01    1  Terminal Antônio Bezerra                   \n",
              "2      2022-01-01    1  Terminal Antônio Bezerra                   \n",
              "3      2022-01-01    1  Terminal Antônio Bezerra                   \n",
              "4      2022-01-01    1  Terminal Antônio Bezerra                   \n",
              "...           ...  ...                                       ...   \n",
              "86028  2022-01-31  920  Papicu/Caça e Pesca                        \n",
              "86029  2022-01-31  920  Papicu/Caça e Pesca                        \n",
              "86030  2022-01-31  999  Quilometragem/Terminal                     \n",
              "86031  2022-01-31  999  Quilometragem/Terminal                     \n",
              "86032  2022-01-31  999  Quilometragem/Terminal                     \n",
              "\n",
              "       ID Passageiro             Tipo Passageiro  Quantidade  \n",
              "0                  4            Gratuidade Idoso         666  \n",
              "1                  5  Vale-transporte (vermelho)           2  \n",
              "2                 11         Idoso Identificação          97  \n",
              "3                 12        Estudante com débito         873  \n",
              "4                 16  Grat. Deficiente - S/Acomp           4  \n",
              "...              ...                         ...         ...  \n",
              "86028             32         Gratuidade Infantil           2  \n",
              "86029             37     VT Beneficio Piloto BUM           3  \n",
              "86030              4            Gratuidade Idoso          23  \n",
              "86031             11         Idoso Identificação           1  \n",
              "86032             12        Estudante com débito          11  \n",
              "\n",
              "[86033 rows x 6 columns]"
            ],
            "text/html": [
              "\n",
              "  <div id=\"df-5d602863-8db4-4394-b7c8-22abffe0528e\">\n",
              "    <div class=\"colab-df-container\">\n",
              "      <div>\n",
              "<style scoped>\n",
              "    .dataframe tbody tr th:only-of-type {\n",
              "        vertical-align: middle;\n",
              "    }\n",
              "\n",
              "    .dataframe tbody tr th {\n",
              "        vertical-align: top;\n",
              "    }\n",
              "\n",
              "    .dataframe thead th {\n",
              "        text-align: right;\n",
              "    }\n",
              "</style>\n",
              "<table border=\"1\" class=\"dataframe\">\n",
              "  <thead>\n",
              "    <tr style=\"text-align: right;\">\n",
              "      <th></th>\n",
              "      <th>Data</th>\n",
              "      <th>ID</th>\n",
              "      <th>Nome</th>\n",
              "      <th>ID Passageiro</th>\n",
              "      <th>Tipo Passageiro</th>\n",
              "      <th>Quantidade</th>\n",
              "    </tr>\n",
              "  </thead>\n",
              "  <tbody>\n",
              "    <tr>\n",
              "      <th>0</th>\n",
              "      <td>2022-01-01</td>\n",
              "      <td>1</td>\n",
              "      <td>Terminal Antônio Bezerra</td>\n",
              "      <td>4</td>\n",
              "      <td>Gratuidade Idoso</td>\n",
              "      <td>666</td>\n",
              "    </tr>\n",
              "    <tr>\n",
              "      <th>1</th>\n",
              "      <td>2022-01-01</td>\n",
              "      <td>1</td>\n",
              "      <td>Terminal Antônio Bezerra</td>\n",
              "      <td>5</td>\n",
              "      <td>Vale-transporte (vermelho)</td>\n",
              "      <td>2</td>\n",
              "    </tr>\n",
              "    <tr>\n",
              "      <th>2</th>\n",
              "      <td>2022-01-01</td>\n",
              "      <td>1</td>\n",
              "      <td>Terminal Antônio Bezerra</td>\n",
              "      <td>11</td>\n",
              "      <td>Idoso Identificação</td>\n",
              "      <td>97</td>\n",
              "    </tr>\n",
              "    <tr>\n",
              "      <th>3</th>\n",
              "      <td>2022-01-01</td>\n",
              "      <td>1</td>\n",
              "      <td>Terminal Antônio Bezerra</td>\n",
              "      <td>12</td>\n",
              "      <td>Estudante com débito</td>\n",
              "      <td>873</td>\n",
              "    </tr>\n",
              "    <tr>\n",
              "      <th>4</th>\n",
              "      <td>2022-01-01</td>\n",
              "      <td>1</td>\n",
              "      <td>Terminal Antônio Bezerra</td>\n",
              "      <td>16</td>\n",
              "      <td>Grat. Deficiente - S/Acomp</td>\n",
              "      <td>4</td>\n",
              "    </tr>\n",
              "    <tr>\n",
              "      <th>...</th>\n",
              "      <td>...</td>\n",
              "      <td>...</td>\n",
              "      <td>...</td>\n",
              "      <td>...</td>\n",
              "      <td>...</td>\n",
              "      <td>...</td>\n",
              "    </tr>\n",
              "    <tr>\n",
              "      <th>86028</th>\n",
              "      <td>2022-01-31</td>\n",
              "      <td>920</td>\n",
              "      <td>Papicu/Caça e Pesca</td>\n",
              "      <td>32</td>\n",
              "      <td>Gratuidade Infantil</td>\n",
              "      <td>2</td>\n",
              "    </tr>\n",
              "    <tr>\n",
              "      <th>86029</th>\n",
              "      <td>2022-01-31</td>\n",
              "      <td>920</td>\n",
              "      <td>Papicu/Caça e Pesca</td>\n",
              "      <td>37</td>\n",
              "      <td>VT Beneficio Piloto BUM</td>\n",
              "      <td>3</td>\n",
              "    </tr>\n",
              "    <tr>\n",
              "      <th>86030</th>\n",
              "      <td>2022-01-31</td>\n",
              "      <td>999</td>\n",
              "      <td>Quilometragem/Terminal</td>\n",
              "      <td>4</td>\n",
              "      <td>Gratuidade Idoso</td>\n",
              "      <td>23</td>\n",
              "    </tr>\n",
              "    <tr>\n",
              "      <th>86031</th>\n",
              "      <td>2022-01-31</td>\n",
              "      <td>999</td>\n",
              "      <td>Quilometragem/Terminal</td>\n",
              "      <td>11</td>\n",
              "      <td>Idoso Identificação</td>\n",
              "      <td>1</td>\n",
              "    </tr>\n",
              "    <tr>\n",
              "      <th>86032</th>\n",
              "      <td>2022-01-31</td>\n",
              "      <td>999</td>\n",
              "      <td>Quilometragem/Terminal</td>\n",
              "      <td>12</td>\n",
              "      <td>Estudante com débito</td>\n",
              "      <td>11</td>\n",
              "    </tr>\n",
              "  </tbody>\n",
              "</table>\n",
              "<p>86033 rows × 6 columns</p>\n",
              "</div>\n",
              "      <button class=\"colab-df-convert\" onclick=\"convertToInteractive('df-5d602863-8db4-4394-b7c8-22abffe0528e')\"\n",
              "              title=\"Convert this dataframe to an interactive table.\"\n",
              "              style=\"display:none;\">\n",
              "        \n",
              "  <svg xmlns=\"http://www.w3.org/2000/svg\" height=\"24px\"viewBox=\"0 0 24 24\"\n",
              "       width=\"24px\">\n",
              "    <path d=\"M0 0h24v24H0V0z\" fill=\"none\"/>\n",
              "    <path d=\"M18.56 5.44l.94 2.06.94-2.06 2.06-.94-2.06-.94-.94-2.06-.94 2.06-2.06.94zm-11 1L8.5 8.5l.94-2.06 2.06-.94-2.06-.94L8.5 2.5l-.94 2.06-2.06.94zm10 10l.94 2.06.94-2.06 2.06-.94-2.06-.94-.94-2.06-.94 2.06-2.06.94z\"/><path d=\"M17.41 7.96l-1.37-1.37c-.4-.4-.92-.59-1.43-.59-.52 0-1.04.2-1.43.59L10.3 9.45l-7.72 7.72c-.78.78-.78 2.05 0 2.83L4 21.41c.39.39.9.59 1.41.59.51 0 1.02-.2 1.41-.59l7.78-7.78 2.81-2.81c.8-.78.8-2.07 0-2.86zM5.41 20L4 18.59l7.72-7.72 1.47 1.35L5.41 20z\"/>\n",
              "  </svg>\n",
              "      </button>\n",
              "      \n",
              "  <style>\n",
              "    .colab-df-container {\n",
              "      display:flex;\n",
              "      flex-wrap:wrap;\n",
              "      gap: 12px;\n",
              "    }\n",
              "\n",
              "    .colab-df-convert {\n",
              "      background-color: #E8F0FE;\n",
              "      border: none;\n",
              "      border-radius: 50%;\n",
              "      cursor: pointer;\n",
              "      display: none;\n",
              "      fill: #1967D2;\n",
              "      height: 32px;\n",
              "      padding: 0 0 0 0;\n",
              "      width: 32px;\n",
              "    }\n",
              "\n",
              "    .colab-df-convert:hover {\n",
              "      background-color: #E2EBFA;\n",
              "      box-shadow: 0px 1px 2px rgba(60, 64, 67, 0.3), 0px 1px 3px 1px rgba(60, 64, 67, 0.15);\n",
              "      fill: #174EA6;\n",
              "    }\n",
              "\n",
              "    [theme=dark] .colab-df-convert {\n",
              "      background-color: #3B4455;\n",
              "      fill: #D2E3FC;\n",
              "    }\n",
              "\n",
              "    [theme=dark] .colab-df-convert:hover {\n",
              "      background-color: #434B5C;\n",
              "      box-shadow: 0px 1px 3px 1px rgba(0, 0, 0, 0.15);\n",
              "      filter: drop-shadow(0px 1px 2px rgba(0, 0, 0, 0.3));\n",
              "      fill: #FFFFFF;\n",
              "    }\n",
              "  </style>\n",
              "\n",
              "      <script>\n",
              "        const buttonEl =\n",
              "          document.querySelector('#df-5d602863-8db4-4394-b7c8-22abffe0528e button.colab-df-convert');\n",
              "        buttonEl.style.display =\n",
              "          google.colab.kernel.accessAllowed ? 'block' : 'none';\n",
              "\n",
              "        async function convertToInteractive(key) {\n",
              "          const element = document.querySelector('#df-5d602863-8db4-4394-b7c8-22abffe0528e');\n",
              "          const dataTable =\n",
              "            await google.colab.kernel.invokeFunction('convertToInteractive',\n",
              "                                                     [key], {});\n",
              "          if (!dataTable) return;\n",
              "\n",
              "          const docLinkHtml = 'Like what you see? Visit the ' +\n",
              "            '<a target=\"_blank\" href=https://colab.research.google.com/notebooks/data_table.ipynb>data table notebook</a>'\n",
              "            + ' to learn more about interactive tables.';\n",
              "          element.innerHTML = '';\n",
              "          dataTable['output_type'] = 'display_data';\n",
              "          await google.colab.output.renderOutput(dataTable, element);\n",
              "          const docLink = document.createElement('div');\n",
              "          docLink.innerHTML = docLinkHtml;\n",
              "          element.appendChild(docLink);\n",
              "        }\n",
              "      </script>\n",
              "    </div>\n",
              "  </div>\n",
              "  "
            ]
          },
          "metadata": {},
          "execution_count": 9
        }
      ],
      "source": [
        "demanda_jan"
      ]
    },
    {
      "cell_type": "markdown",
      "metadata": {
        "id": "B-EaSpl5WpzE"
      },
      "source": [
        "## Características do dataframe - demanda_jan | Agora vamos dar uma olhada nas características do dataframe da demanda do mês de janeiro."
      ]
    },
    {
      "cell_type": "code",
      "execution_count": 10,
      "metadata": {
        "colab": {
          "base_uri": "https://localhost:8080/"
        },
        "id": "g_ROHOWuWvUs",
        "outputId": "10e8fd72-57e7-4d58-ea95-b8bf59f70d7d"
      },
      "outputs": [
        {
          "output_type": "execute_result",
          "data": {
            "text/plain": [
              "(86033, 6)"
            ]
          },
          "metadata": {},
          "execution_count": 10
        }
      ],
      "source": [
        "demanda_jan.shape ### Temos 86033 linhas "
      ]
    },
    {
      "cell_type": "markdown",
      "metadata": {
        "id": "fGEIacpR6QR7"
      },
      "source": [
        "O dataframe possui mais de 86 mil linhas referentes a informações de diferentes linhas de ônibus e terminais"
      ]
    },
    {
      "cell_type": "code",
      "execution_count": 11,
      "metadata": {
        "colab": {
          "base_uri": "https://localhost:8080/"
        },
        "id": "WAjtx3-eWxOU",
        "outputId": "df20d4cb-4993-4ba9-c044-fe943ae91ede"
      },
      "outputs": [
        {
          "output_type": "execute_result",
          "data": {
            "text/plain": [
              "Data               0\n",
              "ID                 0\n",
              "Nome               0\n",
              "ID Passageiro      0\n",
              "Tipo Passageiro    0\n",
              "Quantidade         0\n",
              "dtype: int64"
            ]
          },
          "metadata": {},
          "execution_count": 11
        }
      ],
      "source": [
        "demanda_jan.isnull().sum()"
      ]
    },
    {
      "cell_type": "markdown",
      "metadata": {
        "id": "kawp7ZysXkLC"
      },
      "source": []
    },
    {
      "cell_type": "code",
      "execution_count": 12,
      "metadata": {
        "id": "IHtDugYyXo0p"
      },
      "outputs": [],
      "source": [
        "id = demanda_jan[\"ID\"]"
      ]
    },
    {
      "cell_type": "code",
      "execution_count": 13,
      "metadata": {
        "colab": {
          "base_uri": "https://localhost:8080/"
        },
        "id": "3TpBMQk5Xu3p",
        "outputId": "114ace3e-729c-4154-d1e5-2a281e1352a7"
      },
      "outputs": [
        {
          "output_type": "execute_result",
          "data": {
            "text/plain": [
              "Data                                             2022-01-31\n",
              "ID                                                      999\n",
              "Nome               Quilometragem/Terminal                  \n",
              "ID Passageiro                                             4\n",
              "Tipo Passageiro                            Gratuidade Idoso\n",
              "Quantidade                                               23\n",
              "Name: 86030, dtype: object"
            ]
          },
          "metadata": {},
          "execution_count": 13
        }
      ],
      "source": [
        "demanda_jan.iloc[86030]"
      ]
    },
    {
      "cell_type": "code",
      "execution_count": 14,
      "metadata": {
        "colab": {
          "base_uri": "https://localhost:8080/",
          "height": 300
        },
        "id": "woeEYCpBYL4X",
        "outputId": "ae70912f-5fb8-4285-8442-ece9fa797927"
      },
      "outputs": [
        {
          "output_type": "execute_result",
          "data": {
            "text/plain": [
              "                 ID  ID Passageiro    Quantidade\n",
              "count  86033.000000   86033.000000  86033.000000\n",
              "mean     385.378680      13.905467    145.243639\n",
              "std      267.756535      10.536421    391.016026\n",
              "min        1.000000       2.000000      1.000000\n",
              "25%      102.000000       5.000000      3.000000\n",
              "50%      359.000000      11.000000     13.000000\n",
              "75%      632.000000      16.000000     84.000000\n",
              "max      999.000000      37.000000   6031.000000"
            ],
            "text/html": [
              "\n",
              "  <div id=\"df-f943ed52-5633-4d18-8506-447731e589f2\">\n",
              "    <div class=\"colab-df-container\">\n",
              "      <div>\n",
              "<style scoped>\n",
              "    .dataframe tbody tr th:only-of-type {\n",
              "        vertical-align: middle;\n",
              "    }\n",
              "\n",
              "    .dataframe tbody tr th {\n",
              "        vertical-align: top;\n",
              "    }\n",
              "\n",
              "    .dataframe thead th {\n",
              "        text-align: right;\n",
              "    }\n",
              "</style>\n",
              "<table border=\"1\" class=\"dataframe\">\n",
              "  <thead>\n",
              "    <tr style=\"text-align: right;\">\n",
              "      <th></th>\n",
              "      <th>ID</th>\n",
              "      <th>ID Passageiro</th>\n",
              "      <th>Quantidade</th>\n",
              "    </tr>\n",
              "  </thead>\n",
              "  <tbody>\n",
              "    <tr>\n",
              "      <th>count</th>\n",
              "      <td>86033.000000</td>\n",
              "      <td>86033.000000</td>\n",
              "      <td>86033.000000</td>\n",
              "    </tr>\n",
              "    <tr>\n",
              "      <th>mean</th>\n",
              "      <td>385.378680</td>\n",
              "      <td>13.905467</td>\n",
              "      <td>145.243639</td>\n",
              "    </tr>\n",
              "    <tr>\n",
              "      <th>std</th>\n",
              "      <td>267.756535</td>\n",
              "      <td>10.536421</td>\n",
              "      <td>391.016026</td>\n",
              "    </tr>\n",
              "    <tr>\n",
              "      <th>min</th>\n",
              "      <td>1.000000</td>\n",
              "      <td>2.000000</td>\n",
              "      <td>1.000000</td>\n",
              "    </tr>\n",
              "    <tr>\n",
              "      <th>25%</th>\n",
              "      <td>102.000000</td>\n",
              "      <td>5.000000</td>\n",
              "      <td>3.000000</td>\n",
              "    </tr>\n",
              "    <tr>\n",
              "      <th>50%</th>\n",
              "      <td>359.000000</td>\n",
              "      <td>11.000000</td>\n",
              "      <td>13.000000</td>\n",
              "    </tr>\n",
              "    <tr>\n",
              "      <th>75%</th>\n",
              "      <td>632.000000</td>\n",
              "      <td>16.000000</td>\n",
              "      <td>84.000000</td>\n",
              "    </tr>\n",
              "    <tr>\n",
              "      <th>max</th>\n",
              "      <td>999.000000</td>\n",
              "      <td>37.000000</td>\n",
              "      <td>6031.000000</td>\n",
              "    </tr>\n",
              "  </tbody>\n",
              "</table>\n",
              "</div>\n",
              "      <button class=\"colab-df-convert\" onclick=\"convertToInteractive('df-f943ed52-5633-4d18-8506-447731e589f2')\"\n",
              "              title=\"Convert this dataframe to an interactive table.\"\n",
              "              style=\"display:none;\">\n",
              "        \n",
              "  <svg xmlns=\"http://www.w3.org/2000/svg\" height=\"24px\"viewBox=\"0 0 24 24\"\n",
              "       width=\"24px\">\n",
              "    <path d=\"M0 0h24v24H0V0z\" fill=\"none\"/>\n",
              "    <path d=\"M18.56 5.44l.94 2.06.94-2.06 2.06-.94-2.06-.94-.94-2.06-.94 2.06-2.06.94zm-11 1L8.5 8.5l.94-2.06 2.06-.94-2.06-.94L8.5 2.5l-.94 2.06-2.06.94zm10 10l.94 2.06.94-2.06 2.06-.94-2.06-.94-.94-2.06-.94 2.06-2.06.94z\"/><path d=\"M17.41 7.96l-1.37-1.37c-.4-.4-.92-.59-1.43-.59-.52 0-1.04.2-1.43.59L10.3 9.45l-7.72 7.72c-.78.78-.78 2.05 0 2.83L4 21.41c.39.39.9.59 1.41.59.51 0 1.02-.2 1.41-.59l7.78-7.78 2.81-2.81c.8-.78.8-2.07 0-2.86zM5.41 20L4 18.59l7.72-7.72 1.47 1.35L5.41 20z\"/>\n",
              "  </svg>\n",
              "      </button>\n",
              "      \n",
              "  <style>\n",
              "    .colab-df-container {\n",
              "      display:flex;\n",
              "      flex-wrap:wrap;\n",
              "      gap: 12px;\n",
              "    }\n",
              "\n",
              "    .colab-df-convert {\n",
              "      background-color: #E8F0FE;\n",
              "      border: none;\n",
              "      border-radius: 50%;\n",
              "      cursor: pointer;\n",
              "      display: none;\n",
              "      fill: #1967D2;\n",
              "      height: 32px;\n",
              "      padding: 0 0 0 0;\n",
              "      width: 32px;\n",
              "    }\n",
              "\n",
              "    .colab-df-convert:hover {\n",
              "      background-color: #E2EBFA;\n",
              "      box-shadow: 0px 1px 2px rgba(60, 64, 67, 0.3), 0px 1px 3px 1px rgba(60, 64, 67, 0.15);\n",
              "      fill: #174EA6;\n",
              "    }\n",
              "\n",
              "    [theme=dark] .colab-df-convert {\n",
              "      background-color: #3B4455;\n",
              "      fill: #D2E3FC;\n",
              "    }\n",
              "\n",
              "    [theme=dark] .colab-df-convert:hover {\n",
              "      background-color: #434B5C;\n",
              "      box-shadow: 0px 1px 3px 1px rgba(0, 0, 0, 0.15);\n",
              "      filter: drop-shadow(0px 1px 2px rgba(0, 0, 0, 0.3));\n",
              "      fill: #FFFFFF;\n",
              "    }\n",
              "  </style>\n",
              "\n",
              "      <script>\n",
              "        const buttonEl =\n",
              "          document.querySelector('#df-f943ed52-5633-4d18-8506-447731e589f2 button.colab-df-convert');\n",
              "        buttonEl.style.display =\n",
              "          google.colab.kernel.accessAllowed ? 'block' : 'none';\n",
              "\n",
              "        async function convertToInteractive(key) {\n",
              "          const element = document.querySelector('#df-f943ed52-5633-4d18-8506-447731e589f2');\n",
              "          const dataTable =\n",
              "            await google.colab.kernel.invokeFunction('convertToInteractive',\n",
              "                                                     [key], {});\n",
              "          if (!dataTable) return;\n",
              "\n",
              "          const docLinkHtml = 'Like what you see? Visit the ' +\n",
              "            '<a target=\"_blank\" href=https://colab.research.google.com/notebooks/data_table.ipynb>data table notebook</a>'\n",
              "            + ' to learn more about interactive tables.';\n",
              "          element.innerHTML = '';\n",
              "          dataTable['output_type'] = 'display_data';\n",
              "          await google.colab.output.renderOutput(dataTable, element);\n",
              "          const docLink = document.createElement('div');\n",
              "          docLink.innerHTML = docLinkHtml;\n",
              "          element.appendChild(docLink);\n",
              "        }\n",
              "      </script>\n",
              "    </div>\n",
              "  </div>\n",
              "  "
            ]
          },
          "metadata": {},
          "execution_count": 14
        }
      ],
      "source": [
        "demanda_jan.describe()"
      ]
    },
    {
      "cell_type": "markdown",
      "metadata": {
        "id": "hZ-scsOhcWlt"
      },
      "source": [
        "Podemos tirar algumas informações daqui. Temos 86.033 quantidades diferentes, o número máximo em um tipo de passageiro foi 6031. Em que ônibus será que foi?"
      ]
    },
    {
      "cell_type": "code",
      "execution_count": 14,
      "metadata": {
        "id": "AN38LnCVckjz"
      },
      "outputs": [],
      "source": []
    },
    {
      "cell_type": "markdown",
      "metadata": {
        "id": "q9SA8egpcm9h"
      },
      "source": []
    },
    {
      "cell_type": "markdown",
      "metadata": {
        "id": "cH15Q65Lcpkc"
      },
      "source": [
        "\n",
        "## Importando o dataframe do mês de fevereiro"
      ]
    },
    {
      "cell_type": "code",
      "execution_count": 15,
      "metadata": {
        "id": "So9dWzDFctXP"
      },
      "outputs": [],
      "source": [
        "dem_fev = pd.read_csv(\"./demanda_202202.csv\",sep=\";\")"
      ]
    },
    {
      "cell_type": "code",
      "execution_count": 16,
      "metadata": {
        "colab": {
          "base_uri": "https://localhost:8080/",
          "height": 424
        },
        "id": "EqgDvKgqc234",
        "outputId": "fa0de2c6-8eef-4429-af17-4a4f67058ee3"
      },
      "outputs": [
        {
          "output_type": "execute_result",
          "data": {
            "text/plain": [
              "      DataMovimento  CodLinha                                 NomeLinha  \\\n",
              "0        01/02/2022         1  Terminal Antônio Bezerra                   \n",
              "1        01/02/2022         1  Terminal Antônio Bezerra                   \n",
              "2        01/02/2022         1  Terminal Antônio Bezerra                   \n",
              "3        01/02/2022         1  Terminal Antônio Bezerra                   \n",
              "4        01/02/2022         1  Terminal Antônio Bezerra                   \n",
              "...             ...       ...                                       ...   \n",
              "80543    28/02/2022       920  Papicu/Caça e Pesca                        \n",
              "80544    28/02/2022       920  Papicu/Caça e Pesca                        \n",
              "80545    28/02/2022       999  Quilometragem/Terminal                     \n",
              "80546    28/02/2022       999  Quilometragem/Terminal                     \n",
              "80547    28/02/2022       999  Quilometragem/Terminal                     \n",
              "\n",
              "       TipoPassageiro              NomePassageiro  Demanda  \n",
              "0                   3                   Estudante       35  \n",
              "1                   4            Gratuidade Idoso     2884  \n",
              "2                   5  Vale-transporte (vermelho)        8  \n",
              "3                  11         Idoso Identificação      411  \n",
              "4                  12        Estudante com débito     1194  \n",
              "...               ...                         ...      ...  \n",
              "80543              32         Gratuidade Infantil        1  \n",
              "80544              37     VT Beneficio Piloto BUM        2  \n",
              "80545               4            Gratuidade Idoso        2  \n",
              "80546              11         Idoso Identificação       15  \n",
              "80547              12        Estudante com débito        1  \n",
              "\n",
              "[80548 rows x 6 columns]"
            ],
            "text/html": [
              "\n",
              "  <div id=\"df-945756f2-2aaa-4dde-9654-20d83d31f53c\">\n",
              "    <div class=\"colab-df-container\">\n",
              "      <div>\n",
              "<style scoped>\n",
              "    .dataframe tbody tr th:only-of-type {\n",
              "        vertical-align: middle;\n",
              "    }\n",
              "\n",
              "    .dataframe tbody tr th {\n",
              "        vertical-align: top;\n",
              "    }\n",
              "\n",
              "    .dataframe thead th {\n",
              "        text-align: right;\n",
              "    }\n",
              "</style>\n",
              "<table border=\"1\" class=\"dataframe\">\n",
              "  <thead>\n",
              "    <tr style=\"text-align: right;\">\n",
              "      <th></th>\n",
              "      <th>DataMovimento</th>\n",
              "      <th>CodLinha</th>\n",
              "      <th>NomeLinha</th>\n",
              "      <th>TipoPassageiro</th>\n",
              "      <th>NomePassageiro</th>\n",
              "      <th>Demanda</th>\n",
              "    </tr>\n",
              "  </thead>\n",
              "  <tbody>\n",
              "    <tr>\n",
              "      <th>0</th>\n",
              "      <td>01/02/2022</td>\n",
              "      <td>1</td>\n",
              "      <td>Terminal Antônio Bezerra</td>\n",
              "      <td>3</td>\n",
              "      <td>Estudante</td>\n",
              "      <td>35</td>\n",
              "    </tr>\n",
              "    <tr>\n",
              "      <th>1</th>\n",
              "      <td>01/02/2022</td>\n",
              "      <td>1</td>\n",
              "      <td>Terminal Antônio Bezerra</td>\n",
              "      <td>4</td>\n",
              "      <td>Gratuidade Idoso</td>\n",
              "      <td>2884</td>\n",
              "    </tr>\n",
              "    <tr>\n",
              "      <th>2</th>\n",
              "      <td>01/02/2022</td>\n",
              "      <td>1</td>\n",
              "      <td>Terminal Antônio Bezerra</td>\n",
              "      <td>5</td>\n",
              "      <td>Vale-transporte (vermelho)</td>\n",
              "      <td>8</td>\n",
              "    </tr>\n",
              "    <tr>\n",
              "      <th>3</th>\n",
              "      <td>01/02/2022</td>\n",
              "      <td>1</td>\n",
              "      <td>Terminal Antônio Bezerra</td>\n",
              "      <td>11</td>\n",
              "      <td>Idoso Identificação</td>\n",
              "      <td>411</td>\n",
              "    </tr>\n",
              "    <tr>\n",
              "      <th>4</th>\n",
              "      <td>01/02/2022</td>\n",
              "      <td>1</td>\n",
              "      <td>Terminal Antônio Bezerra</td>\n",
              "      <td>12</td>\n",
              "      <td>Estudante com débito</td>\n",
              "      <td>1194</td>\n",
              "    </tr>\n",
              "    <tr>\n",
              "      <th>...</th>\n",
              "      <td>...</td>\n",
              "      <td>...</td>\n",
              "      <td>...</td>\n",
              "      <td>...</td>\n",
              "      <td>...</td>\n",
              "      <td>...</td>\n",
              "    </tr>\n",
              "    <tr>\n",
              "      <th>80543</th>\n",
              "      <td>28/02/2022</td>\n",
              "      <td>920</td>\n",
              "      <td>Papicu/Caça e Pesca</td>\n",
              "      <td>32</td>\n",
              "      <td>Gratuidade Infantil</td>\n",
              "      <td>1</td>\n",
              "    </tr>\n",
              "    <tr>\n",
              "      <th>80544</th>\n",
              "      <td>28/02/2022</td>\n",
              "      <td>920</td>\n",
              "      <td>Papicu/Caça e Pesca</td>\n",
              "      <td>37</td>\n",
              "      <td>VT Beneficio Piloto BUM</td>\n",
              "      <td>2</td>\n",
              "    </tr>\n",
              "    <tr>\n",
              "      <th>80545</th>\n",
              "      <td>28/02/2022</td>\n",
              "      <td>999</td>\n",
              "      <td>Quilometragem/Terminal</td>\n",
              "      <td>4</td>\n",
              "      <td>Gratuidade Idoso</td>\n",
              "      <td>2</td>\n",
              "    </tr>\n",
              "    <tr>\n",
              "      <th>80546</th>\n",
              "      <td>28/02/2022</td>\n",
              "      <td>999</td>\n",
              "      <td>Quilometragem/Terminal</td>\n",
              "      <td>11</td>\n",
              "      <td>Idoso Identificação</td>\n",
              "      <td>15</td>\n",
              "    </tr>\n",
              "    <tr>\n",
              "      <th>80547</th>\n",
              "      <td>28/02/2022</td>\n",
              "      <td>999</td>\n",
              "      <td>Quilometragem/Terminal</td>\n",
              "      <td>12</td>\n",
              "      <td>Estudante com débito</td>\n",
              "      <td>1</td>\n",
              "    </tr>\n",
              "  </tbody>\n",
              "</table>\n",
              "<p>80548 rows × 6 columns</p>\n",
              "</div>\n",
              "      <button class=\"colab-df-convert\" onclick=\"convertToInteractive('df-945756f2-2aaa-4dde-9654-20d83d31f53c')\"\n",
              "              title=\"Convert this dataframe to an interactive table.\"\n",
              "              style=\"display:none;\">\n",
              "        \n",
              "  <svg xmlns=\"http://www.w3.org/2000/svg\" height=\"24px\"viewBox=\"0 0 24 24\"\n",
              "       width=\"24px\">\n",
              "    <path d=\"M0 0h24v24H0V0z\" fill=\"none\"/>\n",
              "    <path d=\"M18.56 5.44l.94 2.06.94-2.06 2.06-.94-2.06-.94-.94-2.06-.94 2.06-2.06.94zm-11 1L8.5 8.5l.94-2.06 2.06-.94-2.06-.94L8.5 2.5l-.94 2.06-2.06.94zm10 10l.94 2.06.94-2.06 2.06-.94-2.06-.94-.94-2.06-.94 2.06-2.06.94z\"/><path d=\"M17.41 7.96l-1.37-1.37c-.4-.4-.92-.59-1.43-.59-.52 0-1.04.2-1.43.59L10.3 9.45l-7.72 7.72c-.78.78-.78 2.05 0 2.83L4 21.41c.39.39.9.59 1.41.59.51 0 1.02-.2 1.41-.59l7.78-7.78 2.81-2.81c.8-.78.8-2.07 0-2.86zM5.41 20L4 18.59l7.72-7.72 1.47 1.35L5.41 20z\"/>\n",
              "  </svg>\n",
              "      </button>\n",
              "      \n",
              "  <style>\n",
              "    .colab-df-container {\n",
              "      display:flex;\n",
              "      flex-wrap:wrap;\n",
              "      gap: 12px;\n",
              "    }\n",
              "\n",
              "    .colab-df-convert {\n",
              "      background-color: #E8F0FE;\n",
              "      border: none;\n",
              "      border-radius: 50%;\n",
              "      cursor: pointer;\n",
              "      display: none;\n",
              "      fill: #1967D2;\n",
              "      height: 32px;\n",
              "      padding: 0 0 0 0;\n",
              "      width: 32px;\n",
              "    }\n",
              "\n",
              "    .colab-df-convert:hover {\n",
              "      background-color: #E2EBFA;\n",
              "      box-shadow: 0px 1px 2px rgba(60, 64, 67, 0.3), 0px 1px 3px 1px rgba(60, 64, 67, 0.15);\n",
              "      fill: #174EA6;\n",
              "    }\n",
              "\n",
              "    [theme=dark] .colab-df-convert {\n",
              "      background-color: #3B4455;\n",
              "      fill: #D2E3FC;\n",
              "    }\n",
              "\n",
              "    [theme=dark] .colab-df-convert:hover {\n",
              "      background-color: #434B5C;\n",
              "      box-shadow: 0px 1px 3px 1px rgba(0, 0, 0, 0.15);\n",
              "      filter: drop-shadow(0px 1px 2px rgba(0, 0, 0, 0.3));\n",
              "      fill: #FFFFFF;\n",
              "    }\n",
              "  </style>\n",
              "\n",
              "      <script>\n",
              "        const buttonEl =\n",
              "          document.querySelector('#df-945756f2-2aaa-4dde-9654-20d83d31f53c button.colab-df-convert');\n",
              "        buttonEl.style.display =\n",
              "          google.colab.kernel.accessAllowed ? 'block' : 'none';\n",
              "\n",
              "        async function convertToInteractive(key) {\n",
              "          const element = document.querySelector('#df-945756f2-2aaa-4dde-9654-20d83d31f53c');\n",
              "          const dataTable =\n",
              "            await google.colab.kernel.invokeFunction('convertToInteractive',\n",
              "                                                     [key], {});\n",
              "          if (!dataTable) return;\n",
              "\n",
              "          const docLinkHtml = 'Like what you see? Visit the ' +\n",
              "            '<a target=\"_blank\" href=https://colab.research.google.com/notebooks/data_table.ipynb>data table notebook</a>'\n",
              "            + ' to learn more about interactive tables.';\n",
              "          element.innerHTML = '';\n",
              "          dataTable['output_type'] = 'display_data';\n",
              "          await google.colab.output.renderOutput(dataTable, element);\n",
              "          const docLink = document.createElement('div');\n",
              "          docLink.innerHTML = docLinkHtml;\n",
              "          element.appendChild(docLink);\n",
              "        }\n",
              "      </script>\n",
              "    </div>\n",
              "  </div>\n",
              "  "
            ]
          },
          "metadata": {},
          "execution_count": 16
        }
      ],
      "source": [
        "dem_fev"
      ]
    },
    {
      "cell_type": "markdown",
      "metadata": {
        "id": "u6ZoWgiTeIr1"
      },
      "source": [
        "Bom, temos algumas surpresas aqui com o mês de fevereiro. Aparentemente temos menos linhas de ônibus ou novos tipos de passageiros, pois o dataframe possui 80548 linhas. E dessa vez os dados possuem cabeçalho, para ficar igual ao anterior eu irei modificar o cabeçalho com o comando columns"
      ]
    },
    {
      "cell_type": "code",
      "execution_count": 17,
      "metadata": {
        "id": "mtjwp68LebqG"
      },
      "outputs": [],
      "source": [
        "dem_fev.columns = [\"Data\", \"ID\", \"Nome\", \"ID Passageiro\",\"Tipo Passageiro\",\"Quantidade\" ]"
      ]
    },
    {
      "cell_type": "markdown",
      "metadata": {
        "id": "kbGLOzWBD4bX"
      },
      "source": [
        "O formato das datas estão diferentes, lá na frente isso me deu problema, então vou ajeitar aqui por meio do _apply_"
      ]
    },
    {
      "cell_type": "code",
      "execution_count": 18,
      "metadata": {
        "id": "L5wgbVhSEAym"
      },
      "outputs": [],
      "source": [
        "dem_fev[\"Data\"] = dem_fev[\"Data\"].apply(lambda x: str(x.split(\"/\")[2])+\"-\"+str(x.split(\"/\")[1])+\"-\"+str(x.split(\"/\")[0]))"
      ]
    },
    {
      "cell_type": "code",
      "execution_count": 19,
      "metadata": {
        "colab": {
          "base_uri": "https://localhost:8080/",
          "height": 424
        },
        "id": "Rbd-xJ1jei3y",
        "outputId": "aaacb698-b62e-40f3-bc68-3e2c48db2c70"
      },
      "outputs": [
        {
          "output_type": "execute_result",
          "data": {
            "text/plain": [
              "             Data   ID                                      Nome  \\\n",
              "0      2022-02-01    1  Terminal Antônio Bezerra                   \n",
              "1      2022-02-01    1  Terminal Antônio Bezerra                   \n",
              "2      2022-02-01    1  Terminal Antônio Bezerra                   \n",
              "3      2022-02-01    1  Terminal Antônio Bezerra                   \n",
              "4      2022-02-01    1  Terminal Antônio Bezerra                   \n",
              "...           ...  ...                                       ...   \n",
              "80543  2022-02-28  920  Papicu/Caça e Pesca                        \n",
              "80544  2022-02-28  920  Papicu/Caça e Pesca                        \n",
              "80545  2022-02-28  999  Quilometragem/Terminal                     \n",
              "80546  2022-02-28  999  Quilometragem/Terminal                     \n",
              "80547  2022-02-28  999  Quilometragem/Terminal                     \n",
              "\n",
              "       ID Passageiro             Tipo Passageiro  Quantidade  \n",
              "0                  3                   Estudante          35  \n",
              "1                  4            Gratuidade Idoso        2884  \n",
              "2                  5  Vale-transporte (vermelho)           8  \n",
              "3                 11         Idoso Identificação         411  \n",
              "4                 12        Estudante com débito        1194  \n",
              "...              ...                         ...         ...  \n",
              "80543             32         Gratuidade Infantil           1  \n",
              "80544             37     VT Beneficio Piloto BUM           2  \n",
              "80545              4            Gratuidade Idoso           2  \n",
              "80546             11         Idoso Identificação          15  \n",
              "80547             12        Estudante com débito           1  \n",
              "\n",
              "[80548 rows x 6 columns]"
            ],
            "text/html": [
              "\n",
              "  <div id=\"df-334b4e65-ec1e-4e64-ba87-88f14aad3d08\">\n",
              "    <div class=\"colab-df-container\">\n",
              "      <div>\n",
              "<style scoped>\n",
              "    .dataframe tbody tr th:only-of-type {\n",
              "        vertical-align: middle;\n",
              "    }\n",
              "\n",
              "    .dataframe tbody tr th {\n",
              "        vertical-align: top;\n",
              "    }\n",
              "\n",
              "    .dataframe thead th {\n",
              "        text-align: right;\n",
              "    }\n",
              "</style>\n",
              "<table border=\"1\" class=\"dataframe\">\n",
              "  <thead>\n",
              "    <tr style=\"text-align: right;\">\n",
              "      <th></th>\n",
              "      <th>Data</th>\n",
              "      <th>ID</th>\n",
              "      <th>Nome</th>\n",
              "      <th>ID Passageiro</th>\n",
              "      <th>Tipo Passageiro</th>\n",
              "      <th>Quantidade</th>\n",
              "    </tr>\n",
              "  </thead>\n",
              "  <tbody>\n",
              "    <tr>\n",
              "      <th>0</th>\n",
              "      <td>2022-02-01</td>\n",
              "      <td>1</td>\n",
              "      <td>Terminal Antônio Bezerra</td>\n",
              "      <td>3</td>\n",
              "      <td>Estudante</td>\n",
              "      <td>35</td>\n",
              "    </tr>\n",
              "    <tr>\n",
              "      <th>1</th>\n",
              "      <td>2022-02-01</td>\n",
              "      <td>1</td>\n",
              "      <td>Terminal Antônio Bezerra</td>\n",
              "      <td>4</td>\n",
              "      <td>Gratuidade Idoso</td>\n",
              "      <td>2884</td>\n",
              "    </tr>\n",
              "    <tr>\n",
              "      <th>2</th>\n",
              "      <td>2022-02-01</td>\n",
              "      <td>1</td>\n",
              "      <td>Terminal Antônio Bezerra</td>\n",
              "      <td>5</td>\n",
              "      <td>Vale-transporte (vermelho)</td>\n",
              "      <td>8</td>\n",
              "    </tr>\n",
              "    <tr>\n",
              "      <th>3</th>\n",
              "      <td>2022-02-01</td>\n",
              "      <td>1</td>\n",
              "      <td>Terminal Antônio Bezerra</td>\n",
              "      <td>11</td>\n",
              "      <td>Idoso Identificação</td>\n",
              "      <td>411</td>\n",
              "    </tr>\n",
              "    <tr>\n",
              "      <th>4</th>\n",
              "      <td>2022-02-01</td>\n",
              "      <td>1</td>\n",
              "      <td>Terminal Antônio Bezerra</td>\n",
              "      <td>12</td>\n",
              "      <td>Estudante com débito</td>\n",
              "      <td>1194</td>\n",
              "    </tr>\n",
              "    <tr>\n",
              "      <th>...</th>\n",
              "      <td>...</td>\n",
              "      <td>...</td>\n",
              "      <td>...</td>\n",
              "      <td>...</td>\n",
              "      <td>...</td>\n",
              "      <td>...</td>\n",
              "    </tr>\n",
              "    <tr>\n",
              "      <th>80543</th>\n",
              "      <td>2022-02-28</td>\n",
              "      <td>920</td>\n",
              "      <td>Papicu/Caça e Pesca</td>\n",
              "      <td>32</td>\n",
              "      <td>Gratuidade Infantil</td>\n",
              "      <td>1</td>\n",
              "    </tr>\n",
              "    <tr>\n",
              "      <th>80544</th>\n",
              "      <td>2022-02-28</td>\n",
              "      <td>920</td>\n",
              "      <td>Papicu/Caça e Pesca</td>\n",
              "      <td>37</td>\n",
              "      <td>VT Beneficio Piloto BUM</td>\n",
              "      <td>2</td>\n",
              "    </tr>\n",
              "    <tr>\n",
              "      <th>80545</th>\n",
              "      <td>2022-02-28</td>\n",
              "      <td>999</td>\n",
              "      <td>Quilometragem/Terminal</td>\n",
              "      <td>4</td>\n",
              "      <td>Gratuidade Idoso</td>\n",
              "      <td>2</td>\n",
              "    </tr>\n",
              "    <tr>\n",
              "      <th>80546</th>\n",
              "      <td>2022-02-28</td>\n",
              "      <td>999</td>\n",
              "      <td>Quilometragem/Terminal</td>\n",
              "      <td>11</td>\n",
              "      <td>Idoso Identificação</td>\n",
              "      <td>15</td>\n",
              "    </tr>\n",
              "    <tr>\n",
              "      <th>80547</th>\n",
              "      <td>2022-02-28</td>\n",
              "      <td>999</td>\n",
              "      <td>Quilometragem/Terminal</td>\n",
              "      <td>12</td>\n",
              "      <td>Estudante com débito</td>\n",
              "      <td>1</td>\n",
              "    </tr>\n",
              "  </tbody>\n",
              "</table>\n",
              "<p>80548 rows × 6 columns</p>\n",
              "</div>\n",
              "      <button class=\"colab-df-convert\" onclick=\"convertToInteractive('df-334b4e65-ec1e-4e64-ba87-88f14aad3d08')\"\n",
              "              title=\"Convert this dataframe to an interactive table.\"\n",
              "              style=\"display:none;\">\n",
              "        \n",
              "  <svg xmlns=\"http://www.w3.org/2000/svg\" height=\"24px\"viewBox=\"0 0 24 24\"\n",
              "       width=\"24px\">\n",
              "    <path d=\"M0 0h24v24H0V0z\" fill=\"none\"/>\n",
              "    <path d=\"M18.56 5.44l.94 2.06.94-2.06 2.06-.94-2.06-.94-.94-2.06-.94 2.06-2.06.94zm-11 1L8.5 8.5l.94-2.06 2.06-.94-2.06-.94L8.5 2.5l-.94 2.06-2.06.94zm10 10l.94 2.06.94-2.06 2.06-.94-2.06-.94-.94-2.06-.94 2.06-2.06.94z\"/><path d=\"M17.41 7.96l-1.37-1.37c-.4-.4-.92-.59-1.43-.59-.52 0-1.04.2-1.43.59L10.3 9.45l-7.72 7.72c-.78.78-.78 2.05 0 2.83L4 21.41c.39.39.9.59 1.41.59.51 0 1.02-.2 1.41-.59l7.78-7.78 2.81-2.81c.8-.78.8-2.07 0-2.86zM5.41 20L4 18.59l7.72-7.72 1.47 1.35L5.41 20z\"/>\n",
              "  </svg>\n",
              "      </button>\n",
              "      \n",
              "  <style>\n",
              "    .colab-df-container {\n",
              "      display:flex;\n",
              "      flex-wrap:wrap;\n",
              "      gap: 12px;\n",
              "    }\n",
              "\n",
              "    .colab-df-convert {\n",
              "      background-color: #E8F0FE;\n",
              "      border: none;\n",
              "      border-radius: 50%;\n",
              "      cursor: pointer;\n",
              "      display: none;\n",
              "      fill: #1967D2;\n",
              "      height: 32px;\n",
              "      padding: 0 0 0 0;\n",
              "      width: 32px;\n",
              "    }\n",
              "\n",
              "    .colab-df-convert:hover {\n",
              "      background-color: #E2EBFA;\n",
              "      box-shadow: 0px 1px 2px rgba(60, 64, 67, 0.3), 0px 1px 3px 1px rgba(60, 64, 67, 0.15);\n",
              "      fill: #174EA6;\n",
              "    }\n",
              "\n",
              "    [theme=dark] .colab-df-convert {\n",
              "      background-color: #3B4455;\n",
              "      fill: #D2E3FC;\n",
              "    }\n",
              "\n",
              "    [theme=dark] .colab-df-convert:hover {\n",
              "      background-color: #434B5C;\n",
              "      box-shadow: 0px 1px 3px 1px rgba(0, 0, 0, 0.15);\n",
              "      filter: drop-shadow(0px 1px 2px rgba(0, 0, 0, 0.3));\n",
              "      fill: #FFFFFF;\n",
              "    }\n",
              "  </style>\n",
              "\n",
              "      <script>\n",
              "        const buttonEl =\n",
              "          document.querySelector('#df-334b4e65-ec1e-4e64-ba87-88f14aad3d08 button.colab-df-convert');\n",
              "        buttonEl.style.display =\n",
              "          google.colab.kernel.accessAllowed ? 'block' : 'none';\n",
              "\n",
              "        async function convertToInteractive(key) {\n",
              "          const element = document.querySelector('#df-334b4e65-ec1e-4e64-ba87-88f14aad3d08');\n",
              "          const dataTable =\n",
              "            await google.colab.kernel.invokeFunction('convertToInteractive',\n",
              "                                                     [key], {});\n",
              "          if (!dataTable) return;\n",
              "\n",
              "          const docLinkHtml = 'Like what you see? Visit the ' +\n",
              "            '<a target=\"_blank\" href=https://colab.research.google.com/notebooks/data_table.ipynb>data table notebook</a>'\n",
              "            + ' to learn more about interactive tables.';\n",
              "          element.innerHTML = '';\n",
              "          dataTable['output_type'] = 'display_data';\n",
              "          await google.colab.output.renderOutput(dataTable, element);\n",
              "          const docLink = document.createElement('div');\n",
              "          docLink.innerHTML = docLinkHtml;\n",
              "          element.appendChild(docLink);\n",
              "        }\n",
              "      </script>\n",
              "    </div>\n",
              "  </div>\n",
              "  "
            ]
          },
          "metadata": {},
          "execution_count": 19
        }
      ],
      "source": [
        "dem_fev"
      ]
    },
    {
      "cell_type": "markdown",
      "metadata": {
        "id": "buDfdoxjD37k"
      },
      "source": []
    },
    {
      "cell_type": "code",
      "execution_count": 20,
      "metadata": {
        "colab": {
          "base_uri": "https://localhost:8080/"
        },
        "id": "eVqCuvdaekHa",
        "outputId": "ecf34ec3-f1d3-4c63-c2ea-b1e883b36138"
      },
      "outputs": [
        {
          "output_type": "execute_result",
          "data": {
            "text/plain": [
              "Data               0\n",
              "ID                 0\n",
              "Nome               0\n",
              "ID Passageiro      0\n",
              "Tipo Passageiro    0\n",
              "Quantidade         0\n",
              "dtype: int64"
            ]
          },
          "metadata": {},
          "execution_count": 20
        }
      ],
      "source": [
        "dem_fev.isna().sum() ##Não temos dados vazios."
      ]
    },
    {
      "cell_type": "markdown",
      "metadata": {
        "id": "t8ufIYol7p89"
      },
      "source": [
        "## PROBLEMA 1: temos mais linhas nesse, ou temos mais tipos de passageiros?"
      ]
    },
    {
      "cell_type": "markdown",
      "metadata": {
        "id": "vHeRt98C71Cr"
      },
      "source": [
        "#### Abordagem 1 - Podemos ver a quantidade de valores único na coluna ID"
      ]
    },
    {
      "cell_type": "code",
      "execution_count": 21,
      "metadata": {
        "colab": {
          "base_uri": "https://localhost:8080/"
        },
        "id": "qyj0bNpq8ZBJ",
        "outputId": "a7a71d76-45c9-4953-af5d-8ad9ac7ed6b5"
      },
      "outputs": [
        {
          "output_type": "stream",
          "name": "stdout",
          "text": [
            "333\n"
          ]
        }
      ],
      "source": [
        "unico_jan = demanda_jan[\"ID\"].unique()\n",
        "print(len(unico_jan))"
      ]
    },
    {
      "cell_type": "markdown",
      "metadata": {
        "id": "CjGigIt884NZ"
      },
      "source": [
        "Nós temos 333 valores diferentes na coluna ID do dataframe demanda_jan, isso nos sugere (mas não garante) que temos 333 linhas de ônibus diferentes. Agora vamos ver no fevereiro"
      ]
    },
    {
      "cell_type": "code",
      "execution_count": 22,
      "metadata": {
        "colab": {
          "base_uri": "https://localhost:8080/"
        },
        "id": "sTmG9fGW9ENW",
        "outputId": "c8d8f184-541f-45eb-e077-2ed9cfacf620"
      },
      "outputs": [
        {
          "output_type": "execute_result",
          "data": {
            "text/plain": [
              "(332,)"
            ]
          },
          "metadata": {},
          "execution_count": 22
        }
      ],
      "source": [
        "dem_fev[\"ID\"].unique().shape"
      ]
    },
    {
      "cell_type": "markdown",
      "metadata": {
        "id": "AERAKInV9JNG"
      },
      "source": [
        "Em fevereiro nós temos 332 valores únicos de ID, 1 a menos que janeiro, o que é uma surpresa, vamos ver a intereseção desses dois arrays. Podemos acessar isso por meio do método np.instersect1d"
      ]
    },
    {
      "cell_type": "code",
      "execution_count": 23,
      "metadata": {
        "id": "aZlueB9s9wN_"
      },
      "outputs": [],
      "source": [
        "unico_janeiro = demanda_jan[\"ID\"].unique() #array com valores unicos de ID\n",
        "unico_fevereiro = dem_fev[\"ID\"].unique() ##array com valores únicos de ID\n"
      ]
    },
    {
      "cell_type": "code",
      "execution_count": 24,
      "metadata": {
        "colab": {
          "base_uri": "https://localhost:8080/"
        },
        "id": "7PIRItLe98tE",
        "outputId": "0f8b1600-4afa-4c25-bdce-5864d4d051c3"
      },
      "outputs": [
        {
          "output_type": "execute_result",
          "data": {
            "text/plain": [
              "(324,)"
            ]
          },
          "metadata": {},
          "execution_count": 24
        }
      ],
      "source": [
        "np.intersect1d(unico_janeiro,unico_fevereiro).shape #ID que estão nas duas dataframes"
      ]
    },
    {
      "cell_type": "code",
      "execution_count": 25,
      "metadata": {
        "colab": {
          "base_uri": "https://localhost:8080/"
        },
        "id": "GdJT-rf5-HDM",
        "outputId": "d98dac85-046a-4549-d47e-101e9cfe6170"
      },
      "outputs": [
        {
          "output_type": "stream",
          "name": "stdout",
          "text": [
            "[ 13  62  98 151 221 324 354 363 762 767 770 870 919 946 949 970 986]\n"
          ]
        }
      ],
      "source": [
        "diferenca = np.setxor1d(unico_fevereiro,unico_janeiro) \n",
        "print(diferenca)\n"
      ]
    },
    {
      "cell_type": "code",
      "execution_count": 26,
      "metadata": {
        "colab": {
          "base_uri": "https://localhost:8080/"
        },
        "id": "oDUY75mf-fzl",
        "outputId": "585bf614-0c22-4e22-a595-749f76e0128c"
      },
      "outputs": [
        {
          "output_type": "stream",
          "name": "stdout",
          "text": [
            "[ 13  62  98 151 324 354 762 767 919]\n"
          ]
        }
      ],
      "source": [
        "just_in_jan = np.intersect1d(diferenca,unico_janeiro)\n",
        "print(just_in_jan)"
      ]
    },
    {
      "cell_type": "code",
      "execution_count": 27,
      "metadata": {
        "colab": {
          "base_uri": "https://localhost:8080/"
        },
        "id": "bZzFu_n5-w9h",
        "outputId": "9986356c-0e0c-435e-a497-a5c0ed917d3b"
      },
      "outputs": [
        {
          "output_type": "stream",
          "name": "stdout",
          "text": [
            "[221 363 770 870 946 949 970 986]\n"
          ]
        }
      ],
      "source": [
        "justinfev = np.intersect1d(diferenca,unico_fevereiro)\n",
        "print(justinfev)"
      ]
    },
    {
      "cell_type": "markdown",
      "metadata": {
        "id": "u_YgYoROCJk3"
      },
      "source": [
        "Portanto, podemos tirar de conclusão que as linhas 13,62,98,151,324,254,762,767,919 estão na tabela de demanda de janeiro mas não em fevereiro. E as linhas 221,363,770,870,946,949,970,986 estão em fevereiro mas não estão em janeiro. Note que fevereiro tem uma a menos, por isso a diferença que vimos anteriormente."
      ]
    },
    {
      "cell_type": "markdown",
      "metadata": {
        "id": "Z6EhKwnB_xgA"
      },
      "source": [
        "**Vamos tentar exibir os nome destas linhas de alguma forma**"
      ]
    },
    {
      "cell_type": "code",
      "execution_count": 28,
      "metadata": {
        "colab": {
          "base_uri": "https://localhost:8080/",
          "height": 300
        },
        "id": "sCDnu_ltDUEB",
        "outputId": "01a5642d-d36a-43f0-8f71-6358d19fb8e5"
      },
      "outputs": [
        {
          "output_type": "execute_result",
          "data": {
            "text/plain": [
              "             Data   ID                                      Nome  \\\n",
              "71918  2022-01-26  767  Vila Velha/North Shopping/Riomar Kennedy   \n",
              "71919  2022-01-26  767  Vila Velha/North Shopping/Riomar Kennedy   \n",
              "71920  2022-01-26  767  Vila Velha/North Shopping/Riomar Kennedy   \n",
              "71921  2022-01-26  767  Vila Velha/North Shopping/Riomar Kennedy   \n",
              "71922  2022-01-26  767  Vila Velha/North Shopping/Riomar Kennedy   \n",
              "71923  2022-01-26  767  Vila Velha/North Shopping/Riomar Kennedy   \n",
              "71924  2022-01-26  767  Vila Velha/North Shopping/Riomar Kennedy   \n",
              "71925  2022-01-26  767  Vila Velha/North Shopping/Riomar Kennedy   \n",
              "\n",
              "       ID Passageiro             Tipo Passageiro  Quantidade  \n",
              "71918              2                     Popular           2  \n",
              "71919              3                   Estudante          13  \n",
              "71920              4            Gratuidade Idoso         111  \n",
              "71921             11         Idoso Identificação          45  \n",
              "71922             12        Estudante com débito         103  \n",
              "71923             15                    Projovem           3  \n",
              "71924             16  Grat. Deficiente - S/Acomp           3  \n",
              "71925             37     VT Beneficio Piloto BUM           1  "
            ],
            "text/html": [
              "\n",
              "  <div id=\"df-6070a532-54b1-43a2-8521-61ebda00b536\">\n",
              "    <div class=\"colab-df-container\">\n",
              "      <div>\n",
              "<style scoped>\n",
              "    .dataframe tbody tr th:only-of-type {\n",
              "        vertical-align: middle;\n",
              "    }\n",
              "\n",
              "    .dataframe tbody tr th {\n",
              "        vertical-align: top;\n",
              "    }\n",
              "\n",
              "    .dataframe thead th {\n",
              "        text-align: right;\n",
              "    }\n",
              "</style>\n",
              "<table border=\"1\" class=\"dataframe\">\n",
              "  <thead>\n",
              "    <tr style=\"text-align: right;\">\n",
              "      <th></th>\n",
              "      <th>Data</th>\n",
              "      <th>ID</th>\n",
              "      <th>Nome</th>\n",
              "      <th>ID Passageiro</th>\n",
              "      <th>Tipo Passageiro</th>\n",
              "      <th>Quantidade</th>\n",
              "    </tr>\n",
              "  </thead>\n",
              "  <tbody>\n",
              "    <tr>\n",
              "      <th>71918</th>\n",
              "      <td>2022-01-26</td>\n",
              "      <td>767</td>\n",
              "      <td>Vila Velha/North Shopping/Riomar Kennedy</td>\n",
              "      <td>2</td>\n",
              "      <td>Popular</td>\n",
              "      <td>2</td>\n",
              "    </tr>\n",
              "    <tr>\n",
              "      <th>71919</th>\n",
              "      <td>2022-01-26</td>\n",
              "      <td>767</td>\n",
              "      <td>Vila Velha/North Shopping/Riomar Kennedy</td>\n",
              "      <td>3</td>\n",
              "      <td>Estudante</td>\n",
              "      <td>13</td>\n",
              "    </tr>\n",
              "    <tr>\n",
              "      <th>71920</th>\n",
              "      <td>2022-01-26</td>\n",
              "      <td>767</td>\n",
              "      <td>Vila Velha/North Shopping/Riomar Kennedy</td>\n",
              "      <td>4</td>\n",
              "      <td>Gratuidade Idoso</td>\n",
              "      <td>111</td>\n",
              "    </tr>\n",
              "    <tr>\n",
              "      <th>71921</th>\n",
              "      <td>2022-01-26</td>\n",
              "      <td>767</td>\n",
              "      <td>Vila Velha/North Shopping/Riomar Kennedy</td>\n",
              "      <td>11</td>\n",
              "      <td>Idoso Identificação</td>\n",
              "      <td>45</td>\n",
              "    </tr>\n",
              "    <tr>\n",
              "      <th>71922</th>\n",
              "      <td>2022-01-26</td>\n",
              "      <td>767</td>\n",
              "      <td>Vila Velha/North Shopping/Riomar Kennedy</td>\n",
              "      <td>12</td>\n",
              "      <td>Estudante com débito</td>\n",
              "      <td>103</td>\n",
              "    </tr>\n",
              "    <tr>\n",
              "      <th>71923</th>\n",
              "      <td>2022-01-26</td>\n",
              "      <td>767</td>\n",
              "      <td>Vila Velha/North Shopping/Riomar Kennedy</td>\n",
              "      <td>15</td>\n",
              "      <td>Projovem</td>\n",
              "      <td>3</td>\n",
              "    </tr>\n",
              "    <tr>\n",
              "      <th>71924</th>\n",
              "      <td>2022-01-26</td>\n",
              "      <td>767</td>\n",
              "      <td>Vila Velha/North Shopping/Riomar Kennedy</td>\n",
              "      <td>16</td>\n",
              "      <td>Grat. Deficiente - S/Acomp</td>\n",
              "      <td>3</td>\n",
              "    </tr>\n",
              "    <tr>\n",
              "      <th>71925</th>\n",
              "      <td>2022-01-26</td>\n",
              "      <td>767</td>\n",
              "      <td>Vila Velha/North Shopping/Riomar Kennedy</td>\n",
              "      <td>37</td>\n",
              "      <td>VT Beneficio Piloto BUM</td>\n",
              "      <td>1</td>\n",
              "    </tr>\n",
              "  </tbody>\n",
              "</table>\n",
              "</div>\n",
              "      <button class=\"colab-df-convert\" onclick=\"convertToInteractive('df-6070a532-54b1-43a2-8521-61ebda00b536')\"\n",
              "              title=\"Convert this dataframe to an interactive table.\"\n",
              "              style=\"display:none;\">\n",
              "        \n",
              "  <svg xmlns=\"http://www.w3.org/2000/svg\" height=\"24px\"viewBox=\"0 0 24 24\"\n",
              "       width=\"24px\">\n",
              "    <path d=\"M0 0h24v24H0V0z\" fill=\"none\"/>\n",
              "    <path d=\"M18.56 5.44l.94 2.06.94-2.06 2.06-.94-2.06-.94-.94-2.06-.94 2.06-2.06.94zm-11 1L8.5 8.5l.94-2.06 2.06-.94-2.06-.94L8.5 2.5l-.94 2.06-2.06.94zm10 10l.94 2.06.94-2.06 2.06-.94-2.06-.94-.94-2.06-.94 2.06-2.06.94z\"/><path d=\"M17.41 7.96l-1.37-1.37c-.4-.4-.92-.59-1.43-.59-.52 0-1.04.2-1.43.59L10.3 9.45l-7.72 7.72c-.78.78-.78 2.05 0 2.83L4 21.41c.39.39.9.59 1.41.59.51 0 1.02-.2 1.41-.59l7.78-7.78 2.81-2.81c.8-.78.8-2.07 0-2.86zM5.41 20L4 18.59l7.72-7.72 1.47 1.35L5.41 20z\"/>\n",
              "  </svg>\n",
              "      </button>\n",
              "      \n",
              "  <style>\n",
              "    .colab-df-container {\n",
              "      display:flex;\n",
              "      flex-wrap:wrap;\n",
              "      gap: 12px;\n",
              "    }\n",
              "\n",
              "    .colab-df-convert {\n",
              "      background-color: #E8F0FE;\n",
              "      border: none;\n",
              "      border-radius: 50%;\n",
              "      cursor: pointer;\n",
              "      display: none;\n",
              "      fill: #1967D2;\n",
              "      height: 32px;\n",
              "      padding: 0 0 0 0;\n",
              "      width: 32px;\n",
              "    }\n",
              "\n",
              "    .colab-df-convert:hover {\n",
              "      background-color: #E2EBFA;\n",
              "      box-shadow: 0px 1px 2px rgba(60, 64, 67, 0.3), 0px 1px 3px 1px rgba(60, 64, 67, 0.15);\n",
              "      fill: #174EA6;\n",
              "    }\n",
              "\n",
              "    [theme=dark] .colab-df-convert {\n",
              "      background-color: #3B4455;\n",
              "      fill: #D2E3FC;\n",
              "    }\n",
              "\n",
              "    [theme=dark] .colab-df-convert:hover {\n",
              "      background-color: #434B5C;\n",
              "      box-shadow: 0px 1px 3px 1px rgba(0, 0, 0, 0.15);\n",
              "      filter: drop-shadow(0px 1px 2px rgba(0, 0, 0, 0.3));\n",
              "      fill: #FFFFFF;\n",
              "    }\n",
              "  </style>\n",
              "\n",
              "      <script>\n",
              "        const buttonEl =\n",
              "          document.querySelector('#df-6070a532-54b1-43a2-8521-61ebda00b536 button.colab-df-convert');\n",
              "        buttonEl.style.display =\n",
              "          google.colab.kernel.accessAllowed ? 'block' : 'none';\n",
              "\n",
              "        async function convertToInteractive(key) {\n",
              "          const element = document.querySelector('#df-6070a532-54b1-43a2-8521-61ebda00b536');\n",
              "          const dataTable =\n",
              "            await google.colab.kernel.invokeFunction('convertToInteractive',\n",
              "                                                     [key], {});\n",
              "          if (!dataTable) return;\n",
              "\n",
              "          const docLinkHtml = 'Like what you see? Visit the ' +\n",
              "            '<a target=\"_blank\" href=https://colab.research.google.com/notebooks/data_table.ipynb>data table notebook</a>'\n",
              "            + ' to learn more about interactive tables.';\n",
              "          element.innerHTML = '';\n",
              "          dataTable['output_type'] = 'display_data';\n",
              "          await google.colab.output.renderOutput(dataTable, element);\n",
              "          const docLink = document.createElement('div');\n",
              "          docLink.innerHTML = docLinkHtml;\n",
              "          element.appendChild(docLink);\n",
              "        }\n",
              "      </script>\n",
              "    </div>\n",
              "  </div>\n",
              "  "
            ]
          },
          "metadata": {},
          "execution_count": 28
        }
      ],
      "source": [
        "demanda_jan.loc[demanda_jan[\"ID\"] == just_in_jan[7]] "
      ]
    },
    {
      "cell_type": "code",
      "execution_count": 29,
      "metadata": {
        "colab": {
          "base_uri": "https://localhost:8080/",
          "height": 81
        },
        "id": "IormnGAyFrxm",
        "outputId": "118844c1-99f9-4e2f-8b49-1a7bf0b4a197"
      },
      "outputs": [
        {
          "output_type": "execute_result",
          "data": {
            "text/plain": [
              "             Data   ID                                Nome  ID Passageiro  \\\n",
              "14704  2022-02-05  986  Antônio Bezerra/Halleluya/Castelão             28   \n",
              "\n",
              "      Tipo Passageiro  Quantidade  \n",
              "14704      Transbordo          22  "
            ],
            "text/html": [
              "\n",
              "  <div id=\"df-0287020b-f028-4779-bc4a-76b62e1273f5\">\n",
              "    <div class=\"colab-df-container\">\n",
              "      <div>\n",
              "<style scoped>\n",
              "    .dataframe tbody tr th:only-of-type {\n",
              "        vertical-align: middle;\n",
              "    }\n",
              "\n",
              "    .dataframe tbody tr th {\n",
              "        vertical-align: top;\n",
              "    }\n",
              "\n",
              "    .dataframe thead th {\n",
              "        text-align: right;\n",
              "    }\n",
              "</style>\n",
              "<table border=\"1\" class=\"dataframe\">\n",
              "  <thead>\n",
              "    <tr style=\"text-align: right;\">\n",
              "      <th></th>\n",
              "      <th>Data</th>\n",
              "      <th>ID</th>\n",
              "      <th>Nome</th>\n",
              "      <th>ID Passageiro</th>\n",
              "      <th>Tipo Passageiro</th>\n",
              "      <th>Quantidade</th>\n",
              "    </tr>\n",
              "  </thead>\n",
              "  <tbody>\n",
              "    <tr>\n",
              "      <th>14704</th>\n",
              "      <td>2022-02-05</td>\n",
              "      <td>986</td>\n",
              "      <td>Antônio Bezerra/Halleluya/Castelão</td>\n",
              "      <td>28</td>\n",
              "      <td>Transbordo</td>\n",
              "      <td>22</td>\n",
              "    </tr>\n",
              "  </tbody>\n",
              "</table>\n",
              "</div>\n",
              "      <button class=\"colab-df-convert\" onclick=\"convertToInteractive('df-0287020b-f028-4779-bc4a-76b62e1273f5')\"\n",
              "              title=\"Convert this dataframe to an interactive table.\"\n",
              "              style=\"display:none;\">\n",
              "        \n",
              "  <svg xmlns=\"http://www.w3.org/2000/svg\" height=\"24px\"viewBox=\"0 0 24 24\"\n",
              "       width=\"24px\">\n",
              "    <path d=\"M0 0h24v24H0V0z\" fill=\"none\"/>\n",
              "    <path d=\"M18.56 5.44l.94 2.06.94-2.06 2.06-.94-2.06-.94-.94-2.06-.94 2.06-2.06.94zm-11 1L8.5 8.5l.94-2.06 2.06-.94-2.06-.94L8.5 2.5l-.94 2.06-2.06.94zm10 10l.94 2.06.94-2.06 2.06-.94-2.06-.94-.94-2.06-.94 2.06-2.06.94z\"/><path d=\"M17.41 7.96l-1.37-1.37c-.4-.4-.92-.59-1.43-.59-.52 0-1.04.2-1.43.59L10.3 9.45l-7.72 7.72c-.78.78-.78 2.05 0 2.83L4 21.41c.39.39.9.59 1.41.59.51 0 1.02-.2 1.41-.59l7.78-7.78 2.81-2.81c.8-.78.8-2.07 0-2.86zM5.41 20L4 18.59l7.72-7.72 1.47 1.35L5.41 20z\"/>\n",
              "  </svg>\n",
              "      </button>\n",
              "      \n",
              "  <style>\n",
              "    .colab-df-container {\n",
              "      display:flex;\n",
              "      flex-wrap:wrap;\n",
              "      gap: 12px;\n",
              "    }\n",
              "\n",
              "    .colab-df-convert {\n",
              "      background-color: #E8F0FE;\n",
              "      border: none;\n",
              "      border-radius: 50%;\n",
              "      cursor: pointer;\n",
              "      display: none;\n",
              "      fill: #1967D2;\n",
              "      height: 32px;\n",
              "      padding: 0 0 0 0;\n",
              "      width: 32px;\n",
              "    }\n",
              "\n",
              "    .colab-df-convert:hover {\n",
              "      background-color: #E2EBFA;\n",
              "      box-shadow: 0px 1px 2px rgba(60, 64, 67, 0.3), 0px 1px 3px 1px rgba(60, 64, 67, 0.15);\n",
              "      fill: #174EA6;\n",
              "    }\n",
              "\n",
              "    [theme=dark] .colab-df-convert {\n",
              "      background-color: #3B4455;\n",
              "      fill: #D2E3FC;\n",
              "    }\n",
              "\n",
              "    [theme=dark] .colab-df-convert:hover {\n",
              "      background-color: #434B5C;\n",
              "      box-shadow: 0px 1px 3px 1px rgba(0, 0, 0, 0.15);\n",
              "      filter: drop-shadow(0px 1px 2px rgba(0, 0, 0, 0.3));\n",
              "      fill: #FFFFFF;\n",
              "    }\n",
              "  </style>\n",
              "\n",
              "      <script>\n",
              "        const buttonEl =\n",
              "          document.querySelector('#df-0287020b-f028-4779-bc4a-76b62e1273f5 button.colab-df-convert');\n",
              "        buttonEl.style.display =\n",
              "          google.colab.kernel.accessAllowed ? 'block' : 'none';\n",
              "\n",
              "        async function convertToInteractive(key) {\n",
              "          const element = document.querySelector('#df-0287020b-f028-4779-bc4a-76b62e1273f5');\n",
              "          const dataTable =\n",
              "            await google.colab.kernel.invokeFunction('convertToInteractive',\n",
              "                                                     [key], {});\n",
              "          if (!dataTable) return;\n",
              "\n",
              "          const docLinkHtml = 'Like what you see? Visit the ' +\n",
              "            '<a target=\"_blank\" href=https://colab.research.google.com/notebooks/data_table.ipynb>data table notebook</a>'\n",
              "            + ' to learn more about interactive tables.';\n",
              "          element.innerHTML = '';\n",
              "          dataTable['output_type'] = 'display_data';\n",
              "          await google.colab.output.renderOutput(dataTable, element);\n",
              "          const docLink = document.createElement('div');\n",
              "          docLink.innerHTML = docLinkHtml;\n",
              "          element.appendChild(docLink);\n",
              "        }\n",
              "      </script>\n",
              "    </div>\n",
              "  </div>\n",
              "  "
            ]
          },
          "metadata": {},
          "execution_count": 29
        }
      ],
      "source": [
        "dem_fev.loc[dem_fev[\"ID\"] == justinfev[7]] "
      ]
    },
    {
      "cell_type": "markdown",
      "metadata": {
        "id": "omKohfOXKJeB"
      },
      "source": [
        "## Resumo da ópera: acredito que posso tirar essas linhas da contagem porque pelo visto elas não contam tanto assim e são linhas e dias muitos específicos. Outro ponto importante é que as linhas a mais não são justificadas por diferentes nomes de ônibus mas sim por outro coisa que precisamos investigar. Portanto vamos retirar essas linhas do nosso dataframes."
      ]
    },
    {
      "cell_type": "markdown",
      "metadata": {
        "id": "E7T-mnXnKnzn"
      },
      "source": [
        "#### Retirar as linhas \"ruins\" dos dataframes"
      ]
    },
    {
      "cell_type": "code",
      "execution_count": 30,
      "metadata": {
        "id": "IdEhKBh7Kryl"
      },
      "outputs": [],
      "source": [
        "for i in just_in_jan:\n",
        "  demanda_jan.drop(demanda_jan[demanda_jan[\"ID\"]==i].index, inplace=True)\n",
        "  # pega o index dos elementos de demanda_jan onde demanda_jan[\"id\"] é igual a cada um dos números de just in jan"
      ]
    },
    {
      "cell_type": "code",
      "execution_count": 31,
      "metadata": {
        "colab": {
          "base_uri": "https://localhost:8080/"
        },
        "id": "DbwcxRPVbFDt",
        "outputId": "e35eea2f-01e1-4655-b2f8-72b9f074898e"
      },
      "outputs": [
        {
          "output_type": "execute_result",
          "data": {
            "text/plain": [
              "(324,)"
            ]
          },
          "metadata": {},
          "execution_count": 31
        }
      ],
      "source": [
        "demanda_jan[\"ID\"].unique().shape"
      ]
    },
    {
      "cell_type": "code",
      "execution_count": 32,
      "metadata": {
        "id": "MJcRoYAj-Lfs"
      },
      "outputs": [],
      "source": [
        "for i in justinfev:\n",
        "  dem_fev.drop(dem_fev[dem_fev[\"ID\"]==i].index,inplace=True)"
      ]
    },
    {
      "cell_type": "code",
      "execution_count": 33,
      "metadata": {
        "colab": {
          "base_uri": "https://localhost:8080/"
        },
        "id": "iKie5VW4-bSt",
        "outputId": "462f6440-9947-4b16-df40-5f3547f3dd03"
      },
      "outputs": [
        {
          "output_type": "execute_result",
          "data": {
            "text/plain": [
              "(324,)"
            ]
          },
          "metadata": {},
          "execution_count": 33
        }
      ],
      "source": [
        "dem_fev[\"ID\"].unique().shape"
      ]
    },
    {
      "cell_type": "markdown",
      "metadata": {
        "id": "bao1oF4c_1L-"
      },
      "source": [
        "O código acima \"garante\" que os dois dataframes possuem a mesma quantidade de IDs únicos. Mas o dem_fec tem mais linhas, vamos saber os valores únicos dos tipos de passageiros e comparar os dois.\n"
      ]
    },
    {
      "cell_type": "code",
      "execution_count": 34,
      "metadata": {
        "id": "SJYNG-lGASDQ"
      },
      "outputs": [],
      "source": [
        "tipos_arr_jan = demanda_jan[\"ID Passageiro\"].unique()"
      ]
    },
    {
      "cell_type": "code",
      "execution_count": 35,
      "metadata": {
        "id": "aDYnYD0tAeqn"
      },
      "outputs": [],
      "source": [
        "tipos_arr_fev = dem_fev[\"ID Passageiro\"].unique()"
      ]
    },
    {
      "cell_type": "code",
      "execution_count": 36,
      "metadata": {
        "colab": {
          "base_uri": "https://localhost:8080/"
        },
        "id": "UNdu2dCTAxKN",
        "outputId": "8838e6d7-4642-4535-bd86-ac6a9c552c43"
      },
      "outputs": [
        {
          "output_type": "execute_result",
          "data": {
            "text/plain": [
              "array([], dtype=int64)"
            ]
          },
          "metadata": {},
          "execution_count": 36
        }
      ],
      "source": [
        "np.setxor1d(tipos_arr_jan,tipos_arr_fev) #np.setxor1d mostra valores que não pertencem aos dois arrays"
      ]
    },
    {
      "cell_type": "markdown",
      "metadata": {
        "id": "Ff5oE0FFg5FD"
      },
      "source": [
        "Isso nos diz que os tipos de passageiros nos meses de janeiro e fevereiro são iguais."
      ]
    },
    {
      "cell_type": "code",
      "execution_count": 37,
      "metadata": {
        "colab": {
          "base_uri": "https://localhost:8080/"
        },
        "id": "M9ZYNJZtBUvk",
        "outputId": "1216fe2c-7594-4975-c08c-4cb9da7713df"
      },
      "outputs": [
        {
          "output_type": "execute_result",
          "data": {
            "text/plain": [
              "array([ 4,  5, 11, 12, 16, 37,  2, 27,  3,  6,  9, 15, 31, 32, 28, 33,  7])"
            ]
          },
          "metadata": {},
          "execution_count": 37
        }
      ],
      "source": [
        "tipos_arr_jan"
      ]
    },
    {
      "cell_type": "code",
      "execution_count": 38,
      "metadata": {
        "colab": {
          "base_uri": "https://localhost:8080/"
        },
        "id": "7vY1jGXMDu4-",
        "outputId": "ae09021a-76e5-48ef-f7f0-6f7d067161d4"
      },
      "outputs": [
        {
          "output_type": "stream",
          "name": "stdout",
          "text": [
            "80480\n",
            "85982\n"
          ]
        }
      ],
      "source": [
        "print(dem_fev.shape[0])\n",
        "print(demanda_jan.shape[0])"
      ]
    },
    {
      "cell_type": "markdown",
      "metadata": {
        "id": "Yk3bTSW9pITZ"
      },
      "source": [
        "## Uma explicação para fevereiro ter menos linhas é que o mês possui menos dias."
      ]
    },
    {
      "cell_type": "markdown",
      "metadata": {
        "id": "mxKUa2-3exls"
      },
      "source": [
        "# Juntando os dois dataframes em um só - merge e concat"
      ]
    },
    {
      "cell_type": "code",
      "execution_count": 38,
      "metadata": {
        "id": "7Yv8X5JsbEIL"
      },
      "outputs": [],
      "source": []
    },
    {
      "cell_type": "code",
      "execution_count": 39,
      "metadata": {
        "id": "tDOv3Jebe0b5"
      },
      "outputs": [],
      "source": [
        "demanda = pd.concat([demanda_jan,dem_fev])"
      ]
    },
    {
      "cell_type": "code",
      "execution_count": 40,
      "metadata": {
        "colab": {
          "base_uri": "https://localhost:8080/",
          "height": 424
        },
        "id": "514sDyIffFEZ",
        "outputId": "904071df-b28e-490d-c1ce-bc8690def2c4"
      },
      "outputs": [
        {
          "output_type": "execute_result",
          "data": {
            "text/plain": [
              "             Data   ID                                      Nome  \\\n",
              "0      2022-01-01    1  Terminal Antônio Bezerra                   \n",
              "1      2022-01-01    1  Terminal Antônio Bezerra                   \n",
              "2      2022-01-01    1  Terminal Antônio Bezerra                   \n",
              "3      2022-01-01    1  Terminal Antônio Bezerra                   \n",
              "4      2022-01-01    1  Terminal Antônio Bezerra                   \n",
              "...           ...  ...                                       ...   \n",
              "80543  2022-02-28  920  Papicu/Caça e Pesca                        \n",
              "80544  2022-02-28  920  Papicu/Caça e Pesca                        \n",
              "80545  2022-02-28  999  Quilometragem/Terminal                     \n",
              "80546  2022-02-28  999  Quilometragem/Terminal                     \n",
              "80547  2022-02-28  999  Quilometragem/Terminal                     \n",
              "\n",
              "       ID Passageiro             Tipo Passageiro  Quantidade  \n",
              "0                  4            Gratuidade Idoso         666  \n",
              "1                  5  Vale-transporte (vermelho)           2  \n",
              "2                 11         Idoso Identificação          97  \n",
              "3                 12        Estudante com débito         873  \n",
              "4                 16  Grat. Deficiente - S/Acomp           4  \n",
              "...              ...                         ...         ...  \n",
              "80543             32         Gratuidade Infantil           1  \n",
              "80544             37     VT Beneficio Piloto BUM           2  \n",
              "80545              4            Gratuidade Idoso           2  \n",
              "80546             11         Idoso Identificação          15  \n",
              "80547             12        Estudante com débito           1  \n",
              "\n",
              "[166462 rows x 6 columns]"
            ],
            "text/html": [
              "\n",
              "  <div id=\"df-82eed466-5495-41c0-8696-e234f2baa920\">\n",
              "    <div class=\"colab-df-container\">\n",
              "      <div>\n",
              "<style scoped>\n",
              "    .dataframe tbody tr th:only-of-type {\n",
              "        vertical-align: middle;\n",
              "    }\n",
              "\n",
              "    .dataframe tbody tr th {\n",
              "        vertical-align: top;\n",
              "    }\n",
              "\n",
              "    .dataframe thead th {\n",
              "        text-align: right;\n",
              "    }\n",
              "</style>\n",
              "<table border=\"1\" class=\"dataframe\">\n",
              "  <thead>\n",
              "    <tr style=\"text-align: right;\">\n",
              "      <th></th>\n",
              "      <th>Data</th>\n",
              "      <th>ID</th>\n",
              "      <th>Nome</th>\n",
              "      <th>ID Passageiro</th>\n",
              "      <th>Tipo Passageiro</th>\n",
              "      <th>Quantidade</th>\n",
              "    </tr>\n",
              "  </thead>\n",
              "  <tbody>\n",
              "    <tr>\n",
              "      <th>0</th>\n",
              "      <td>2022-01-01</td>\n",
              "      <td>1</td>\n",
              "      <td>Terminal Antônio Bezerra</td>\n",
              "      <td>4</td>\n",
              "      <td>Gratuidade Idoso</td>\n",
              "      <td>666</td>\n",
              "    </tr>\n",
              "    <tr>\n",
              "      <th>1</th>\n",
              "      <td>2022-01-01</td>\n",
              "      <td>1</td>\n",
              "      <td>Terminal Antônio Bezerra</td>\n",
              "      <td>5</td>\n",
              "      <td>Vale-transporte (vermelho)</td>\n",
              "      <td>2</td>\n",
              "    </tr>\n",
              "    <tr>\n",
              "      <th>2</th>\n",
              "      <td>2022-01-01</td>\n",
              "      <td>1</td>\n",
              "      <td>Terminal Antônio Bezerra</td>\n",
              "      <td>11</td>\n",
              "      <td>Idoso Identificação</td>\n",
              "      <td>97</td>\n",
              "    </tr>\n",
              "    <tr>\n",
              "      <th>3</th>\n",
              "      <td>2022-01-01</td>\n",
              "      <td>1</td>\n",
              "      <td>Terminal Antônio Bezerra</td>\n",
              "      <td>12</td>\n",
              "      <td>Estudante com débito</td>\n",
              "      <td>873</td>\n",
              "    </tr>\n",
              "    <tr>\n",
              "      <th>4</th>\n",
              "      <td>2022-01-01</td>\n",
              "      <td>1</td>\n",
              "      <td>Terminal Antônio Bezerra</td>\n",
              "      <td>16</td>\n",
              "      <td>Grat. Deficiente - S/Acomp</td>\n",
              "      <td>4</td>\n",
              "    </tr>\n",
              "    <tr>\n",
              "      <th>...</th>\n",
              "      <td>...</td>\n",
              "      <td>...</td>\n",
              "      <td>...</td>\n",
              "      <td>...</td>\n",
              "      <td>...</td>\n",
              "      <td>...</td>\n",
              "    </tr>\n",
              "    <tr>\n",
              "      <th>80543</th>\n",
              "      <td>2022-02-28</td>\n",
              "      <td>920</td>\n",
              "      <td>Papicu/Caça e Pesca</td>\n",
              "      <td>32</td>\n",
              "      <td>Gratuidade Infantil</td>\n",
              "      <td>1</td>\n",
              "    </tr>\n",
              "    <tr>\n",
              "      <th>80544</th>\n",
              "      <td>2022-02-28</td>\n",
              "      <td>920</td>\n",
              "      <td>Papicu/Caça e Pesca</td>\n",
              "      <td>37</td>\n",
              "      <td>VT Beneficio Piloto BUM</td>\n",
              "      <td>2</td>\n",
              "    </tr>\n",
              "    <tr>\n",
              "      <th>80545</th>\n",
              "      <td>2022-02-28</td>\n",
              "      <td>999</td>\n",
              "      <td>Quilometragem/Terminal</td>\n",
              "      <td>4</td>\n",
              "      <td>Gratuidade Idoso</td>\n",
              "      <td>2</td>\n",
              "    </tr>\n",
              "    <tr>\n",
              "      <th>80546</th>\n",
              "      <td>2022-02-28</td>\n",
              "      <td>999</td>\n",
              "      <td>Quilometragem/Terminal</td>\n",
              "      <td>11</td>\n",
              "      <td>Idoso Identificação</td>\n",
              "      <td>15</td>\n",
              "    </tr>\n",
              "    <tr>\n",
              "      <th>80547</th>\n",
              "      <td>2022-02-28</td>\n",
              "      <td>999</td>\n",
              "      <td>Quilometragem/Terminal</td>\n",
              "      <td>12</td>\n",
              "      <td>Estudante com débito</td>\n",
              "      <td>1</td>\n",
              "    </tr>\n",
              "  </tbody>\n",
              "</table>\n",
              "<p>166462 rows × 6 columns</p>\n",
              "</div>\n",
              "      <button class=\"colab-df-convert\" onclick=\"convertToInteractive('df-82eed466-5495-41c0-8696-e234f2baa920')\"\n",
              "              title=\"Convert this dataframe to an interactive table.\"\n",
              "              style=\"display:none;\">\n",
              "        \n",
              "  <svg xmlns=\"http://www.w3.org/2000/svg\" height=\"24px\"viewBox=\"0 0 24 24\"\n",
              "       width=\"24px\">\n",
              "    <path d=\"M0 0h24v24H0V0z\" fill=\"none\"/>\n",
              "    <path d=\"M18.56 5.44l.94 2.06.94-2.06 2.06-.94-2.06-.94-.94-2.06-.94 2.06-2.06.94zm-11 1L8.5 8.5l.94-2.06 2.06-.94-2.06-.94L8.5 2.5l-.94 2.06-2.06.94zm10 10l.94 2.06.94-2.06 2.06-.94-2.06-.94-.94-2.06-.94 2.06-2.06.94z\"/><path d=\"M17.41 7.96l-1.37-1.37c-.4-.4-.92-.59-1.43-.59-.52 0-1.04.2-1.43.59L10.3 9.45l-7.72 7.72c-.78.78-.78 2.05 0 2.83L4 21.41c.39.39.9.59 1.41.59.51 0 1.02-.2 1.41-.59l7.78-7.78 2.81-2.81c.8-.78.8-2.07 0-2.86zM5.41 20L4 18.59l7.72-7.72 1.47 1.35L5.41 20z\"/>\n",
              "  </svg>\n",
              "      </button>\n",
              "      \n",
              "  <style>\n",
              "    .colab-df-container {\n",
              "      display:flex;\n",
              "      flex-wrap:wrap;\n",
              "      gap: 12px;\n",
              "    }\n",
              "\n",
              "    .colab-df-convert {\n",
              "      background-color: #E8F0FE;\n",
              "      border: none;\n",
              "      border-radius: 50%;\n",
              "      cursor: pointer;\n",
              "      display: none;\n",
              "      fill: #1967D2;\n",
              "      height: 32px;\n",
              "      padding: 0 0 0 0;\n",
              "      width: 32px;\n",
              "    }\n",
              "\n",
              "    .colab-df-convert:hover {\n",
              "      background-color: #E2EBFA;\n",
              "      box-shadow: 0px 1px 2px rgba(60, 64, 67, 0.3), 0px 1px 3px 1px rgba(60, 64, 67, 0.15);\n",
              "      fill: #174EA6;\n",
              "    }\n",
              "\n",
              "    [theme=dark] .colab-df-convert {\n",
              "      background-color: #3B4455;\n",
              "      fill: #D2E3FC;\n",
              "    }\n",
              "\n",
              "    [theme=dark] .colab-df-convert:hover {\n",
              "      background-color: #434B5C;\n",
              "      box-shadow: 0px 1px 3px 1px rgba(0, 0, 0, 0.15);\n",
              "      filter: drop-shadow(0px 1px 2px rgba(0, 0, 0, 0.3));\n",
              "      fill: #FFFFFF;\n",
              "    }\n",
              "  </style>\n",
              "\n",
              "      <script>\n",
              "        const buttonEl =\n",
              "          document.querySelector('#df-82eed466-5495-41c0-8696-e234f2baa920 button.colab-df-convert');\n",
              "        buttonEl.style.display =\n",
              "          google.colab.kernel.accessAllowed ? 'block' : 'none';\n",
              "\n",
              "        async function convertToInteractive(key) {\n",
              "          const element = document.querySelector('#df-82eed466-5495-41c0-8696-e234f2baa920');\n",
              "          const dataTable =\n",
              "            await google.colab.kernel.invokeFunction('convertToInteractive',\n",
              "                                                     [key], {});\n",
              "          if (!dataTable) return;\n",
              "\n",
              "          const docLinkHtml = 'Like what you see? Visit the ' +\n",
              "            '<a target=\"_blank\" href=https://colab.research.google.com/notebooks/data_table.ipynb>data table notebook</a>'\n",
              "            + ' to learn more about interactive tables.';\n",
              "          element.innerHTML = '';\n",
              "          dataTable['output_type'] = 'display_data';\n",
              "          await google.colab.output.renderOutput(dataTable, element);\n",
              "          const docLink = document.createElement('div');\n",
              "          docLink.innerHTML = docLinkHtml;\n",
              "          element.appendChild(docLink);\n",
              "        }\n",
              "      </script>\n",
              "    </div>\n",
              "  </div>\n",
              "  "
            ]
          },
          "metadata": {},
          "execution_count": 40
        }
      ],
      "source": [
        "demanda"
      ]
    },
    {
      "cell_type": "code",
      "execution_count": 41,
      "metadata": {
        "colab": {
          "base_uri": "https://localhost:8080/",
          "height": 424
        },
        "id": "wJ0jNyx6fMWQ",
        "outputId": "1450a190-3ba2-4341-e3e3-0eca5959d453"
      },
      "outputs": [
        {
          "output_type": "execute_result",
          "data": {
            "text/plain": [
              "             Data   ID                                      Nome  \\\n",
              "0      2022-01-01    1  Terminal Antônio Bezerra                   \n",
              "1      2022-01-01    1  Terminal Antônio Bezerra                   \n",
              "2      2022-01-01    1  Terminal Antônio Bezerra                   \n",
              "3      2022-01-01    1  Terminal Antônio Bezerra                   \n",
              "4      2022-01-01    1  Terminal Antônio Bezerra                   \n",
              "...           ...  ...                                       ...   \n",
              "53748  2022-01-20  349  Cj Veneza Tropical/Mirasol II              \n",
              "53749  2022-01-20  350  Av. José Bastos/Lagoa                      \n",
              "53750  2022-01-20  350  Av. José Bastos/Lagoa                      \n",
              "53751  2022-01-20  350  Av. José Bastos/Lagoa                      \n",
              "53752  2022-01-20  350  Av. José Bastos/Lagoa                      \n",
              "\n",
              "       ID Passageiro             Tipo Passageiro  Quantidade  \n",
              "0                  4            Gratuidade Idoso         666  \n",
              "1                  5  Vale-transporte (vermelho)           2  \n",
              "2                 11         Idoso Identificação          97  \n",
              "3                 12        Estudante com débito         873  \n",
              "4                 16  Grat. Deficiente - S/Acomp           4  \n",
              "...              ...                         ...         ...  \n",
              "53748             37     VT Beneficio Piloto BUM           1  \n",
              "53749              3                   Estudante          13  \n",
              "53750              4            Gratuidade Idoso         447  \n",
              "53751              5  Vale-transporte (vermelho)           3  \n",
              "53752              6             Crachá Empresas           1  \n",
              "\n",
              "[53731 rows x 6 columns]"
            ],
            "text/html": [
              "\n",
              "  <div id=\"df-1b8df584-4220-450f-ab94-e433e2b4e36b\">\n",
              "    <div class=\"colab-df-container\">\n",
              "      <div>\n",
              "<style scoped>\n",
              "    .dataframe tbody tr th:only-of-type {\n",
              "        vertical-align: middle;\n",
              "    }\n",
              "\n",
              "    .dataframe tbody tr th {\n",
              "        vertical-align: top;\n",
              "    }\n",
              "\n",
              "    .dataframe thead th {\n",
              "        text-align: right;\n",
              "    }\n",
              "</style>\n",
              "<table border=\"1\" class=\"dataframe\">\n",
              "  <thead>\n",
              "    <tr style=\"text-align: right;\">\n",
              "      <th></th>\n",
              "      <th>Data</th>\n",
              "      <th>ID</th>\n",
              "      <th>Nome</th>\n",
              "      <th>ID Passageiro</th>\n",
              "      <th>Tipo Passageiro</th>\n",
              "      <th>Quantidade</th>\n",
              "    </tr>\n",
              "  </thead>\n",
              "  <tbody>\n",
              "    <tr>\n",
              "      <th>0</th>\n",
              "      <td>2022-01-01</td>\n",
              "      <td>1</td>\n",
              "      <td>Terminal Antônio Bezerra</td>\n",
              "      <td>4</td>\n",
              "      <td>Gratuidade Idoso</td>\n",
              "      <td>666</td>\n",
              "    </tr>\n",
              "    <tr>\n",
              "      <th>1</th>\n",
              "      <td>2022-01-01</td>\n",
              "      <td>1</td>\n",
              "      <td>Terminal Antônio Bezerra</td>\n",
              "      <td>5</td>\n",
              "      <td>Vale-transporte (vermelho)</td>\n",
              "      <td>2</td>\n",
              "    </tr>\n",
              "    <tr>\n",
              "      <th>2</th>\n",
              "      <td>2022-01-01</td>\n",
              "      <td>1</td>\n",
              "      <td>Terminal Antônio Bezerra</td>\n",
              "      <td>11</td>\n",
              "      <td>Idoso Identificação</td>\n",
              "      <td>97</td>\n",
              "    </tr>\n",
              "    <tr>\n",
              "      <th>3</th>\n",
              "      <td>2022-01-01</td>\n",
              "      <td>1</td>\n",
              "      <td>Terminal Antônio Bezerra</td>\n",
              "      <td>12</td>\n",
              "      <td>Estudante com débito</td>\n",
              "      <td>873</td>\n",
              "    </tr>\n",
              "    <tr>\n",
              "      <th>4</th>\n",
              "      <td>2022-01-01</td>\n",
              "      <td>1</td>\n",
              "      <td>Terminal Antônio Bezerra</td>\n",
              "      <td>16</td>\n",
              "      <td>Grat. Deficiente - S/Acomp</td>\n",
              "      <td>4</td>\n",
              "    </tr>\n",
              "    <tr>\n",
              "      <th>...</th>\n",
              "      <td>...</td>\n",
              "      <td>...</td>\n",
              "      <td>...</td>\n",
              "      <td>...</td>\n",
              "      <td>...</td>\n",
              "      <td>...</td>\n",
              "    </tr>\n",
              "    <tr>\n",
              "      <th>53748</th>\n",
              "      <td>2022-01-20</td>\n",
              "      <td>349</td>\n",
              "      <td>Cj Veneza Tropical/Mirasol II</td>\n",
              "      <td>37</td>\n",
              "      <td>VT Beneficio Piloto BUM</td>\n",
              "      <td>1</td>\n",
              "    </tr>\n",
              "    <tr>\n",
              "      <th>53749</th>\n",
              "      <td>2022-01-20</td>\n",
              "      <td>350</td>\n",
              "      <td>Av. José Bastos/Lagoa</td>\n",
              "      <td>3</td>\n",
              "      <td>Estudante</td>\n",
              "      <td>13</td>\n",
              "    </tr>\n",
              "    <tr>\n",
              "      <th>53750</th>\n",
              "      <td>2022-01-20</td>\n",
              "      <td>350</td>\n",
              "      <td>Av. José Bastos/Lagoa</td>\n",
              "      <td>4</td>\n",
              "      <td>Gratuidade Idoso</td>\n",
              "      <td>447</td>\n",
              "    </tr>\n",
              "    <tr>\n",
              "      <th>53751</th>\n",
              "      <td>2022-01-20</td>\n",
              "      <td>350</td>\n",
              "      <td>Av. José Bastos/Lagoa</td>\n",
              "      <td>5</td>\n",
              "      <td>Vale-transporte (vermelho)</td>\n",
              "      <td>3</td>\n",
              "    </tr>\n",
              "    <tr>\n",
              "      <th>53752</th>\n",
              "      <td>2022-01-20</td>\n",
              "      <td>350</td>\n",
              "      <td>Av. José Bastos/Lagoa</td>\n",
              "      <td>6</td>\n",
              "      <td>Crachá Empresas</td>\n",
              "      <td>1</td>\n",
              "    </tr>\n",
              "  </tbody>\n",
              "</table>\n",
              "<p>53731 rows × 6 columns</p>\n",
              "</div>\n",
              "      <button class=\"colab-df-convert\" onclick=\"convertToInteractive('df-1b8df584-4220-450f-ab94-e433e2b4e36b')\"\n",
              "              title=\"Convert this dataframe to an interactive table.\"\n",
              "              style=\"display:none;\">\n",
              "        \n",
              "  <svg xmlns=\"http://www.w3.org/2000/svg\" height=\"24px\"viewBox=\"0 0 24 24\"\n",
              "       width=\"24px\">\n",
              "    <path d=\"M0 0h24v24H0V0z\" fill=\"none\"/>\n",
              "    <path d=\"M18.56 5.44l.94 2.06.94-2.06 2.06-.94-2.06-.94-.94-2.06-.94 2.06-2.06.94zm-11 1L8.5 8.5l.94-2.06 2.06-.94-2.06-.94L8.5 2.5l-.94 2.06-2.06.94zm10 10l.94 2.06.94-2.06 2.06-.94-2.06-.94-.94-2.06-.94 2.06-2.06.94z\"/><path d=\"M17.41 7.96l-1.37-1.37c-.4-.4-.92-.59-1.43-.59-.52 0-1.04.2-1.43.59L10.3 9.45l-7.72 7.72c-.78.78-.78 2.05 0 2.83L4 21.41c.39.39.9.59 1.41.59.51 0 1.02-.2 1.41-.59l7.78-7.78 2.81-2.81c.8-.78.8-2.07 0-2.86zM5.41 20L4 18.59l7.72-7.72 1.47 1.35L5.41 20z\"/>\n",
              "  </svg>\n",
              "      </button>\n",
              "      \n",
              "  <style>\n",
              "    .colab-df-container {\n",
              "      display:flex;\n",
              "      flex-wrap:wrap;\n",
              "      gap: 12px;\n",
              "    }\n",
              "\n",
              "    .colab-df-convert {\n",
              "      background-color: #E8F0FE;\n",
              "      border: none;\n",
              "      border-radius: 50%;\n",
              "      cursor: pointer;\n",
              "      display: none;\n",
              "      fill: #1967D2;\n",
              "      height: 32px;\n",
              "      padding: 0 0 0 0;\n",
              "      width: 32px;\n",
              "    }\n",
              "\n",
              "    .colab-df-convert:hover {\n",
              "      background-color: #E2EBFA;\n",
              "      box-shadow: 0px 1px 2px rgba(60, 64, 67, 0.3), 0px 1px 3px 1px rgba(60, 64, 67, 0.15);\n",
              "      fill: #174EA6;\n",
              "    }\n",
              "\n",
              "    [theme=dark] .colab-df-convert {\n",
              "      background-color: #3B4455;\n",
              "      fill: #D2E3FC;\n",
              "    }\n",
              "\n",
              "    [theme=dark] .colab-df-convert:hover {\n",
              "      background-color: #434B5C;\n",
              "      box-shadow: 0px 1px 3px 1px rgba(0, 0, 0, 0.15);\n",
              "      filter: drop-shadow(0px 1px 2px rgba(0, 0, 0, 0.3));\n",
              "      fill: #FFFFFF;\n",
              "    }\n",
              "  </style>\n",
              "\n",
              "      <script>\n",
              "        const buttonEl =\n",
              "          document.querySelector('#df-1b8df584-4220-450f-ab94-e433e2b4e36b button.colab-df-convert');\n",
              "        buttonEl.style.display =\n",
              "          google.colab.kernel.accessAllowed ? 'block' : 'none';\n",
              "\n",
              "        async function convertToInteractive(key) {\n",
              "          const element = document.querySelector('#df-1b8df584-4220-450f-ab94-e433e2b4e36b');\n",
              "          const dataTable =\n",
              "            await google.colab.kernel.invokeFunction('convertToInteractive',\n",
              "                                                     [key], {});\n",
              "          if (!dataTable) return;\n",
              "\n",
              "          const docLinkHtml = 'Like what you see? Visit the ' +\n",
              "            '<a target=\"_blank\" href=https://colab.research.google.com/notebooks/data_table.ipynb>data table notebook</a>'\n",
              "            + ' to learn more about interactive tables.';\n",
              "          element.innerHTML = '';\n",
              "          dataTable['output_type'] = 'display_data';\n",
              "          await google.colab.output.renderOutput(dataTable, element);\n",
              "          const docLink = document.createElement('div');\n",
              "          docLink.innerHTML = docLinkHtml;\n",
              "          element.appendChild(docLink);\n",
              "        }\n",
              "      </script>\n",
              "    </div>\n",
              "  </div>\n",
              "  "
            ]
          },
          "metadata": {},
          "execution_count": 41
        }
      ],
      "source": [
        "demanda.head(53731)"
      ]
    },
    {
      "cell_type": "markdown",
      "metadata": {
        "id": "B2jDLQ6Vfv9h"
      },
      "source": [
        "Percebi aqui, que juntou-se os dataframes, mas o índice não é um só, ele volta pro 0 ao chegar na primeira linha do segundo dataframe"
      ]
    },
    {
      "cell_type": "code",
      "execution_count": 42,
      "metadata": {
        "id": "wMvYfLrVf5v1"
      },
      "outputs": [],
      "source": [
        "demanda_2 = pd.merge(demanda_jan,dem_fev,how=\"outer\")"
      ]
    },
    {
      "cell_type": "code",
      "execution_count": 43,
      "metadata": {
        "colab": {
          "base_uri": "https://localhost:8080/"
        },
        "id": "N44mF59-gjzU",
        "outputId": "53657f75-f463-404d-bb3e-3e7b20a41e88"
      },
      "outputs": [
        {
          "output_type": "execute_result",
          "data": {
            "text/plain": [
              "Data               0\n",
              "ID                 0\n",
              "Nome               0\n",
              "ID Passageiro      0\n",
              "Tipo Passageiro    0\n",
              "Quantidade         0\n",
              "dtype: int64"
            ]
          },
          "metadata": {},
          "execution_count": 43
        }
      ],
      "source": [
        "demanda_2.isna().sum()"
      ]
    },
    {
      "cell_type": "code",
      "execution_count": 44,
      "metadata": {
        "colab": {
          "base_uri": "https://localhost:8080/",
          "height": 424
        },
        "id": "isaegKnDgm_7",
        "outputId": "8066072a-8f23-4904-904c-29677595d241"
      },
      "outputs": [
        {
          "output_type": "execute_result",
          "data": {
            "text/plain": [
              "              Data   ID                                      Nome  \\\n",
              "0       2022-01-01    1  Terminal Antônio Bezerra                   \n",
              "1       2022-01-01    1  Terminal Antônio Bezerra                   \n",
              "2       2022-01-01    1  Terminal Antônio Bezerra                   \n",
              "3       2022-01-01    1  Terminal Antônio Bezerra                   \n",
              "4       2022-01-01    1  Terminal Antônio Bezerra                   \n",
              "...            ...  ...                                       ...   \n",
              "166457  2022-02-28  920  Papicu/Caça e Pesca                        \n",
              "166458  2022-02-28  920  Papicu/Caça e Pesca                        \n",
              "166459  2022-02-28  999  Quilometragem/Terminal                     \n",
              "166460  2022-02-28  999  Quilometragem/Terminal                     \n",
              "166461  2022-02-28  999  Quilometragem/Terminal                     \n",
              "\n",
              "        ID Passageiro             Tipo Passageiro  Quantidade  \n",
              "0                   4            Gratuidade Idoso         666  \n",
              "1                   5  Vale-transporte (vermelho)           2  \n",
              "2                  11         Idoso Identificação          97  \n",
              "3                  12        Estudante com débito         873  \n",
              "4                  16  Grat. Deficiente - S/Acomp           4  \n",
              "...               ...                         ...         ...  \n",
              "166457             32         Gratuidade Infantil           1  \n",
              "166458             37     VT Beneficio Piloto BUM           2  \n",
              "166459              4            Gratuidade Idoso           2  \n",
              "166460             11         Idoso Identificação          15  \n",
              "166461             12        Estudante com débito           1  \n",
              "\n",
              "[166462 rows x 6 columns]"
            ],
            "text/html": [
              "\n",
              "  <div id=\"df-d4e360a1-ac10-416f-abeb-eb4430abbea5\">\n",
              "    <div class=\"colab-df-container\">\n",
              "      <div>\n",
              "<style scoped>\n",
              "    .dataframe tbody tr th:only-of-type {\n",
              "        vertical-align: middle;\n",
              "    }\n",
              "\n",
              "    .dataframe tbody tr th {\n",
              "        vertical-align: top;\n",
              "    }\n",
              "\n",
              "    .dataframe thead th {\n",
              "        text-align: right;\n",
              "    }\n",
              "</style>\n",
              "<table border=\"1\" class=\"dataframe\">\n",
              "  <thead>\n",
              "    <tr style=\"text-align: right;\">\n",
              "      <th></th>\n",
              "      <th>Data</th>\n",
              "      <th>ID</th>\n",
              "      <th>Nome</th>\n",
              "      <th>ID Passageiro</th>\n",
              "      <th>Tipo Passageiro</th>\n",
              "      <th>Quantidade</th>\n",
              "    </tr>\n",
              "  </thead>\n",
              "  <tbody>\n",
              "    <tr>\n",
              "      <th>0</th>\n",
              "      <td>2022-01-01</td>\n",
              "      <td>1</td>\n",
              "      <td>Terminal Antônio Bezerra</td>\n",
              "      <td>4</td>\n",
              "      <td>Gratuidade Idoso</td>\n",
              "      <td>666</td>\n",
              "    </tr>\n",
              "    <tr>\n",
              "      <th>1</th>\n",
              "      <td>2022-01-01</td>\n",
              "      <td>1</td>\n",
              "      <td>Terminal Antônio Bezerra</td>\n",
              "      <td>5</td>\n",
              "      <td>Vale-transporte (vermelho)</td>\n",
              "      <td>2</td>\n",
              "    </tr>\n",
              "    <tr>\n",
              "      <th>2</th>\n",
              "      <td>2022-01-01</td>\n",
              "      <td>1</td>\n",
              "      <td>Terminal Antônio Bezerra</td>\n",
              "      <td>11</td>\n",
              "      <td>Idoso Identificação</td>\n",
              "      <td>97</td>\n",
              "    </tr>\n",
              "    <tr>\n",
              "      <th>3</th>\n",
              "      <td>2022-01-01</td>\n",
              "      <td>1</td>\n",
              "      <td>Terminal Antônio Bezerra</td>\n",
              "      <td>12</td>\n",
              "      <td>Estudante com débito</td>\n",
              "      <td>873</td>\n",
              "    </tr>\n",
              "    <tr>\n",
              "      <th>4</th>\n",
              "      <td>2022-01-01</td>\n",
              "      <td>1</td>\n",
              "      <td>Terminal Antônio Bezerra</td>\n",
              "      <td>16</td>\n",
              "      <td>Grat. Deficiente - S/Acomp</td>\n",
              "      <td>4</td>\n",
              "    </tr>\n",
              "    <tr>\n",
              "      <th>...</th>\n",
              "      <td>...</td>\n",
              "      <td>...</td>\n",
              "      <td>...</td>\n",
              "      <td>...</td>\n",
              "      <td>...</td>\n",
              "      <td>...</td>\n",
              "    </tr>\n",
              "    <tr>\n",
              "      <th>166457</th>\n",
              "      <td>2022-02-28</td>\n",
              "      <td>920</td>\n",
              "      <td>Papicu/Caça e Pesca</td>\n",
              "      <td>32</td>\n",
              "      <td>Gratuidade Infantil</td>\n",
              "      <td>1</td>\n",
              "    </tr>\n",
              "    <tr>\n",
              "      <th>166458</th>\n",
              "      <td>2022-02-28</td>\n",
              "      <td>920</td>\n",
              "      <td>Papicu/Caça e Pesca</td>\n",
              "      <td>37</td>\n",
              "      <td>VT Beneficio Piloto BUM</td>\n",
              "      <td>2</td>\n",
              "    </tr>\n",
              "    <tr>\n",
              "      <th>166459</th>\n",
              "      <td>2022-02-28</td>\n",
              "      <td>999</td>\n",
              "      <td>Quilometragem/Terminal</td>\n",
              "      <td>4</td>\n",
              "      <td>Gratuidade Idoso</td>\n",
              "      <td>2</td>\n",
              "    </tr>\n",
              "    <tr>\n",
              "      <th>166460</th>\n",
              "      <td>2022-02-28</td>\n",
              "      <td>999</td>\n",
              "      <td>Quilometragem/Terminal</td>\n",
              "      <td>11</td>\n",
              "      <td>Idoso Identificação</td>\n",
              "      <td>15</td>\n",
              "    </tr>\n",
              "    <tr>\n",
              "      <th>166461</th>\n",
              "      <td>2022-02-28</td>\n",
              "      <td>999</td>\n",
              "      <td>Quilometragem/Terminal</td>\n",
              "      <td>12</td>\n",
              "      <td>Estudante com débito</td>\n",
              "      <td>1</td>\n",
              "    </tr>\n",
              "  </tbody>\n",
              "</table>\n",
              "<p>166462 rows × 6 columns</p>\n",
              "</div>\n",
              "      <button class=\"colab-df-convert\" onclick=\"convertToInteractive('df-d4e360a1-ac10-416f-abeb-eb4430abbea5')\"\n",
              "              title=\"Convert this dataframe to an interactive table.\"\n",
              "              style=\"display:none;\">\n",
              "        \n",
              "  <svg xmlns=\"http://www.w3.org/2000/svg\" height=\"24px\"viewBox=\"0 0 24 24\"\n",
              "       width=\"24px\">\n",
              "    <path d=\"M0 0h24v24H0V0z\" fill=\"none\"/>\n",
              "    <path d=\"M18.56 5.44l.94 2.06.94-2.06 2.06-.94-2.06-.94-.94-2.06-.94 2.06-2.06.94zm-11 1L8.5 8.5l.94-2.06 2.06-.94-2.06-.94L8.5 2.5l-.94 2.06-2.06.94zm10 10l.94 2.06.94-2.06 2.06-.94-2.06-.94-.94-2.06-.94 2.06-2.06.94z\"/><path d=\"M17.41 7.96l-1.37-1.37c-.4-.4-.92-.59-1.43-.59-.52 0-1.04.2-1.43.59L10.3 9.45l-7.72 7.72c-.78.78-.78 2.05 0 2.83L4 21.41c.39.39.9.59 1.41.59.51 0 1.02-.2 1.41-.59l7.78-7.78 2.81-2.81c.8-.78.8-2.07 0-2.86zM5.41 20L4 18.59l7.72-7.72 1.47 1.35L5.41 20z\"/>\n",
              "  </svg>\n",
              "      </button>\n",
              "      \n",
              "  <style>\n",
              "    .colab-df-container {\n",
              "      display:flex;\n",
              "      flex-wrap:wrap;\n",
              "      gap: 12px;\n",
              "    }\n",
              "\n",
              "    .colab-df-convert {\n",
              "      background-color: #E8F0FE;\n",
              "      border: none;\n",
              "      border-radius: 50%;\n",
              "      cursor: pointer;\n",
              "      display: none;\n",
              "      fill: #1967D2;\n",
              "      height: 32px;\n",
              "      padding: 0 0 0 0;\n",
              "      width: 32px;\n",
              "    }\n",
              "\n",
              "    .colab-df-convert:hover {\n",
              "      background-color: #E2EBFA;\n",
              "      box-shadow: 0px 1px 2px rgba(60, 64, 67, 0.3), 0px 1px 3px 1px rgba(60, 64, 67, 0.15);\n",
              "      fill: #174EA6;\n",
              "    }\n",
              "\n",
              "    [theme=dark] .colab-df-convert {\n",
              "      background-color: #3B4455;\n",
              "      fill: #D2E3FC;\n",
              "    }\n",
              "\n",
              "    [theme=dark] .colab-df-convert:hover {\n",
              "      background-color: #434B5C;\n",
              "      box-shadow: 0px 1px 3px 1px rgba(0, 0, 0, 0.15);\n",
              "      filter: drop-shadow(0px 1px 2px rgba(0, 0, 0, 0.3));\n",
              "      fill: #FFFFFF;\n",
              "    }\n",
              "  </style>\n",
              "\n",
              "      <script>\n",
              "        const buttonEl =\n",
              "          document.querySelector('#df-d4e360a1-ac10-416f-abeb-eb4430abbea5 button.colab-df-convert');\n",
              "        buttonEl.style.display =\n",
              "          google.colab.kernel.accessAllowed ? 'block' : 'none';\n",
              "\n",
              "        async function convertToInteractive(key) {\n",
              "          const element = document.querySelector('#df-d4e360a1-ac10-416f-abeb-eb4430abbea5');\n",
              "          const dataTable =\n",
              "            await google.colab.kernel.invokeFunction('convertToInteractive',\n",
              "                                                     [key], {});\n",
              "          if (!dataTable) return;\n",
              "\n",
              "          const docLinkHtml = 'Like what you see? Visit the ' +\n",
              "            '<a target=\"_blank\" href=https://colab.research.google.com/notebooks/data_table.ipynb>data table notebook</a>'\n",
              "            + ' to learn more about interactive tables.';\n",
              "          element.innerHTML = '';\n",
              "          dataTable['output_type'] = 'display_data';\n",
              "          await google.colab.output.renderOutput(dataTable, element);\n",
              "          const docLink = document.createElement('div');\n",
              "          docLink.innerHTML = docLinkHtml;\n",
              "          element.appendChild(docLink);\n",
              "        }\n",
              "      </script>\n",
              "    </div>\n",
              "  </div>\n",
              "  "
            ]
          },
          "metadata": {},
          "execution_count": 44
        }
      ],
      "source": [
        "demanda_2"
      ]
    },
    {
      "cell_type": "markdown",
      "metadata": {
        "id": "vM88-x_6gtcz"
      },
      "source": [
        "Aprendemos então que o merge une os dois dataframes incluindo o índice e o concat apenas cola os dois dataframes."
      ]
    },
    {
      "cell_type": "markdown",
      "metadata": {
        "id": "3leBWB4yMhQQ"
      },
      "source": [
        "# 2) Quais as 5  linhas de ônibus de Fortaleza que mais passam passageiros nos dias da semana?"
      ]
    },
    {
      "cell_type": "code",
      "execution_count": 45,
      "metadata": {
        "colab": {
          "base_uri": "https://localhost:8080/"
        },
        "id": "Z_40_tEtinSd",
        "outputId": "25032278-1ec4-4ac2-a24c-4c974f9eab5f"
      },
      "outputs": [
        {
          "output_type": "stream",
          "name": "stdout",
          "text": [
            "<class 'pandas.core.series.Series'>\n"
          ]
        }
      ],
      "source": [
        "qtd = demanda_2.groupby(\"ID\").sum()[\"Quantidade\"]\n",
        "print(type(qtd))\n",
        "ranking = demanda_2.groupby(\"ID\").sum()[\"Quantidade\"].rank(method=\"max\")"
      ]
    },
    {
      "cell_type": "code",
      "execution_count": 46,
      "metadata": {
        "colab": {
          "base_uri": "https://localhost:8080/"
        },
        "id": "Tux0iONZtU5y",
        "outputId": "18dc89ca-ba2b-471b-d234-d9fd89417902"
      },
      "outputs": [
        {
          "output_type": "execute_result",
          "data": {
            "text/plain": [
              "ID\n",
              "1      236709\n",
              "2       25848\n",
              "3      494176\n",
              "4       77783\n",
              "5       60809\n",
              "        ...  \n",
              "906    201328\n",
              "907     51724\n",
              "913     65482\n",
              "920    124091\n",
              "999      3564\n",
              "Name: Quantidade, Length: 324, dtype: int64"
            ]
          },
          "metadata": {},
          "execution_count": 46
        }
      ],
      "source": [
        "qtd"
      ]
    },
    {
      "cell_type": "markdown",
      "metadata": {
        "id": "mrAqUYaSq2Ot"
      },
      "source": [
        "### COMO FOI O PROCESSO?\n",
        "Travei um pouco em como fazer, mas usei o groupby pra juntar tudo baseado no ID, com a função de soma, depois, baseado na coluna quantidade usei o comando rank para determinar quem tinha mais ou menos demanda."
      ]
    },
    {
      "cell_type": "code",
      "execution_count": 47,
      "metadata": {
        "colab": {
          "base_uri": "https://localhost:8080/"
        },
        "id": "ESrxkq6moTfQ",
        "outputId": "e4e4cc27-88a4-4617-a9d4-848b65eca4ea"
      },
      "outputs": [
        {
          "output_type": "execute_result",
          "data": {
            "text/plain": [
              "ID\n",
              "20       1.0\n",
              "40       2.0\n",
              "774      3.0\n",
              "95       4.0\n",
              "326      5.0\n",
              "       ...  \n",
              "42     320.0\n",
              "712    321.0\n",
              "76     322.0\n",
              "41     323.0\n",
              "3      324.0\n",
              "Name: Quantidade, Length: 324, dtype: float64"
            ]
          },
          "metadata": {},
          "execution_count": 47
        }
      ],
      "source": [
        "ranking.sort_values()"
      ]
    },
    {
      "cell_type": "markdown",
      "metadata": {
        "id": "4Vo8yAjBrJSb"
      },
      "source": [
        "Depois rodei esse sort_values, me assustei com o resultado porque deu coincidentemente o Campus do Pici como o mais lotado. Mas, NINGUÉM PASSA NA CATRACA DO CAMPUS DO PICI. Percebi então que a coluna estava do menor para o maior, então devemos usar o argumento ascending"
      ]
    },
    {
      "cell_type": "code",
      "execution_count": 48,
      "metadata": {
        "colab": {
          "base_uri": "https://localhost:8080/"
        },
        "id": "h39albvZqElb",
        "outputId": "a94f72c3-1a40-4169-c1b7-006e6d050566"
      },
      "outputs": [
        {
          "output_type": "execute_result",
          "data": {
            "text/plain": [
              "ID\n",
              "3      324.0\n",
              "41     323.0\n",
              "76     322.0\n",
              "712    321.0\n",
              "42     320.0\n",
              "74     319.0\n",
              "Name: Quantidade, dtype: float64"
            ]
          },
          "metadata": {},
          "execution_count": 48
        }
      ],
      "source": [
        "ranking.sort_values(ascending=False).head(6)"
      ]
    },
    {
      "cell_type": "markdown",
      "metadata": {
        "id": "9YPIY_tw1x9M"
      },
      "source": [
        "Agora sim, temos o ranking na ordem correta. Agora é só ver quais linhas se referem os index.\n",
        "\n",
        "**DÚVIDA: COMO FAZER ISSO MAIS PYTHONICO?**"
      ]
    },
    {
      "cell_type": "code",
      "execution_count": 49,
      "metadata": {
        "colab": {
          "base_uri": "https://localhost:8080/"
        },
        "id": "ilpCC50vjq9L",
        "outputId": "80e7b1a7-6f5a-42c4-c793-011617cde592"
      },
      "outputs": [
        {
          "output_type": "execute_result",
          "data": {
            "text/plain": [
              "12        Terminal Parangaba I                    \n",
              "13        Terminal Parangaba I                    \n",
              "14        Terminal Parangaba I                    \n",
              "15        Terminal Parangaba I                    \n",
              "16        Terminal Parangaba I                    \n",
              "                            ...                   \n",
              "163605    Terminal Parangaba I                    \n",
              "163606    Terminal Parangaba I                    \n",
              "163607    Terminal Parangaba I                    \n",
              "163608    Terminal Parangaba I                    \n",
              "163609    Terminal Parangaba I                    \n",
              "Name: Nome, Length: 766, dtype: object"
            ]
          },
          "metadata": {},
          "execution_count": 49
        }
      ],
      "source": [
        "demanda_2.loc[demanda_2[\"ID\"]==3][\"Nome\"]"
      ]
    },
    {
      "cell_type": "code",
      "execution_count": 50,
      "metadata": {
        "colab": {
          "base_uri": "https://localhost:8080/",
          "height": 424
        },
        "id": "im2N8-bxrn-p",
        "outputId": "001e2e28-1a13-499c-c534-d2189fece882"
      },
      "outputs": [
        {
          "output_type": "execute_result",
          "data": {
            "text/plain": [
              "              Data  ID                                      Nome  \\\n",
              "220     2022-01-01  41  Parangaba/Oliveira Paiva/Papicu            \n",
              "221     2022-01-01  41  Parangaba/Oliveira Paiva/Papicu            \n",
              "222     2022-01-01  41  Parangaba/Oliveira Paiva/Papicu            \n",
              "223     2022-01-01  41  Parangaba/Oliveira Paiva/Papicu            \n",
              "224     2022-01-01  41  Parangaba/Oliveira Paiva/Papicu            \n",
              "...            ...  ..                                       ...   \n",
              "163854  2022-02-28  41  Parangaba/Oliveira Paiva/Papicu            \n",
              "163855  2022-02-28  41  Parangaba/Oliveira Paiva/Papicu            \n",
              "163856  2022-02-28  41  Parangaba/Oliveira Paiva/Papicu            \n",
              "163857  2022-02-28  41  Parangaba/Oliveira Paiva/Papicu            \n",
              "163858  2022-02-28  41  Parangaba/Oliveira Paiva/Papicu            \n",
              "\n",
              "        ID Passageiro             Tipo Passageiro  Quantidade  \n",
              "220                 3                   Estudante           5  \n",
              "221                 4            Gratuidade Idoso         982  \n",
              "222                 5  Vale-transporte (vermelho)          21  \n",
              "223                 9           Vt. Identificação          12  \n",
              "224                11         Idoso Identificação         116  \n",
              "...               ...                         ...         ...  \n",
              "163854             15                    Projovem          11  \n",
              "163855             16  Grat. Deficiente - S/Acomp         175  \n",
              "163856             31           Vt. Institucional           5  \n",
              "163857             32         Gratuidade Infantil           2  \n",
              "163858             37     VT Beneficio Piloto BUM          18  \n",
              "\n",
              "[712 rows x 6 columns]"
            ],
            "text/html": [
              "\n",
              "  <div id=\"df-3dc77fae-9ba8-4807-b3f4-66ef272ffa2e\">\n",
              "    <div class=\"colab-df-container\">\n",
              "      <div>\n",
              "<style scoped>\n",
              "    .dataframe tbody tr th:only-of-type {\n",
              "        vertical-align: middle;\n",
              "    }\n",
              "\n",
              "    .dataframe tbody tr th {\n",
              "        vertical-align: top;\n",
              "    }\n",
              "\n",
              "    .dataframe thead th {\n",
              "        text-align: right;\n",
              "    }\n",
              "</style>\n",
              "<table border=\"1\" class=\"dataframe\">\n",
              "  <thead>\n",
              "    <tr style=\"text-align: right;\">\n",
              "      <th></th>\n",
              "      <th>Data</th>\n",
              "      <th>ID</th>\n",
              "      <th>Nome</th>\n",
              "      <th>ID Passageiro</th>\n",
              "      <th>Tipo Passageiro</th>\n",
              "      <th>Quantidade</th>\n",
              "    </tr>\n",
              "  </thead>\n",
              "  <tbody>\n",
              "    <tr>\n",
              "      <th>220</th>\n",
              "      <td>2022-01-01</td>\n",
              "      <td>41</td>\n",
              "      <td>Parangaba/Oliveira Paiva/Papicu</td>\n",
              "      <td>3</td>\n",
              "      <td>Estudante</td>\n",
              "      <td>5</td>\n",
              "    </tr>\n",
              "    <tr>\n",
              "      <th>221</th>\n",
              "      <td>2022-01-01</td>\n",
              "      <td>41</td>\n",
              "      <td>Parangaba/Oliveira Paiva/Papicu</td>\n",
              "      <td>4</td>\n",
              "      <td>Gratuidade Idoso</td>\n",
              "      <td>982</td>\n",
              "    </tr>\n",
              "    <tr>\n",
              "      <th>222</th>\n",
              "      <td>2022-01-01</td>\n",
              "      <td>41</td>\n",
              "      <td>Parangaba/Oliveira Paiva/Papicu</td>\n",
              "      <td>5</td>\n",
              "      <td>Vale-transporte (vermelho)</td>\n",
              "      <td>21</td>\n",
              "    </tr>\n",
              "    <tr>\n",
              "      <th>223</th>\n",
              "      <td>2022-01-01</td>\n",
              "      <td>41</td>\n",
              "      <td>Parangaba/Oliveira Paiva/Papicu</td>\n",
              "      <td>9</td>\n",
              "      <td>Vt. Identificação</td>\n",
              "      <td>12</td>\n",
              "    </tr>\n",
              "    <tr>\n",
              "      <th>224</th>\n",
              "      <td>2022-01-01</td>\n",
              "      <td>41</td>\n",
              "      <td>Parangaba/Oliveira Paiva/Papicu</td>\n",
              "      <td>11</td>\n",
              "      <td>Idoso Identificação</td>\n",
              "      <td>116</td>\n",
              "    </tr>\n",
              "    <tr>\n",
              "      <th>...</th>\n",
              "      <td>...</td>\n",
              "      <td>...</td>\n",
              "      <td>...</td>\n",
              "      <td>...</td>\n",
              "      <td>...</td>\n",
              "      <td>...</td>\n",
              "    </tr>\n",
              "    <tr>\n",
              "      <th>163854</th>\n",
              "      <td>2022-02-28</td>\n",
              "      <td>41</td>\n",
              "      <td>Parangaba/Oliveira Paiva/Papicu</td>\n",
              "      <td>15</td>\n",
              "      <td>Projovem</td>\n",
              "      <td>11</td>\n",
              "    </tr>\n",
              "    <tr>\n",
              "      <th>163855</th>\n",
              "      <td>2022-02-28</td>\n",
              "      <td>41</td>\n",
              "      <td>Parangaba/Oliveira Paiva/Papicu</td>\n",
              "      <td>16</td>\n",
              "      <td>Grat. Deficiente - S/Acomp</td>\n",
              "      <td>175</td>\n",
              "    </tr>\n",
              "    <tr>\n",
              "      <th>163856</th>\n",
              "      <td>2022-02-28</td>\n",
              "      <td>41</td>\n",
              "      <td>Parangaba/Oliveira Paiva/Papicu</td>\n",
              "      <td>31</td>\n",
              "      <td>Vt. Institucional</td>\n",
              "      <td>5</td>\n",
              "    </tr>\n",
              "    <tr>\n",
              "      <th>163857</th>\n",
              "      <td>2022-02-28</td>\n",
              "      <td>41</td>\n",
              "      <td>Parangaba/Oliveira Paiva/Papicu</td>\n",
              "      <td>32</td>\n",
              "      <td>Gratuidade Infantil</td>\n",
              "      <td>2</td>\n",
              "    </tr>\n",
              "    <tr>\n",
              "      <th>163858</th>\n",
              "      <td>2022-02-28</td>\n",
              "      <td>41</td>\n",
              "      <td>Parangaba/Oliveira Paiva/Papicu</td>\n",
              "      <td>37</td>\n",
              "      <td>VT Beneficio Piloto BUM</td>\n",
              "      <td>18</td>\n",
              "    </tr>\n",
              "  </tbody>\n",
              "</table>\n",
              "<p>712 rows × 6 columns</p>\n",
              "</div>\n",
              "      <button class=\"colab-df-convert\" onclick=\"convertToInteractive('df-3dc77fae-9ba8-4807-b3f4-66ef272ffa2e')\"\n",
              "              title=\"Convert this dataframe to an interactive table.\"\n",
              "              style=\"display:none;\">\n",
              "        \n",
              "  <svg xmlns=\"http://www.w3.org/2000/svg\" height=\"24px\"viewBox=\"0 0 24 24\"\n",
              "       width=\"24px\">\n",
              "    <path d=\"M0 0h24v24H0V0z\" fill=\"none\"/>\n",
              "    <path d=\"M18.56 5.44l.94 2.06.94-2.06 2.06-.94-2.06-.94-.94-2.06-.94 2.06-2.06.94zm-11 1L8.5 8.5l.94-2.06 2.06-.94-2.06-.94L8.5 2.5l-.94 2.06-2.06.94zm10 10l.94 2.06.94-2.06 2.06-.94-2.06-.94-.94-2.06-.94 2.06-2.06.94z\"/><path d=\"M17.41 7.96l-1.37-1.37c-.4-.4-.92-.59-1.43-.59-.52 0-1.04.2-1.43.59L10.3 9.45l-7.72 7.72c-.78.78-.78 2.05 0 2.83L4 21.41c.39.39.9.59 1.41.59.51 0 1.02-.2 1.41-.59l7.78-7.78 2.81-2.81c.8-.78.8-2.07 0-2.86zM5.41 20L4 18.59l7.72-7.72 1.47 1.35L5.41 20z\"/>\n",
              "  </svg>\n",
              "      </button>\n",
              "      \n",
              "  <style>\n",
              "    .colab-df-container {\n",
              "      display:flex;\n",
              "      flex-wrap:wrap;\n",
              "      gap: 12px;\n",
              "    }\n",
              "\n",
              "    .colab-df-convert {\n",
              "      background-color: #E8F0FE;\n",
              "      border: none;\n",
              "      border-radius: 50%;\n",
              "      cursor: pointer;\n",
              "      display: none;\n",
              "      fill: #1967D2;\n",
              "      height: 32px;\n",
              "      padding: 0 0 0 0;\n",
              "      width: 32px;\n",
              "    }\n",
              "\n",
              "    .colab-df-convert:hover {\n",
              "      background-color: #E2EBFA;\n",
              "      box-shadow: 0px 1px 2px rgba(60, 64, 67, 0.3), 0px 1px 3px 1px rgba(60, 64, 67, 0.15);\n",
              "      fill: #174EA6;\n",
              "    }\n",
              "\n",
              "    [theme=dark] .colab-df-convert {\n",
              "      background-color: #3B4455;\n",
              "      fill: #D2E3FC;\n",
              "    }\n",
              "\n",
              "    [theme=dark] .colab-df-convert:hover {\n",
              "      background-color: #434B5C;\n",
              "      box-shadow: 0px 1px 3px 1px rgba(0, 0, 0, 0.15);\n",
              "      filter: drop-shadow(0px 1px 2px rgba(0, 0, 0, 0.3));\n",
              "      fill: #FFFFFF;\n",
              "    }\n",
              "  </style>\n",
              "\n",
              "      <script>\n",
              "        const buttonEl =\n",
              "          document.querySelector('#df-3dc77fae-9ba8-4807-b3f4-66ef272ffa2e button.colab-df-convert');\n",
              "        buttonEl.style.display =\n",
              "          google.colab.kernel.accessAllowed ? 'block' : 'none';\n",
              "\n",
              "        async function convertToInteractive(key) {\n",
              "          const element = document.querySelector('#df-3dc77fae-9ba8-4807-b3f4-66ef272ffa2e');\n",
              "          const dataTable =\n",
              "            await google.colab.kernel.invokeFunction('convertToInteractive',\n",
              "                                                     [key], {});\n",
              "          if (!dataTable) return;\n",
              "\n",
              "          const docLinkHtml = 'Like what you see? Visit the ' +\n",
              "            '<a target=\"_blank\" href=https://colab.research.google.com/notebooks/data_table.ipynb>data table notebook</a>'\n",
              "            + ' to learn more about interactive tables.';\n",
              "          element.innerHTML = '';\n",
              "          dataTable['output_type'] = 'display_data';\n",
              "          await google.colab.output.renderOutput(dataTable, element);\n",
              "          const docLink = document.createElement('div');\n",
              "          docLink.innerHTML = docLinkHtml;\n",
              "          element.appendChild(docLink);\n",
              "        }\n",
              "      </script>\n",
              "    </div>\n",
              "  </div>\n",
              "  "
            ]
          },
          "metadata": {},
          "execution_count": 50
        }
      ],
      "source": [
        "demanda_2.loc[demanda_2[\"ID\"]==41]"
      ]
    },
    {
      "cell_type": "code",
      "execution_count": 51,
      "metadata": {
        "colab": {
          "base_uri": "https://localhost:8080/",
          "height": 424
        },
        "id": "_fOJKCDxrwIX",
        "outputId": "ad67bd2b-3edf-4152-e10b-519f445a6f49"
      },
      "outputs": [
        {
          "output_type": "execute_result",
          "data": {
            "text/plain": [
              "              Data  ID                     Nome  ID Passageiro  \\\n",
              "405     2022-01-01  76  Cj Ceará/Aldeota/Papicu              3   \n",
              "406     2022-01-01  76  Cj Ceará/Aldeota/Papicu              4   \n",
              "407     2022-01-01  76  Cj Ceará/Aldeota/Papicu              5   \n",
              "408     2022-01-01  76  Cj Ceará/Aldeota/Papicu              9   \n",
              "409     2022-01-01  76  Cj Ceará/Aldeota/Papicu             11   \n",
              "...            ...  ..                      ...            ...   \n",
              "164116  2022-02-28  76  Cj Ceará/Aldeota/Papicu             15   \n",
              "164117  2022-02-28  76  Cj Ceará/Aldeota/Papicu             16   \n",
              "164118  2022-02-28  76  Cj Ceará/Aldeota/Papicu             31   \n",
              "164119  2022-02-28  76  Cj Ceará/Aldeota/Papicu             32   \n",
              "164120  2022-02-28  76  Cj Ceará/Aldeota/Papicu             37   \n",
              "\n",
              "                   Tipo Passageiro  Quantidade  \n",
              "405                      Estudante           5  \n",
              "406               Gratuidade Idoso        1021  \n",
              "407     Vale-transporte (vermelho)           2  \n",
              "408              Vt. Identificação          14  \n",
              "409            Idoso Identificação          85  \n",
              "...                            ...         ...  \n",
              "164116                    Projovem           5  \n",
              "164117  Grat. Deficiente - S/Acomp         132  \n",
              "164118           Vt. Institucional           6  \n",
              "164119         Gratuidade Infantil           4  \n",
              "164120     VT Beneficio Piloto BUM          65  \n",
              "\n",
              "[683 rows x 6 columns]"
            ],
            "text/html": [
              "\n",
              "  <div id=\"df-fac7f68c-6786-40c3-bffe-bfc28f495d2b\">\n",
              "    <div class=\"colab-df-container\">\n",
              "      <div>\n",
              "<style scoped>\n",
              "    .dataframe tbody tr th:only-of-type {\n",
              "        vertical-align: middle;\n",
              "    }\n",
              "\n",
              "    .dataframe tbody tr th {\n",
              "        vertical-align: top;\n",
              "    }\n",
              "\n",
              "    .dataframe thead th {\n",
              "        text-align: right;\n",
              "    }\n",
              "</style>\n",
              "<table border=\"1\" class=\"dataframe\">\n",
              "  <thead>\n",
              "    <tr style=\"text-align: right;\">\n",
              "      <th></th>\n",
              "      <th>Data</th>\n",
              "      <th>ID</th>\n",
              "      <th>Nome</th>\n",
              "      <th>ID Passageiro</th>\n",
              "      <th>Tipo Passageiro</th>\n",
              "      <th>Quantidade</th>\n",
              "    </tr>\n",
              "  </thead>\n",
              "  <tbody>\n",
              "    <tr>\n",
              "      <th>405</th>\n",
              "      <td>2022-01-01</td>\n",
              "      <td>76</td>\n",
              "      <td>Cj Ceará/Aldeota/Papicu</td>\n",
              "      <td>3</td>\n",
              "      <td>Estudante</td>\n",
              "      <td>5</td>\n",
              "    </tr>\n",
              "    <tr>\n",
              "      <th>406</th>\n",
              "      <td>2022-01-01</td>\n",
              "      <td>76</td>\n",
              "      <td>Cj Ceará/Aldeota/Papicu</td>\n",
              "      <td>4</td>\n",
              "      <td>Gratuidade Idoso</td>\n",
              "      <td>1021</td>\n",
              "    </tr>\n",
              "    <tr>\n",
              "      <th>407</th>\n",
              "      <td>2022-01-01</td>\n",
              "      <td>76</td>\n",
              "      <td>Cj Ceará/Aldeota/Papicu</td>\n",
              "      <td>5</td>\n",
              "      <td>Vale-transporte (vermelho)</td>\n",
              "      <td>2</td>\n",
              "    </tr>\n",
              "    <tr>\n",
              "      <th>408</th>\n",
              "      <td>2022-01-01</td>\n",
              "      <td>76</td>\n",
              "      <td>Cj Ceará/Aldeota/Papicu</td>\n",
              "      <td>9</td>\n",
              "      <td>Vt. Identificação</td>\n",
              "      <td>14</td>\n",
              "    </tr>\n",
              "    <tr>\n",
              "      <th>409</th>\n",
              "      <td>2022-01-01</td>\n",
              "      <td>76</td>\n",
              "      <td>Cj Ceará/Aldeota/Papicu</td>\n",
              "      <td>11</td>\n",
              "      <td>Idoso Identificação</td>\n",
              "      <td>85</td>\n",
              "    </tr>\n",
              "    <tr>\n",
              "      <th>...</th>\n",
              "      <td>...</td>\n",
              "      <td>...</td>\n",
              "      <td>...</td>\n",
              "      <td>...</td>\n",
              "      <td>...</td>\n",
              "      <td>...</td>\n",
              "    </tr>\n",
              "    <tr>\n",
              "      <th>164116</th>\n",
              "      <td>2022-02-28</td>\n",
              "      <td>76</td>\n",
              "      <td>Cj Ceará/Aldeota/Papicu</td>\n",
              "      <td>15</td>\n",
              "      <td>Projovem</td>\n",
              "      <td>5</td>\n",
              "    </tr>\n",
              "    <tr>\n",
              "      <th>164117</th>\n",
              "      <td>2022-02-28</td>\n",
              "      <td>76</td>\n",
              "      <td>Cj Ceará/Aldeota/Papicu</td>\n",
              "      <td>16</td>\n",
              "      <td>Grat. Deficiente - S/Acomp</td>\n",
              "      <td>132</td>\n",
              "    </tr>\n",
              "    <tr>\n",
              "      <th>164118</th>\n",
              "      <td>2022-02-28</td>\n",
              "      <td>76</td>\n",
              "      <td>Cj Ceará/Aldeota/Papicu</td>\n",
              "      <td>31</td>\n",
              "      <td>Vt. Institucional</td>\n",
              "      <td>6</td>\n",
              "    </tr>\n",
              "    <tr>\n",
              "      <th>164119</th>\n",
              "      <td>2022-02-28</td>\n",
              "      <td>76</td>\n",
              "      <td>Cj Ceará/Aldeota/Papicu</td>\n",
              "      <td>32</td>\n",
              "      <td>Gratuidade Infantil</td>\n",
              "      <td>4</td>\n",
              "    </tr>\n",
              "    <tr>\n",
              "      <th>164120</th>\n",
              "      <td>2022-02-28</td>\n",
              "      <td>76</td>\n",
              "      <td>Cj Ceará/Aldeota/Papicu</td>\n",
              "      <td>37</td>\n",
              "      <td>VT Beneficio Piloto BUM</td>\n",
              "      <td>65</td>\n",
              "    </tr>\n",
              "  </tbody>\n",
              "</table>\n",
              "<p>683 rows × 6 columns</p>\n",
              "</div>\n",
              "      <button class=\"colab-df-convert\" onclick=\"convertToInteractive('df-fac7f68c-6786-40c3-bffe-bfc28f495d2b')\"\n",
              "              title=\"Convert this dataframe to an interactive table.\"\n",
              "              style=\"display:none;\">\n",
              "        \n",
              "  <svg xmlns=\"http://www.w3.org/2000/svg\" height=\"24px\"viewBox=\"0 0 24 24\"\n",
              "       width=\"24px\">\n",
              "    <path d=\"M0 0h24v24H0V0z\" fill=\"none\"/>\n",
              "    <path d=\"M18.56 5.44l.94 2.06.94-2.06 2.06-.94-2.06-.94-.94-2.06-.94 2.06-2.06.94zm-11 1L8.5 8.5l.94-2.06 2.06-.94-2.06-.94L8.5 2.5l-.94 2.06-2.06.94zm10 10l.94 2.06.94-2.06 2.06-.94-2.06-.94-.94-2.06-.94 2.06-2.06.94z\"/><path d=\"M17.41 7.96l-1.37-1.37c-.4-.4-.92-.59-1.43-.59-.52 0-1.04.2-1.43.59L10.3 9.45l-7.72 7.72c-.78.78-.78 2.05 0 2.83L4 21.41c.39.39.9.59 1.41.59.51 0 1.02-.2 1.41-.59l7.78-7.78 2.81-2.81c.8-.78.8-2.07 0-2.86zM5.41 20L4 18.59l7.72-7.72 1.47 1.35L5.41 20z\"/>\n",
              "  </svg>\n",
              "      </button>\n",
              "      \n",
              "  <style>\n",
              "    .colab-df-container {\n",
              "      display:flex;\n",
              "      flex-wrap:wrap;\n",
              "      gap: 12px;\n",
              "    }\n",
              "\n",
              "    .colab-df-convert {\n",
              "      background-color: #E8F0FE;\n",
              "      border: none;\n",
              "      border-radius: 50%;\n",
              "      cursor: pointer;\n",
              "      display: none;\n",
              "      fill: #1967D2;\n",
              "      height: 32px;\n",
              "      padding: 0 0 0 0;\n",
              "      width: 32px;\n",
              "    }\n",
              "\n",
              "    .colab-df-convert:hover {\n",
              "      background-color: #E2EBFA;\n",
              "      box-shadow: 0px 1px 2px rgba(60, 64, 67, 0.3), 0px 1px 3px 1px rgba(60, 64, 67, 0.15);\n",
              "      fill: #174EA6;\n",
              "    }\n",
              "\n",
              "    [theme=dark] .colab-df-convert {\n",
              "      background-color: #3B4455;\n",
              "      fill: #D2E3FC;\n",
              "    }\n",
              "\n",
              "    [theme=dark] .colab-df-convert:hover {\n",
              "      background-color: #434B5C;\n",
              "      box-shadow: 0px 1px 3px 1px rgba(0, 0, 0, 0.15);\n",
              "      filter: drop-shadow(0px 1px 2px rgba(0, 0, 0, 0.3));\n",
              "      fill: #FFFFFF;\n",
              "    }\n",
              "  </style>\n",
              "\n",
              "      <script>\n",
              "        const buttonEl =\n",
              "          document.querySelector('#df-fac7f68c-6786-40c3-bffe-bfc28f495d2b button.colab-df-convert');\n",
              "        buttonEl.style.display =\n",
              "          google.colab.kernel.accessAllowed ? 'block' : 'none';\n",
              "\n",
              "        async function convertToInteractive(key) {\n",
              "          const element = document.querySelector('#df-fac7f68c-6786-40c3-bffe-bfc28f495d2b');\n",
              "          const dataTable =\n",
              "            await google.colab.kernel.invokeFunction('convertToInteractive',\n",
              "                                                     [key], {});\n",
              "          if (!dataTable) return;\n",
              "\n",
              "          const docLinkHtml = 'Like what you see? Visit the ' +\n",
              "            '<a target=\"_blank\" href=https://colab.research.google.com/notebooks/data_table.ipynb>data table notebook</a>'\n",
              "            + ' to learn more about interactive tables.';\n",
              "          element.innerHTML = '';\n",
              "          dataTable['output_type'] = 'display_data';\n",
              "          await google.colab.output.renderOutput(dataTable, element);\n",
              "          const docLink = document.createElement('div');\n",
              "          docLink.innerHTML = docLinkHtml;\n",
              "          element.appendChild(docLink);\n",
              "        }\n",
              "      </script>\n",
              "    </div>\n",
              "  </div>\n",
              "  "
            ]
          },
          "metadata": {},
          "execution_count": 51
        }
      ],
      "source": [
        "demanda_2.loc[demanda_2[\"ID\"]==76]"
      ]
    },
    {
      "cell_type": "code",
      "execution_count": 52,
      "metadata": {
        "colab": {
          "base_uri": "https://localhost:8080/",
          "height": 424
        },
        "id": "JQ8lxteJrykX",
        "outputId": "2d35bda7-9a18-422e-fded-5502b9e6c697"
      },
      "outputs": [
        {
          "output_type": "execute_result",
          "data": {
            "text/plain": [
              "              Data   ID                                      Nome  \\\n",
              "1847    2022-01-01  712  Cj Palmeiras/Papicu                        \n",
              "1848    2022-01-01  712  Cj Palmeiras/Papicu                        \n",
              "1849    2022-01-01  712  Cj Palmeiras/Papicu                        \n",
              "1850    2022-01-01  712  Cj Palmeiras/Papicu                        \n",
              "1851    2022-01-01  712  Cj Palmeiras/Papicu                        \n",
              "...            ...  ...                                       ...   \n",
              "166137  2022-02-28  712  Cj Palmeiras/Papicu                        \n",
              "166138  2022-02-28  712  Cj Palmeiras/Papicu                        \n",
              "166139  2022-02-28  712  Cj Palmeiras/Papicu                        \n",
              "166140  2022-02-28  712  Cj Palmeiras/Papicu                        \n",
              "166141  2022-02-28  712  Cj Palmeiras/Papicu                        \n",
              "\n",
              "        ID Passageiro             Tipo Passageiro  Quantidade  \n",
              "1847                2                     Popular          13  \n",
              "1848                3                   Estudante          72  \n",
              "1849                4            Gratuidade Idoso         571  \n",
              "1850                5  Vale-transporte (vermelho)           3  \n",
              "1851               11         Idoso Identificação          60  \n",
              "...               ...                         ...         ...  \n",
              "166137             15                    Projovem          36  \n",
              "166138             16  Grat. Deficiente - S/Acomp         134  \n",
              "166139             31           Vt. Institucional           2  \n",
              "166140             32         Gratuidade Infantil           6  \n",
              "166141             37     VT Beneficio Piloto BUM          13  \n",
              "\n",
              "[705 rows x 6 columns]"
            ],
            "text/html": [
              "\n",
              "  <div id=\"df-98b78a5b-e80a-4ca2-9545-81fcedef79ef\">\n",
              "    <div class=\"colab-df-container\">\n",
              "      <div>\n",
              "<style scoped>\n",
              "    .dataframe tbody tr th:only-of-type {\n",
              "        vertical-align: middle;\n",
              "    }\n",
              "\n",
              "    .dataframe tbody tr th {\n",
              "        vertical-align: top;\n",
              "    }\n",
              "\n",
              "    .dataframe thead th {\n",
              "        text-align: right;\n",
              "    }\n",
              "</style>\n",
              "<table border=\"1\" class=\"dataframe\">\n",
              "  <thead>\n",
              "    <tr style=\"text-align: right;\">\n",
              "      <th></th>\n",
              "      <th>Data</th>\n",
              "      <th>ID</th>\n",
              "      <th>Nome</th>\n",
              "      <th>ID Passageiro</th>\n",
              "      <th>Tipo Passageiro</th>\n",
              "      <th>Quantidade</th>\n",
              "    </tr>\n",
              "  </thead>\n",
              "  <tbody>\n",
              "    <tr>\n",
              "      <th>1847</th>\n",
              "      <td>2022-01-01</td>\n",
              "      <td>712</td>\n",
              "      <td>Cj Palmeiras/Papicu</td>\n",
              "      <td>2</td>\n",
              "      <td>Popular</td>\n",
              "      <td>13</td>\n",
              "    </tr>\n",
              "    <tr>\n",
              "      <th>1848</th>\n",
              "      <td>2022-01-01</td>\n",
              "      <td>712</td>\n",
              "      <td>Cj Palmeiras/Papicu</td>\n",
              "      <td>3</td>\n",
              "      <td>Estudante</td>\n",
              "      <td>72</td>\n",
              "    </tr>\n",
              "    <tr>\n",
              "      <th>1849</th>\n",
              "      <td>2022-01-01</td>\n",
              "      <td>712</td>\n",
              "      <td>Cj Palmeiras/Papicu</td>\n",
              "      <td>4</td>\n",
              "      <td>Gratuidade Idoso</td>\n",
              "      <td>571</td>\n",
              "    </tr>\n",
              "    <tr>\n",
              "      <th>1850</th>\n",
              "      <td>2022-01-01</td>\n",
              "      <td>712</td>\n",
              "      <td>Cj Palmeiras/Papicu</td>\n",
              "      <td>5</td>\n",
              "      <td>Vale-transporte (vermelho)</td>\n",
              "      <td>3</td>\n",
              "    </tr>\n",
              "    <tr>\n",
              "      <th>1851</th>\n",
              "      <td>2022-01-01</td>\n",
              "      <td>712</td>\n",
              "      <td>Cj Palmeiras/Papicu</td>\n",
              "      <td>11</td>\n",
              "      <td>Idoso Identificação</td>\n",
              "      <td>60</td>\n",
              "    </tr>\n",
              "    <tr>\n",
              "      <th>...</th>\n",
              "      <td>...</td>\n",
              "      <td>...</td>\n",
              "      <td>...</td>\n",
              "      <td>...</td>\n",
              "      <td>...</td>\n",
              "      <td>...</td>\n",
              "    </tr>\n",
              "    <tr>\n",
              "      <th>166137</th>\n",
              "      <td>2022-02-28</td>\n",
              "      <td>712</td>\n",
              "      <td>Cj Palmeiras/Papicu</td>\n",
              "      <td>15</td>\n",
              "      <td>Projovem</td>\n",
              "      <td>36</td>\n",
              "    </tr>\n",
              "    <tr>\n",
              "      <th>166138</th>\n",
              "      <td>2022-02-28</td>\n",
              "      <td>712</td>\n",
              "      <td>Cj Palmeiras/Papicu</td>\n",
              "      <td>16</td>\n",
              "      <td>Grat. Deficiente - S/Acomp</td>\n",
              "      <td>134</td>\n",
              "    </tr>\n",
              "    <tr>\n",
              "      <th>166139</th>\n",
              "      <td>2022-02-28</td>\n",
              "      <td>712</td>\n",
              "      <td>Cj Palmeiras/Papicu</td>\n",
              "      <td>31</td>\n",
              "      <td>Vt. Institucional</td>\n",
              "      <td>2</td>\n",
              "    </tr>\n",
              "    <tr>\n",
              "      <th>166140</th>\n",
              "      <td>2022-02-28</td>\n",
              "      <td>712</td>\n",
              "      <td>Cj Palmeiras/Papicu</td>\n",
              "      <td>32</td>\n",
              "      <td>Gratuidade Infantil</td>\n",
              "      <td>6</td>\n",
              "    </tr>\n",
              "    <tr>\n",
              "      <th>166141</th>\n",
              "      <td>2022-02-28</td>\n",
              "      <td>712</td>\n",
              "      <td>Cj Palmeiras/Papicu</td>\n",
              "      <td>37</td>\n",
              "      <td>VT Beneficio Piloto BUM</td>\n",
              "      <td>13</td>\n",
              "    </tr>\n",
              "  </tbody>\n",
              "</table>\n",
              "<p>705 rows × 6 columns</p>\n",
              "</div>\n",
              "      <button class=\"colab-df-convert\" onclick=\"convertToInteractive('df-98b78a5b-e80a-4ca2-9545-81fcedef79ef')\"\n",
              "              title=\"Convert this dataframe to an interactive table.\"\n",
              "              style=\"display:none;\">\n",
              "        \n",
              "  <svg xmlns=\"http://www.w3.org/2000/svg\" height=\"24px\"viewBox=\"0 0 24 24\"\n",
              "       width=\"24px\">\n",
              "    <path d=\"M0 0h24v24H0V0z\" fill=\"none\"/>\n",
              "    <path d=\"M18.56 5.44l.94 2.06.94-2.06 2.06-.94-2.06-.94-.94-2.06-.94 2.06-2.06.94zm-11 1L8.5 8.5l.94-2.06 2.06-.94-2.06-.94L8.5 2.5l-.94 2.06-2.06.94zm10 10l.94 2.06.94-2.06 2.06-.94-2.06-.94-.94-2.06-.94 2.06-2.06.94z\"/><path d=\"M17.41 7.96l-1.37-1.37c-.4-.4-.92-.59-1.43-.59-.52 0-1.04.2-1.43.59L10.3 9.45l-7.72 7.72c-.78.78-.78 2.05 0 2.83L4 21.41c.39.39.9.59 1.41.59.51 0 1.02-.2 1.41-.59l7.78-7.78 2.81-2.81c.8-.78.8-2.07 0-2.86zM5.41 20L4 18.59l7.72-7.72 1.47 1.35L5.41 20z\"/>\n",
              "  </svg>\n",
              "      </button>\n",
              "      \n",
              "  <style>\n",
              "    .colab-df-container {\n",
              "      display:flex;\n",
              "      flex-wrap:wrap;\n",
              "      gap: 12px;\n",
              "    }\n",
              "\n",
              "    .colab-df-convert {\n",
              "      background-color: #E8F0FE;\n",
              "      border: none;\n",
              "      border-radius: 50%;\n",
              "      cursor: pointer;\n",
              "      display: none;\n",
              "      fill: #1967D2;\n",
              "      height: 32px;\n",
              "      padding: 0 0 0 0;\n",
              "      width: 32px;\n",
              "    }\n",
              "\n",
              "    .colab-df-convert:hover {\n",
              "      background-color: #E2EBFA;\n",
              "      box-shadow: 0px 1px 2px rgba(60, 64, 67, 0.3), 0px 1px 3px 1px rgba(60, 64, 67, 0.15);\n",
              "      fill: #174EA6;\n",
              "    }\n",
              "\n",
              "    [theme=dark] .colab-df-convert {\n",
              "      background-color: #3B4455;\n",
              "      fill: #D2E3FC;\n",
              "    }\n",
              "\n",
              "    [theme=dark] .colab-df-convert:hover {\n",
              "      background-color: #434B5C;\n",
              "      box-shadow: 0px 1px 3px 1px rgba(0, 0, 0, 0.15);\n",
              "      filter: drop-shadow(0px 1px 2px rgba(0, 0, 0, 0.3));\n",
              "      fill: #FFFFFF;\n",
              "    }\n",
              "  </style>\n",
              "\n",
              "      <script>\n",
              "        const buttonEl =\n",
              "          document.querySelector('#df-98b78a5b-e80a-4ca2-9545-81fcedef79ef button.colab-df-convert');\n",
              "        buttonEl.style.display =\n",
              "          google.colab.kernel.accessAllowed ? 'block' : 'none';\n",
              "\n",
              "        async function convertToInteractive(key) {\n",
              "          const element = document.querySelector('#df-98b78a5b-e80a-4ca2-9545-81fcedef79ef');\n",
              "          const dataTable =\n",
              "            await google.colab.kernel.invokeFunction('convertToInteractive',\n",
              "                                                     [key], {});\n",
              "          if (!dataTable) return;\n",
              "\n",
              "          const docLinkHtml = 'Like what you see? Visit the ' +\n",
              "            '<a target=\"_blank\" href=https://colab.research.google.com/notebooks/data_table.ipynb>data table notebook</a>'\n",
              "            + ' to learn more about interactive tables.';\n",
              "          element.innerHTML = '';\n",
              "          dataTable['output_type'] = 'display_data';\n",
              "          await google.colab.output.renderOutput(dataTable, element);\n",
              "          const docLink = document.createElement('div');\n",
              "          docLink.innerHTML = docLinkHtml;\n",
              "          element.appendChild(docLink);\n",
              "        }\n",
              "      </script>\n",
              "    </div>\n",
              "  </div>\n",
              "  "
            ]
          },
          "metadata": {},
          "execution_count": 52
        }
      ],
      "source": [
        "demanda_2.loc[demanda_2[\"ID\"]==712]"
      ]
    },
    {
      "cell_type": "code",
      "execution_count": 53,
      "metadata": {
        "colab": {
          "base_uri": "https://localhost:8080/",
          "height": 424
        },
        "id": "sWFcM9dyr066",
        "outputId": "039c1c79-bfcb-4f3e-8970-f952b4acc974"
      },
      "outputs": [
        {
          "output_type": "execute_result",
          "data": {
            "text/plain": [
              "              Data  ID                                      Nome  \\\n",
              "231     2022-01-01  42  Antônio Bezerra/Francisco Sá/Papicu        \n",
              "232     2022-01-01  42  Antônio Bezerra/Francisco Sá/Papicu        \n",
              "233     2022-01-01  42  Antônio Bezerra/Francisco Sá/Papicu        \n",
              "234     2022-01-01  42  Antônio Bezerra/Francisco Sá/Papicu        \n",
              "235     2022-01-01  42  Antônio Bezerra/Francisco Sá/Papicu        \n",
              "...            ...  ..                                       ...   \n",
              "163866  2022-02-28  42  Antônio Bezerra/Francisco Sá/Papicu        \n",
              "163867  2022-02-28  42  Antônio Bezerra/Francisco Sá/Papicu        \n",
              "163868  2022-02-28  42  Antônio Bezerra/Francisco Sá/Papicu        \n",
              "163869  2022-02-28  42  Antônio Bezerra/Francisco Sá/Papicu        \n",
              "163870  2022-02-28  42  Antônio Bezerra/Francisco Sá/Papicu        \n",
              "\n",
              "        ID Passageiro             Tipo Passageiro  Quantidade  \n",
              "231                 3                   Estudante          12  \n",
              "232                 4            Gratuidade Idoso         964  \n",
              "233                 5  Vale-transporte (vermelho)          20  \n",
              "234                 9           Vt. Identificação          23  \n",
              "235                11         Idoso Identificação          87  \n",
              "...               ...                         ...         ...  \n",
              "163866             15                    Projovem          23  \n",
              "163867             16  Grat. Deficiente - S/Acomp         137  \n",
              "163868             31           Vt. Institucional           2  \n",
              "163869             32         Gratuidade Infantil           3  \n",
              "163870             37     VT Beneficio Piloto BUM          33  \n",
              "\n",
              "[702 rows x 6 columns]"
            ],
            "text/html": [
              "\n",
              "  <div id=\"df-6a1528d4-2118-4eab-aa85-08e9d0226969\">\n",
              "    <div class=\"colab-df-container\">\n",
              "      <div>\n",
              "<style scoped>\n",
              "    .dataframe tbody tr th:only-of-type {\n",
              "        vertical-align: middle;\n",
              "    }\n",
              "\n",
              "    .dataframe tbody tr th {\n",
              "        vertical-align: top;\n",
              "    }\n",
              "\n",
              "    .dataframe thead th {\n",
              "        text-align: right;\n",
              "    }\n",
              "</style>\n",
              "<table border=\"1\" class=\"dataframe\">\n",
              "  <thead>\n",
              "    <tr style=\"text-align: right;\">\n",
              "      <th></th>\n",
              "      <th>Data</th>\n",
              "      <th>ID</th>\n",
              "      <th>Nome</th>\n",
              "      <th>ID Passageiro</th>\n",
              "      <th>Tipo Passageiro</th>\n",
              "      <th>Quantidade</th>\n",
              "    </tr>\n",
              "  </thead>\n",
              "  <tbody>\n",
              "    <tr>\n",
              "      <th>231</th>\n",
              "      <td>2022-01-01</td>\n",
              "      <td>42</td>\n",
              "      <td>Antônio Bezerra/Francisco Sá/Papicu</td>\n",
              "      <td>3</td>\n",
              "      <td>Estudante</td>\n",
              "      <td>12</td>\n",
              "    </tr>\n",
              "    <tr>\n",
              "      <th>232</th>\n",
              "      <td>2022-01-01</td>\n",
              "      <td>42</td>\n",
              "      <td>Antônio Bezerra/Francisco Sá/Papicu</td>\n",
              "      <td>4</td>\n",
              "      <td>Gratuidade Idoso</td>\n",
              "      <td>964</td>\n",
              "    </tr>\n",
              "    <tr>\n",
              "      <th>233</th>\n",
              "      <td>2022-01-01</td>\n",
              "      <td>42</td>\n",
              "      <td>Antônio Bezerra/Francisco Sá/Papicu</td>\n",
              "      <td>5</td>\n",
              "      <td>Vale-transporte (vermelho)</td>\n",
              "      <td>20</td>\n",
              "    </tr>\n",
              "    <tr>\n",
              "      <th>234</th>\n",
              "      <td>2022-01-01</td>\n",
              "      <td>42</td>\n",
              "      <td>Antônio Bezerra/Francisco Sá/Papicu</td>\n",
              "      <td>9</td>\n",
              "      <td>Vt. Identificação</td>\n",
              "      <td>23</td>\n",
              "    </tr>\n",
              "    <tr>\n",
              "      <th>235</th>\n",
              "      <td>2022-01-01</td>\n",
              "      <td>42</td>\n",
              "      <td>Antônio Bezerra/Francisco Sá/Papicu</td>\n",
              "      <td>11</td>\n",
              "      <td>Idoso Identificação</td>\n",
              "      <td>87</td>\n",
              "    </tr>\n",
              "    <tr>\n",
              "      <th>...</th>\n",
              "      <td>...</td>\n",
              "      <td>...</td>\n",
              "      <td>...</td>\n",
              "      <td>...</td>\n",
              "      <td>...</td>\n",
              "      <td>...</td>\n",
              "    </tr>\n",
              "    <tr>\n",
              "      <th>163866</th>\n",
              "      <td>2022-02-28</td>\n",
              "      <td>42</td>\n",
              "      <td>Antônio Bezerra/Francisco Sá/Papicu</td>\n",
              "      <td>15</td>\n",
              "      <td>Projovem</td>\n",
              "      <td>23</td>\n",
              "    </tr>\n",
              "    <tr>\n",
              "      <th>163867</th>\n",
              "      <td>2022-02-28</td>\n",
              "      <td>42</td>\n",
              "      <td>Antônio Bezerra/Francisco Sá/Papicu</td>\n",
              "      <td>16</td>\n",
              "      <td>Grat. Deficiente - S/Acomp</td>\n",
              "      <td>137</td>\n",
              "    </tr>\n",
              "    <tr>\n",
              "      <th>163868</th>\n",
              "      <td>2022-02-28</td>\n",
              "      <td>42</td>\n",
              "      <td>Antônio Bezerra/Francisco Sá/Papicu</td>\n",
              "      <td>31</td>\n",
              "      <td>Vt. Institucional</td>\n",
              "      <td>2</td>\n",
              "    </tr>\n",
              "    <tr>\n",
              "      <th>163869</th>\n",
              "      <td>2022-02-28</td>\n",
              "      <td>42</td>\n",
              "      <td>Antônio Bezerra/Francisco Sá/Papicu</td>\n",
              "      <td>32</td>\n",
              "      <td>Gratuidade Infantil</td>\n",
              "      <td>3</td>\n",
              "    </tr>\n",
              "    <tr>\n",
              "      <th>163870</th>\n",
              "      <td>2022-02-28</td>\n",
              "      <td>42</td>\n",
              "      <td>Antônio Bezerra/Francisco Sá/Papicu</td>\n",
              "      <td>37</td>\n",
              "      <td>VT Beneficio Piloto BUM</td>\n",
              "      <td>33</td>\n",
              "    </tr>\n",
              "  </tbody>\n",
              "</table>\n",
              "<p>702 rows × 6 columns</p>\n",
              "</div>\n",
              "      <button class=\"colab-df-convert\" onclick=\"convertToInteractive('df-6a1528d4-2118-4eab-aa85-08e9d0226969')\"\n",
              "              title=\"Convert this dataframe to an interactive table.\"\n",
              "              style=\"display:none;\">\n",
              "        \n",
              "  <svg xmlns=\"http://www.w3.org/2000/svg\" height=\"24px\"viewBox=\"0 0 24 24\"\n",
              "       width=\"24px\">\n",
              "    <path d=\"M0 0h24v24H0V0z\" fill=\"none\"/>\n",
              "    <path d=\"M18.56 5.44l.94 2.06.94-2.06 2.06-.94-2.06-.94-.94-2.06-.94 2.06-2.06.94zm-11 1L8.5 8.5l.94-2.06 2.06-.94-2.06-.94L8.5 2.5l-.94 2.06-2.06.94zm10 10l.94 2.06.94-2.06 2.06-.94-2.06-.94-.94-2.06-.94 2.06-2.06.94z\"/><path d=\"M17.41 7.96l-1.37-1.37c-.4-.4-.92-.59-1.43-.59-.52 0-1.04.2-1.43.59L10.3 9.45l-7.72 7.72c-.78.78-.78 2.05 0 2.83L4 21.41c.39.39.9.59 1.41.59.51 0 1.02-.2 1.41-.59l7.78-7.78 2.81-2.81c.8-.78.8-2.07 0-2.86zM5.41 20L4 18.59l7.72-7.72 1.47 1.35L5.41 20z\"/>\n",
              "  </svg>\n",
              "      </button>\n",
              "      \n",
              "  <style>\n",
              "    .colab-df-container {\n",
              "      display:flex;\n",
              "      flex-wrap:wrap;\n",
              "      gap: 12px;\n",
              "    }\n",
              "\n",
              "    .colab-df-convert {\n",
              "      background-color: #E8F0FE;\n",
              "      border: none;\n",
              "      border-radius: 50%;\n",
              "      cursor: pointer;\n",
              "      display: none;\n",
              "      fill: #1967D2;\n",
              "      height: 32px;\n",
              "      padding: 0 0 0 0;\n",
              "      width: 32px;\n",
              "    }\n",
              "\n",
              "    .colab-df-convert:hover {\n",
              "      background-color: #E2EBFA;\n",
              "      box-shadow: 0px 1px 2px rgba(60, 64, 67, 0.3), 0px 1px 3px 1px rgba(60, 64, 67, 0.15);\n",
              "      fill: #174EA6;\n",
              "    }\n",
              "\n",
              "    [theme=dark] .colab-df-convert {\n",
              "      background-color: #3B4455;\n",
              "      fill: #D2E3FC;\n",
              "    }\n",
              "\n",
              "    [theme=dark] .colab-df-convert:hover {\n",
              "      background-color: #434B5C;\n",
              "      box-shadow: 0px 1px 3px 1px rgba(0, 0, 0, 0.15);\n",
              "      filter: drop-shadow(0px 1px 2px rgba(0, 0, 0, 0.3));\n",
              "      fill: #FFFFFF;\n",
              "    }\n",
              "  </style>\n",
              "\n",
              "      <script>\n",
              "        const buttonEl =\n",
              "          document.querySelector('#df-6a1528d4-2118-4eab-aa85-08e9d0226969 button.colab-df-convert');\n",
              "        buttonEl.style.display =\n",
              "          google.colab.kernel.accessAllowed ? 'block' : 'none';\n",
              "\n",
              "        async function convertToInteractive(key) {\n",
              "          const element = document.querySelector('#df-6a1528d4-2118-4eab-aa85-08e9d0226969');\n",
              "          const dataTable =\n",
              "            await google.colab.kernel.invokeFunction('convertToInteractive',\n",
              "                                                     [key], {});\n",
              "          if (!dataTable) return;\n",
              "\n",
              "          const docLinkHtml = 'Like what you see? Visit the ' +\n",
              "            '<a target=\"_blank\" href=https://colab.research.google.com/notebooks/data_table.ipynb>data table notebook</a>'\n",
              "            + ' to learn more about interactive tables.';\n",
              "          element.innerHTML = '';\n",
              "          dataTable['output_type'] = 'display_data';\n",
              "          await google.colab.output.renderOutput(dataTable, element);\n",
              "          const docLink = document.createElement('div');\n",
              "          docLink.innerHTML = docLinkHtml;\n",
              "          element.appendChild(docLink);\n",
              "        }\n",
              "      </script>\n",
              "    </div>\n",
              "  </div>\n",
              "  "
            ]
          },
          "metadata": {},
          "execution_count": 53
        }
      ],
      "source": [
        "demanda_2.loc[demanda_2[\"ID\"]==42]"
      ]
    },
    {
      "cell_type": "code",
      "execution_count": 54,
      "metadata": {
        "colab": {
          "base_uri": "https://localhost:8080/",
          "height": 424
        },
        "id": "f9hRd7l-vwq1",
        "outputId": "a4e80a2f-f4ce-47b4-dc70-ab04875bc0a3"
      },
      "outputs": [
        {
          "output_type": "execute_result",
          "data": {
            "text/plain": [
              "              Data  ID                                      Nome  \\\n",
              "387     2022-01-01  74  Antônio Bezerra/Unifor                     \n",
              "388     2022-01-01  74  Antônio Bezerra/Unifor                     \n",
              "389     2022-01-01  74  Antônio Bezerra/Unifor                     \n",
              "390     2022-01-01  74  Antônio Bezerra/Unifor                     \n",
              "391     2022-01-01  74  Antônio Bezerra/Unifor                     \n",
              "...            ...  ..                                       ...   \n",
              "164095  2022-02-28  74  Antônio Bezerra/Unifor                     \n",
              "164096  2022-02-28  74  Antônio Bezerra/Unifor                     \n",
              "164097  2022-02-28  74  Antônio Bezerra/Unifor                     \n",
              "164098  2022-02-28  74  Antônio Bezerra/Unifor                     \n",
              "164099  2022-02-28  74  Antônio Bezerra/Unifor                     \n",
              "\n",
              "        ID Passageiro             Tipo Passageiro  Quantidade  \n",
              "387                 3                   Estudante           3  \n",
              "388                 4            Gratuidade Idoso         434  \n",
              "389                 5  Vale-transporte (vermelho)          14  \n",
              "390                 9           Vt. Identificação           3  \n",
              "391                11         Idoso Identificação          57  \n",
              "...               ...                         ...         ...  \n",
              "164095             16  Grat. Deficiente - S/Acomp         123  \n",
              "164096             31           Vt. Institucional           3  \n",
              "164097             32         Gratuidade Infantil           3  \n",
              "164098             33        Vale-Trasnporte ENEM           1  \n",
              "164099             37     VT Beneficio Piloto BUM          33  \n",
              "\n",
              "[671 rows x 6 columns]"
            ],
            "text/html": [
              "\n",
              "  <div id=\"df-0a4bac43-98c3-4d45-bcfb-146502d36109\">\n",
              "    <div class=\"colab-df-container\">\n",
              "      <div>\n",
              "<style scoped>\n",
              "    .dataframe tbody tr th:only-of-type {\n",
              "        vertical-align: middle;\n",
              "    }\n",
              "\n",
              "    .dataframe tbody tr th {\n",
              "        vertical-align: top;\n",
              "    }\n",
              "\n",
              "    .dataframe thead th {\n",
              "        text-align: right;\n",
              "    }\n",
              "</style>\n",
              "<table border=\"1\" class=\"dataframe\">\n",
              "  <thead>\n",
              "    <tr style=\"text-align: right;\">\n",
              "      <th></th>\n",
              "      <th>Data</th>\n",
              "      <th>ID</th>\n",
              "      <th>Nome</th>\n",
              "      <th>ID Passageiro</th>\n",
              "      <th>Tipo Passageiro</th>\n",
              "      <th>Quantidade</th>\n",
              "    </tr>\n",
              "  </thead>\n",
              "  <tbody>\n",
              "    <tr>\n",
              "      <th>387</th>\n",
              "      <td>2022-01-01</td>\n",
              "      <td>74</td>\n",
              "      <td>Antônio Bezerra/Unifor</td>\n",
              "      <td>3</td>\n",
              "      <td>Estudante</td>\n",
              "      <td>3</td>\n",
              "    </tr>\n",
              "    <tr>\n",
              "      <th>388</th>\n",
              "      <td>2022-01-01</td>\n",
              "      <td>74</td>\n",
              "      <td>Antônio Bezerra/Unifor</td>\n",
              "      <td>4</td>\n",
              "      <td>Gratuidade Idoso</td>\n",
              "      <td>434</td>\n",
              "    </tr>\n",
              "    <tr>\n",
              "      <th>389</th>\n",
              "      <td>2022-01-01</td>\n",
              "      <td>74</td>\n",
              "      <td>Antônio Bezerra/Unifor</td>\n",
              "      <td>5</td>\n",
              "      <td>Vale-transporte (vermelho)</td>\n",
              "      <td>14</td>\n",
              "    </tr>\n",
              "    <tr>\n",
              "      <th>390</th>\n",
              "      <td>2022-01-01</td>\n",
              "      <td>74</td>\n",
              "      <td>Antônio Bezerra/Unifor</td>\n",
              "      <td>9</td>\n",
              "      <td>Vt. Identificação</td>\n",
              "      <td>3</td>\n",
              "    </tr>\n",
              "    <tr>\n",
              "      <th>391</th>\n",
              "      <td>2022-01-01</td>\n",
              "      <td>74</td>\n",
              "      <td>Antônio Bezerra/Unifor</td>\n",
              "      <td>11</td>\n",
              "      <td>Idoso Identificação</td>\n",
              "      <td>57</td>\n",
              "    </tr>\n",
              "    <tr>\n",
              "      <th>...</th>\n",
              "      <td>...</td>\n",
              "      <td>...</td>\n",
              "      <td>...</td>\n",
              "      <td>...</td>\n",
              "      <td>...</td>\n",
              "      <td>...</td>\n",
              "    </tr>\n",
              "    <tr>\n",
              "      <th>164095</th>\n",
              "      <td>2022-02-28</td>\n",
              "      <td>74</td>\n",
              "      <td>Antônio Bezerra/Unifor</td>\n",
              "      <td>16</td>\n",
              "      <td>Grat. Deficiente - S/Acomp</td>\n",
              "      <td>123</td>\n",
              "    </tr>\n",
              "    <tr>\n",
              "      <th>164096</th>\n",
              "      <td>2022-02-28</td>\n",
              "      <td>74</td>\n",
              "      <td>Antônio Bezerra/Unifor</td>\n",
              "      <td>31</td>\n",
              "      <td>Vt. Institucional</td>\n",
              "      <td>3</td>\n",
              "    </tr>\n",
              "    <tr>\n",
              "      <th>164097</th>\n",
              "      <td>2022-02-28</td>\n",
              "      <td>74</td>\n",
              "      <td>Antônio Bezerra/Unifor</td>\n",
              "      <td>32</td>\n",
              "      <td>Gratuidade Infantil</td>\n",
              "      <td>3</td>\n",
              "    </tr>\n",
              "    <tr>\n",
              "      <th>164098</th>\n",
              "      <td>2022-02-28</td>\n",
              "      <td>74</td>\n",
              "      <td>Antônio Bezerra/Unifor</td>\n",
              "      <td>33</td>\n",
              "      <td>Vale-Trasnporte ENEM</td>\n",
              "      <td>1</td>\n",
              "    </tr>\n",
              "    <tr>\n",
              "      <th>164099</th>\n",
              "      <td>2022-02-28</td>\n",
              "      <td>74</td>\n",
              "      <td>Antônio Bezerra/Unifor</td>\n",
              "      <td>37</td>\n",
              "      <td>VT Beneficio Piloto BUM</td>\n",
              "      <td>33</td>\n",
              "    </tr>\n",
              "  </tbody>\n",
              "</table>\n",
              "<p>671 rows × 6 columns</p>\n",
              "</div>\n",
              "      <button class=\"colab-df-convert\" onclick=\"convertToInteractive('df-0a4bac43-98c3-4d45-bcfb-146502d36109')\"\n",
              "              title=\"Convert this dataframe to an interactive table.\"\n",
              "              style=\"display:none;\">\n",
              "        \n",
              "  <svg xmlns=\"http://www.w3.org/2000/svg\" height=\"24px\"viewBox=\"0 0 24 24\"\n",
              "       width=\"24px\">\n",
              "    <path d=\"M0 0h24v24H0V0z\" fill=\"none\"/>\n",
              "    <path d=\"M18.56 5.44l.94 2.06.94-2.06 2.06-.94-2.06-.94-.94-2.06-.94 2.06-2.06.94zm-11 1L8.5 8.5l.94-2.06 2.06-.94-2.06-.94L8.5 2.5l-.94 2.06-2.06.94zm10 10l.94 2.06.94-2.06 2.06-.94-2.06-.94-.94-2.06-.94 2.06-2.06.94z\"/><path d=\"M17.41 7.96l-1.37-1.37c-.4-.4-.92-.59-1.43-.59-.52 0-1.04.2-1.43.59L10.3 9.45l-7.72 7.72c-.78.78-.78 2.05 0 2.83L4 21.41c.39.39.9.59 1.41.59.51 0 1.02-.2 1.41-.59l7.78-7.78 2.81-2.81c.8-.78.8-2.07 0-2.86zM5.41 20L4 18.59l7.72-7.72 1.47 1.35L5.41 20z\"/>\n",
              "  </svg>\n",
              "      </button>\n",
              "      \n",
              "  <style>\n",
              "    .colab-df-container {\n",
              "      display:flex;\n",
              "      flex-wrap:wrap;\n",
              "      gap: 12px;\n",
              "    }\n",
              "\n",
              "    .colab-df-convert {\n",
              "      background-color: #E8F0FE;\n",
              "      border: none;\n",
              "      border-radius: 50%;\n",
              "      cursor: pointer;\n",
              "      display: none;\n",
              "      fill: #1967D2;\n",
              "      height: 32px;\n",
              "      padding: 0 0 0 0;\n",
              "      width: 32px;\n",
              "    }\n",
              "\n",
              "    .colab-df-convert:hover {\n",
              "      background-color: #E2EBFA;\n",
              "      box-shadow: 0px 1px 2px rgba(60, 64, 67, 0.3), 0px 1px 3px 1px rgba(60, 64, 67, 0.15);\n",
              "      fill: #174EA6;\n",
              "    }\n",
              "\n",
              "    [theme=dark] .colab-df-convert {\n",
              "      background-color: #3B4455;\n",
              "      fill: #D2E3FC;\n",
              "    }\n",
              "\n",
              "    [theme=dark] .colab-df-convert:hover {\n",
              "      background-color: #434B5C;\n",
              "      box-shadow: 0px 1px 3px 1px rgba(0, 0, 0, 0.15);\n",
              "      filter: drop-shadow(0px 1px 2px rgba(0, 0, 0, 0.3));\n",
              "      fill: #FFFFFF;\n",
              "    }\n",
              "  </style>\n",
              "\n",
              "      <script>\n",
              "        const buttonEl =\n",
              "          document.querySelector('#df-0a4bac43-98c3-4d45-bcfb-146502d36109 button.colab-df-convert');\n",
              "        buttonEl.style.display =\n",
              "          google.colab.kernel.accessAllowed ? 'block' : 'none';\n",
              "\n",
              "        async function convertToInteractive(key) {\n",
              "          const element = document.querySelector('#df-0a4bac43-98c3-4d45-bcfb-146502d36109');\n",
              "          const dataTable =\n",
              "            await google.colab.kernel.invokeFunction('convertToInteractive',\n",
              "                                                     [key], {});\n",
              "          if (!dataTable) return;\n",
              "\n",
              "          const docLinkHtml = 'Like what you see? Visit the ' +\n",
              "            '<a target=\"_blank\" href=https://colab.research.google.com/notebooks/data_table.ipynb>data table notebook</a>'\n",
              "            + ' to learn more about interactive tables.';\n",
              "          element.innerHTML = '';\n",
              "          dataTable['output_type'] = 'display_data';\n",
              "          await google.colab.output.renderOutput(dataTable, element);\n",
              "          const docLink = document.createElement('div');\n",
              "          docLink.innerHTML = docLinkHtml;\n",
              "          element.appendChild(docLink);\n",
              "        }\n",
              "      </script>\n",
              "    </div>\n",
              "  </div>\n",
              "  "
            ]
          },
          "metadata": {},
          "execution_count": 54
        }
      ],
      "source": [
        "demanda_2.loc[demanda_2[\"ID\"]==74]"
      ]
    },
    {
      "cell_type": "code",
      "execution_count": 55,
      "metadata": {
        "colab": {
          "base_uri": "https://localhost:8080/"
        },
        "id": "i03B4rGeyQlM",
        "outputId": "abbda4c7-6fce-4112-b256-6fe3e087ca66"
      },
      "outputs": [
        {
          "output_type": "execute_result",
          "data": {
            "text/plain": [
              "{'041 - Parangaba/Oliveira Paiva/Papicu': 452383,\n",
              " '076 - Conjunto Ceará/Aldeota/Papicu': 431214,\n",
              " '712 - Conjunto Palmeiras/Papicu': 429077,\n",
              " '042 - Antônio Bezerra/Francisco Sá/Papicu': 394844,\n",
              " '074 - Antônio Bezerra/Unifor': 356597}"
            ]
          },
          "metadata": {},
          "execution_count": 55
        }
      ],
      "source": [
        "linhas = {\"041 - Parangaba/Oliveira Paiva/Papicu\":qtd[41],\"076 - Conjunto Ceará/Aldeota/Papicu\":qtd[76],\"712 - Conjunto Palmeiras/Papicu\":qtd[712],\"042 - Antônio Bezerra/Francisco Sá/Papicu\":qtd[42],\"074 - Antônio Bezerra/Unifor\": qtd[74]}\n",
        "\n",
        "linhas"
      ]
    },
    {
      "cell_type": "markdown",
      "metadata": {
        "id": "LrLqrj_tMqB7"
      },
      "source": [
        "# 3) Quais as 5 linhas que possuem a maior demanda de passageiros nos finais de semana?"
      ]
    },
    {
      "cell_type": "code",
      "execution_count": 56,
      "metadata": {
        "colab": {
          "base_uri": "https://localhost:8080/"
        },
        "id": "8J2JSLU3CPFX",
        "outputId": "f28854a5-1ffa-4c6c-ed31-9cfb68d8b191"
      },
      "outputs": [
        {
          "output_type": "execute_result",
          "data": {
            "text/plain": [
              "(324,)"
            ]
          },
          "metadata": {},
          "execution_count": 56
        }
      ],
      "source": [
        "demanda_2.groupby(\"ID\").sum()[\"Quantidade\"].shape"
      ]
    },
    {
      "cell_type": "markdown",
      "metadata": {
        "id": "GdMc54uiwn-c"
      },
      "source": [
        "Um desafio é saber quais dias são da semana e quais dias são fins de semana. Vamos tentar usando o bdate_range, pra isso vamos ver se a coluna data é do tipo data."
      ]
    },
    {
      "cell_type": "code",
      "execution_count": 57,
      "metadata": {
        "id": "DTKS7nQywziq"
      },
      "outputs": [],
      "source": [
        "demanda_2.dtypes\n",
        "demanda_2[\"Data\"] = pd.to_datetime(demanda_2[\"Data\"])\n"
      ]
    },
    {
      "cell_type": "code",
      "execution_count": 58,
      "metadata": {
        "colab": {
          "base_uri": "https://localhost:8080/"
        },
        "id": "xrrJWoU6xRSR",
        "outputId": "dd39635d-b850-4d4e-afb7-973e78358ace"
      },
      "outputs": [
        {
          "output_type": "execute_result",
          "data": {
            "text/plain": [
              "Data               datetime64[ns]\n",
              "ID                          int64\n",
              "Nome                       object\n",
              "ID Passageiro               int64\n",
              "Tipo Passageiro            object\n",
              "Quantidade                  int64\n",
              "dtype: object"
            ]
          },
          "metadata": {},
          "execution_count": 58
        }
      ],
      "source": [
        "demanda_2.dtypes"
      ]
    },
    {
      "cell_type": "code",
      "execution_count": 59,
      "metadata": {
        "id": "GeX7l8W82Cav"
      },
      "outputs": [],
      "source": [
        "def findWeekend(df):\n",
        "  res = len(pd.bdate_range(df[\"Data\"],df[\"Data\"]))\n",
        "  if res==0:\n",
        "    return True\n",
        "  else:\n",
        "    return False\n"
      ]
    },
    {
      "cell_type": "markdown",
      "metadata": {
        "id": "qmeyB1ZA40XZ"
      },
      "source": [
        "O pd.bdata_range retorna uma \"lista\" de datas que não são finais de semana. Portanto, eu peguei o tamanho dessa lista, se fosse 0 é porque a data é um fim de semana, se fosse 1 é porque a data era um dia da semana. Fiz essa lógica dentro de uma função que usava o dataframe como parâmetro."
      ]
    },
    {
      "cell_type": "code",
      "execution_count": 60,
      "metadata": {
        "id": "k5Zp_MVj2vBX"
      },
      "outputs": [],
      "source": [
        "demanda_2[\"Final de semana\"] = demanda_2.apply(findWeekend, axis=1)"
      ]
    },
    {
      "cell_type": "markdown",
      "metadata": {
        "id": "s4iC0Y3C5Lws"
      },
      "source": [
        "Depois, apliquei a uma nova coluna chamada Final de Semana a função apply que roda a função que está como parâmetro e passa o valor para a nova coluna."
      ]
    },
    {
      "cell_type": "code",
      "execution_count": 61,
      "metadata": {
        "id": "YUAiJftf4ojp"
      },
      "outputs": [],
      "source": [
        "df_mask = demanda_2[\"Final de semana\"] == True\n",
        "demanda_fds = demanda_2[df_mask]"
      ]
    },
    {
      "cell_type": "code",
      "execution_count": 62,
      "metadata": {
        "colab": {
          "base_uri": "https://localhost:8080/"
        },
        "id": "3NXhRUCS48XT",
        "outputId": "ea394662-31dd-4679-97e6-a6664336d61b"
      },
      "outputs": [
        {
          "output_type": "execute_result",
          "data": {
            "text/plain": [
              "(43043, 7)"
            ]
          },
          "metadata": {},
          "execution_count": 62
        }
      ],
      "source": [
        "demanda_fds.shape"
      ]
    },
    {
      "cell_type": "code",
      "execution_count": 63,
      "metadata": {
        "id": "7d-j8FeL5GSn"
      },
      "outputs": [],
      "source": [
        "\n",
        "ranking_fds = demanda_fds.groupby(\"ID\").sum()[\"Quantidade\"].rank(method=\"max\")\n",
        "rank_fds = demanda_fds.groupby(\"ID\").sum()[\"Quantidade\"]"
      ]
    },
    {
      "cell_type": "code",
      "execution_count": 64,
      "metadata": {
        "colab": {
          "base_uri": "https://localhost:8080/"
        },
        "id": "y1fUwRz26MfZ",
        "outputId": "93383e23-b113-43d1-9765-985c9d42db11"
      },
      "outputs": [
        {
          "output_type": "execute_result",
          "data": {
            "text/plain": [
              "(294,)"
            ]
          },
          "metadata": {},
          "execution_count": 64
        }
      ],
      "source": [
        "\n",
        "demanda_fds.groupby(\"ID\").sum()[\"Quantidade\"].shape"
      ]
    },
    {
      "cell_type": "markdown",
      "metadata": {
        "id": "FuPQKT5uuaeL"
      },
      "source": [
        "30 linhas de ônibus não apareceram no dataframe, possivelmente porque não funcionam em um fim de semana."
      ]
    },
    {
      "cell_type": "code",
      "execution_count": 65,
      "metadata": {
        "colab": {
          "base_uri": "https://localhost:8080/"
        },
        "id": "HwOdgbgl5V3J",
        "outputId": "f0d15c9c-e0f7-457e-ab0a-773e2ad29263"
      },
      "outputs": [
        {
          "output_type": "execute_result",
          "data": {
            "text/plain": [
              "ID\n",
              "52     294.0\n",
              "51     293.0\n",
              "41     292.0\n",
              "3      291.0\n",
              "712    290.0\n",
              "42     289.0\n",
              "76     288.0\n",
              "752    287.0\n",
              "45     286.0\n",
              "855    285.0\n",
              "755    284.0\n",
              "Name: Quantidade, dtype: float64"
            ]
          },
          "metadata": {},
          "execution_count": 65
        }
      ],
      "source": [
        "ranking_fds.sort_values(ascending=False).head(11)"
      ]
    },
    {
      "cell_type": "code",
      "execution_count": 66,
      "metadata": {
        "id": "A2dW7WsosXUq"
      },
      "outputs": [],
      "source": [
        "idx_fds = ranking_fds.sort_values(ascending=False).head(11).index"
      ]
    },
    {
      "cell_type": "code",
      "execution_count": 67,
      "metadata": {
        "id": "STgs9Vf3sXUs"
      },
      "outputs": [],
      "source": [
        "fds = rank_fds.loc[idx_fds]"
      ]
    },
    {
      "cell_type": "code",
      "execution_count": 68,
      "metadata": {
        "colab": {
          "base_uri": "https://localhost:8080/"
        },
        "id": "TUstxSpUsXUt",
        "outputId": "b5df56bf-a7f2-43c7-ecd5-39cf21bc9317"
      },
      "outputs": [
        {
          "output_type": "execute_result",
          "data": {
            "text/plain": [
              "ID\n",
              "52     111173\n",
              "51     106220\n",
              "41     105936\n",
              "3       96898\n",
              "712     95092\n",
              "42      80929\n",
              "76      69254\n",
              "752     62434\n",
              "45      52863\n",
              "855     50751\n",
              "755     48930\n",
              "Name: Quantidade, dtype: int64"
            ]
          },
          "metadata": {},
          "execution_count": 68
        }
      ],
      "source": [
        "fds\n"
      ]
    },
    {
      "cell_type": "code",
      "execution_count": 69,
      "metadata": {
        "id": "wRCZls_NsXUu"
      },
      "outputs": [],
      "source": [
        "linhas = demanda_2.drop_duplicates(subset=['ID']).set_index(\"ID\")[\"Nome\"]"
      ]
    },
    {
      "cell_type": "code",
      "execution_count": 70,
      "metadata": {
        "id": "i4RFqPTGsXUv"
      },
      "outputs": [],
      "source": [
        "fds =fds.reset_index()\n",
        "fds[\"Nome\"] = fds['ID'].map(linhas)"
      ]
    },
    {
      "cell_type": "code",
      "execution_count": 71,
      "metadata": {
        "colab": {
          "base_uri": "https://localhost:8080/",
          "height": 394
        },
        "id": "1FBvcZ36sXUw",
        "outputId": "ccf52aef-451c-4413-ab70-1fd6463e6c0d"
      },
      "outputs": [
        {
          "output_type": "execute_result",
          "data": {
            "text/plain": [
              "     ID  Quantidade                                      Nome\n",
              "0    52      111173  Grande Circular II                      \n",
              "1    51      106220                         Grande Circular I\n",
              "2    41      105936  Parangaba/Oliveira Paiva/Papicu         \n",
              "3     3       96898  Terminal Parangaba I                    \n",
              "4   712       95092  Cj Palmeiras/Papicu                     \n",
              "5    42       80929  Antônio Bezerra/Francisco Sá/Papicu     \n",
              "6    76       69254                   Cj Ceará/Aldeota/Papicu\n",
              "7   752       62434  Caça e Pesca/Centro                     \n",
              "8    45       52863  Cj Ceará/Papicu/Montese                 \n",
              "9   855       50751      Bezerra de Menezes/Washington Soares\n",
              "10  755       48930                      Curió/Riomar Kennedy"
            ],
            "text/html": [
              "\n",
              "  <div id=\"df-2d3fafe7-7e83-4d85-a5f6-1c182f4551d4\">\n",
              "    <div class=\"colab-df-container\">\n",
              "      <div>\n",
              "<style scoped>\n",
              "    .dataframe tbody tr th:only-of-type {\n",
              "        vertical-align: middle;\n",
              "    }\n",
              "\n",
              "    .dataframe tbody tr th {\n",
              "        vertical-align: top;\n",
              "    }\n",
              "\n",
              "    .dataframe thead th {\n",
              "        text-align: right;\n",
              "    }\n",
              "</style>\n",
              "<table border=\"1\" class=\"dataframe\">\n",
              "  <thead>\n",
              "    <tr style=\"text-align: right;\">\n",
              "      <th></th>\n",
              "      <th>ID</th>\n",
              "      <th>Quantidade</th>\n",
              "      <th>Nome</th>\n",
              "    </tr>\n",
              "  </thead>\n",
              "  <tbody>\n",
              "    <tr>\n",
              "      <th>0</th>\n",
              "      <td>52</td>\n",
              "      <td>111173</td>\n",
              "      <td>Grande Circular II</td>\n",
              "    </tr>\n",
              "    <tr>\n",
              "      <th>1</th>\n",
              "      <td>51</td>\n",
              "      <td>106220</td>\n",
              "      <td>Grande Circular I</td>\n",
              "    </tr>\n",
              "    <tr>\n",
              "      <th>2</th>\n",
              "      <td>41</td>\n",
              "      <td>105936</td>\n",
              "      <td>Parangaba/Oliveira Paiva/Papicu</td>\n",
              "    </tr>\n",
              "    <tr>\n",
              "      <th>3</th>\n",
              "      <td>3</td>\n",
              "      <td>96898</td>\n",
              "      <td>Terminal Parangaba I</td>\n",
              "    </tr>\n",
              "    <tr>\n",
              "      <th>4</th>\n",
              "      <td>712</td>\n",
              "      <td>95092</td>\n",
              "      <td>Cj Palmeiras/Papicu</td>\n",
              "    </tr>\n",
              "    <tr>\n",
              "      <th>5</th>\n",
              "      <td>42</td>\n",
              "      <td>80929</td>\n",
              "      <td>Antônio Bezerra/Francisco Sá/Papicu</td>\n",
              "    </tr>\n",
              "    <tr>\n",
              "      <th>6</th>\n",
              "      <td>76</td>\n",
              "      <td>69254</td>\n",
              "      <td>Cj Ceará/Aldeota/Papicu</td>\n",
              "    </tr>\n",
              "    <tr>\n",
              "      <th>7</th>\n",
              "      <td>752</td>\n",
              "      <td>62434</td>\n",
              "      <td>Caça e Pesca/Centro</td>\n",
              "    </tr>\n",
              "    <tr>\n",
              "      <th>8</th>\n",
              "      <td>45</td>\n",
              "      <td>52863</td>\n",
              "      <td>Cj Ceará/Papicu/Montese</td>\n",
              "    </tr>\n",
              "    <tr>\n",
              "      <th>9</th>\n",
              "      <td>855</td>\n",
              "      <td>50751</td>\n",
              "      <td>Bezerra de Menezes/Washington Soares</td>\n",
              "    </tr>\n",
              "    <tr>\n",
              "      <th>10</th>\n",
              "      <td>755</td>\n",
              "      <td>48930</td>\n",
              "      <td>Curió/Riomar Kennedy</td>\n",
              "    </tr>\n",
              "  </tbody>\n",
              "</table>\n",
              "</div>\n",
              "      <button class=\"colab-df-convert\" onclick=\"convertToInteractive('df-2d3fafe7-7e83-4d85-a5f6-1c182f4551d4')\"\n",
              "              title=\"Convert this dataframe to an interactive table.\"\n",
              "              style=\"display:none;\">\n",
              "        \n",
              "  <svg xmlns=\"http://www.w3.org/2000/svg\" height=\"24px\"viewBox=\"0 0 24 24\"\n",
              "       width=\"24px\">\n",
              "    <path d=\"M0 0h24v24H0V0z\" fill=\"none\"/>\n",
              "    <path d=\"M18.56 5.44l.94 2.06.94-2.06 2.06-.94-2.06-.94-.94-2.06-.94 2.06-2.06.94zm-11 1L8.5 8.5l.94-2.06 2.06-.94-2.06-.94L8.5 2.5l-.94 2.06-2.06.94zm10 10l.94 2.06.94-2.06 2.06-.94-2.06-.94-.94-2.06-.94 2.06-2.06.94z\"/><path d=\"M17.41 7.96l-1.37-1.37c-.4-.4-.92-.59-1.43-.59-.52 0-1.04.2-1.43.59L10.3 9.45l-7.72 7.72c-.78.78-.78 2.05 0 2.83L4 21.41c.39.39.9.59 1.41.59.51 0 1.02-.2 1.41-.59l7.78-7.78 2.81-2.81c.8-.78.8-2.07 0-2.86zM5.41 20L4 18.59l7.72-7.72 1.47 1.35L5.41 20z\"/>\n",
              "  </svg>\n",
              "      </button>\n",
              "      \n",
              "  <style>\n",
              "    .colab-df-container {\n",
              "      display:flex;\n",
              "      flex-wrap:wrap;\n",
              "      gap: 12px;\n",
              "    }\n",
              "\n",
              "    .colab-df-convert {\n",
              "      background-color: #E8F0FE;\n",
              "      border: none;\n",
              "      border-radius: 50%;\n",
              "      cursor: pointer;\n",
              "      display: none;\n",
              "      fill: #1967D2;\n",
              "      height: 32px;\n",
              "      padding: 0 0 0 0;\n",
              "      width: 32px;\n",
              "    }\n",
              "\n",
              "    .colab-df-convert:hover {\n",
              "      background-color: #E2EBFA;\n",
              "      box-shadow: 0px 1px 2px rgba(60, 64, 67, 0.3), 0px 1px 3px 1px rgba(60, 64, 67, 0.15);\n",
              "      fill: #174EA6;\n",
              "    }\n",
              "\n",
              "    [theme=dark] .colab-df-convert {\n",
              "      background-color: #3B4455;\n",
              "      fill: #D2E3FC;\n",
              "    }\n",
              "\n",
              "    [theme=dark] .colab-df-convert:hover {\n",
              "      background-color: #434B5C;\n",
              "      box-shadow: 0px 1px 3px 1px rgba(0, 0, 0, 0.15);\n",
              "      filter: drop-shadow(0px 1px 2px rgba(0, 0, 0, 0.3));\n",
              "      fill: #FFFFFF;\n",
              "    }\n",
              "  </style>\n",
              "\n",
              "      <script>\n",
              "        const buttonEl =\n",
              "          document.querySelector('#df-2d3fafe7-7e83-4d85-a5f6-1c182f4551d4 button.colab-df-convert');\n",
              "        buttonEl.style.display =\n",
              "          google.colab.kernel.accessAllowed ? 'block' : 'none';\n",
              "\n",
              "        async function convertToInteractive(key) {\n",
              "          const element = document.querySelector('#df-2d3fafe7-7e83-4d85-a5f6-1c182f4551d4');\n",
              "          const dataTable =\n",
              "            await google.colab.kernel.invokeFunction('convertToInteractive',\n",
              "                                                     [key], {});\n",
              "          if (!dataTable) return;\n",
              "\n",
              "          const docLinkHtml = 'Like what you see? Visit the ' +\n",
              "            '<a target=\"_blank\" href=https://colab.research.google.com/notebooks/data_table.ipynb>data table notebook</a>'\n",
              "            + ' to learn more about interactive tables.';\n",
              "          element.innerHTML = '';\n",
              "          dataTable['output_type'] = 'display_data';\n",
              "          await google.colab.output.renderOutput(dataTable, element);\n",
              "          const docLink = document.createElement('div');\n",
              "          docLink.innerHTML = docLinkHtml;\n",
              "          element.appendChild(docLink);\n",
              "        }\n",
              "      </script>\n",
              "    </div>\n",
              "  </div>\n",
              "  "
            ]
          },
          "metadata": {},
          "execution_count": 71
        }
      ],
      "source": [
        "fds"
      ]
    },
    {
      "cell_type": "code",
      "execution_count": 72,
      "metadata": {
        "id": "qlASOeG-sXUx"
      },
      "outputs": [],
      "source": [
        "fds2 = fds.reindex(index=fds.index[::-1])"
      ]
    },
    {
      "cell_type": "code",
      "execution_count": 73,
      "metadata": {
        "id": "QqgJ46H8sXUy"
      },
      "outputs": [],
      "source": [
        "fds2 = fds2.drop(3)"
      ]
    },
    {
      "cell_type": "code",
      "execution_count": 74,
      "metadata": {
        "id": "SWSKY5IVsXU0",
        "colab": {
          "base_uri": "https://localhost:8080/",
          "height": 610
        },
        "outputId": "ccf7728e-63dc-4173-85c7-54af25c47dc8"
      },
      "outputs": [
        {
          "output_type": "display_data",
          "data": {
            "text/plain": [
              "<Figure size 936x720 with 1 Axes>"
            ],
            "image/png": "[encoded data removed]"
          },
          "metadata": {
            "needs_background": "light"
          }
        }
      ],
      "source": [
        "x_fds = list(fds2[\"Nome\"])\n",
        "x_fds = [s.strip() for s in x_fds]\n",
        "\n",
        "y_fds = fds2[\"Quantidade\"]\n",
        "\n",
        "\n",
        "plt.figure(figsize=(13, 10)) \n",
        "plt.barh(x_fds,y_fds,color=\"blue\")\n",
        "\n",
        "plt.xlabel(\"Quantidade de passageiros totais\")\n",
        "plt.ylabel(\"Linha de ônibus\")\n",
        "plt.title(\"Ranking de passageiros nos dias úteis\")\n",
        "plt.savefig(\"ranking_fds2.png\", format=\"png\", bbox_inches='tight')"
      ]
    },
    {
      "cell_type": "markdown",
      "metadata": {
        "id": "vZbLCzoTsXU2"
      },
      "source": []
    },
    {
      "cell_type": "markdown",
      "metadata": {
        "id": "fVC-Km7FMzmS"
      },
      "source": [
        "### Quais as 5 linhas que possuem a maior demanda de passageiros totais nos dias da semana?"
      ]
    },
    {
      "cell_type": "code",
      "execution_count": 75,
      "metadata": {
        "id": "UqqGR0Ke8DI-"
      },
      "outputs": [],
      "source": [
        "df_mask = demanda_2[\"Final de semana\"] == False\n",
        "demanda_bday = demanda_2[df_mask]"
      ]
    },
    {
      "cell_type": "code",
      "execution_count": 76,
      "metadata": {
        "id": "dQPUu2f_8DJA",
        "colab": {
          "base_uri": "https://localhost:8080/"
        },
        "outputId": "9db373d9-f229-4e46-8ff0-d388fcbf07a8"
      },
      "outputs": [
        {
          "output_type": "execute_result",
          "data": {
            "text/plain": [
              "(123419, 7)"
            ]
          },
          "metadata": {},
          "execution_count": 76
        }
      ],
      "source": [
        "demanda_bday.shape"
      ]
    },
    {
      "cell_type": "code",
      "execution_count": 77,
      "metadata": {
        "id": "K_0VIF9cAjr9",
        "colab": {
          "base_uri": "https://localhost:8080/",
          "height": 0
        },
        "outputId": "0c1b584c-ec63-4daf-9bc7-71152882df01"
      },
      "outputs": [
        {
          "output_type": "execute_result",
          "data": {
            "text/plain": [
              "             Data   ID                                      Nome  \\\n",
              "4235   2022-01-03    1  Terminal Antônio Bezerra                   \n",
              "4236   2022-01-03    1  Terminal Antônio Bezerra                   \n",
              "4237   2022-01-03    1  Terminal Antônio Bezerra                   \n",
              "4238   2022-01-03    1  Terminal Antônio Bezerra                   \n",
              "4239   2022-01-03    1  Terminal Antônio Bezerra                   \n",
              "...           ...  ...                                       ...   \n",
              "166457 2022-02-28  920  Papicu/Caça e Pesca                        \n",
              "166458 2022-02-28  920  Papicu/Caça e Pesca                        \n",
              "166459 2022-02-28  999  Quilometragem/Terminal                     \n",
              "166460 2022-02-28  999  Quilometragem/Terminal                     \n",
              "166461 2022-02-28  999  Quilometragem/Terminal                     \n",
              "\n",
              "        ID Passageiro             Tipo Passageiro  Quantidade  Final de semana  \n",
              "4235                3                   Estudante          36            False  \n",
              "4236                4            Gratuidade Idoso        2989            False  \n",
              "4237                5  Vale-transporte (vermelho)          18            False  \n",
              "4238               11         Idoso Identificação         379            False  \n",
              "4239               12        Estudante com débito        1473            False  \n",
              "...               ...                         ...         ...              ...  \n",
              "166457             32         Gratuidade Infantil           1            False  \n",
              "166458             37     VT Beneficio Piloto BUM           2            False  \n",
              "166459              4            Gratuidade Idoso           2            False  \n",
              "166460             11         Idoso Identificação          15            False  \n",
              "166461             12        Estudante com débito           1            False  \n",
              "\n",
              "[123419 rows x 7 columns]"
            ],
            "text/html": [
              "\n",
              "  <div id=\"df-fd5726ee-1615-4ca2-96a1-7752357aa819\">\n",
              "    <div class=\"colab-df-container\">\n",
              "      <div>\n",
              "<style scoped>\n",
              "    .dataframe tbody tr th:only-of-type {\n",
              "        vertical-align: middle;\n",
              "    }\n",
              "\n",
              "    .dataframe tbody tr th {\n",
              "        vertical-align: top;\n",
              "    }\n",
              "\n",
              "    .dataframe thead th {\n",
              "        text-align: right;\n",
              "    }\n",
              "</style>\n",
              "<table border=\"1\" class=\"dataframe\">\n",
              "  <thead>\n",
              "    <tr style=\"text-align: right;\">\n",
              "      <th></th>\n",
              "      <th>Data</th>\n",
              "      <th>ID</th>\n",
              "      <th>Nome</th>\n",
              "      <th>ID Passageiro</th>\n",
              "      <th>Tipo Passageiro</th>\n",
              "      <th>Quantidade</th>\n",
              "      <th>Final de semana</th>\n",
              "    </tr>\n",
              "  </thead>\n",
              "  <tbody>\n",
              "    <tr>\n",
              "      <th>4235</th>\n",
              "      <td>2022-01-03</td>\n",
              "      <td>1</td>\n",
              "      <td>Terminal Antônio Bezerra</td>\n",
              "      <td>3</td>\n",
              "      <td>Estudante</td>\n",
              "      <td>36</td>\n",
              "      <td>False</td>\n",
              "    </tr>\n",
              "    <tr>\n",
              "      <th>4236</th>\n",
              "      <td>2022-01-03</td>\n",
              "      <td>1</td>\n",
              "      <td>Terminal Antônio Bezerra</td>\n",
              "      <td>4</td>\n",
              "      <td>Gratuidade Idoso</td>\n",
              "      <td>2989</td>\n",
              "      <td>False</td>\n",
              "    </tr>\n",
              "    <tr>\n",
              "      <th>4237</th>\n",
              "      <td>2022-01-03</td>\n",
              "      <td>1</td>\n",
              "      <td>Terminal Antônio Bezerra</td>\n",
              "      <td>5</td>\n",
              "      <td>Vale-transporte (vermelho)</td>\n",
              "      <td>18</td>\n",
              "      <td>False</td>\n",
              "    </tr>\n",
              "    <tr>\n",
              "      <th>4238</th>\n",
              "      <td>2022-01-03</td>\n",
              "      <td>1</td>\n",
              "      <td>Terminal Antônio Bezerra</td>\n",
              "      <td>11</td>\n",
              "      <td>Idoso Identificação</td>\n",
              "      <td>379</td>\n",
              "      <td>False</td>\n",
              "    </tr>\n",
              "    <tr>\n",
              "      <th>4239</th>\n",
              "      <td>2022-01-03</td>\n",
              "      <td>1</td>\n",
              "      <td>Terminal Antônio Bezerra</td>\n",
              "      <td>12</td>\n",
              "      <td>Estudante com débito</td>\n",
              "      <td>1473</td>\n",
              "      <td>False</td>\n",
              "    </tr>\n",
              "    <tr>\n",
              "      <th>...</th>\n",
              "      <td>...</td>\n",
              "      <td>...</td>\n",
              "      <td>...</td>\n",
              "      <td>...</td>\n",
              "      <td>...</td>\n",
              "      <td>...</td>\n",
              "      <td>...</td>\n",
              "    </tr>\n",
              "    <tr>\n",
              "      <th>166457</th>\n",
              "      <td>2022-02-28</td>\n",
              "      <td>920</td>\n",
              "      <td>Papicu/Caça e Pesca</td>\n",
              "      <td>32</td>\n",
              "      <td>Gratuidade Infantil</td>\n",
              "      <td>1</td>\n",
              "      <td>False</td>\n",
              "    </tr>\n",
              "    <tr>\n",
              "      <th>166458</th>\n",
              "      <td>2022-02-28</td>\n",
              "      <td>920</td>\n",
              "      <td>Papicu/Caça e Pesca</td>\n",
              "      <td>37</td>\n",
              "      <td>VT Beneficio Piloto BUM</td>\n",
              "      <td>2</td>\n",
              "      <td>False</td>\n",
              "    </tr>\n",
              "    <tr>\n",
              "      <th>166459</th>\n",
              "      <td>2022-02-28</td>\n",
              "      <td>999</td>\n",
              "      <td>Quilometragem/Terminal</td>\n",
              "      <td>4</td>\n",
              "      <td>Gratuidade Idoso</td>\n",
              "      <td>2</td>\n",
              "      <td>False</td>\n",
              "    </tr>\n",
              "    <tr>\n",
              "      <th>166460</th>\n",
              "      <td>2022-02-28</td>\n",
              "      <td>999</td>\n",
              "      <td>Quilometragem/Terminal</td>\n",
              "      <td>11</td>\n",
              "      <td>Idoso Identificação</td>\n",
              "      <td>15</td>\n",
              "      <td>False</td>\n",
              "    </tr>\n",
              "    <tr>\n",
              "      <th>166461</th>\n",
              "      <td>2022-02-28</td>\n",
              "      <td>999</td>\n",
              "      <td>Quilometragem/Terminal</td>\n",
              "      <td>12</td>\n",
              "      <td>Estudante com débito</td>\n",
              "      <td>1</td>\n",
              "      <td>False</td>\n",
              "    </tr>\n",
              "  </tbody>\n",
              "</table>\n",
              "<p>123419 rows × 7 columns</p>\n",
              "</div>\n",
              "      <button class=\"colab-df-convert\" onclick=\"convertToInteractive('df-fd5726ee-1615-4ca2-96a1-7752357aa819')\"\n",
              "              title=\"Convert this dataframe to an interactive table.\"\n",
              "              style=\"display:none;\">\n",
              "        \n",
              "  <svg xmlns=\"http://www.w3.org/2000/svg\" height=\"24px\"viewBox=\"0 0 24 24\"\n",
              "       width=\"24px\">\n",
              "    <path d=\"M0 0h24v24H0V0z\" fill=\"none\"/>\n",
              "    <path d=\"M18.56 5.44l.94 2.06.94-2.06 2.06-.94-2.06-.94-.94-2.06-.94 2.06-2.06.94zm-11 1L8.5 8.5l.94-2.06 2.06-.94-2.06-.94L8.5 2.5l-.94 2.06-2.06.94zm10 10l.94 2.06.94-2.06 2.06-.94-2.06-.94-.94-2.06-.94 2.06-2.06.94z\"/><path d=\"M17.41 7.96l-1.37-1.37c-.4-.4-.92-.59-1.43-.59-.52 0-1.04.2-1.43.59L10.3 9.45l-7.72 7.72c-.78.78-.78 2.05 0 2.83L4 21.41c.39.39.9.59 1.41.59.51 0 1.02-.2 1.41-.59l7.78-7.78 2.81-2.81c.8-.78.8-2.07 0-2.86zM5.41 20L4 18.59l7.72-7.72 1.47 1.35L5.41 20z\"/>\n",
              "  </svg>\n",
              "      </button>\n",
              "      \n",
              "  <style>\n",
              "    .colab-df-container {\n",
              "      display:flex;\n",
              "      flex-wrap:wrap;\n",
              "      gap: 12px;\n",
              "    }\n",
              "\n",
              "    .colab-df-convert {\n",
              "      background-color: #E8F0FE;\n",
              "      border: none;\n",
              "      border-radius: 50%;\n",
              "      cursor: pointer;\n",
              "      display: none;\n",
              "      fill: #1967D2;\n",
              "      height: 32px;\n",
              "      padding: 0 0 0 0;\n",
              "      width: 32px;\n",
              "    }\n",
              "\n",
              "    .colab-df-convert:hover {\n",
              "      background-color: #E2EBFA;\n",
              "      box-shadow: 0px 1px 2px rgba(60, 64, 67, 0.3), 0px 1px 3px 1px rgba(60, 64, 67, 0.15);\n",
              "      fill: #174EA6;\n",
              "    }\n",
              "\n",
              "    [theme=dark] .colab-df-convert {\n",
              "      background-color: #3B4455;\n",
              "      fill: #D2E3FC;\n",
              "    }\n",
              "\n",
              "    [theme=dark] .colab-df-convert:hover {\n",
              "      background-color: #434B5C;\n",
              "      box-shadow: 0px 1px 3px 1px rgba(0, 0, 0, 0.15);\n",
              "      filter: drop-shadow(0px 1px 2px rgba(0, 0, 0, 0.3));\n",
              "      fill: #FFFFFF;\n",
              "    }\n",
              "  </style>\n",
              "\n",
              "      <script>\n",
              "        const buttonEl =\n",
              "          document.querySelector('#df-fd5726ee-1615-4ca2-96a1-7752357aa819 button.colab-df-convert');\n",
              "        buttonEl.style.display =\n",
              "          google.colab.kernel.accessAllowed ? 'block' : 'none';\n",
              "\n",
              "        async function convertToInteractive(key) {\n",
              "          const element = document.querySelector('#df-fd5726ee-1615-4ca2-96a1-7752357aa819');\n",
              "          const dataTable =\n",
              "            await google.colab.kernel.invokeFunction('convertToInteractive',\n",
              "                                                     [key], {});\n",
              "          if (!dataTable) return;\n",
              "\n",
              "          const docLinkHtml = 'Like what you see? Visit the ' +\n",
              "            '<a target=\"_blank\" href=https://colab.research.google.com/notebooks/data_table.ipynb>data table notebook</a>'\n",
              "            + ' to learn more about interactive tables.';\n",
              "          element.innerHTML = '';\n",
              "          dataTable['output_type'] = 'display_data';\n",
              "          await google.colab.output.renderOutput(dataTable, element);\n",
              "          const docLink = document.createElement('div');\n",
              "          docLink.innerHTML = docLinkHtml;\n",
              "          element.appendChild(docLink);\n",
              "        }\n",
              "      </script>\n",
              "    </div>\n",
              "  </div>\n",
              "  "
            ]
          },
          "metadata": {},
          "execution_count": 77
        }
      ],
      "source": [
        "demanda_bday"
      ]
    },
    {
      "cell_type": "code",
      "execution_count": 78,
      "metadata": {
        "id": "1LupEO5N8DJB"
      },
      "outputs": [],
      "source": [
        "\n",
        "rank_bday = demanda_bday.groupby(\"ID\").sum()[\"Quantidade\"]\n",
        "ranking_bday = demanda_bday.groupby(\"ID\").sum()[\"Quantidade\"].rank(method=\"max\")\n"
      ]
    },
    {
      "cell_type": "code",
      "execution_count": 79,
      "metadata": {
        "id": "bcS6nmNlft23",
        "colab": {
          "base_uri": "https://localhost:8080/"
        },
        "outputId": "c31d0fec-5947-4e9e-9cfd-28245f7c369b"
      },
      "outputs": [
        {
          "output_type": "execute_result",
          "data": {
            "text/plain": [
              "ID\n",
              "1      192222\n",
              "2       13848\n",
              "3      397278\n",
              "4       77783\n",
              "5       46056\n",
              "        ...  \n",
              "906    164502\n",
              "907     43850\n",
              "913     55777\n",
              "920     88222\n",
              "999      1491\n",
              "Name: Quantidade, Length: 317, dtype: int64"
            ]
          },
          "metadata": {},
          "execution_count": 79
        }
      ],
      "source": [
        "rank_bday"
      ]
    },
    {
      "cell_type": "code",
      "execution_count": 80,
      "metadata": {
        "id": "ARNm-7mcumdt",
        "colab": {
          "base_uri": "https://localhost:8080/"
        },
        "outputId": "550db471-5527-4a8d-fa8c-0b0460b12687"
      },
      "outputs": [
        {
          "output_type": "execute_result",
          "data": {
            "text/plain": [
              "(317,)"
            ]
          },
          "metadata": {},
          "execution_count": 80
        }
      ],
      "source": [
        "ranking_bday.shape"
      ]
    },
    {
      "cell_type": "code",
      "execution_count": 81,
      "metadata": {
        "id": "Wl40fd9k8DJD"
      },
      "outputs": [],
      "source": [
        "ranking_bday.sort_values(ascending=False).head(11)\n",
        "idx_semana = ranking_bday.sort_values(ascending=False).head(11).index"
      ]
    },
    {
      "cell_type": "code",
      "execution_count": 82,
      "metadata": {
        "id": "i6CVZxQ_-Vjq"
      },
      "outputs": [],
      "source": [
        "demanda_semanaUtil = rank_bday.loc[idx_semana]"
      ]
    },
    {
      "cell_type": "code",
      "execution_count": 83,
      "metadata": {
        "id": "ASzP6Bmb_vSC",
        "colab": {
          "base_uri": "https://localhost:8080/"
        },
        "outputId": "2c1c6735-84e4-44c9-f3aa-bde8c2530c03"
      },
      "outputs": [
        {
          "output_type": "execute_result",
          "data": {
            "text/plain": [
              "ID\n",
              "3      397278\n",
              "76     361960\n",
              "41     346447\n",
              "712    333985\n",
              "42     313915\n",
              "74     311228\n",
              "50     306141\n",
              "755    301841\n",
              "855    277201\n",
              "754    270896\n",
              "45     266372\n",
              "Name: Quantidade, dtype: int64"
            ]
          },
          "metadata": {},
          "execution_count": 83
        }
      ],
      "source": [
        "demanda_semanaUtil"
      ]
    },
    {
      "cell_type": "code",
      "execution_count": 84,
      "metadata": {
        "id": "wciDGlGHA7-E"
      },
      "outputs": [],
      "source": [
        "semana = demanda_2.drop_duplicates(subset=['ID']).set_index(\"ID\")[\"Nome\"]"
      ]
    },
    {
      "cell_type": "code",
      "execution_count": 85,
      "metadata": {
        "id": "CCrLUNffA7-G"
      },
      "outputs": [],
      "source": [
        "demanda_semanaUtil = demanda_semanaUtil.reset_index()\n",
        "demanda_semanaUtil[\"Nome\"] = demanda_semanaUtil['ID'].map(semana)"
      ]
    },
    {
      "cell_type": "code",
      "execution_count": 86,
      "metadata": {
        "id": "s_xN_4sEBs9M",
        "colab": {
          "base_uri": "https://localhost:8080/",
          "height": 0
        },
        "outputId": "594c33ea-71ab-4205-bb3c-c01516278c95"
      },
      "outputs": [
        {
          "output_type": "execute_result",
          "data": {
            "text/plain": [
              "     ID  Quantidade                                      Nome\n",
              "0     3      397278  Terminal Parangaba I                    \n",
              "1    76      361960                   Cj Ceará/Aldeota/Papicu\n",
              "2    41      346447  Parangaba/Oliveira Paiva/Papicu         \n",
              "3   712      333985  Cj Palmeiras/Papicu                     \n",
              "4    42      313915  Antônio Bezerra/Francisco Sá/Papicu     \n",
              "5    74      311228  Antônio Bezerra/Unifor                  \n",
              "6    50      306141  Siqueira/Papicu/Washington Soares       \n",
              "7   755      301841                      Curió/Riomar Kennedy\n",
              "8   855      277201      Bezerra de Menezes/Washington Soares\n",
              "9   754      270896  Granja Lisboa/Goiabeiras                \n",
              "10   45      266372  Cj Ceará/Papicu/Montese                 "
            ],
            "text/html": [
              "\n",
              "  <div id=\"df-d789314e-dc94-4262-acb4-060165c62857\">\n",
              "    <div class=\"colab-df-container\">\n",
              "      <div>\n",
              "<style scoped>\n",
              "    .dataframe tbody tr th:only-of-type {\n",
              "        vertical-align: middle;\n",
              "    }\n",
              "\n",
              "    .dataframe tbody tr th {\n",
              "        vertical-align: top;\n",
              "    }\n",
              "\n",
              "    .dataframe thead th {\n",
              "        text-align: right;\n",
              "    }\n",
              "</style>\n",
              "<table border=\"1\" class=\"dataframe\">\n",
              "  <thead>\n",
              "    <tr style=\"text-align: right;\">\n",
              "      <th></th>\n",
              "      <th>ID</th>\n",
              "      <th>Quantidade</th>\n",
              "      <th>Nome</th>\n",
              "    </tr>\n",
              "  </thead>\n",
              "  <tbody>\n",
              "    <tr>\n",
              "      <th>0</th>\n",
              "      <td>3</td>\n",
              "      <td>397278</td>\n",
              "      <td>Terminal Parangaba I</td>\n",
              "    </tr>\n",
              "    <tr>\n",
              "      <th>1</th>\n",
              "      <td>76</td>\n",
              "      <td>361960</td>\n",
              "      <td>Cj Ceará/Aldeota/Papicu</td>\n",
              "    </tr>\n",
              "    <tr>\n",
              "      <th>2</th>\n",
              "      <td>41</td>\n",
              "      <td>346447</td>\n",
              "      <td>Parangaba/Oliveira Paiva/Papicu</td>\n",
              "    </tr>\n",
              "    <tr>\n",
              "      <th>3</th>\n",
              "      <td>712</td>\n",
              "      <td>333985</td>\n",
              "      <td>Cj Palmeiras/Papicu</td>\n",
              "    </tr>\n",
              "    <tr>\n",
              "      <th>4</th>\n",
              "      <td>42</td>\n",
              "      <td>313915</td>\n",
              "      <td>Antônio Bezerra/Francisco Sá/Papicu</td>\n",
              "    </tr>\n",
              "    <tr>\n",
              "      <th>5</th>\n",
              "      <td>74</td>\n",
              "      <td>311228</td>\n",
              "      <td>Antônio Bezerra/Unifor</td>\n",
              "    </tr>\n",
              "    <tr>\n",
              "      <th>6</th>\n",
              "      <td>50</td>\n",
              "      <td>306141</td>\n",
              "      <td>Siqueira/Papicu/Washington Soares</td>\n",
              "    </tr>\n",
              "    <tr>\n",
              "      <th>7</th>\n",
              "      <td>755</td>\n",
              "      <td>301841</td>\n",
              "      <td>Curió/Riomar Kennedy</td>\n",
              "    </tr>\n",
              "    <tr>\n",
              "      <th>8</th>\n",
              "      <td>855</td>\n",
              "      <td>277201</td>\n",
              "      <td>Bezerra de Menezes/Washington Soares</td>\n",
              "    </tr>\n",
              "    <tr>\n",
              "      <th>9</th>\n",
              "      <td>754</td>\n",
              "      <td>270896</td>\n",
              "      <td>Granja Lisboa/Goiabeiras</td>\n",
              "    </tr>\n",
              "    <tr>\n",
              "      <th>10</th>\n",
              "      <td>45</td>\n",
              "      <td>266372</td>\n",
              "      <td>Cj Ceará/Papicu/Montese</td>\n",
              "    </tr>\n",
              "  </tbody>\n",
              "</table>\n",
              "</div>\n",
              "      <button class=\"colab-df-convert\" onclick=\"convertToInteractive('df-d789314e-dc94-4262-acb4-060165c62857')\"\n",
              "              title=\"Convert this dataframe to an interactive table.\"\n",
              "              style=\"display:none;\">\n",
              "        \n",
              "  <svg xmlns=\"http://www.w3.org/2000/svg\" height=\"24px\"viewBox=\"0 0 24 24\"\n",
              "       width=\"24px\">\n",
              "    <path d=\"M0 0h24v24H0V0z\" fill=\"none\"/>\n",
              "    <path d=\"M18.56 5.44l.94 2.06.94-2.06 2.06-.94-2.06-.94-.94-2.06-.94 2.06-2.06.94zm-11 1L8.5 8.5l.94-2.06 2.06-.94-2.06-.94L8.5 2.5l-.94 2.06-2.06.94zm10 10l.94 2.06.94-2.06 2.06-.94-2.06-.94-.94-2.06-.94 2.06-2.06.94z\"/><path d=\"M17.41 7.96l-1.37-1.37c-.4-.4-.92-.59-1.43-.59-.52 0-1.04.2-1.43.59L10.3 9.45l-7.72 7.72c-.78.78-.78 2.05 0 2.83L4 21.41c.39.39.9.59 1.41.59.51 0 1.02-.2 1.41-.59l7.78-7.78 2.81-2.81c.8-.78.8-2.07 0-2.86zM5.41 20L4 18.59l7.72-7.72 1.47 1.35L5.41 20z\"/>\n",
              "  </svg>\n",
              "      </button>\n",
              "      \n",
              "  <style>\n",
              "    .colab-df-container {\n",
              "      display:flex;\n",
              "      flex-wrap:wrap;\n",
              "      gap: 12px;\n",
              "    }\n",
              "\n",
              "    .colab-df-convert {\n",
              "      background-color: #E8F0FE;\n",
              "      border: none;\n",
              "      border-radius: 50%;\n",
              "      cursor: pointer;\n",
              "      display: none;\n",
              "      fill: #1967D2;\n",
              "      height: 32px;\n",
              "      padding: 0 0 0 0;\n",
              "      width: 32px;\n",
              "    }\n",
              "\n",
              "    .colab-df-convert:hover {\n",
              "      background-color: #E2EBFA;\n",
              "      box-shadow: 0px 1px 2px rgba(60, 64, 67, 0.3), 0px 1px 3px 1px rgba(60, 64, 67, 0.15);\n",
              "      fill: #174EA6;\n",
              "    }\n",
              "\n",
              "    [theme=dark] .colab-df-convert {\n",
              "      background-color: #3B4455;\n",
              "      fill: #D2E3FC;\n",
              "    }\n",
              "\n",
              "    [theme=dark] .colab-df-convert:hover {\n",
              "      background-color: #434B5C;\n",
              "      box-shadow: 0px 1px 3px 1px rgba(0, 0, 0, 0.15);\n",
              "      filter: drop-shadow(0px 1px 2px rgba(0, 0, 0, 0.3));\n",
              "      fill: #FFFFFF;\n",
              "    }\n",
              "  </style>\n",
              "\n",
              "      <script>\n",
              "        const buttonEl =\n",
              "          document.querySelector('#df-d789314e-dc94-4262-acb4-060165c62857 button.colab-df-convert');\n",
              "        buttonEl.style.display =\n",
              "          google.colab.kernel.accessAllowed ? 'block' : 'none';\n",
              "\n",
              "        async function convertToInteractive(key) {\n",
              "          const element = document.querySelector('#df-d789314e-dc94-4262-acb4-060165c62857');\n",
              "          const dataTable =\n",
              "            await google.colab.kernel.invokeFunction('convertToInteractive',\n",
              "                                                     [key], {});\n",
              "          if (!dataTable) return;\n",
              "\n",
              "          const docLinkHtml = 'Like what you see? Visit the ' +\n",
              "            '<a target=\"_blank\" href=https://colab.research.google.com/notebooks/data_table.ipynb>data table notebook</a>'\n",
              "            + ' to learn more about interactive tables.';\n",
              "          element.innerHTML = '';\n",
              "          dataTable['output_type'] = 'display_data';\n",
              "          await google.colab.output.renderOutput(dataTable, element);\n",
              "          const docLink = document.createElement('div');\n",
              "          docLink.innerHTML = docLinkHtml;\n",
              "          element.appendChild(docLink);\n",
              "        }\n",
              "      </script>\n",
              "    </div>\n",
              "  </div>\n",
              "  "
            ]
          },
          "metadata": {},
          "execution_count": 86
        }
      ],
      "source": [
        "demanda_semanaUtil"
      ]
    },
    {
      "cell_type": "code",
      "execution_count": 87,
      "metadata": {
        "id": "HzFAyZL_jdo8"
      },
      "outputs": [],
      "source": [
        "semana_util = demanda_semanaUtil.reindex(index=demanda_semanaUtil.index[::-1])"
      ]
    },
    {
      "cell_type": "code",
      "execution_count": 88,
      "metadata": {
        "id": "JQvHKOy-jsdC"
      },
      "outputs": [],
      "source": [
        "semana_util = semana_util.drop(0)"
      ]
    },
    {
      "cell_type": "code",
      "execution_count": 89,
      "metadata": {
        "id": "dAWpNwc08DJF",
        "colab": {
          "base_uri": "https://localhost:8080/",
          "height": 0
        },
        "outputId": "34e9f3dd-eb09-4b0c-8666-4b59a1b76553"
      },
      "outputs": [
        {
          "output_type": "display_data",
          "data": {
            "text/plain": [
              "<Figure size 936x720 with 1 Axes>"
            ],
            "image/png": "[encoded data removed]"
          },
          "metadata": {
            "needs_background": "light"
          }
        }
      ],
      "source": [
        "x_linha = list(semana_util[\"Nome\"])\n",
        "x_linha = [s.strip() for s in x_linha]\n",
        "\n",
        "y_dias = semana_util[\"Quantidade\"]\n",
        "\n",
        "\n",
        "plt.figure(figsize=(13, 10)) \n",
        "plt.barh(x_linha,y_dias,color=\"blue\")\n",
        "\n",
        "plt.xlabel(\"Quantidade de passageiros totais\")\n",
        "plt.ylabel(\"Linha de ônibus\")\n",
        "plt.title(\"Ranking de passageiros nos dias úteis\")\n",
        "plt.savefig(\"ranking_uteis.png\", format=\"png\", bbox_inches='tight')"
      ]
    },
    {
      "cell_type": "markdown",
      "metadata": {
        "id": "xxPOh30mu332"
      },
      "source": []
    },
    {
      "cell_type": "markdown",
      "metadata": {
        "id": "FiR0mAdLu6al"
      },
      "source": [
        "# 4) Qual a proporção de pagantes x gratuidades em Fortaleza."
      ]
    },
    {
      "cell_type": "markdown",
      "metadata": {
        "id": "O7Zbr3ZqvSxm"
      },
      "source": [
        "Primeiro vamos ver quantos ID de passageiros existem, e avaliar quais são pagos e gratuitos."
      ]
    },
    {
      "cell_type": "code",
      "execution_count": 90,
      "metadata": {
        "id": "dUIaioDDvfFG",
        "colab": {
          "base_uri": "https://localhost:8080/",
          "height": 424
        },
        "outputId": "ae358067-0afc-4998-c244-aaee63376625"
      },
      "outputs": [
        {
          "output_type": "execute_result",
          "data": {
            "text/plain": [
              "             Data   ID                                      Nome  \\\n",
              "0      2022-01-01    1  Terminal Antônio Bezerra                   \n",
              "1      2022-01-01    1  Terminal Antônio Bezerra                   \n",
              "2      2022-01-01    1  Terminal Antônio Bezerra                   \n",
              "3      2022-01-01    1  Terminal Antônio Bezerra                   \n",
              "4      2022-01-01    1  Terminal Antônio Bezerra                   \n",
              "...           ...  ...                                       ...   \n",
              "166457 2022-02-28  920  Papicu/Caça e Pesca                        \n",
              "166458 2022-02-28  920  Papicu/Caça e Pesca                        \n",
              "166459 2022-02-28  999  Quilometragem/Terminal                     \n",
              "166460 2022-02-28  999  Quilometragem/Terminal                     \n",
              "166461 2022-02-28  999  Quilometragem/Terminal                     \n",
              "\n",
              "        ID Passageiro             Tipo Passageiro  Quantidade  Final de semana  \n",
              "0                   4            Gratuidade Idoso         666             True  \n",
              "1                   5  Vale-transporte (vermelho)           2             True  \n",
              "2                  11         Idoso Identificação          97             True  \n",
              "3                  12        Estudante com débito         873             True  \n",
              "4                  16  Grat. Deficiente - S/Acomp           4             True  \n",
              "...               ...                         ...         ...              ...  \n",
              "166457             32         Gratuidade Infantil           1            False  \n",
              "166458             37     VT Beneficio Piloto BUM           2            False  \n",
              "166459              4            Gratuidade Idoso           2            False  \n",
              "166460             11         Idoso Identificação          15            False  \n",
              "166461             12        Estudante com débito           1            False  \n",
              "\n",
              "[166462 rows x 7 columns]"
            ],
            "text/html": [
              "\n",
              "  <div id=\"df-18b9dc97-028b-4347-818e-653c7500a0b7\">\n",
              "    <div class=\"colab-df-container\">\n",
              "      <div>\n",
              "<style scoped>\n",
              "    .dataframe tbody tr th:only-of-type {\n",
              "        vertical-align: middle;\n",
              "    }\n",
              "\n",
              "    .dataframe tbody tr th {\n",
              "        vertical-align: top;\n",
              "    }\n",
              "\n",
              "    .dataframe thead th {\n",
              "        text-align: right;\n",
              "    }\n",
              "</style>\n",
              "<table border=\"1\" class=\"dataframe\">\n",
              "  <thead>\n",
              "    <tr style=\"text-align: right;\">\n",
              "      <th></th>\n",
              "      <th>Data</th>\n",
              "      <th>ID</th>\n",
              "      <th>Nome</th>\n",
              "      <th>ID Passageiro</th>\n",
              "      <th>Tipo Passageiro</th>\n",
              "      <th>Quantidade</th>\n",
              "      <th>Final de semana</th>\n",
              "    </tr>\n",
              "  </thead>\n",
              "  <tbody>\n",
              "    <tr>\n",
              "      <th>0</th>\n",
              "      <td>2022-01-01</td>\n",
              "      <td>1</td>\n",
              "      <td>Terminal Antônio Bezerra</td>\n",
              "      <td>4</td>\n",
              "      <td>Gratuidade Idoso</td>\n",
              "      <td>666</td>\n",
              "      <td>True</td>\n",
              "    </tr>\n",
              "    <tr>\n",
              "      <th>1</th>\n",
              "      <td>2022-01-01</td>\n",
              "      <td>1</td>\n",
              "      <td>Terminal Antônio Bezerra</td>\n",
              "      <td>5</td>\n",
              "      <td>Vale-transporte (vermelho)</td>\n",
              "      <td>2</td>\n",
              "      <td>True</td>\n",
              "    </tr>\n",
              "    <tr>\n",
              "      <th>2</th>\n",
              "      <td>2022-01-01</td>\n",
              "      <td>1</td>\n",
              "      <td>Terminal Antônio Bezerra</td>\n",
              "      <td>11</td>\n",
              "      <td>Idoso Identificação</td>\n",
              "      <td>97</td>\n",
              "      <td>True</td>\n",
              "    </tr>\n",
              "    <tr>\n",
              "      <th>3</th>\n",
              "      <td>2022-01-01</td>\n",
              "      <td>1</td>\n",
              "      <td>Terminal Antônio Bezerra</td>\n",
              "      <td>12</td>\n",
              "      <td>Estudante com débito</td>\n",
              "      <td>873</td>\n",
              "      <td>True</td>\n",
              "    </tr>\n",
              "    <tr>\n",
              "      <th>4</th>\n",
              "      <td>2022-01-01</td>\n",
              "      <td>1</td>\n",
              "      <td>Terminal Antônio Bezerra</td>\n",
              "      <td>16</td>\n",
              "      <td>Grat. Deficiente - S/Acomp</td>\n",
              "      <td>4</td>\n",
              "      <td>True</td>\n",
              "    </tr>\n",
              "    <tr>\n",
              "      <th>...</th>\n",
              "      <td>...</td>\n",
              "      <td>...</td>\n",
              "      <td>...</td>\n",
              "      <td>...</td>\n",
              "      <td>...</td>\n",
              "      <td>...</td>\n",
              "      <td>...</td>\n",
              "    </tr>\n",
              "    <tr>\n",
              "      <th>166457</th>\n",
              "      <td>2022-02-28</td>\n",
              "      <td>920</td>\n",
              "      <td>Papicu/Caça e Pesca</td>\n",
              "      <td>32</td>\n",
              "      <td>Gratuidade Infantil</td>\n",
              "      <td>1</td>\n",
              "      <td>False</td>\n",
              "    </tr>\n",
              "    <tr>\n",
              "      <th>166458</th>\n",
              "      <td>2022-02-28</td>\n",
              "      <td>920</td>\n",
              "      <td>Papicu/Caça e Pesca</td>\n",
              "      <td>37</td>\n",
              "      <td>VT Beneficio Piloto BUM</td>\n",
              "      <td>2</td>\n",
              "      <td>False</td>\n",
              "    </tr>\n",
              "    <tr>\n",
              "      <th>166459</th>\n",
              "      <td>2022-02-28</td>\n",
              "      <td>999</td>\n",
              "      <td>Quilometragem/Terminal</td>\n",
              "      <td>4</td>\n",
              "      <td>Gratuidade Idoso</td>\n",
              "      <td>2</td>\n",
              "      <td>False</td>\n",
              "    </tr>\n",
              "    <tr>\n",
              "      <th>166460</th>\n",
              "      <td>2022-02-28</td>\n",
              "      <td>999</td>\n",
              "      <td>Quilometragem/Terminal</td>\n",
              "      <td>11</td>\n",
              "      <td>Idoso Identificação</td>\n",
              "      <td>15</td>\n",
              "      <td>False</td>\n",
              "    </tr>\n",
              "    <tr>\n",
              "      <th>166461</th>\n",
              "      <td>2022-02-28</td>\n",
              "      <td>999</td>\n",
              "      <td>Quilometragem/Terminal</td>\n",
              "      <td>12</td>\n",
              "      <td>Estudante com débito</td>\n",
              "      <td>1</td>\n",
              "      <td>False</td>\n",
              "    </tr>\n",
              "  </tbody>\n",
              "</table>\n",
              "<p>166462 rows × 7 columns</p>\n",
              "</div>\n",
              "      <button class=\"colab-df-convert\" onclick=\"convertToInteractive('df-18b9dc97-028b-4347-818e-653c7500a0b7')\"\n",
              "              title=\"Convert this dataframe to an interactive table.\"\n",
              "              style=\"display:none;\">\n",
              "        \n",
              "  <svg xmlns=\"http://www.w3.org/2000/svg\" height=\"24px\"viewBox=\"0 0 24 24\"\n",
              "       width=\"24px\">\n",
              "    <path d=\"M0 0h24v24H0V0z\" fill=\"none\"/>\n",
              "    <path d=\"M18.56 5.44l.94 2.06.94-2.06 2.06-.94-2.06-.94-.94-2.06-.94 2.06-2.06.94zm-11 1L8.5 8.5l.94-2.06 2.06-.94-2.06-.94L8.5 2.5l-.94 2.06-2.06.94zm10 10l.94 2.06.94-2.06 2.06-.94-2.06-.94-.94-2.06-.94 2.06-2.06.94z\"/><path d=\"M17.41 7.96l-1.37-1.37c-.4-.4-.92-.59-1.43-.59-.52 0-1.04.2-1.43.59L10.3 9.45l-7.72 7.72c-.78.78-.78 2.05 0 2.83L4 21.41c.39.39.9.59 1.41.59.51 0 1.02-.2 1.41-.59l7.78-7.78 2.81-2.81c.8-.78.8-2.07 0-2.86zM5.41 20L4 18.59l7.72-7.72 1.47 1.35L5.41 20z\"/>\n",
              "  </svg>\n",
              "      </button>\n",
              "      \n",
              "  <style>\n",
              "    .colab-df-container {\n",
              "      display:flex;\n",
              "      flex-wrap:wrap;\n",
              "      gap: 12px;\n",
              "    }\n",
              "\n",
              "    .colab-df-convert {\n",
              "      background-color: #E8F0FE;\n",
              "      border: none;\n",
              "      border-radius: 50%;\n",
              "      cursor: pointer;\n",
              "      display: none;\n",
              "      fill: #1967D2;\n",
              "      height: 32px;\n",
              "      padding: 0 0 0 0;\n",
              "      width: 32px;\n",
              "    }\n",
              "\n",
              "    .colab-df-convert:hover {\n",
              "      background-color: #E2EBFA;\n",
              "      box-shadow: 0px 1px 2px rgba(60, 64, 67, 0.3), 0px 1px 3px 1px rgba(60, 64, 67, 0.15);\n",
              "      fill: #174EA6;\n",
              "    }\n",
              "\n",
              "    [theme=dark] .colab-df-convert {\n",
              "      background-color: #3B4455;\n",
              "      fill: #D2E3FC;\n",
              "    }\n",
              "\n",
              "    [theme=dark] .colab-df-convert:hover {\n",
              "      background-color: #434B5C;\n",
              "      box-shadow: 0px 1px 3px 1px rgba(0, 0, 0, 0.15);\n",
              "      filter: drop-shadow(0px 1px 2px rgba(0, 0, 0, 0.3));\n",
              "      fill: #FFFFFF;\n",
              "    }\n",
              "  </style>\n",
              "\n",
              "      <script>\n",
              "        const buttonEl =\n",
              "          document.querySelector('#df-18b9dc97-028b-4347-818e-653c7500a0b7 button.colab-df-convert');\n",
              "        buttonEl.style.display =\n",
              "          google.colab.kernel.accessAllowed ? 'block' : 'none';\n",
              "\n",
              "        async function convertToInteractive(key) {\n",
              "          const element = document.querySelector('#df-18b9dc97-028b-4347-818e-653c7500a0b7');\n",
              "          const dataTable =\n",
              "            await google.colab.kernel.invokeFunction('convertToInteractive',\n",
              "                                                     [key], {});\n",
              "          if (!dataTable) return;\n",
              "\n",
              "          const docLinkHtml = 'Like what you see? Visit the ' +\n",
              "            '<a target=\"_blank\" href=https://colab.research.google.com/notebooks/data_table.ipynb>data table notebook</a>'\n",
              "            + ' to learn more about interactive tables.';\n",
              "          element.innerHTML = '';\n",
              "          dataTable['output_type'] = 'display_data';\n",
              "          await google.colab.output.renderOutput(dataTable, element);\n",
              "          const docLink = document.createElement('div');\n",
              "          docLink.innerHTML = docLinkHtml;\n",
              "          element.appendChild(docLink);\n",
              "        }\n",
              "      </script>\n",
              "    </div>\n",
              "  </div>\n",
              "  "
            ]
          },
          "metadata": {},
          "execution_count": 90
        }
      ],
      "source": [
        "demanda_2"
      ]
    },
    {
      "cell_type": "code",
      "execution_count": 91,
      "metadata": {
        "id": "k8jeOC9RvhDu"
      },
      "outputs": [],
      "source": [
        "tipos_passageiro = demanda_2[\"ID Passageiro\"].unique()"
      ]
    },
    {
      "cell_type": "code",
      "execution_count": 92,
      "metadata": {
        "id": "AF1V2Hq5v7I2",
        "colab": {
          "base_uri": "https://localhost:8080/"
        },
        "outputId": "d671cd79-9164-4e6c-9a49-2c9e80e91296"
      },
      "outputs": [
        {
          "output_type": "execute_result",
          "data": {
            "text/plain": [
              "array([ 4,  5, 11, 12, 16, 37,  2, 27,  3,  6,  9, 15, 31, 32, 28, 33,  7])"
            ]
          },
          "metadata": {},
          "execution_count": 92
        }
      ],
      "source": [
        "tipos_passageiro"
      ]
    },
    {
      "cell_type": "code",
      "execution_count": 93,
      "metadata": {
        "id": "rzuk8zeBv8ea",
        "colab": {
          "base_uri": "https://localhost:8080/"
        },
        "outputId": "ba6e59f3-7396-456f-d6ef-f5745f25254c"
      },
      "outputs": [
        {
          "output_type": "execute_result",
          "data": {
            "text/plain": [
              "17"
            ]
          },
          "metadata": {},
          "execution_count": 93
        }
      ],
      "source": [
        "len(tipos_passageiro)\n",
        "\n",
        "\n",
        "\n",
        "\n",
        "\n",
        "\n",
        "\n",
        "\n"
      ]
    },
    {
      "cell_type": "markdown",
      "metadata": {
        "id": "RNBxR4-F77Xd"
      },
      "source": [
        "Temos 17 tipos diferentes de passageiros (maneiras de pagar passagem."
      ]
    },
    {
      "cell_type": "markdown",
      "metadata": {
        "id": "VFT8C6Pf8FGi"
      },
      "source": [
        "O código abaixo separa as linhas pelo tipo de passageiro e soma as quantidades gerando o seguinte dataframe:"
      ]
    },
    {
      "cell_type": "code",
      "execution_count": 94,
      "metadata": {
        "id": "MhhioTuGyrDE"
      },
      "outputs": [],
      "source": [
        "df_tipo_passageiro = demanda_2.groupby(\"Tipo Passageiro\").sum()[\"Quantidade\"]"
      ]
    },
    {
      "cell_type": "code",
      "execution_count": 95,
      "metadata": {
        "id": "n95AoAWiwUQI",
        "colab": {
          "base_uri": "https://localhost:8080/"
        },
        "outputId": "8a6b51c8-e330-41b1-e716-e50f91011a9a"
      },
      "outputs": [
        {
          "output_type": "execute_result",
          "data": {
            "text/plain": [
              "Tipo Passageiro\n",
              "Crachá Empresas                        7583\n",
              "Estudante                            330529\n",
              "Estudante com débito                8281646\n",
              "Grat. Deficiente - S/Acomp           718802\n",
              "Gratuidade Identificação Ettusa           4\n",
              "Gratuidade Idoso                   12740376\n",
              "Gratuidade Infantil                   22060\n",
              "Idoso Identificação                 3045964\n",
              "Pagante Horário Diferenciado         202663\n",
              "Popular                               95857\n",
              "Projovem                              72209\n",
              "Transbordo                            18315\n",
              "VT Beneficio Piloto BUM              107807\n",
              "Vale-Trasnporte ENEM                    177\n",
              "Vale-transporte (vermelho)            94711\n",
              "Vt. Identificação                    279306\n",
              "Vt. Institucional                     24417\n",
              "Name: Quantidade, dtype: int64"
            ]
          },
          "metadata": {},
          "execution_count": 95
        }
      ],
      "source": [
        "df_tipo_passageiro"
      ]
    },
    {
      "cell_type": "code",
      "source": [
        "df_exibicao = df_tipo_passageiro.reset_index()"
      ],
      "metadata": {
        "id": "zYQU1gcztQL3"
      },
      "execution_count": 96,
      "outputs": []
    },
    {
      "cell_type": "markdown",
      "metadata": {
        "id": "D_2bjWRg8WsZ"
      },
      "source": [
        "Depois somamos as quantidades de passageiros com gratuidade. Para a meia passagem dividimos a quantidade por dois para ficar metade das pessoas com valor cheio e metade gratuito."
      ]
    },
    {
      "cell_type": "code",
      "execution_count": 97,
      "metadata": {
        "id": "krAUNYoK5cF-"
      },
      "outputs": [],
      "source": [
        "pagos = df_tipo_passageiro.iloc[[8,9,10,11,12,13,14,15,16]].sum() + \\\n",
        "              df_tipo_passageiro[[\"Estudante\",\"Estudante com débito\"]].sum()*0.5"
      ]
    },
    {
      "cell_type": "code",
      "execution_count": 98,
      "metadata": {
        "id": "tbK56eIrwaTB"
      },
      "outputs": [],
      "source": [
        "gratuidades = df_tipo_passageiro.iloc[[0,3,4,5,6,7]].sum() + \\\n",
        "              df_tipo_passageiro[[\"Estudante\",\"Estudante com débito\"]].sum()*0.5"
      ]
    },
    {
      "cell_type": "code",
      "execution_count": 99,
      "metadata": {
        "id": "XN3RDd-K3m2X",
        "colab": {
          "base_uri": "https://localhost:8080/"
        },
        "outputId": "bf6e46d4-8471-476d-942e-d4c6c9ad798a"
      },
      "outputs": [
        {
          "output_type": "execute_result",
          "data": {
            "text/plain": [
              "20840876.5"
            ]
          },
          "metadata": {},
          "execution_count": 99
        }
      ],
      "source": [
        "gratuidades"
      ]
    },
    {
      "cell_type": "code",
      "source": [
        "pagos"
      ],
      "metadata": {
        "colab": {
          "base_uri": "https://localhost:8080/"
        },
        "id": "CZ2umHNC7Uzq",
        "outputId": "e2fef097-09f4-412b-b7c7-26d1010ba76b"
      },
      "execution_count": 100,
      "outputs": [
        {
          "output_type": "execute_result",
          "data": {
            "text/plain": [
              "5201549.5"
            ]
          },
          "metadata": {},
          "execution_count": 100
        }
      ]
    },
    {
      "cell_type": "code",
      "execution_count": 101,
      "metadata": {
        "id": "vLLfqlk24W6V"
      },
      "outputs": [],
      "source": [
        "total = df_tipo_passageiro.sum() ###total de quantidades juntando tudo"
      ]
    },
    {
      "cell_type": "code",
      "execution_count": 102,
      "metadata": {
        "id": "GcHfdNbK4cya",
        "colab": {
          "base_uri": "https://localhost:8080/"
        },
        "outputId": "ebac489c-d0fc-4035-b24c-a57f60a09f67"
      },
      "outputs": [
        {
          "output_type": "stream",
          "name": "stdout",
          "text": [
            "80.02663231144442\n"
          ]
        }
      ],
      "source": [
        "pct_gratis = gratuidades/total\n",
        "print(pct_gratis*100)"
      ]
    },
    {
      "cell_type": "code",
      "execution_count": 103,
      "metadata": {
        "id": "thEUK9Bk5K4E",
        "colab": {
          "base_uri": "https://localhost:8080/"
        },
        "outputId": "e69be247-7d35-4ec6-cb5b-754122038080"
      },
      "outputs": [
        {
          "output_type": "stream",
          "name": "stdout",
          "text": [
            "19.97336768855559\n"
          ]
        }
      ],
      "source": [
        "pct_pago = pagos/total\n",
        "print(pct_pago*100)"
      ]
    },
    {
      "cell_type": "code",
      "execution_count": 104,
      "metadata": {
        "id": "S0zOvG8o50TG",
        "colab": {
          "base_uri": "https://localhost:8080/"
        },
        "outputId": "218b3a89-ebed-4d37-8bef-57975c153822"
      },
      "outputs": [
        {
          "output_type": "execute_result",
          "data": {
            "text/plain": [
              "1.0"
            ]
          },
          "metadata": {},
          "execution_count": 104
        }
      ],
      "source": [
        "pct_pago + pct_gratis ##conferindo se o valor bate."
      ]
    },
    {
      "cell_type": "code",
      "source": [
        "labels = [\"Gratuidades\" ,\"Pagos\"]\n",
        "sizes = [pct_gratis,pct_pago]\n",
        "\n",
        "\n",
        "plt.figure(figsize=(7,7)) \n",
        "wedges,texts,autotexts = plt.pie(sizes,labels=labels,autopct='%.2f%%')\n",
        "plt.setp(autotexts,size=14,weight=\"bold\")\n",
        "plt.setp(texts,size=12,weight=\"bold\")\n",
        "\n",
        "#plt.xlabel(\"Quantidade de passageiros totais\")\n",
        "#plt.ylabel(\"Linha de ônibus\")\n",
        "plt.title(\"Proporção de pagantes e gratuidades nos ônibus de Fortaleza\",fontsize=15)\n",
        "#plt.savefig(\"ranking_uteis.png\", format=\"png\", bbox_inches='tight')\n",
        "\n",
        "\n",
        "\n",
        "plt.axis(\"equal\")\n",
        "\n",
        "\n",
        "\n",
        "plt.savefig(\"percentual_gratuidades.png\", format=\"png\", bbox_inches='tight')"
      ],
      "metadata": {
        "colab": {
          "base_uri": "https://localhost:8080/",
          "height": 430
        },
        "id": "P6i9ADlowdEJ",
        "outputId": "6b08f353-000b-42ba-cd51-2abc1156f350"
      },
      "execution_count": 105,
      "outputs": [
        {
          "output_type": "display_data",
          "data": {
            "text/plain": [
              "<Figure size 504x504 with 1 Axes>"
            ],
            "image/png": "[encoded data removed]"
          },
          "metadata": {}
        }
      ]
    },
    {
      "cell_type": "markdown",
      "metadata": {
        "id": "NCog8r8u84xy"
      },
      "source": [
        "# Ranking por porcentagem de estudantes e idosos"
      ]
    },
    {
      "cell_type": "markdown",
      "metadata": {
        "id": "vWZj5YHX6AoO"
      },
      "source": [
        "## 1 - Estudantes"
      ]
    },
    {
      "cell_type": "markdown",
      "metadata": {
        "id": "Qny4uTDpyA6M"
      },
      "source": [
        "Vamos criar um dataframe a partir do principal apenas com passagens pagas por estudantes. O operador | significa ou, o operador or não funciona nessa situação"
      ]
    },
    {
      "cell_type": "code",
      "execution_count": 106,
      "metadata": {
        "id": "cVTginPB2pTx"
      },
      "outputs": [],
      "source": [
        "df_estudante = demanda_2[(demanda_2[\"ID Passageiro\"] == 12) | (demanda_2[\"ID Passageiro\"]==3)]"
      ]
    },
    {
      "cell_type": "markdown",
      "metadata": {
        "id": "u1fKPg3AyTeK"
      },
      "source": [
        "Depois, separamos a quantidade de passageiros por cada linha de ônibus representada no dataframe por \"ID\""
      ]
    },
    {
      "cell_type": "code",
      "execution_count": 107,
      "metadata": {
        "id": "EOBaaA8HtR_I"
      },
      "outputs": [],
      "source": [
        "df_nestudante = df_estudante.groupby(\"ID\").sum()[\"Quantidade\"]"
      ]
    },
    {
      "cell_type": "code",
      "execution_count": 108,
      "metadata": {
        "id": "agqtI6eFye49",
        "colab": {
          "base_uri": "https://localhost:8080/"
        },
        "outputId": "71ec0bdc-57e4-4bea-ad3c-c8600ea5f5a0"
      },
      "outputs": [
        {
          "output_type": "execute_result",
          "data": {
            "text/plain": [
              "ID\n",
              "1       69239\n",
              "2        2942\n",
              "3      134822\n",
              "4       31360\n",
              "5       22979\n",
              "        ...  \n",
              "906     72432\n",
              "907     19206\n",
              "913     21169\n",
              "920     42422\n",
              "999       736\n",
              "Name: Quantidade, Length: 324, dtype: int64"
            ]
          },
          "metadata": {},
          "execution_count": 108
        }
      ],
      "source": [
        "df_nestudante"
      ]
    },
    {
      "cell_type": "code",
      "execution_count": 109,
      "metadata": {
        "id": "SxwG21AZt2Df"
      },
      "outputs": [],
      "source": [
        "df_nestudante = df_nestudante.reset_index()\n",
        "df_nestudante.columns = [\"ID\", \"Estudantes\"]"
      ]
    },
    {
      "cell_type": "code",
      "execution_count": 110,
      "metadata": {
        "id": "YXInJhlv0OO9",
        "colab": {
          "base_uri": "https://localhost:8080/",
          "height": 424
        },
        "outputId": "9330b673-7029-4759-a938-01f6f7a5cb41"
      },
      "outputs": [
        {
          "output_type": "execute_result",
          "data": {
            "text/plain": [
              "      ID  Estudantes\n",
              "0      1       69239\n",
              "1      2        2942\n",
              "2      3      134822\n",
              "3      4       31360\n",
              "4      5       22979\n",
              "..   ...         ...\n",
              "319  906       72432\n",
              "320  907       19206\n",
              "321  913       21169\n",
              "322  920       42422\n",
              "323  999         736\n",
              "\n",
              "[324 rows x 2 columns]"
            ],
            "text/html": [
              "\n",
              "  <div id=\"df-8d00c257-c2a9-421f-a91c-b52b0f738dbd\">\n",
              "    <div class=\"colab-df-container\">\n",
              "      <div>\n",
              "<style scoped>\n",
              "    .dataframe tbody tr th:only-of-type {\n",
              "        vertical-align: middle;\n",
              "    }\n",
              "\n",
              "    .dataframe tbody tr th {\n",
              "        vertical-align: top;\n",
              "    }\n",
              "\n",
              "    .dataframe thead th {\n",
              "        text-align: right;\n",
              "    }\n",
              "</style>\n",
              "<table border=\"1\" class=\"dataframe\">\n",
              "  <thead>\n",
              "    <tr style=\"text-align: right;\">\n",
              "      <th></th>\n",
              "      <th>ID</th>\n",
              "      <th>Estudantes</th>\n",
              "    </tr>\n",
              "  </thead>\n",
              "  <tbody>\n",
              "    <tr>\n",
              "      <th>0</th>\n",
              "      <td>1</td>\n",
              "      <td>69239</td>\n",
              "    </tr>\n",
              "    <tr>\n",
              "      <th>1</th>\n",
              "      <td>2</td>\n",
              "      <td>2942</td>\n",
              "    </tr>\n",
              "    <tr>\n",
              "      <th>2</th>\n",
              "      <td>3</td>\n",
              "      <td>134822</td>\n",
              "    </tr>\n",
              "    <tr>\n",
              "      <th>3</th>\n",
              "      <td>4</td>\n",
              "      <td>31360</td>\n",
              "    </tr>\n",
              "    <tr>\n",
              "      <th>4</th>\n",
              "      <td>5</td>\n",
              "      <td>22979</td>\n",
              "    </tr>\n",
              "    <tr>\n",
              "      <th>...</th>\n",
              "      <td>...</td>\n",
              "      <td>...</td>\n",
              "    </tr>\n",
              "    <tr>\n",
              "      <th>319</th>\n",
              "      <td>906</td>\n",
              "      <td>72432</td>\n",
              "    </tr>\n",
              "    <tr>\n",
              "      <th>320</th>\n",
              "      <td>907</td>\n",
              "      <td>19206</td>\n",
              "    </tr>\n",
              "    <tr>\n",
              "      <th>321</th>\n",
              "      <td>913</td>\n",
              "      <td>21169</td>\n",
              "    </tr>\n",
              "    <tr>\n",
              "      <th>322</th>\n",
              "      <td>920</td>\n",
              "      <td>42422</td>\n",
              "    </tr>\n",
              "    <tr>\n",
              "      <th>323</th>\n",
              "      <td>999</td>\n",
              "      <td>736</td>\n",
              "    </tr>\n",
              "  </tbody>\n",
              "</table>\n",
              "<p>324 rows × 2 columns</p>\n",
              "</div>\n",
              "      <button class=\"colab-df-convert\" onclick=\"convertToInteractive('df-8d00c257-c2a9-421f-a91c-b52b0f738dbd')\"\n",
              "              title=\"Convert this dataframe to an interactive table.\"\n",
              "              style=\"display:none;\">\n",
              "        \n",
              "  <svg xmlns=\"http://www.w3.org/2000/svg\" height=\"24px\"viewBox=\"0 0 24 24\"\n",
              "       width=\"24px\">\n",
              "    <path d=\"M0 0h24v24H0V0z\" fill=\"none\"/>\n",
              "    <path d=\"M18.56 5.44l.94 2.06.94-2.06 2.06-.94-2.06-.94-.94-2.06-.94 2.06-2.06.94zm-11 1L8.5 8.5l.94-2.06 2.06-.94-2.06-.94L8.5 2.5l-.94 2.06-2.06.94zm10 10l.94 2.06.94-2.06 2.06-.94-2.06-.94-.94-2.06-.94 2.06-2.06.94z\"/><path d=\"M17.41 7.96l-1.37-1.37c-.4-.4-.92-.59-1.43-.59-.52 0-1.04.2-1.43.59L10.3 9.45l-7.72 7.72c-.78.78-.78 2.05 0 2.83L4 21.41c.39.39.9.59 1.41.59.51 0 1.02-.2 1.41-.59l7.78-7.78 2.81-2.81c.8-.78.8-2.07 0-2.86zM5.41 20L4 18.59l7.72-7.72 1.47 1.35L5.41 20z\"/>\n",
              "  </svg>\n",
              "      </button>\n",
              "      \n",
              "  <style>\n",
              "    .colab-df-container {\n",
              "      display:flex;\n",
              "      flex-wrap:wrap;\n",
              "      gap: 12px;\n",
              "    }\n",
              "\n",
              "    .colab-df-convert {\n",
              "      background-color: #E8F0FE;\n",
              "      border: none;\n",
              "      border-radius: 50%;\n",
              "      cursor: pointer;\n",
              "      display: none;\n",
              "      fill: #1967D2;\n",
              "      height: 32px;\n",
              "      padding: 0 0 0 0;\n",
              "      width: 32px;\n",
              "    }\n",
              "\n",
              "    .colab-df-convert:hover {\n",
              "      background-color: #E2EBFA;\n",
              "      box-shadow: 0px 1px 2px rgba(60, 64, 67, 0.3), 0px 1px 3px 1px rgba(60, 64, 67, 0.15);\n",
              "      fill: #174EA6;\n",
              "    }\n",
              "\n",
              "    [theme=dark] .colab-df-convert {\n",
              "      background-color: #3B4455;\n",
              "      fill: #D2E3FC;\n",
              "    }\n",
              "\n",
              "    [theme=dark] .colab-df-convert:hover {\n",
              "      background-color: #434B5C;\n",
              "      box-shadow: 0px 1px 3px 1px rgba(0, 0, 0, 0.15);\n",
              "      filter: drop-shadow(0px 1px 2px rgba(0, 0, 0, 0.3));\n",
              "      fill: #FFFFFF;\n",
              "    }\n",
              "  </style>\n",
              "\n",
              "      <script>\n",
              "        const buttonEl =\n",
              "          document.querySelector('#df-8d00c257-c2a9-421f-a91c-b52b0f738dbd button.colab-df-convert');\n",
              "        buttonEl.style.display =\n",
              "          google.colab.kernel.accessAllowed ? 'block' : 'none';\n",
              "\n",
              "        async function convertToInteractive(key) {\n",
              "          const element = document.querySelector('#df-8d00c257-c2a9-421f-a91c-b52b0f738dbd');\n",
              "          const dataTable =\n",
              "            await google.colab.kernel.invokeFunction('convertToInteractive',\n",
              "                                                     [key], {});\n",
              "          if (!dataTable) return;\n",
              "\n",
              "          const docLinkHtml = 'Like what you see? Visit the ' +\n",
              "            '<a target=\"_blank\" href=https://colab.research.google.com/notebooks/data_table.ipynb>data table notebook</a>'\n",
              "            + ' to learn more about interactive tables.';\n",
              "          element.innerHTML = '';\n",
              "          dataTable['output_type'] = 'display_data';\n",
              "          await google.colab.output.renderOutput(dataTable, element);\n",
              "          const docLink = document.createElement('div');\n",
              "          docLink.innerHTML = docLinkHtml;\n",
              "          element.appendChild(docLink);\n",
              "        }\n",
              "      </script>\n",
              "    </div>\n",
              "  </div>\n",
              "  "
            ]
          },
          "metadata": {},
          "execution_count": 110
        }
      ],
      "source": [
        "df_nestudante"
      ]
    },
    {
      "cell_type": "markdown",
      "metadata": {
        "id": "BIgcHfedyyUs"
      },
      "source": [
        "Resetamos o index para ficar com cara de dataframe, e nomeamos a coluna estudante que representa a quantidade de estudantes."
      ]
    },
    {
      "cell_type": "markdown",
      "metadata": {
        "id": "puYPHaREy5OJ"
      },
      "source": [
        "Como queremos achar o percentual de estudantes dentro do total de passageiros, agora vamos pegar a informação do número de passageiros totais de cada linha."
      ]
    },
    {
      "cell_type": "code",
      "execution_count": 111,
      "metadata": {
        "id": "tGNkDh7b0WRX"
      },
      "outputs": [],
      "source": [
        "total_passageiros = demanda_2.groupby(\"ID\").sum()[\"Quantidade\"]"
      ]
    },
    {
      "cell_type": "code",
      "execution_count": 112,
      "metadata": {
        "id": "ofKs25X8496i"
      },
      "outputs": [],
      "source": [
        "total_passageiros = total_passageiros.reset_index()"
      ]
    },
    {
      "cell_type": "code",
      "execution_count": 113,
      "metadata": {
        "id": "ftg8hVsgYbsV",
        "colab": {
          "base_uri": "https://localhost:8080/",
          "height": 424
        },
        "outputId": "35223925-2f0f-4a32-9400-08178e030981"
      },
      "outputs": [
        {
          "output_type": "execute_result",
          "data": {
            "text/plain": [
              "      ID  Quantidade\n",
              "0      1      236709\n",
              "1      2       25848\n",
              "2      3      494176\n",
              "3      4       77783\n",
              "4      5       60809\n",
              "..   ...         ...\n",
              "319  906      201328\n",
              "320  907       51724\n",
              "321  913       65482\n",
              "322  920      124091\n",
              "323  999        3564\n",
              "\n",
              "[324 rows x 2 columns]"
            ],
            "text/html": [
              "\n",
              "  <div id=\"df-8b72ce08-e332-4fa4-901e-25107a9d0e11\">\n",
              "    <div class=\"colab-df-container\">\n",
              "      <div>\n",
              "<style scoped>\n",
              "    .dataframe tbody tr th:only-of-type {\n",
              "        vertical-align: middle;\n",
              "    }\n",
              "\n",
              "    .dataframe tbody tr th {\n",
              "        vertical-align: top;\n",
              "    }\n",
              "\n",
              "    .dataframe thead th {\n",
              "        text-align: right;\n",
              "    }\n",
              "</style>\n",
              "<table border=\"1\" class=\"dataframe\">\n",
              "  <thead>\n",
              "    <tr style=\"text-align: right;\">\n",
              "      <th></th>\n",
              "      <th>ID</th>\n",
              "      <th>Quantidade</th>\n",
              "    </tr>\n",
              "  </thead>\n",
              "  <tbody>\n",
              "    <tr>\n",
              "      <th>0</th>\n",
              "      <td>1</td>\n",
              "      <td>236709</td>\n",
              "    </tr>\n",
              "    <tr>\n",
              "      <th>1</th>\n",
              "      <td>2</td>\n",
              "      <td>25848</td>\n",
              "    </tr>\n",
              "    <tr>\n",
              "      <th>2</th>\n",
              "      <td>3</td>\n",
              "      <td>494176</td>\n",
              "    </tr>\n",
              "    <tr>\n",
              "      <th>3</th>\n",
              "      <td>4</td>\n",
              "      <td>77783</td>\n",
              "    </tr>\n",
              "    <tr>\n",
              "      <th>4</th>\n",
              "      <td>5</td>\n",
              "      <td>60809</td>\n",
              "    </tr>\n",
              "    <tr>\n",
              "      <th>...</th>\n",
              "      <td>...</td>\n",
              "      <td>...</td>\n",
              "    </tr>\n",
              "    <tr>\n",
              "      <th>319</th>\n",
              "      <td>906</td>\n",
              "      <td>201328</td>\n",
              "    </tr>\n",
              "    <tr>\n",
              "      <th>320</th>\n",
              "      <td>907</td>\n",
              "      <td>51724</td>\n",
              "    </tr>\n",
              "    <tr>\n",
              "      <th>321</th>\n",
              "      <td>913</td>\n",
              "      <td>65482</td>\n",
              "    </tr>\n",
              "    <tr>\n",
              "      <th>322</th>\n",
              "      <td>920</td>\n",
              "      <td>124091</td>\n",
              "    </tr>\n",
              "    <tr>\n",
              "      <th>323</th>\n",
              "      <td>999</td>\n",
              "      <td>3564</td>\n",
              "    </tr>\n",
              "  </tbody>\n",
              "</table>\n",
              "<p>324 rows × 2 columns</p>\n",
              "</div>\n",
              "      <button class=\"colab-df-convert\" onclick=\"convertToInteractive('df-8b72ce08-e332-4fa4-901e-25107a9d0e11')\"\n",
              "              title=\"Convert this dataframe to an interactive table.\"\n",
              "              style=\"display:none;\">\n",
              "        \n",
              "  <svg xmlns=\"http://www.w3.org/2000/svg\" height=\"24px\"viewBox=\"0 0 24 24\"\n",
              "       width=\"24px\">\n",
              "    <path d=\"M0 0h24v24H0V0z\" fill=\"none\"/>\n",
              "    <path d=\"M18.56 5.44l.94 2.06.94-2.06 2.06-.94-2.06-.94-.94-2.06-.94 2.06-2.06.94zm-11 1L8.5 8.5l.94-2.06 2.06-.94-2.06-.94L8.5 2.5l-.94 2.06-2.06.94zm10 10l.94 2.06.94-2.06 2.06-.94-2.06-.94-.94-2.06-.94 2.06-2.06.94z\"/><path d=\"M17.41 7.96l-1.37-1.37c-.4-.4-.92-.59-1.43-.59-.52 0-1.04.2-1.43.59L10.3 9.45l-7.72 7.72c-.78.78-.78 2.05 0 2.83L4 21.41c.39.39.9.59 1.41.59.51 0 1.02-.2 1.41-.59l7.78-7.78 2.81-2.81c.8-.78.8-2.07 0-2.86zM5.41 20L4 18.59l7.72-7.72 1.47 1.35L5.41 20z\"/>\n",
              "  </svg>\n",
              "      </button>\n",
              "      \n",
              "  <style>\n",
              "    .colab-df-container {\n",
              "      display:flex;\n",
              "      flex-wrap:wrap;\n",
              "      gap: 12px;\n",
              "    }\n",
              "\n",
              "    .colab-df-convert {\n",
              "      background-color: #E8F0FE;\n",
              "      border: none;\n",
              "      border-radius: 50%;\n",
              "      cursor: pointer;\n",
              "      display: none;\n",
              "      fill: #1967D2;\n",
              "      height: 32px;\n",
              "      padding: 0 0 0 0;\n",
              "      width: 32px;\n",
              "    }\n",
              "\n",
              "    .colab-df-convert:hover {\n",
              "      background-color: #E2EBFA;\n",
              "      box-shadow: 0px 1px 2px rgba(60, 64, 67, 0.3), 0px 1px 3px 1px rgba(60, 64, 67, 0.15);\n",
              "      fill: #174EA6;\n",
              "    }\n",
              "\n",
              "    [theme=dark] .colab-df-convert {\n",
              "      background-color: #3B4455;\n",
              "      fill: #D2E3FC;\n",
              "    }\n",
              "\n",
              "    [theme=dark] .colab-df-convert:hover {\n",
              "      background-color: #434B5C;\n",
              "      box-shadow: 0px 1px 3px 1px rgba(0, 0, 0, 0.15);\n",
              "      filter: drop-shadow(0px 1px 2px rgba(0, 0, 0, 0.3));\n",
              "      fill: #FFFFFF;\n",
              "    }\n",
              "  </style>\n",
              "\n",
              "      <script>\n",
              "        const buttonEl =\n",
              "          document.querySelector('#df-8b72ce08-e332-4fa4-901e-25107a9d0e11 button.colab-df-convert');\n",
              "        buttonEl.style.display =\n",
              "          google.colab.kernel.accessAllowed ? 'block' : 'none';\n",
              "\n",
              "        async function convertToInteractive(key) {\n",
              "          const element = document.querySelector('#df-8b72ce08-e332-4fa4-901e-25107a9d0e11');\n",
              "          const dataTable =\n",
              "            await google.colab.kernel.invokeFunction('convertToInteractive',\n",
              "                                                     [key], {});\n",
              "          if (!dataTable) return;\n",
              "\n",
              "          const docLinkHtml = 'Like what you see? Visit the ' +\n",
              "            '<a target=\"_blank\" href=https://colab.research.google.com/notebooks/data_table.ipynb>data table notebook</a>'\n",
              "            + ' to learn more about interactive tables.';\n",
              "          element.innerHTML = '';\n",
              "          dataTable['output_type'] = 'display_data';\n",
              "          await google.colab.output.renderOutput(dataTable, element);\n",
              "          const docLink = document.createElement('div');\n",
              "          docLink.innerHTML = docLinkHtml;\n",
              "          element.appendChild(docLink);\n",
              "        }\n",
              "      </script>\n",
              "    </div>\n",
              "  </div>\n",
              "  "
            ]
          },
          "metadata": {},
          "execution_count": 113
        }
      ],
      "source": [
        "total_passageiros"
      ]
    },
    {
      "cell_type": "code",
      "execution_count": 114,
      "metadata": {
        "id": "sXQLl6E04QBD"
      },
      "outputs": [],
      "source": [
        "df_nestudante[\"Total\"] = total_passageiros[\"Quantidade\"] "
      ]
    },
    {
      "cell_type": "markdown",
      "metadata": {
        "id": "TSDecmhazGxo"
      },
      "source": [
        "Uma nova coluna foi criada com o número total de passaageiros por linha."
      ]
    },
    {
      "cell_type": "code",
      "execution_count": 115,
      "metadata": {
        "id": "SiaoHAm-5s4u",
        "colab": {
          "base_uri": "https://localhost:8080/",
          "height": 424
        },
        "outputId": "b2d5e3d3-a754-4248-950c-ded467247035"
      },
      "outputs": [
        {
          "output_type": "execute_result",
          "data": {
            "text/plain": [
              "      ID  Estudantes   Total\n",
              "0      1       69239  236709\n",
              "1      2        2942   25848\n",
              "2      3      134822  494176\n",
              "3      4       31360   77783\n",
              "4      5       22979   60809\n",
              "..   ...         ...     ...\n",
              "319  906       72432  201328\n",
              "320  907       19206   51724\n",
              "321  913       21169   65482\n",
              "322  920       42422  124091\n",
              "323  999         736    3564\n",
              "\n",
              "[324 rows x 3 columns]"
            ],
            "text/html": [
              "\n",
              "  <div id=\"df-f73a6294-32a4-40f3-9cb3-c6b1018e9e11\">\n",
              "    <div class=\"colab-df-container\">\n",
              "      <div>\n",
              "<style scoped>\n",
              "    .dataframe tbody tr th:only-of-type {\n",
              "        vertical-align: middle;\n",
              "    }\n",
              "\n",
              "    .dataframe tbody tr th {\n",
              "        vertical-align: top;\n",
              "    }\n",
              "\n",
              "    .dataframe thead th {\n",
              "        text-align: right;\n",
              "    }\n",
              "</style>\n",
              "<table border=\"1\" class=\"dataframe\">\n",
              "  <thead>\n",
              "    <tr style=\"text-align: right;\">\n",
              "      <th></th>\n",
              "      <th>ID</th>\n",
              "      <th>Estudantes</th>\n",
              "      <th>Total</th>\n",
              "    </tr>\n",
              "  </thead>\n",
              "  <tbody>\n",
              "    <tr>\n",
              "      <th>0</th>\n",
              "      <td>1</td>\n",
              "      <td>69239</td>\n",
              "      <td>236709</td>\n",
              "    </tr>\n",
              "    <tr>\n",
              "      <th>1</th>\n",
              "      <td>2</td>\n",
              "      <td>2942</td>\n",
              "      <td>25848</td>\n",
              "    </tr>\n",
              "    <tr>\n",
              "      <th>2</th>\n",
              "      <td>3</td>\n",
              "      <td>134822</td>\n",
              "      <td>494176</td>\n",
              "    </tr>\n",
              "    <tr>\n",
              "      <th>3</th>\n",
              "      <td>4</td>\n",
              "      <td>31360</td>\n",
              "      <td>77783</td>\n",
              "    </tr>\n",
              "    <tr>\n",
              "      <th>4</th>\n",
              "      <td>5</td>\n",
              "      <td>22979</td>\n",
              "      <td>60809</td>\n",
              "    </tr>\n",
              "    <tr>\n",
              "      <th>...</th>\n",
              "      <td>...</td>\n",
              "      <td>...</td>\n",
              "      <td>...</td>\n",
              "    </tr>\n",
              "    <tr>\n",
              "      <th>319</th>\n",
              "      <td>906</td>\n",
              "      <td>72432</td>\n",
              "      <td>201328</td>\n",
              "    </tr>\n",
              "    <tr>\n",
              "      <th>320</th>\n",
              "      <td>907</td>\n",
              "      <td>19206</td>\n",
              "      <td>51724</td>\n",
              "    </tr>\n",
              "    <tr>\n",
              "      <th>321</th>\n",
              "      <td>913</td>\n",
              "      <td>21169</td>\n",
              "      <td>65482</td>\n",
              "    </tr>\n",
              "    <tr>\n",
              "      <th>322</th>\n",
              "      <td>920</td>\n",
              "      <td>42422</td>\n",
              "      <td>124091</td>\n",
              "    </tr>\n",
              "    <tr>\n",
              "      <th>323</th>\n",
              "      <td>999</td>\n",
              "      <td>736</td>\n",
              "      <td>3564</td>\n",
              "    </tr>\n",
              "  </tbody>\n",
              "</table>\n",
              "<p>324 rows × 3 columns</p>\n",
              "</div>\n",
              "      <button class=\"colab-df-convert\" onclick=\"convertToInteractive('df-f73a6294-32a4-40f3-9cb3-c6b1018e9e11')\"\n",
              "              title=\"Convert this dataframe to an interactive table.\"\n",
              "              style=\"display:none;\">\n",
              "        \n",
              "  <svg xmlns=\"http://www.w3.org/2000/svg\" height=\"24px\"viewBox=\"0 0 24 24\"\n",
              "       width=\"24px\">\n",
              "    <path d=\"M0 0h24v24H0V0z\" fill=\"none\"/>\n",
              "    <path d=\"M18.56 5.44l.94 2.06.94-2.06 2.06-.94-2.06-.94-.94-2.06-.94 2.06-2.06.94zm-11 1L8.5 8.5l.94-2.06 2.06-.94-2.06-.94L8.5 2.5l-.94 2.06-2.06.94zm10 10l.94 2.06.94-2.06 2.06-.94-2.06-.94-.94-2.06-.94 2.06-2.06.94z\"/><path d=\"M17.41 7.96l-1.37-1.37c-.4-.4-.92-.59-1.43-.59-.52 0-1.04.2-1.43.59L10.3 9.45l-7.72 7.72c-.78.78-.78 2.05 0 2.83L4 21.41c.39.39.9.59 1.41.59.51 0 1.02-.2 1.41-.59l7.78-7.78 2.81-2.81c.8-.78.8-2.07 0-2.86zM5.41 20L4 18.59l7.72-7.72 1.47 1.35L5.41 20z\"/>\n",
              "  </svg>\n",
              "      </button>\n",
              "      \n",
              "  <style>\n",
              "    .colab-df-container {\n",
              "      display:flex;\n",
              "      flex-wrap:wrap;\n",
              "      gap: 12px;\n",
              "    }\n",
              "\n",
              "    .colab-df-convert {\n",
              "      background-color: #E8F0FE;\n",
              "      border: none;\n",
              "      border-radius: 50%;\n",
              "      cursor: pointer;\n",
              "      display: none;\n",
              "      fill: #1967D2;\n",
              "      height: 32px;\n",
              "      padding: 0 0 0 0;\n",
              "      width: 32px;\n",
              "    }\n",
              "\n",
              "    .colab-df-convert:hover {\n",
              "      background-color: #E2EBFA;\n",
              "      box-shadow: 0px 1px 2px rgba(60, 64, 67, 0.3), 0px 1px 3px 1px rgba(60, 64, 67, 0.15);\n",
              "      fill: #174EA6;\n",
              "    }\n",
              "\n",
              "    [theme=dark] .colab-df-convert {\n",
              "      background-color: #3B4455;\n",
              "      fill: #D2E3FC;\n",
              "    }\n",
              "\n",
              "    [theme=dark] .colab-df-convert:hover {\n",
              "      background-color: #434B5C;\n",
              "      box-shadow: 0px 1px 3px 1px rgba(0, 0, 0, 0.15);\n",
              "      filter: drop-shadow(0px 1px 2px rgba(0, 0, 0, 0.3));\n",
              "      fill: #FFFFFF;\n",
              "    }\n",
              "  </style>\n",
              "\n",
              "      <script>\n",
              "        const buttonEl =\n",
              "          document.querySelector('#df-f73a6294-32a4-40f3-9cb3-c6b1018e9e11 button.colab-df-convert');\n",
              "        buttonEl.style.display =\n",
              "          google.colab.kernel.accessAllowed ? 'block' : 'none';\n",
              "\n",
              "        async function convertToInteractive(key) {\n",
              "          const element = document.querySelector('#df-f73a6294-32a4-40f3-9cb3-c6b1018e9e11');\n",
              "          const dataTable =\n",
              "            await google.colab.kernel.invokeFunction('convertToInteractive',\n",
              "                                                     [key], {});\n",
              "          if (!dataTable) return;\n",
              "\n",
              "          const docLinkHtml = 'Like what you see? Visit the ' +\n",
              "            '<a target=\"_blank\" href=https://colab.research.google.com/notebooks/data_table.ipynb>data table notebook</a>'\n",
              "            + ' to learn more about interactive tables.';\n",
              "          element.innerHTML = '';\n",
              "          dataTable['output_type'] = 'display_data';\n",
              "          await google.colab.output.renderOutput(dataTable, element);\n",
              "          const docLink = document.createElement('div');\n",
              "          docLink.innerHTML = docLinkHtml;\n",
              "          element.appendChild(docLink);\n",
              "        }\n",
              "      </script>\n",
              "    </div>\n",
              "  </div>\n",
              "  "
            ]
          },
          "metadata": {},
          "execution_count": 115
        }
      ],
      "source": [
        "df_nestudante"
      ]
    },
    {
      "cell_type": "code",
      "execution_count": 116,
      "metadata": {
        "id": "guQ04sIy4BRu"
      },
      "outputs": [],
      "source": [
        "#rank_estudante = df_estudante.groupby(\"ID\").sum()[\"Quantidade\"].rank(method=\"max\")"
      ]
    },
    {
      "cell_type": "code",
      "execution_count": 117,
      "metadata": {
        "id": "taYIqXd8n2T_"
      },
      "outputs": [],
      "source": [
        "#rank_estudante"
      ]
    },
    {
      "cell_type": "code",
      "execution_count": 118,
      "metadata": {
        "id": "BTOaji060JN2"
      },
      "outputs": [],
      "source": [
        "#df_nestudante"
      ]
    },
    {
      "cell_type": "markdown",
      "metadata": {
        "id": "x3salHpgzSKb"
      },
      "source": [
        "Agora para calcular o percetual, basta dividir o número de estudantes pelo numero total, vamos fazer isso usando a função percentual juntamente com o método apply do Pandas."
      ]
    },
    {
      "cell_type": "code",
      "execution_count": 119,
      "metadata": {
        "id": "LlIltda6olNT"
      },
      "outputs": [],
      "source": [
        "def percentual(df):\n",
        "  return (df[\"Estudantes\"]/df[\"Total\"])*100\n",
        "\n",
        "df_nestudante[\"Percentual\"] = df_nestudante.apply(percentual, axis=1)"
      ]
    },
    {
      "cell_type": "code",
      "execution_count": 120,
      "metadata": {
        "id": "JPaNJbsbm0YM",
        "colab": {
          "base_uri": "https://localhost:8080/",
          "height": 424
        },
        "outputId": "61358813-6335-4eff-90cb-83176c22392b"
      },
      "outputs": [
        {
          "output_type": "execute_result",
          "data": {
            "text/plain": [
              "      ID  Estudantes   Total  Percentual\n",
              "0      1       69239  236709   29.250683\n",
              "1      2        2942   25848   11.381925\n",
              "2      3      134822  494176   27.282183\n",
              "3      4       31360   77783   40.317293\n",
              "4      5       22979   60809   37.788814\n",
              "..   ...         ...     ...         ...\n",
              "319  906       72432  201328   35.977112\n",
              "320  907       19206   51724   37.131699\n",
              "321  913       21169   65482   32.327968\n",
              "322  920       42422  124091   34.186202\n",
              "323  999         736    3564   20.650954\n",
              "\n",
              "[324 rows x 4 columns]"
            ],
            "text/html": [
              "\n",
              "  <div id=\"df-f55a5914-2293-424b-81e2-5f1b04883e97\">\n",
              "    <div class=\"colab-df-container\">\n",
              "      <div>\n",
              "<style scoped>\n",
              "    .dataframe tbody tr th:only-of-type {\n",
              "        vertical-align: middle;\n",
              "    }\n",
              "\n",
              "    .dataframe tbody tr th {\n",
              "        vertical-align: top;\n",
              "    }\n",
              "\n",
              "    .dataframe thead th {\n",
              "        text-align: right;\n",
              "    }\n",
              "</style>\n",
              "<table border=\"1\" class=\"dataframe\">\n",
              "  <thead>\n",
              "    <tr style=\"text-align: right;\">\n",
              "      <th></th>\n",
              "      <th>ID</th>\n",
              "      <th>Estudantes</th>\n",
              "      <th>Total</th>\n",
              "      <th>Percentual</th>\n",
              "    </tr>\n",
              "  </thead>\n",
              "  <tbody>\n",
              "    <tr>\n",
              "      <th>0</th>\n",
              "      <td>1</td>\n",
              "      <td>69239</td>\n",
              "      <td>236709</td>\n",
              "      <td>29.250683</td>\n",
              "    </tr>\n",
              "    <tr>\n",
              "      <th>1</th>\n",
              "      <td>2</td>\n",
              "      <td>2942</td>\n",
              "      <td>25848</td>\n",
              "      <td>11.381925</td>\n",
              "    </tr>\n",
              "    <tr>\n",
              "      <th>2</th>\n",
              "      <td>3</td>\n",
              "      <td>134822</td>\n",
              "      <td>494176</td>\n",
              "      <td>27.282183</td>\n",
              "    </tr>\n",
              "    <tr>\n",
              "      <th>3</th>\n",
              "      <td>4</td>\n",
              "      <td>31360</td>\n",
              "      <td>77783</td>\n",
              "      <td>40.317293</td>\n",
              "    </tr>\n",
              "    <tr>\n",
              "      <th>4</th>\n",
              "      <td>5</td>\n",
              "      <td>22979</td>\n",
              "      <td>60809</td>\n",
              "      <td>37.788814</td>\n",
              "    </tr>\n",
              "    <tr>\n",
              "      <th>...</th>\n",
              "      <td>...</td>\n",
              "      <td>...</td>\n",
              "      <td>...</td>\n",
              "      <td>...</td>\n",
              "    </tr>\n",
              "    <tr>\n",
              "      <th>319</th>\n",
              "      <td>906</td>\n",
              "      <td>72432</td>\n",
              "      <td>201328</td>\n",
              "      <td>35.977112</td>\n",
              "    </tr>\n",
              "    <tr>\n",
              "      <th>320</th>\n",
              "      <td>907</td>\n",
              "      <td>19206</td>\n",
              "      <td>51724</td>\n",
              "      <td>37.131699</td>\n",
              "    </tr>\n",
              "    <tr>\n",
              "      <th>321</th>\n",
              "      <td>913</td>\n",
              "      <td>21169</td>\n",
              "      <td>65482</td>\n",
              "      <td>32.327968</td>\n",
              "    </tr>\n",
              "    <tr>\n",
              "      <th>322</th>\n",
              "      <td>920</td>\n",
              "      <td>42422</td>\n",
              "      <td>124091</td>\n",
              "      <td>34.186202</td>\n",
              "    </tr>\n",
              "    <tr>\n",
              "      <th>323</th>\n",
              "      <td>999</td>\n",
              "      <td>736</td>\n",
              "      <td>3564</td>\n",
              "      <td>20.650954</td>\n",
              "    </tr>\n",
              "  </tbody>\n",
              "</table>\n",
              "<p>324 rows × 4 columns</p>\n",
              "</div>\n",
              "      <button class=\"colab-df-convert\" onclick=\"convertToInteractive('df-f55a5914-2293-424b-81e2-5f1b04883e97')\"\n",
              "              title=\"Convert this dataframe to an interactive table.\"\n",
              "              style=\"display:none;\">\n",
              "        \n",
              "  <svg xmlns=\"http://www.w3.org/2000/svg\" height=\"24px\"viewBox=\"0 0 24 24\"\n",
              "       width=\"24px\">\n",
              "    <path d=\"M0 0h24v24H0V0z\" fill=\"none\"/>\n",
              "    <path d=\"M18.56 5.44l.94 2.06.94-2.06 2.06-.94-2.06-.94-.94-2.06-.94 2.06-2.06.94zm-11 1L8.5 8.5l.94-2.06 2.06-.94-2.06-.94L8.5 2.5l-.94 2.06-2.06.94zm10 10l.94 2.06.94-2.06 2.06-.94-2.06-.94-.94-2.06-.94 2.06-2.06.94z\"/><path d=\"M17.41 7.96l-1.37-1.37c-.4-.4-.92-.59-1.43-.59-.52 0-1.04.2-1.43.59L10.3 9.45l-7.72 7.72c-.78.78-.78 2.05 0 2.83L4 21.41c.39.39.9.59 1.41.59.51 0 1.02-.2 1.41-.59l7.78-7.78 2.81-2.81c.8-.78.8-2.07 0-2.86zM5.41 20L4 18.59l7.72-7.72 1.47 1.35L5.41 20z\"/>\n",
              "  </svg>\n",
              "      </button>\n",
              "      \n",
              "  <style>\n",
              "    .colab-df-container {\n",
              "      display:flex;\n",
              "      flex-wrap:wrap;\n",
              "      gap: 12px;\n",
              "    }\n",
              "\n",
              "    .colab-df-convert {\n",
              "      background-color: #E8F0FE;\n",
              "      border: none;\n",
              "      border-radius: 50%;\n",
              "      cursor: pointer;\n",
              "      display: none;\n",
              "      fill: #1967D2;\n",
              "      height: 32px;\n",
              "      padding: 0 0 0 0;\n",
              "      width: 32px;\n",
              "    }\n",
              "\n",
              "    .colab-df-convert:hover {\n",
              "      background-color: #E2EBFA;\n",
              "      box-shadow: 0px 1px 2px rgba(60, 64, 67, 0.3), 0px 1px 3px 1px rgba(60, 64, 67, 0.15);\n",
              "      fill: #174EA6;\n",
              "    }\n",
              "\n",
              "    [theme=dark] .colab-df-convert {\n",
              "      background-color: #3B4455;\n",
              "      fill: #D2E3FC;\n",
              "    }\n",
              "\n",
              "    [theme=dark] .colab-df-convert:hover {\n",
              "      background-color: #434B5C;\n",
              "      box-shadow: 0px 1px 3px 1px rgba(0, 0, 0, 0.15);\n",
              "      filter: drop-shadow(0px 1px 2px rgba(0, 0, 0, 0.3));\n",
              "      fill: #FFFFFF;\n",
              "    }\n",
              "  </style>\n",
              "\n",
              "      <script>\n",
              "        const buttonEl =\n",
              "          document.querySelector('#df-f55a5914-2293-424b-81e2-5f1b04883e97 button.colab-df-convert');\n",
              "        buttonEl.style.display =\n",
              "          google.colab.kernel.accessAllowed ? 'block' : 'none';\n",
              "\n",
              "        async function convertToInteractive(key) {\n",
              "          const element = document.querySelector('#df-f55a5914-2293-424b-81e2-5f1b04883e97');\n",
              "          const dataTable =\n",
              "            await google.colab.kernel.invokeFunction('convertToInteractive',\n",
              "                                                     [key], {});\n",
              "          if (!dataTable) return;\n",
              "\n",
              "          const docLinkHtml = 'Like what you see? Visit the ' +\n",
              "            '<a target=\"_blank\" href=https://colab.research.google.com/notebooks/data_table.ipynb>data table notebook</a>'\n",
              "            + ' to learn more about interactive tables.';\n",
              "          element.innerHTML = '';\n",
              "          dataTable['output_type'] = 'display_data';\n",
              "          await google.colab.output.renderOutput(dataTable, element);\n",
              "          const docLink = document.createElement('div');\n",
              "          docLink.innerHTML = docLinkHtml;\n",
              "          element.appendChild(docLink);\n",
              "        }\n",
              "      </script>\n",
              "    </div>\n",
              "  </div>\n",
              "  "
            ]
          },
          "metadata": {},
          "execution_count": 120
        }
      ],
      "source": [
        "df_nestudante"
      ]
    },
    {
      "cell_type": "markdown",
      "metadata": {
        "id": "4qwU_fP_4f2W"
      },
      "source": [
        "#### Nota de rodapé de um erro que aconteceu e como resolvi"
      ]
    },
    {
      "cell_type": "markdown",
      "metadata": {
        "id": "Jy3OSo6h_wzE"
      },
      "source": [
        "Agora temos o dataframe com todas as informações necessárias para fazer o ranking."
      ]
    },
    {
      "cell_type": "code",
      "execution_count": 121,
      "metadata": {
        "id": "9TtUhwlL_1dJ"
      },
      "outputs": [],
      "source": [
        "rank_estudante = df_nestudante[\"Percentual\"].rank(method=\"min\")\n"
      ]
    },
    {
      "cell_type": "code",
      "execution_count": 122,
      "metadata": {
        "id": "3SGxPOYm_3h7",
        "colab": {
          "base_uri": "https://localhost:8080/"
        },
        "outputId": "ea1cd74e-5400-4125-d5f3-feb51154d646"
      },
      "outputs": [
        {
          "output_type": "execute_result",
          "data": {
            "text/plain": [
              "0       64.0\n",
              "1        5.0\n",
              "2       41.0\n",
              "3      310.0\n",
              "4      287.0\n",
              "       ...  \n",
              "319    259.0\n",
              "320    281.0\n",
              "321    145.0\n",
              "322    203.0\n",
              "323     14.0\n",
              "Name: Percentual, Length: 324, dtype: float64"
            ]
          },
          "metadata": {},
          "execution_count": 122
        }
      ],
      "source": [
        "rank_estudante"
      ]
    },
    {
      "cell_type": "code",
      "execution_count": 123,
      "metadata": {
        "id": "GsJgu-eMA8os",
        "colab": {
          "base_uri": "https://localhost:8080/"
        },
        "outputId": "39cd5168-b57b-4972-b4d8-026a096184dd"
      },
      "outputs": [
        {
          "output_type": "execute_result",
          "data": {
            "text/plain": [
              "75     324.0\n",
              "261    323.0\n",
              "306    322.0\n",
              "317    321.0\n",
              "275    320.0\n",
              "245    319.0\n",
              "208    318.0\n",
              "298    317.0\n",
              "301    316.0\n",
              "305    315.0\n",
              "276    314.0\n",
              "299    313.0\n",
              "11     312.0\n",
              "316    311.0\n",
              "3      310.0\n",
              "14     309.0\n",
              "224    308.0\n",
              "16     307.0\n",
              "232    306.0\n",
              "213    305.0\n",
              "41     304.0\n",
              "248    303.0\n",
              "78     302.0\n",
              "230    301.0\n",
              "70     300.0\n",
              "297    299.0\n",
              "242    298.0\n",
              "219    297.0\n",
              "223    296.0\n",
              "231    295.0\n",
              "Name: Percentual, dtype: float64"
            ]
          },
          "metadata": {},
          "execution_count": 123
        }
      ],
      "source": [
        "rank_estudante.sort_values(ascending=False).head(30)"
      ]
    },
    {
      "cell_type": "markdown",
      "metadata": {
        "id": "t9x2iQChBIq3"
      },
      "source": [
        "Onde está o problema aqui, o rank estudante foi criado com o index do dataframe, e não com o ID da linha de ônibus, o ranking está correto mas pra sabermos o nome do ônibus é mais complicado.\n",
        "\n",
        "Uma opção foi fazer um set_index para o ID, mas essa solução gerou o problema abaixo, vamos testar:"
      ]
    },
    {
      "cell_type": "code",
      "execution_count": 124,
      "metadata": {
        "id": "Hq03s43aB4VS"
      },
      "outputs": [],
      "source": [
        "#df_nestudante = df_nestudante.set_index(\"ID\")"
      ]
    },
    {
      "cell_type": "code",
      "execution_count": 125,
      "metadata": {
        "id": "SNWsCMRzB78T"
      },
      "outputs": [],
      "source": [
        "#ranking_estudante = df_nestudante[\"Percentual\"].rank(method=\"min\")"
      ]
    },
    {
      "cell_type": "code",
      "execution_count": 126,
      "metadata": {
        "id": "m0NKZbHmCEhK"
      },
      "outputs": [],
      "source": [
        "#ranking_estudante #agora ele está usando o id"
      ]
    },
    {
      "cell_type": "code",
      "execution_count": 127,
      "metadata": {
        "id": "qx0OD6mxCJRw"
      },
      "outputs": [],
      "source": [
        "#ranking_estudante.sort_values(ascending=False).head(10)"
      ]
    },
    {
      "cell_type": "markdown",
      "metadata": {
        "id": "x9WiyelECU-8"
      },
      "source": [
        "O problema é que quando tentamos acessar as informações, o dataset não reconhece mais o comando"
      ]
    },
    {
      "cell_type": "code",
      "execution_count": 128,
      "metadata": {
        "id": "K2pNxCC1Cae_"
      },
      "outputs": [],
      "source": [
        "#df_nestudante[df_nestudante[\"ID\"]==95]"
      ]
    },
    {
      "cell_type": "code",
      "execution_count": 129,
      "metadata": {
        "id": "c0MrrS_lChCj"
      },
      "outputs": [],
      "source": [
        "#df_nestudante.iloc[0] # e usando o iloc ele usa o index de \"lista\" e não o ID"
      ]
    },
    {
      "cell_type": "markdown",
      "metadata": {
        "id": "eTfwG34bBwpf"
      },
      "source": [
        "-------FIM DA NOTA DE RODAPÉ-------"
      ]
    },
    {
      "cell_type": "markdown",
      "metadata": {
        "id": "d2T_ThdnCv5t"
      },
      "source": [
        "#### Como foi solucionado?\n",
        "\n",
        "Eu alterei o index pro ID mas em outro dataframe, e manti o df_nestudante do mesmo jeito."
      ]
    },
    {
      "cell_type": "code",
      "execution_count": 130,
      "metadata": {
        "id": "0w3VSuAIDBAf"
      },
      "outputs": [],
      "source": [
        "df_nestudante2 = df_nestudante.set_index(\"ID\")"
      ]
    },
    {
      "cell_type": "markdown",
      "metadata": {
        "id": "Pei5Tseb0D-P"
      },
      "source": [
        "Agora temos o dataframe com todas as informações necessárias para fazer o ranking."
      ]
    },
    {
      "cell_type": "code",
      "execution_count": 131,
      "metadata": {
        "id": "1d26APOKYe26"
      },
      "outputs": [],
      "source": [
        "mask = df_nestudante2['Total'] < 30000\n",
        "df_nestudante3 = df_nestudante2.loc[~mask]"
      ]
    },
    {
      "cell_type": "code",
      "execution_count": 132,
      "metadata": {
        "id": "xr5dCUsEpx-3"
      },
      "outputs": [],
      "source": [
        "rank_estudante = df_nestudante3[\"Percentual\"].rank(method=\"min\")\n"
      ]
    },
    {
      "cell_type": "markdown",
      "metadata": {
        "id": "tTttpC4kDpXc"
      },
      "source": [
        "Agora nosso rank está usando o ID da linha de ônibus, mas caso queiramos consultar as informações o df_nestudante ainda pode ser utilizado através da coluna ID"
      ]
    },
    {
      "cell_type": "code",
      "execution_count": 133,
      "metadata": {
        "id": "nYLh05Y3bZhC",
        "colab": {
          "base_uri": "https://localhost:8080/"
        },
        "outputId": "39494946-a409-4dea-fde8-ecb44bfb1f15"
      },
      "outputs": [
        {
          "output_type": "execute_result",
          "data": {
            "text/plain": [
              "ID\n",
              "1       27.0\n",
              "3       13.0\n",
              "4      226.0\n",
              "5      208.0\n",
              "6      202.0\n",
              "       ...  \n",
              "905     93.0\n",
              "906    186.0\n",
              "907    203.0\n",
              "913     91.0\n",
              "920    140.0\n",
              "Name: Percentual, Length: 232, dtype: float64"
            ]
          },
          "metadata": {},
          "execution_count": 133
        }
      ],
      "source": [
        "rank_estudante\n"
      ]
    },
    {
      "cell_type": "code",
      "execution_count": 134,
      "metadata": {
        "id": "FkNURYJnbrgy"
      },
      "outputs": [],
      "source": [
        "idx = rank_estudante.sort_values(ascending=False).head(10).index"
      ]
    },
    {
      "cell_type": "markdown",
      "metadata": {
        "id": "MV7oFVNFD081"
      },
      "source": [
        "O código acima aprendi em um post do stackover, pra que eu tivesse um dataframe só com os top 10 do ranking e com suas informações."
      ]
    },
    {
      "cell_type": "code",
      "execution_count": 135,
      "metadata": {
        "id": "SomeycIUcE5u"
      },
      "outputs": [],
      "source": [
        "estudantes = df_nestudante2.loc[idx]"
      ]
    },
    {
      "cell_type": "code",
      "execution_count": 136,
      "metadata": {
        "id": "zRqguSAS3TqL",
        "colab": {
          "base_uri": "https://localhost:8080/",
          "height": 394
        },
        "outputId": "0eba4a58-2439-4da8-8093-05dfc0e55bf3"
      },
      "outputs": [
        {
          "output_type": "execute_result",
          "data": {
            "text/plain": [
              "     Estudantes   Total  Percentual\n",
              "ID                                 \n",
              "836       18597   42086   44.188091\n",
              "640       25354   59833   42.374609\n",
              "816       33724   80559   41.862486\n",
              "825       19032   46279   41.124484\n",
              "820       48806  120303   40.569229\n",
              "901       16566   41031   40.374351\n",
              "4         31360   77783   40.317293\n",
              "617       21129   53146   39.756520\n",
              "627       30559   76989   39.692683\n",
              "602       22171   56536   39.215721"
            ],
            "text/html": [
              "\n",
              "  <div id=\"df-eae282ad-cb25-4f70-a25b-7b1c08f4facd\">\n",
              "    <div class=\"colab-df-container\">\n",
              "      <div>\n",
              "<style scoped>\n",
              "    .dataframe tbody tr th:only-of-type {\n",
              "        vertical-align: middle;\n",
              "    }\n",
              "\n",
              "    .dataframe tbody tr th {\n",
              "        vertical-align: top;\n",
              "    }\n",
              "\n",
              "    .dataframe thead th {\n",
              "        text-align: right;\n",
              "    }\n",
              "</style>\n",
              "<table border=\"1\" class=\"dataframe\">\n",
              "  <thead>\n",
              "    <tr style=\"text-align: right;\">\n",
              "      <th></th>\n",
              "      <th>Estudantes</th>\n",
              "      <th>Total</th>\n",
              "      <th>Percentual</th>\n",
              "    </tr>\n",
              "    <tr>\n",
              "      <th>ID</th>\n",
              "      <th></th>\n",
              "      <th></th>\n",
              "      <th></th>\n",
              "    </tr>\n",
              "  </thead>\n",
              "  <tbody>\n",
              "    <tr>\n",
              "      <th>836</th>\n",
              "      <td>18597</td>\n",
              "      <td>42086</td>\n",
              "      <td>44.188091</td>\n",
              "    </tr>\n",
              "    <tr>\n",
              "      <th>640</th>\n",
              "      <td>25354</td>\n",
              "      <td>59833</td>\n",
              "      <td>42.374609</td>\n",
              "    </tr>\n",
              "    <tr>\n",
              "      <th>816</th>\n",
              "      <td>33724</td>\n",
              "      <td>80559</td>\n",
              "      <td>41.862486</td>\n",
              "    </tr>\n",
              "    <tr>\n",
              "      <th>825</th>\n",
              "      <td>19032</td>\n",
              "      <td>46279</td>\n",
              "      <td>41.124484</td>\n",
              "    </tr>\n",
              "    <tr>\n",
              "      <th>820</th>\n",
              "      <td>48806</td>\n",
              "      <td>120303</td>\n",
              "      <td>40.569229</td>\n",
              "    </tr>\n",
              "    <tr>\n",
              "      <th>901</th>\n",
              "      <td>16566</td>\n",
              "      <td>41031</td>\n",
              "      <td>40.374351</td>\n",
              "    </tr>\n",
              "    <tr>\n",
              "      <th>4</th>\n",
              "      <td>31360</td>\n",
              "      <td>77783</td>\n",
              "      <td>40.317293</td>\n",
              "    </tr>\n",
              "    <tr>\n",
              "      <th>617</th>\n",
              "      <td>21129</td>\n",
              "      <td>53146</td>\n",
              "      <td>39.756520</td>\n",
              "    </tr>\n",
              "    <tr>\n",
              "      <th>627</th>\n",
              "      <td>30559</td>\n",
              "      <td>76989</td>\n",
              "      <td>39.692683</td>\n",
              "    </tr>\n",
              "    <tr>\n",
              "      <th>602</th>\n",
              "      <td>22171</td>\n",
              "      <td>56536</td>\n",
              "      <td>39.215721</td>\n",
              "    </tr>\n",
              "  </tbody>\n",
              "</table>\n",
              "</div>\n",
              "      <button class=\"colab-df-convert\" onclick=\"convertToInteractive('df-eae282ad-cb25-4f70-a25b-7b1c08f4facd')\"\n",
              "              title=\"Convert this dataframe to an interactive table.\"\n",
              "              style=\"display:none;\">\n",
              "        \n",
              "  <svg xmlns=\"http://www.w3.org/2000/svg\" height=\"24px\"viewBox=\"0 0 24 24\"\n",
              "       width=\"24px\">\n",
              "    <path d=\"M0 0h24v24H0V0z\" fill=\"none\"/>\n",
              "    <path d=\"M18.56 5.44l.94 2.06.94-2.06 2.06-.94-2.06-.94-.94-2.06-.94 2.06-2.06.94zm-11 1L8.5 8.5l.94-2.06 2.06-.94-2.06-.94L8.5 2.5l-.94 2.06-2.06.94zm10 10l.94 2.06.94-2.06 2.06-.94-2.06-.94-.94-2.06-.94 2.06-2.06.94z\"/><path d=\"M17.41 7.96l-1.37-1.37c-.4-.4-.92-.59-1.43-.59-.52 0-1.04.2-1.43.59L10.3 9.45l-7.72 7.72c-.78.78-.78 2.05 0 2.83L4 21.41c.39.39.9.59 1.41.59.51 0 1.02-.2 1.41-.59l7.78-7.78 2.81-2.81c.8-.78.8-2.07 0-2.86zM5.41 20L4 18.59l7.72-7.72 1.47 1.35L5.41 20z\"/>\n",
              "  </svg>\n",
              "      </button>\n",
              "      \n",
              "  <style>\n",
              "    .colab-df-container {\n",
              "      display:flex;\n",
              "      flex-wrap:wrap;\n",
              "      gap: 12px;\n",
              "    }\n",
              "\n",
              "    .colab-df-convert {\n",
              "      background-color: #E8F0FE;\n",
              "      border: none;\n",
              "      border-radius: 50%;\n",
              "      cursor: pointer;\n",
              "      display: none;\n",
              "      fill: #1967D2;\n",
              "      height: 32px;\n",
              "      padding: 0 0 0 0;\n",
              "      width: 32px;\n",
              "    }\n",
              "\n",
              "    .colab-df-convert:hover {\n",
              "      background-color: #E2EBFA;\n",
              "      box-shadow: 0px 1px 2px rgba(60, 64, 67, 0.3), 0px 1px 3px 1px rgba(60, 64, 67, 0.15);\n",
              "      fill: #174EA6;\n",
              "    }\n",
              "\n",
              "    [theme=dark] .colab-df-convert {\n",
              "      background-color: #3B4455;\n",
              "      fill: #D2E3FC;\n",
              "    }\n",
              "\n",
              "    [theme=dark] .colab-df-convert:hover {\n",
              "      background-color: #434B5C;\n",
              "      box-shadow: 0px 1px 3px 1px rgba(0, 0, 0, 0.15);\n",
              "      filter: drop-shadow(0px 1px 2px rgba(0, 0, 0, 0.3));\n",
              "      fill: #FFFFFF;\n",
              "    }\n",
              "  </style>\n",
              "\n",
              "      <script>\n",
              "        const buttonEl =\n",
              "          document.querySelector('#df-eae282ad-cb25-4f70-a25b-7b1c08f4facd button.colab-df-convert');\n",
              "        buttonEl.style.display =\n",
              "          google.colab.kernel.accessAllowed ? 'block' : 'none';\n",
              "\n",
              "        async function convertToInteractive(key) {\n",
              "          const element = document.querySelector('#df-eae282ad-cb25-4f70-a25b-7b1c08f4facd');\n",
              "          const dataTable =\n",
              "            await google.colab.kernel.invokeFunction('convertToInteractive',\n",
              "                                                     [key], {});\n",
              "          if (!dataTable) return;\n",
              "\n",
              "          const docLinkHtml = 'Like what you see? Visit the ' +\n",
              "            '<a target=\"_blank\" href=https://colab.research.google.com/notebooks/data_table.ipynb>data table notebook</a>'\n",
              "            + ' to learn more about interactive tables.';\n",
              "          element.innerHTML = '';\n",
              "          dataTable['output_type'] = 'display_data';\n",
              "          await google.colab.output.renderOutput(dataTable, element);\n",
              "          const docLink = document.createElement('div');\n",
              "          docLink.innerHTML = docLinkHtml;\n",
              "          element.appendChild(docLink);\n",
              "        }\n",
              "      </script>\n",
              "    </div>\n",
              "  </div>\n",
              "  "
            ]
          },
          "metadata": {},
          "execution_count": 136
        }
      ],
      "source": [
        "estudantes\n"
      ]
    },
    {
      "cell_type": "markdown",
      "metadata": {
        "id": "Tc-mXCzNEEED"
      },
      "source": [
        "Só falta agora colocar a linha de ônibus que pertence o ID, vou ver como fazer isso"
      ]
    },
    {
      "cell_type": "code",
      "execution_count": 137,
      "metadata": {
        "id": "66JkHn2MCGx1"
      },
      "outputs": [],
      "source": [
        "s = demanda_2.drop_duplicates(subset=['ID']).set_index(\"ID\")[\"Nome\"]"
      ]
    },
    {
      "cell_type": "code",
      "execution_count": 138,
      "metadata": {
        "id": "jgmbW_iZYDNj"
      },
      "outputs": [],
      "source": [
        "estudantes= estudantes.reset_index()\n",
        "estudantes[\"Nome\"] = estudantes['ID'].map(s)"
      ]
    },
    {
      "cell_type": "code",
      "execution_count": 139,
      "metadata": {
        "id": "_IdCB33PYMRf",
        "colab": {
          "base_uri": "https://localhost:8080/",
          "height": 363
        },
        "outputId": "2de3f07b-d585-41bf-da0e-930f9cbac33c"
      },
      "outputs": [
        {
          "output_type": "execute_result",
          "data": {
            "text/plain": [
              "    ID  Estudantes   Total  Percentual  \\\n",
              "0  836       18597   42086   44.188091   \n",
              "1  640       25354   59833   42.374609   \n",
              "2  816       33724   80559   41.862486   \n",
              "3  825       19032   46279   41.124484   \n",
              "4  820       48806  120303   40.569229   \n",
              "5  901       16566   41031   40.374351   \n",
              "6    4       31360   77783   40.317293   \n",
              "7  617       21129   53146   39.756520   \n",
              "8  627       30559   76989   39.692683   \n",
              "9  602       22171   56536   39.215721   \n",
              "\n",
              "                                       Nome  \n",
              "0                   Cj Dona Yolanda Queiroz  \n",
              "1  Cj Alvorada/Messejana                     \n",
              "2  Edson Queiróz/Centro                      \n",
              "3  Cidade Func/Papicu/Jardim das Oliveiras   \n",
              "4  Papicu/Cj Alvorada                        \n",
              "5                          Dom Luíz/ Papicu  \n",
              "6               Messejana/Papicu/Cambeba/TJ  \n",
              "7  Lagoa Redonda/Abreulândia/Direita         \n",
              "8  Lagoa Redonda/Papicu                      \n",
              "9  Parque Pio XII/Ana Gonçalves              "
            ],
            "text/html": [
              "\n",
              "  <div id=\"df-41dbed13-9939-4d98-aaba-d9cbdcd480c7\">\n",
              "    <div class=\"colab-df-container\">\n",
              "      <div>\n",
              "<style scoped>\n",
              "    .dataframe tbody tr th:only-of-type {\n",
              "        vertical-align: middle;\n",
              "    }\n",
              "\n",
              "    .dataframe tbody tr th {\n",
              "        vertical-align: top;\n",
              "    }\n",
              "\n",
              "    .dataframe thead th {\n",
              "        text-align: right;\n",
              "    }\n",
              "</style>\n",
              "<table border=\"1\" class=\"dataframe\">\n",
              "  <thead>\n",
              "    <tr style=\"text-align: right;\">\n",
              "      <th></th>\n",
              "      <th>ID</th>\n",
              "      <th>Estudantes</th>\n",
              "      <th>Total</th>\n",
              "      <th>Percentual</th>\n",
              "      <th>Nome</th>\n",
              "    </tr>\n",
              "  </thead>\n",
              "  <tbody>\n",
              "    <tr>\n",
              "      <th>0</th>\n",
              "      <td>836</td>\n",
              "      <td>18597</td>\n",
              "      <td>42086</td>\n",
              "      <td>44.188091</td>\n",
              "      <td>Cj Dona Yolanda Queiroz</td>\n",
              "    </tr>\n",
              "    <tr>\n",
              "      <th>1</th>\n",
              "      <td>640</td>\n",
              "      <td>25354</td>\n",
              "      <td>59833</td>\n",
              "      <td>42.374609</td>\n",
              "      <td>Cj Alvorada/Messejana</td>\n",
              "    </tr>\n",
              "    <tr>\n",
              "      <th>2</th>\n",
              "      <td>816</td>\n",
              "      <td>33724</td>\n",
              "      <td>80559</td>\n",
              "      <td>41.862486</td>\n",
              "      <td>Edson Queiróz/Centro</td>\n",
              "    </tr>\n",
              "    <tr>\n",
              "      <th>3</th>\n",
              "      <td>825</td>\n",
              "      <td>19032</td>\n",
              "      <td>46279</td>\n",
              "      <td>41.124484</td>\n",
              "      <td>Cidade Func/Papicu/Jardim das Oliveiras</td>\n",
              "    </tr>\n",
              "    <tr>\n",
              "      <th>4</th>\n",
              "      <td>820</td>\n",
              "      <td>48806</td>\n",
              "      <td>120303</td>\n",
              "      <td>40.569229</td>\n",
              "      <td>Papicu/Cj Alvorada</td>\n",
              "    </tr>\n",
              "    <tr>\n",
              "      <th>5</th>\n",
              "      <td>901</td>\n",
              "      <td>16566</td>\n",
              "      <td>41031</td>\n",
              "      <td>40.374351</td>\n",
              "      <td>Dom Luíz/ Papicu</td>\n",
              "    </tr>\n",
              "    <tr>\n",
              "      <th>6</th>\n",
              "      <td>4</td>\n",
              "      <td>31360</td>\n",
              "      <td>77783</td>\n",
              "      <td>40.317293</td>\n",
              "      <td>Messejana/Papicu/Cambeba/TJ</td>\n",
              "    </tr>\n",
              "    <tr>\n",
              "      <th>7</th>\n",
              "      <td>617</td>\n",
              "      <td>21129</td>\n",
              "      <td>53146</td>\n",
              "      <td>39.756520</td>\n",
              "      <td>Lagoa Redonda/Abreulândia/Direita</td>\n",
              "    </tr>\n",
              "    <tr>\n",
              "      <th>8</th>\n",
              "      <td>627</td>\n",
              "      <td>30559</td>\n",
              "      <td>76989</td>\n",
              "      <td>39.692683</td>\n",
              "      <td>Lagoa Redonda/Papicu</td>\n",
              "    </tr>\n",
              "    <tr>\n",
              "      <th>9</th>\n",
              "      <td>602</td>\n",
              "      <td>22171</td>\n",
              "      <td>56536</td>\n",
              "      <td>39.215721</td>\n",
              "      <td>Parque Pio XII/Ana Gonçalves</td>\n",
              "    </tr>\n",
              "  </tbody>\n",
              "</table>\n",
              "</div>\n",
              "      <button class=\"colab-df-convert\" onclick=\"convertToInteractive('df-41dbed13-9939-4d98-aaba-d9cbdcd480c7')\"\n",
              "              title=\"Convert this dataframe to an interactive table.\"\n",
              "              style=\"display:none;\">\n",
              "        \n",
              "  <svg xmlns=\"http://www.w3.org/2000/svg\" height=\"24px\"viewBox=\"0 0 24 24\"\n",
              "       width=\"24px\">\n",
              "    <path d=\"M0 0h24v24H0V0z\" fill=\"none\"/>\n",
              "    <path d=\"M18.56 5.44l.94 2.06.94-2.06 2.06-.94-2.06-.94-.94-2.06-.94 2.06-2.06.94zm-11 1L8.5 8.5l.94-2.06 2.06-.94-2.06-.94L8.5 2.5l-.94 2.06-2.06.94zm10 10l.94 2.06.94-2.06 2.06-.94-2.06-.94-.94-2.06-.94 2.06-2.06.94z\"/><path d=\"M17.41 7.96l-1.37-1.37c-.4-.4-.92-.59-1.43-.59-.52 0-1.04.2-1.43.59L10.3 9.45l-7.72 7.72c-.78.78-.78 2.05 0 2.83L4 21.41c.39.39.9.59 1.41.59.51 0 1.02-.2 1.41-.59l7.78-7.78 2.81-2.81c.8-.78.8-2.07 0-2.86zM5.41 20L4 18.59l7.72-7.72 1.47 1.35L5.41 20z\"/>\n",
              "  </svg>\n",
              "      </button>\n",
              "      \n",
              "  <style>\n",
              "    .colab-df-container {\n",
              "      display:flex;\n",
              "      flex-wrap:wrap;\n",
              "      gap: 12px;\n",
              "    }\n",
              "\n",
              "    .colab-df-convert {\n",
              "      background-color: #E8F0FE;\n",
              "      border: none;\n",
              "      border-radius: 50%;\n",
              "      cursor: pointer;\n",
              "      display: none;\n",
              "      fill: #1967D2;\n",
              "      height: 32px;\n",
              "      padding: 0 0 0 0;\n",
              "      width: 32px;\n",
              "    }\n",
              "\n",
              "    .colab-df-convert:hover {\n",
              "      background-color: #E2EBFA;\n",
              "      box-shadow: 0px 1px 2px rgba(60, 64, 67, 0.3), 0px 1px 3px 1px rgba(60, 64, 67, 0.15);\n",
              "      fill: #174EA6;\n",
              "    }\n",
              "\n",
              "    [theme=dark] .colab-df-convert {\n",
              "      background-color: #3B4455;\n",
              "      fill: #D2E3FC;\n",
              "    }\n",
              "\n",
              "    [theme=dark] .colab-df-convert:hover {\n",
              "      background-color: #434B5C;\n",
              "      box-shadow: 0px 1px 3px 1px rgba(0, 0, 0, 0.15);\n",
              "      filter: drop-shadow(0px 1px 2px rgba(0, 0, 0, 0.3));\n",
              "      fill: #FFFFFF;\n",
              "    }\n",
              "  </style>\n",
              "\n",
              "      <script>\n",
              "        const buttonEl =\n",
              "          document.querySelector('#df-41dbed13-9939-4d98-aaba-d9cbdcd480c7 button.colab-df-convert');\n",
              "        buttonEl.style.display =\n",
              "          google.colab.kernel.accessAllowed ? 'block' : 'none';\n",
              "\n",
              "        async function convertToInteractive(key) {\n",
              "          const element = document.querySelector('#df-41dbed13-9939-4d98-aaba-d9cbdcd480c7');\n",
              "          const dataTable =\n",
              "            await google.colab.kernel.invokeFunction('convertToInteractive',\n",
              "                                                     [key], {});\n",
              "          if (!dataTable) return;\n",
              "\n",
              "          const docLinkHtml = 'Like what you see? Visit the ' +\n",
              "            '<a target=\"_blank\" href=https://colab.research.google.com/notebooks/data_table.ipynb>data table notebook</a>'\n",
              "            + ' to learn more about interactive tables.';\n",
              "          element.innerHTML = '';\n",
              "          dataTable['output_type'] = 'display_data';\n",
              "          await google.colab.output.renderOutput(dataTable, element);\n",
              "          const docLink = document.createElement('div');\n",
              "          docLink.innerHTML = docLinkHtml;\n",
              "          element.appendChild(docLink);\n",
              "        }\n",
              "      </script>\n",
              "    </div>\n",
              "  </div>\n",
              "  "
            ]
          },
          "metadata": {},
          "execution_count": 139
        }
      ],
      "source": [
        "estudantes"
      ]
    },
    {
      "cell_type": "markdown",
      "metadata": {
        "id": "HbOYds586FO8"
      },
      "source": [
        "## 2 - Idosos"
      ]
    },
    {
      "cell_type": "code",
      "execution_count": 140,
      "metadata": {
        "id": "Eu3nS0pK6OHQ"
      },
      "outputs": [],
      "source": [
        "df_idosos = demanda_2[(demanda_2[\"ID Passageiro\"] == 4) | (demanda_2[\"ID Passageiro\"] == 11)]"
      ]
    },
    {
      "cell_type": "code",
      "execution_count": 141,
      "metadata": {
        "id": "9J1tiMbn6YQf",
        "colab": {
          "base_uri": "https://localhost:8080/",
          "height": 468
        },
        "outputId": "8c9ebcb5-8bd0-4b76-9185-33feb873f5b3"
      },
      "outputs": [
        {
          "output_type": "execute_result",
          "data": {
            "text/plain": [
              "             Data   ID                                      Nome  \\\n",
              "0      2022-01-01    1  Terminal Antônio Bezerra                   \n",
              "2      2022-01-01    1  Terminal Antônio Bezerra                   \n",
              "7      2022-01-01    2    Catraca Móvel/Terminal/Antônio Bezerra   \n",
              "8      2022-01-01    2    Catraca Móvel/Terminal/Antônio Bezerra   \n",
              "14     2022-01-01    3  Terminal Parangaba I                       \n",
              "...           ...  ...                                       ...   \n",
              "166442 2022-02-28  913  Papicu/Serviluz/Varjota                    \n",
              "166450 2022-02-28  920  Papicu/Caça e Pesca                        \n",
              "166453 2022-02-28  920  Papicu/Caça e Pesca                        \n",
              "166459 2022-02-28  999  Quilometragem/Terminal                     \n",
              "166460 2022-02-28  999  Quilometragem/Terminal                     \n",
              "\n",
              "        ID Passageiro      Tipo Passageiro  Quantidade  Final de semana  \n",
              "0                   4     Gratuidade Idoso         666             True  \n",
              "2                  11  Idoso Identificação          97             True  \n",
              "7                   4     Gratuidade Idoso          16             True  \n",
              "8                  11  Idoso Identificação          23             True  \n",
              "14                  4     Gratuidade Idoso         696             True  \n",
              "...               ...                  ...         ...              ...  \n",
              "166442             11  Idoso Identificação          97            False  \n",
              "166450              4     Gratuidade Idoso        1156            False  \n",
              "166453             11  Idoso Identificação         160            False  \n",
              "166459              4     Gratuidade Idoso           2            False  \n",
              "166460             11  Idoso Identificação          15            False  \n",
              "\n",
              "[34805 rows x 7 columns]"
            ],
            "text/html": [
              "\n",
              "  <div id=\"df-14f3852c-8d4e-42c1-a2c9-23b7727fd9be\">\n",
              "    <div class=\"colab-df-container\">\n",
              "      <div>\n",
              "<style scoped>\n",
              "    .dataframe tbody tr th:only-of-type {\n",
              "        vertical-align: middle;\n",
              "    }\n",
              "\n",
              "    .dataframe tbody tr th {\n",
              "        vertical-align: top;\n",
              "    }\n",
              "\n",
              "    .dataframe thead th {\n",
              "        text-align: right;\n",
              "    }\n",
              "</style>\n",
              "<table border=\"1\" class=\"dataframe\">\n",
              "  <thead>\n",
              "    <tr style=\"text-align: right;\">\n",
              "      <th></th>\n",
              "      <th>Data</th>\n",
              "      <th>ID</th>\n",
              "      <th>Nome</th>\n",
              "      <th>ID Passageiro</th>\n",
              "      <th>Tipo Passageiro</th>\n",
              "      <th>Quantidade</th>\n",
              "      <th>Final de semana</th>\n",
              "    </tr>\n",
              "  </thead>\n",
              "  <tbody>\n",
              "    <tr>\n",
              "      <th>0</th>\n",
              "      <td>2022-01-01</td>\n",
              "      <td>1</td>\n",
              "      <td>Terminal Antônio Bezerra</td>\n",
              "      <td>4</td>\n",
              "      <td>Gratuidade Idoso</td>\n",
              "      <td>666</td>\n",
              "      <td>True</td>\n",
              "    </tr>\n",
              "    <tr>\n",
              "      <th>2</th>\n",
              "      <td>2022-01-01</td>\n",
              "      <td>1</td>\n",
              "      <td>Terminal Antônio Bezerra</td>\n",
              "      <td>11</td>\n",
              "      <td>Idoso Identificação</td>\n",
              "      <td>97</td>\n",
              "      <td>True</td>\n",
              "    </tr>\n",
              "    <tr>\n",
              "      <th>7</th>\n",
              "      <td>2022-01-01</td>\n",
              "      <td>2</td>\n",
              "      <td>Catraca Móvel/Terminal/Antônio Bezerra</td>\n",
              "      <td>4</td>\n",
              "      <td>Gratuidade Idoso</td>\n",
              "      <td>16</td>\n",
              "      <td>True</td>\n",
              "    </tr>\n",
              "    <tr>\n",
              "      <th>8</th>\n",
              "      <td>2022-01-01</td>\n",
              "      <td>2</td>\n",
              "      <td>Catraca Móvel/Terminal/Antônio Bezerra</td>\n",
              "      <td>11</td>\n",
              "      <td>Idoso Identificação</td>\n",
              "      <td>23</td>\n",
              "      <td>True</td>\n",
              "    </tr>\n",
              "    <tr>\n",
              "      <th>14</th>\n",
              "      <td>2022-01-01</td>\n",
              "      <td>3</td>\n",
              "      <td>Terminal Parangaba I</td>\n",
              "      <td>4</td>\n",
              "      <td>Gratuidade Idoso</td>\n",
              "      <td>696</td>\n",
              "      <td>True</td>\n",
              "    </tr>\n",
              "    <tr>\n",
              "      <th>...</th>\n",
              "      <td>...</td>\n",
              "      <td>...</td>\n",
              "      <td>...</td>\n",
              "      <td>...</td>\n",
              "      <td>...</td>\n",
              "      <td>...</td>\n",
              "      <td>...</td>\n",
              "    </tr>\n",
              "    <tr>\n",
              "      <th>166442</th>\n",
              "      <td>2022-02-28</td>\n",
              "      <td>913</td>\n",
              "      <td>Papicu/Serviluz/Varjota</td>\n",
              "      <td>11</td>\n",
              "      <td>Idoso Identificação</td>\n",
              "      <td>97</td>\n",
              "      <td>False</td>\n",
              "    </tr>\n",
              "    <tr>\n",
              "      <th>166450</th>\n",
              "      <td>2022-02-28</td>\n",
              "      <td>920</td>\n",
              "      <td>Papicu/Caça e Pesca</td>\n",
              "      <td>4</td>\n",
              "      <td>Gratuidade Idoso</td>\n",
              "      <td>1156</td>\n",
              "      <td>False</td>\n",
              "    </tr>\n",
              "    <tr>\n",
              "      <th>166453</th>\n",
              "      <td>2022-02-28</td>\n",
              "      <td>920</td>\n",
              "      <td>Papicu/Caça e Pesca</td>\n",
              "      <td>11</td>\n",
              "      <td>Idoso Identificação</td>\n",
              "      <td>160</td>\n",
              "      <td>False</td>\n",
              "    </tr>\n",
              "    <tr>\n",
              "      <th>166459</th>\n",
              "      <td>2022-02-28</td>\n",
              "      <td>999</td>\n",
              "      <td>Quilometragem/Terminal</td>\n",
              "      <td>4</td>\n",
              "      <td>Gratuidade Idoso</td>\n",
              "      <td>2</td>\n",
              "      <td>False</td>\n",
              "    </tr>\n",
              "    <tr>\n",
              "      <th>166460</th>\n",
              "      <td>2022-02-28</td>\n",
              "      <td>999</td>\n",
              "      <td>Quilometragem/Terminal</td>\n",
              "      <td>11</td>\n",
              "      <td>Idoso Identificação</td>\n",
              "      <td>15</td>\n",
              "      <td>False</td>\n",
              "    </tr>\n",
              "  </tbody>\n",
              "</table>\n",
              "<p>34805 rows × 7 columns</p>\n",
              "</div>\n",
              "      <button class=\"colab-df-convert\" onclick=\"convertToInteractive('df-14f3852c-8d4e-42c1-a2c9-23b7727fd9be')\"\n",
              "              title=\"Convert this dataframe to an interactive table.\"\n",
              "              style=\"display:none;\">\n",
              "        \n",
              "  <svg xmlns=\"http://www.w3.org/2000/svg\" height=\"24px\"viewBox=\"0 0 24 24\"\n",
              "       width=\"24px\">\n",
              "    <path d=\"M0 0h24v24H0V0z\" fill=\"none\"/>\n",
              "    <path d=\"M18.56 5.44l.94 2.06.94-2.06 2.06-.94-2.06-.94-.94-2.06-.94 2.06-2.06.94zm-11 1L8.5 8.5l.94-2.06 2.06-.94-2.06-.94L8.5 2.5l-.94 2.06-2.06.94zm10 10l.94 2.06.94-2.06 2.06-.94-2.06-.94-.94-2.06-.94 2.06-2.06.94z\"/><path d=\"M17.41 7.96l-1.37-1.37c-.4-.4-.92-.59-1.43-.59-.52 0-1.04.2-1.43.59L10.3 9.45l-7.72 7.72c-.78.78-.78 2.05 0 2.83L4 21.41c.39.39.9.59 1.41.59.51 0 1.02-.2 1.41-.59l7.78-7.78 2.81-2.81c.8-.78.8-2.07 0-2.86zM5.41 20L4 18.59l7.72-7.72 1.47 1.35L5.41 20z\"/>\n",
              "  </svg>\n",
              "      </button>\n",
              "      \n",
              "  <style>\n",
              "    .colab-df-container {\n",
              "      display:flex;\n",
              "      flex-wrap:wrap;\n",
              "      gap: 12px;\n",
              "    }\n",
              "\n",
              "    .colab-df-convert {\n",
              "      background-color: #E8F0FE;\n",
              "      border: none;\n",
              "      border-radius: 50%;\n",
              "      cursor: pointer;\n",
              "      display: none;\n",
              "      fill: #1967D2;\n",
              "      height: 32px;\n",
              "      padding: 0 0 0 0;\n",
              "      width: 32px;\n",
              "    }\n",
              "\n",
              "    .colab-df-convert:hover {\n",
              "      background-color: #E2EBFA;\n",
              "      box-shadow: 0px 1px 2px rgba(60, 64, 67, 0.3), 0px 1px 3px 1px rgba(60, 64, 67, 0.15);\n",
              "      fill: #174EA6;\n",
              "    }\n",
              "\n",
              "    [theme=dark] .colab-df-convert {\n",
              "      background-color: #3B4455;\n",
              "      fill: #D2E3FC;\n",
              "    }\n",
              "\n",
              "    [theme=dark] .colab-df-convert:hover {\n",
              "      background-color: #434B5C;\n",
              "      box-shadow: 0px 1px 3px 1px rgba(0, 0, 0, 0.15);\n",
              "      filter: drop-shadow(0px 1px 2px rgba(0, 0, 0, 0.3));\n",
              "      fill: #FFFFFF;\n",
              "    }\n",
              "  </style>\n",
              "\n",
              "      <script>\n",
              "        const buttonEl =\n",
              "          document.querySelector('#df-14f3852c-8d4e-42c1-a2c9-23b7727fd9be button.colab-df-convert');\n",
              "        buttonEl.style.display =\n",
              "          google.colab.kernel.accessAllowed ? 'block' : 'none';\n",
              "\n",
              "        async function convertToInteractive(key) {\n",
              "          const element = document.querySelector('#df-14f3852c-8d4e-42c1-a2c9-23b7727fd9be');\n",
              "          const dataTable =\n",
              "            await google.colab.kernel.invokeFunction('convertToInteractive',\n",
              "                                                     [key], {});\n",
              "          if (!dataTable) return;\n",
              "\n",
              "          const docLinkHtml = 'Like what you see? Visit the ' +\n",
              "            '<a target=\"_blank\" href=https://colab.research.google.com/notebooks/data_table.ipynb>data table notebook</a>'\n",
              "            + ' to learn more about interactive tables.';\n",
              "          element.innerHTML = '';\n",
              "          dataTable['output_type'] = 'display_data';\n",
              "          await google.colab.output.renderOutput(dataTable, element);\n",
              "          const docLink = document.createElement('div');\n",
              "          docLink.innerHTML = docLinkHtml;\n",
              "          element.appendChild(docLink);\n",
              "        }\n",
              "      </script>\n",
              "    </div>\n",
              "  </div>\n",
              "  "
            ]
          },
          "metadata": {},
          "execution_count": 141
        }
      ],
      "source": [
        "df_idosos"
      ]
    },
    {
      "cell_type": "code",
      "execution_count": 142,
      "metadata": {
        "id": "Pho7KdZ_6OHR"
      },
      "outputs": [],
      "source": [
        "idosos = df_idosos.groupby(\"ID\").sum()[\"Quantidade\"]"
      ]
    },
    {
      "cell_type": "code",
      "execution_count": 143,
      "metadata": {
        "id": "NkocDmo1qyoK"
      },
      "outputs": [],
      "source": [
        "idosos = idosos.reset_index()"
      ]
    },
    {
      "cell_type": "code",
      "execution_count": 144,
      "metadata": {
        "id": "v-EaN9UJFbjD"
      },
      "outputs": [],
      "source": [
        "idosos.columns = [\"ID\",\"Idosos\"]"
      ]
    },
    {
      "cell_type": "code",
      "execution_count": 145,
      "metadata": {
        "id": "sERI8rKaq1Si"
      },
      "outputs": [],
      "source": [
        "idosos[\"Total\"] = total_passageiros[\"Quantidade\"]\n"
      ]
    },
    {
      "cell_type": "code",
      "execution_count": 146,
      "metadata": {
        "id": "Vp-LC9DdrDmu"
      },
      "outputs": [],
      "source": [
        "def percentual_idosos(df):\n",
        "  return (df[\"Idosos\"]/df[\"Total\"])*100\n",
        "idosos[\"Percentual\"] = idosos.apply(percentual_idosos, axis=1)"
      ]
    },
    {
      "cell_type": "code",
      "execution_count": 147,
      "metadata": {
        "id": "JXQpzuh9rNsh"
      },
      "outputs": [],
      "source": [
        "idosos2 = idosos.set_index(\"ID\")"
      ]
    },
    {
      "cell_type": "code",
      "execution_count": 148,
      "metadata": {
        "id": "lLzAebxnK8Gq"
      },
      "outputs": [],
      "source": [
        "\n",
        "mask = idosos2['Total'] < 10000\n",
        "idosos3 = idosos2.loc[~mask]"
      ]
    },
    {
      "cell_type": "code",
      "execution_count": 149,
      "metadata": {
        "id": "84ZBb7FtLqdM",
        "colab": {
          "base_uri": "https://localhost:8080/",
          "height": 455
        },
        "outputId": "aae22c77-b182-4d0b-b213-871cfcafc928"
      },
      "outputs": [
        {
          "output_type": "execute_result",
          "data": {
            "text/plain": [
              "     Idosos   Total  Percentual\n",
              "ID                             \n",
              "1    159528  236709   67.394142\n",
              "2      5171   25848   20.005416\n",
              "3    334464  494176   67.681150\n",
              "4     40603   77783   52.200352\n",
              "5     36435   60809   59.917118\n",
              "..      ...     ...         ...\n",
              "905   53672   85797   62.556966\n",
              "906  109794  201328   54.534888\n",
              "907   29118   51724   56.294950\n",
              "913   40534   65482   61.900980\n",
              "920   73579  124091   59.294389\n",
              "\n",
              "[294 rows x 3 columns]"
            ],
            "text/html": [
              "\n",
              "  <div id=\"df-a115bc52-6fab-4d96-96de-2362a7d88ac5\">\n",
              "    <div class=\"colab-df-container\">\n",
              "      <div>\n",
              "<style scoped>\n",
              "    .dataframe tbody tr th:only-of-type {\n",
              "        vertical-align: middle;\n",
              "    }\n",
              "\n",
              "    .dataframe tbody tr th {\n",
              "        vertical-align: top;\n",
              "    }\n",
              "\n",
              "    .dataframe thead th {\n",
              "        text-align: right;\n",
              "    }\n",
              "</style>\n",
              "<table border=\"1\" class=\"dataframe\">\n",
              "  <thead>\n",
              "    <tr style=\"text-align: right;\">\n",
              "      <th></th>\n",
              "      <th>Idosos</th>\n",
              "      <th>Total</th>\n",
              "      <th>Percentual</th>\n",
              "    </tr>\n",
              "    <tr>\n",
              "      <th>ID</th>\n",
              "      <th></th>\n",
              "      <th></th>\n",
              "      <th></th>\n",
              "    </tr>\n",
              "  </thead>\n",
              "  <tbody>\n",
              "    <tr>\n",
              "      <th>1</th>\n",
              "      <td>159528</td>\n",
              "      <td>236709</td>\n",
              "      <td>67.394142</td>\n",
              "    </tr>\n",
              "    <tr>\n",
              "      <th>2</th>\n",
              "      <td>5171</td>\n",
              "      <td>25848</td>\n",
              "      <td>20.005416</td>\n",
              "    </tr>\n",
              "    <tr>\n",
              "      <th>3</th>\n",
              "      <td>334464</td>\n",
              "      <td>494176</td>\n",
              "      <td>67.681150</td>\n",
              "    </tr>\n",
              "    <tr>\n",
              "      <th>4</th>\n",
              "      <td>40603</td>\n",
              "      <td>77783</td>\n",
              "      <td>52.200352</td>\n",
              "    </tr>\n",
              "    <tr>\n",
              "      <th>5</th>\n",
              "      <td>36435</td>\n",
              "      <td>60809</td>\n",
              "      <td>59.917118</td>\n",
              "    </tr>\n",
              "    <tr>\n",
              "      <th>...</th>\n",
              "      <td>...</td>\n",
              "      <td>...</td>\n",
              "      <td>...</td>\n",
              "    </tr>\n",
              "    <tr>\n",
              "      <th>905</th>\n",
              "      <td>53672</td>\n",
              "      <td>85797</td>\n",
              "      <td>62.556966</td>\n",
              "    </tr>\n",
              "    <tr>\n",
              "      <th>906</th>\n",
              "      <td>109794</td>\n",
              "      <td>201328</td>\n",
              "      <td>54.534888</td>\n",
              "    </tr>\n",
              "    <tr>\n",
              "      <th>907</th>\n",
              "      <td>29118</td>\n",
              "      <td>51724</td>\n",
              "      <td>56.294950</td>\n",
              "    </tr>\n",
              "    <tr>\n",
              "      <th>913</th>\n",
              "      <td>40534</td>\n",
              "      <td>65482</td>\n",
              "      <td>61.900980</td>\n",
              "    </tr>\n",
              "    <tr>\n",
              "      <th>920</th>\n",
              "      <td>73579</td>\n",
              "      <td>124091</td>\n",
              "      <td>59.294389</td>\n",
              "    </tr>\n",
              "  </tbody>\n",
              "</table>\n",
              "<p>294 rows × 3 columns</p>\n",
              "</div>\n",
              "      <button class=\"colab-df-convert\" onclick=\"convertToInteractive('df-a115bc52-6fab-4d96-96de-2362a7d88ac5')\"\n",
              "              title=\"Convert this dataframe to an interactive table.\"\n",
              "              style=\"display:none;\">\n",
              "        \n",
              "  <svg xmlns=\"http://www.w3.org/2000/svg\" height=\"24px\"viewBox=\"0 0 24 24\"\n",
              "       width=\"24px\">\n",
              "    <path d=\"M0 0h24v24H0V0z\" fill=\"none\"/>\n",
              "    <path d=\"M18.56 5.44l.94 2.06.94-2.06 2.06-.94-2.06-.94-.94-2.06-.94 2.06-2.06.94zm-11 1L8.5 8.5l.94-2.06 2.06-.94-2.06-.94L8.5 2.5l-.94 2.06-2.06.94zm10 10l.94 2.06.94-2.06 2.06-.94-2.06-.94-.94-2.06-.94 2.06-2.06.94z\"/><path d=\"M17.41 7.96l-1.37-1.37c-.4-.4-.92-.59-1.43-.59-.52 0-1.04.2-1.43.59L10.3 9.45l-7.72 7.72c-.78.78-.78 2.05 0 2.83L4 21.41c.39.39.9.59 1.41.59.51 0 1.02-.2 1.41-.59l7.78-7.78 2.81-2.81c.8-.78.8-2.07 0-2.86zM5.41 20L4 18.59l7.72-7.72 1.47 1.35L5.41 20z\"/>\n",
              "  </svg>\n",
              "      </button>\n",
              "      \n",
              "  <style>\n",
              "    .colab-df-container {\n",
              "      display:flex;\n",
              "      flex-wrap:wrap;\n",
              "      gap: 12px;\n",
              "    }\n",
              "\n",
              "    .colab-df-convert {\n",
              "      background-color: #E8F0FE;\n",
              "      border: none;\n",
              "      border-radius: 50%;\n",
              "      cursor: pointer;\n",
              "      display: none;\n",
              "      fill: #1967D2;\n",
              "      height: 32px;\n",
              "      padding: 0 0 0 0;\n",
              "      width: 32px;\n",
              "    }\n",
              "\n",
              "    .colab-df-convert:hover {\n",
              "      background-color: #E2EBFA;\n",
              "      box-shadow: 0px 1px 2px rgba(60, 64, 67, 0.3), 0px 1px 3px 1px rgba(60, 64, 67, 0.15);\n",
              "      fill: #174EA6;\n",
              "    }\n",
              "\n",
              "    [theme=dark] .colab-df-convert {\n",
              "      background-color: #3B4455;\n",
              "      fill: #D2E3FC;\n",
              "    }\n",
              "\n",
              "    [theme=dark] .colab-df-convert:hover {\n",
              "      background-color: #434B5C;\n",
              "      box-shadow: 0px 1px 3px 1px rgba(0, 0, 0, 0.15);\n",
              "      filter: drop-shadow(0px 1px 2px rgba(0, 0, 0, 0.3));\n",
              "      fill: #FFFFFF;\n",
              "    }\n",
              "  </style>\n",
              "\n",
              "      <script>\n",
              "        const buttonEl =\n",
              "          document.querySelector('#df-a115bc52-6fab-4d96-96de-2362a7d88ac5 button.colab-df-convert');\n",
              "        buttonEl.style.display =\n",
              "          google.colab.kernel.accessAllowed ? 'block' : 'none';\n",
              "\n",
              "        async function convertToInteractive(key) {\n",
              "          const element = document.querySelector('#df-a115bc52-6fab-4d96-96de-2362a7d88ac5');\n",
              "          const dataTable =\n",
              "            await google.colab.kernel.invokeFunction('convertToInteractive',\n",
              "                                                     [key], {});\n",
              "          if (!dataTable) return;\n",
              "\n",
              "          const docLinkHtml = 'Like what you see? Visit the ' +\n",
              "            '<a target=\"_blank\" href=https://colab.research.google.com/notebooks/data_table.ipynb>data table notebook</a>'\n",
              "            + ' to learn more about interactive tables.';\n",
              "          element.innerHTML = '';\n",
              "          dataTable['output_type'] = 'display_data';\n",
              "          await google.colab.output.renderOutput(dataTable, element);\n",
              "          const docLink = document.createElement('div');\n",
              "          docLink.innerHTML = docLinkHtml;\n",
              "          element.appendChild(docLink);\n",
              "        }\n",
              "      </script>\n",
              "    </div>\n",
              "  </div>\n",
              "  "
            ]
          },
          "metadata": {},
          "execution_count": 149
        }
      ],
      "source": [
        "idosos3"
      ]
    },
    {
      "cell_type": "code",
      "execution_count": 150,
      "metadata": {
        "id": "_Uc4x_lercqx"
      },
      "outputs": [],
      "source": [
        "rank_idosos = idosos3[\"Percentual\"].rank(method=\"min\")\n"
      ]
    },
    {
      "cell_type": "code",
      "execution_count": 151,
      "metadata": {
        "id": "t4X-p3d-sG50"
      },
      "outputs": [],
      "source": [
        "idx_idosos = rank_idosos.sort_values(ascending=False).head(12).index"
      ]
    },
    {
      "cell_type": "code",
      "execution_count": 152,
      "metadata": {
        "id": "gMmR6FL7sLTM"
      },
      "outputs": [],
      "source": [
        "ranking_idosos = idosos3.loc[idx_idosos]"
      ]
    },
    {
      "cell_type": "code",
      "execution_count": 153,
      "metadata": {
        "id": "WxxXYpDVGLeK",
        "colab": {
          "base_uri": "https://localhost:8080/",
          "height": 457
        },
        "outputId": "d4a665d8-9dbe-4cdf-88d4-2a89265860fd"
      },
      "outputs": [
        {
          "output_type": "execute_result",
          "data": {
            "text/plain": [
              "     Idosos   Total  Percentual\n",
              "ID                             \n",
              "331   25521   34104   74.832864\n",
              "72    70117   98176   71.419695\n",
              "10   112780  161334   69.904670\n",
              "374   13460   19507   69.000871\n",
              "243   20875   30272   68.958113\n",
              "631   26993   39264   68.747453\n",
              "706   74435  108886   68.360487\n",
              "172   17845   26273   67.921440\n",
              "3    334464  494176   67.681150\n",
              "1    159528  236709   67.394142\n",
              "244   15271   22822   66.913505\n",
              "122   46446   69454   66.873038"
            ],
            "text/html": [
              "\n",
              "  <div id=\"df-67a59c19-8820-4012-9ceb-364f1e89a90a\">\n",
              "    <div class=\"colab-df-container\">\n",
              "      <div>\n",
              "<style scoped>\n",
              "    .dataframe tbody tr th:only-of-type {\n",
              "        vertical-align: middle;\n",
              "    }\n",
              "\n",
              "    .dataframe tbody tr th {\n",
              "        vertical-align: top;\n",
              "    }\n",
              "\n",
              "    .dataframe thead th {\n",
              "        text-align: right;\n",
              "    }\n",
              "</style>\n",
              "<table border=\"1\" class=\"dataframe\">\n",
              "  <thead>\n",
              "    <tr style=\"text-align: right;\">\n",
              "      <th></th>\n",
              "      <th>Idosos</th>\n",
              "      <th>Total</th>\n",
              "      <th>Percentual</th>\n",
              "    </tr>\n",
              "    <tr>\n",
              "      <th>ID</th>\n",
              "      <th></th>\n",
              "      <th></th>\n",
              "      <th></th>\n",
              "    </tr>\n",
              "  </thead>\n",
              "  <tbody>\n",
              "    <tr>\n",
              "      <th>331</th>\n",
              "      <td>25521</td>\n",
              "      <td>34104</td>\n",
              "      <td>74.832864</td>\n",
              "    </tr>\n",
              "    <tr>\n",
              "      <th>72</th>\n",
              "      <td>70117</td>\n",
              "      <td>98176</td>\n",
              "      <td>71.419695</td>\n",
              "    </tr>\n",
              "    <tr>\n",
              "      <th>10</th>\n",
              "      <td>112780</td>\n",
              "      <td>161334</td>\n",
              "      <td>69.904670</td>\n",
              "    </tr>\n",
              "    <tr>\n",
              "      <th>374</th>\n",
              "      <td>13460</td>\n",
              "      <td>19507</td>\n",
              "      <td>69.000871</td>\n",
              "    </tr>\n",
              "    <tr>\n",
              "      <th>243</th>\n",
              "      <td>20875</td>\n",
              "      <td>30272</td>\n",
              "      <td>68.958113</td>\n",
              "    </tr>\n",
              "    <tr>\n",
              "      <th>631</th>\n",
              "      <td>26993</td>\n",
              "      <td>39264</td>\n",
              "      <td>68.747453</td>\n",
              "    </tr>\n",
              "    <tr>\n",
              "      <th>706</th>\n",
              "      <td>74435</td>\n",
              "      <td>108886</td>\n",
              "      <td>68.360487</td>\n",
              "    </tr>\n",
              "    <tr>\n",
              "      <th>172</th>\n",
              "      <td>17845</td>\n",
              "      <td>26273</td>\n",
              "      <td>67.921440</td>\n",
              "    </tr>\n",
              "    <tr>\n",
              "      <th>3</th>\n",
              "      <td>334464</td>\n",
              "      <td>494176</td>\n",
              "      <td>67.681150</td>\n",
              "    </tr>\n",
              "    <tr>\n",
              "      <th>1</th>\n",
              "      <td>159528</td>\n",
              "      <td>236709</td>\n",
              "      <td>67.394142</td>\n",
              "    </tr>\n",
              "    <tr>\n",
              "      <th>244</th>\n",
              "      <td>15271</td>\n",
              "      <td>22822</td>\n",
              "      <td>66.913505</td>\n",
              "    </tr>\n",
              "    <tr>\n",
              "      <th>122</th>\n",
              "      <td>46446</td>\n",
              "      <td>69454</td>\n",
              "      <td>66.873038</td>\n",
              "    </tr>\n",
              "  </tbody>\n",
              "</table>\n",
              "</div>\n",
              "      <button class=\"colab-df-convert\" onclick=\"convertToInteractive('df-67a59c19-8820-4012-9ceb-364f1e89a90a')\"\n",
              "              title=\"Convert this dataframe to an interactive table.\"\n",
              "              style=\"display:none;\">\n",
              "        \n",
              "  <svg xmlns=\"http://www.w3.org/2000/svg\" height=\"24px\"viewBox=\"0 0 24 24\"\n",
              "       width=\"24px\">\n",
              "    <path d=\"M0 0h24v24H0V0z\" fill=\"none\"/>\n",
              "    <path d=\"M18.56 5.44l.94 2.06.94-2.06 2.06-.94-2.06-.94-.94-2.06-.94 2.06-2.06.94zm-11 1L8.5 8.5l.94-2.06 2.06-.94-2.06-.94L8.5 2.5l-.94 2.06-2.06.94zm10 10l.94 2.06.94-2.06 2.06-.94-2.06-.94-.94-2.06-.94 2.06-2.06.94z\"/><path d=\"M17.41 7.96l-1.37-1.37c-.4-.4-.92-.59-1.43-.59-.52 0-1.04.2-1.43.59L10.3 9.45l-7.72 7.72c-.78.78-.78 2.05 0 2.83L4 21.41c.39.39.9.59 1.41.59.51 0 1.02-.2 1.41-.59l7.78-7.78 2.81-2.81c.8-.78.8-2.07 0-2.86zM5.41 20L4 18.59l7.72-7.72 1.47 1.35L5.41 20z\"/>\n",
              "  </svg>\n",
              "      </button>\n",
              "      \n",
              "  <style>\n",
              "    .colab-df-container {\n",
              "      display:flex;\n",
              "      flex-wrap:wrap;\n",
              "      gap: 12px;\n",
              "    }\n",
              "\n",
              "    .colab-df-convert {\n",
              "      background-color: #E8F0FE;\n",
              "      border: none;\n",
              "      border-radius: 50%;\n",
              "      cursor: pointer;\n",
              "      display: none;\n",
              "      fill: #1967D2;\n",
              "      height: 32px;\n",
              "      padding: 0 0 0 0;\n",
              "      width: 32px;\n",
              "    }\n",
              "\n",
              "    .colab-df-convert:hover {\n",
              "      background-color: #E2EBFA;\n",
              "      box-shadow: 0px 1px 2px rgba(60, 64, 67, 0.3), 0px 1px 3px 1px rgba(60, 64, 67, 0.15);\n",
              "      fill: #174EA6;\n",
              "    }\n",
              "\n",
              "    [theme=dark] .colab-df-convert {\n",
              "      background-color: #3B4455;\n",
              "      fill: #D2E3FC;\n",
              "    }\n",
              "\n",
              "    [theme=dark] .colab-df-convert:hover {\n",
              "      background-color: #434B5C;\n",
              "      box-shadow: 0px 1px 3px 1px rgba(0, 0, 0, 0.15);\n",
              "      filter: drop-shadow(0px 1px 2px rgba(0, 0, 0, 0.3));\n",
              "      fill: #FFFFFF;\n",
              "    }\n",
              "  </style>\n",
              "\n",
              "      <script>\n",
              "        const buttonEl =\n",
              "          document.querySelector('#df-67a59c19-8820-4012-9ceb-364f1e89a90a button.colab-df-convert');\n",
              "        buttonEl.style.display =\n",
              "          google.colab.kernel.accessAllowed ? 'block' : 'none';\n",
              "\n",
              "        async function convertToInteractive(key) {\n",
              "          const element = document.querySelector('#df-67a59c19-8820-4012-9ceb-364f1e89a90a');\n",
              "          const dataTable =\n",
              "            await google.colab.kernel.invokeFunction('convertToInteractive',\n",
              "                                                     [key], {});\n",
              "          if (!dataTable) return;\n",
              "\n",
              "          const docLinkHtml = 'Like what you see? Visit the ' +\n",
              "            '<a target=\"_blank\" href=https://colab.research.google.com/notebooks/data_table.ipynb>data table notebook</a>'\n",
              "            + ' to learn more about interactive tables.';\n",
              "          element.innerHTML = '';\n",
              "          dataTable['output_type'] = 'display_data';\n",
              "          await google.colab.output.renderOutput(dataTable, element);\n",
              "          const docLink = document.createElement('div');\n",
              "          docLink.innerHTML = docLinkHtml;\n",
              "          element.appendChild(docLink);\n",
              "        }\n",
              "      </script>\n",
              "    </div>\n",
              "  </div>\n",
              "  "
            ]
          },
          "metadata": {},
          "execution_count": 153
        }
      ],
      "source": [
        "ranking_idosos"
      ]
    },
    {
      "cell_type": "code",
      "execution_count": 154,
      "metadata": {
        "id": "Y16Ttj1h-w_B",
        "colab": {
          "base_uri": "https://localhost:8080/"
        },
        "outputId": "bef815dd-68e8-47d3-9254-57a0b794f024"
      },
      "outputs": [
        {
          "output_type": "execute_result",
          "data": {
            "text/plain": [
              "True"
            ]
          },
          "metadata": {},
          "execution_count": 154
        }
      ],
      "source": [
        "total_passageiros.shape[0] == idosos.shape[0]"
      ]
    },
    {
      "cell_type": "markdown",
      "metadata": {
        "id": "76-v3hWY--wl"
      },
      "source": [
        "Vamos consertar isso:"
      ]
    },
    {
      "cell_type": "code",
      "execution_count": 155,
      "metadata": {
        "id": "JvTSRryzOeQc"
      },
      "outputs": [],
      "source": [
        "s = demanda_2.drop_duplicates(subset=['ID']).set_index(\"ID\")[\"Nome\"]"
      ]
    },
    {
      "cell_type": "code",
      "execution_count": 156,
      "metadata": {
        "id": "fMH_QEYmOi8X",
        "colab": {
          "base_uri": "https://localhost:8080/"
        },
        "outputId": "e5cba351-e438-4f69-bf38-6c0322a09666"
      },
      "outputs": [
        {
          "output_type": "execute_result",
          "data": {
            "text/plain": [
              "ID\n",
              "1      Terminal Antônio Bezerra                \n",
              "2        Catraca Móvel/Terminal/Antônio Bezerra\n",
              "3      Terminal Parangaba I                    \n",
              "5      Terminal Lagoa                          \n",
              "6      Terminal Messejana                      \n",
              "                         ...                   \n",
              "140                    Vila do Mar/Centro II/ES\n",
              "774                   Parangaba/Aterro/Abolição\n",
              "20     Campus do Pici                          \n",
              "40     Parangaba/Lagoa                         \n",
              "860                    Clube dos Diários/Papicu\n",
              "Name: Nome, Length: 324, dtype: object"
            ]
          },
          "metadata": {},
          "execution_count": 156
        }
      ],
      "source": [
        "s"
      ]
    },
    {
      "cell_type": "code",
      "execution_count": 157,
      "metadata": {
        "id": "miL9aiESO6_J",
        "colab": {
          "base_uri": "https://localhost:8080/",
          "height": 424
        },
        "outputId": "b361a99b-4eee-42d1-9132-14ab656076ac"
      },
      "outputs": [
        {
          "output_type": "execute_result",
          "data": {
            "text/plain": [
              "      ID  Idosos   Total  Percentual\n",
              "0      1  159528  236709   67.394142\n",
              "1      2    5171   25848   20.005416\n",
              "2      3  334464  494176   67.681150\n",
              "3      4   40603   77783   52.200352\n",
              "4      5   36435   60809   59.917118\n",
              "..   ...     ...     ...         ...\n",
              "289  905   53672   85797   62.556966\n",
              "290  906  109794  201328   54.534888\n",
              "291  907   29118   51724   56.294950\n",
              "292  913   40534   65482   61.900980\n",
              "293  920   73579  124091   59.294389\n",
              "\n",
              "[294 rows x 4 columns]"
            ],
            "text/html": [
              "\n",
              "  <div id=\"df-46372261-9506-48b3-a2cb-0bfab1fa224d\">\n",
              "    <div class=\"colab-df-container\">\n",
              "      <div>\n",
              "<style scoped>\n",
              "    .dataframe tbody tr th:only-of-type {\n",
              "        vertical-align: middle;\n",
              "    }\n",
              "\n",
              "    .dataframe tbody tr th {\n",
              "        vertical-align: top;\n",
              "    }\n",
              "\n",
              "    .dataframe thead th {\n",
              "        text-align: right;\n",
              "    }\n",
              "</style>\n",
              "<table border=\"1\" class=\"dataframe\">\n",
              "  <thead>\n",
              "    <tr style=\"text-align: right;\">\n",
              "      <th></th>\n",
              "      <th>ID</th>\n",
              "      <th>Idosos</th>\n",
              "      <th>Total</th>\n",
              "      <th>Percentual</th>\n",
              "    </tr>\n",
              "  </thead>\n",
              "  <tbody>\n",
              "    <tr>\n",
              "      <th>0</th>\n",
              "      <td>1</td>\n",
              "      <td>159528</td>\n",
              "      <td>236709</td>\n",
              "      <td>67.394142</td>\n",
              "    </tr>\n",
              "    <tr>\n",
              "      <th>1</th>\n",
              "      <td>2</td>\n",
              "      <td>5171</td>\n",
              "      <td>25848</td>\n",
              "      <td>20.005416</td>\n",
              "    </tr>\n",
              "    <tr>\n",
              "      <th>2</th>\n",
              "      <td>3</td>\n",
              "      <td>334464</td>\n",
              "      <td>494176</td>\n",
              "      <td>67.681150</td>\n",
              "    </tr>\n",
              "    <tr>\n",
              "      <th>3</th>\n",
              "      <td>4</td>\n",
              "      <td>40603</td>\n",
              "      <td>77783</td>\n",
              "      <td>52.200352</td>\n",
              "    </tr>\n",
              "    <tr>\n",
              "      <th>4</th>\n",
              "      <td>5</td>\n",
              "      <td>36435</td>\n",
              "      <td>60809</td>\n",
              "      <td>59.917118</td>\n",
              "    </tr>\n",
              "    <tr>\n",
              "      <th>...</th>\n",
              "      <td>...</td>\n",
              "      <td>...</td>\n",
              "      <td>...</td>\n",
              "      <td>...</td>\n",
              "    </tr>\n",
              "    <tr>\n",
              "      <th>289</th>\n",
              "      <td>905</td>\n",
              "      <td>53672</td>\n",
              "      <td>85797</td>\n",
              "      <td>62.556966</td>\n",
              "    </tr>\n",
              "    <tr>\n",
              "      <th>290</th>\n",
              "      <td>906</td>\n",
              "      <td>109794</td>\n",
              "      <td>201328</td>\n",
              "      <td>54.534888</td>\n",
              "    </tr>\n",
              "    <tr>\n",
              "      <th>291</th>\n",
              "      <td>907</td>\n",
              "      <td>29118</td>\n",
              "      <td>51724</td>\n",
              "      <td>56.294950</td>\n",
              "    </tr>\n",
              "    <tr>\n",
              "      <th>292</th>\n",
              "      <td>913</td>\n",
              "      <td>40534</td>\n",
              "      <td>65482</td>\n",
              "      <td>61.900980</td>\n",
              "    </tr>\n",
              "    <tr>\n",
              "      <th>293</th>\n",
              "      <td>920</td>\n",
              "      <td>73579</td>\n",
              "      <td>124091</td>\n",
              "      <td>59.294389</td>\n",
              "    </tr>\n",
              "  </tbody>\n",
              "</table>\n",
              "<p>294 rows × 4 columns</p>\n",
              "</div>\n",
              "      <button class=\"colab-df-convert\" onclick=\"convertToInteractive('df-46372261-9506-48b3-a2cb-0bfab1fa224d')\"\n",
              "              title=\"Convert this dataframe to an interactive table.\"\n",
              "              style=\"display:none;\">\n",
              "        \n",
              "  <svg xmlns=\"http://www.w3.org/2000/svg\" height=\"24px\"viewBox=\"0 0 24 24\"\n",
              "       width=\"24px\">\n",
              "    <path d=\"M0 0h24v24H0V0z\" fill=\"none\"/>\n",
              "    <path d=\"M18.56 5.44l.94 2.06.94-2.06 2.06-.94-2.06-.94-.94-2.06-.94 2.06-2.06.94zm-11 1L8.5 8.5l.94-2.06 2.06-.94-2.06-.94L8.5 2.5l-.94 2.06-2.06.94zm10 10l.94 2.06.94-2.06 2.06-.94-2.06-.94-.94-2.06-.94 2.06-2.06.94z\"/><path d=\"M17.41 7.96l-1.37-1.37c-.4-.4-.92-.59-1.43-.59-.52 0-1.04.2-1.43.59L10.3 9.45l-7.72 7.72c-.78.78-.78 2.05 0 2.83L4 21.41c.39.39.9.59 1.41.59.51 0 1.02-.2 1.41-.59l7.78-7.78 2.81-2.81c.8-.78.8-2.07 0-2.86zM5.41 20L4 18.59l7.72-7.72 1.47 1.35L5.41 20z\"/>\n",
              "  </svg>\n",
              "      </button>\n",
              "      \n",
              "  <style>\n",
              "    .colab-df-container {\n",
              "      display:flex;\n",
              "      flex-wrap:wrap;\n",
              "      gap: 12px;\n",
              "    }\n",
              "\n",
              "    .colab-df-convert {\n",
              "      background-color: #E8F0FE;\n",
              "      border: none;\n",
              "      border-radius: 50%;\n",
              "      cursor: pointer;\n",
              "      display: none;\n",
              "      fill: #1967D2;\n",
              "      height: 32px;\n",
              "      padding: 0 0 0 0;\n",
              "      width: 32px;\n",
              "    }\n",
              "\n",
              "    .colab-df-convert:hover {\n",
              "      background-color: #E2EBFA;\n",
              "      box-shadow: 0px 1px 2px rgba(60, 64, 67, 0.3), 0px 1px 3px 1px rgba(60, 64, 67, 0.15);\n",
              "      fill: #174EA6;\n",
              "    }\n",
              "\n",
              "    [theme=dark] .colab-df-convert {\n",
              "      background-color: #3B4455;\n",
              "      fill: #D2E3FC;\n",
              "    }\n",
              "\n",
              "    [theme=dark] .colab-df-convert:hover {\n",
              "      background-color: #434B5C;\n",
              "      box-shadow: 0px 1px 3px 1px rgba(0, 0, 0, 0.15);\n",
              "      filter: drop-shadow(0px 1px 2px rgba(0, 0, 0, 0.3));\n",
              "      fill: #FFFFFF;\n",
              "    }\n",
              "  </style>\n",
              "\n",
              "      <script>\n",
              "        const buttonEl =\n",
              "          document.querySelector('#df-46372261-9506-48b3-a2cb-0bfab1fa224d button.colab-df-convert');\n",
              "        buttonEl.style.display =\n",
              "          google.colab.kernel.accessAllowed ? 'block' : 'none';\n",
              "\n",
              "        async function convertToInteractive(key) {\n",
              "          const element = document.querySelector('#df-46372261-9506-48b3-a2cb-0bfab1fa224d');\n",
              "          const dataTable =\n",
              "            await google.colab.kernel.invokeFunction('convertToInteractive',\n",
              "                                                     [key], {});\n",
              "          if (!dataTable) return;\n",
              "\n",
              "          const docLinkHtml = 'Like what you see? Visit the ' +\n",
              "            '<a target=\"_blank\" href=https://colab.research.google.com/notebooks/data_table.ipynb>data table notebook</a>'\n",
              "            + ' to learn more about interactive tables.';\n",
              "          element.innerHTML = '';\n",
              "          dataTable['output_type'] = 'display_data';\n",
              "          await google.colab.output.renderOutput(dataTable, element);\n",
              "          const docLink = document.createElement('div');\n",
              "          docLink.innerHTML = docLinkHtml;\n",
              "          element.appendChild(docLink);\n",
              "        }\n",
              "      </script>\n",
              "    </div>\n",
              "  </div>\n",
              "  "
            ]
          },
          "metadata": {},
          "execution_count": 157
        }
      ],
      "source": [
        "idosos3.reset_index()"
      ]
    },
    {
      "cell_type": "code",
      "execution_count": 158,
      "metadata": {
        "id": "R7tnf8vXQOx0"
      },
      "outputs": [],
      "source": [
        "idosos3= idosos3.reset_index()\n",
        "idosos3[\"Nome\"] = idosos3['ID'].map(s)"
      ]
    },
    {
      "cell_type": "code",
      "execution_count": 159,
      "metadata": {
        "id": "TQmodErFU0OK"
      },
      "outputs": [],
      "source": [
        "ranking_idosos= ranking_idosos.reset_index()\n",
        "ranking_idosos[\"Nome\"] = ranking_idosos['ID'].map(s)"
      ]
    },
    {
      "cell_type": "code",
      "execution_count": 160,
      "metadata": {
        "id": "qsMQVC7DQ27P"
      },
      "outputs": [],
      "source": [
        "ranking_idosos = ranking_idosos[[\"ID\",\"Nome\",\"Idosos\",\"Total\",\"Percentual\"]]"
      ]
    },
    {
      "cell_type": "code",
      "execution_count": 161,
      "metadata": {
        "id": "gA1qywbuQ4JV",
        "colab": {
          "base_uri": "https://localhost:8080/",
          "height": 426
        },
        "outputId": "1511e2ad-2058-4b04-8581-9bf8a72a6bd9"
      },
      "outputs": [
        {
          "output_type": "execute_result",
          "data": {
            "text/plain": [
              "     ID                                      Nome  Idosos   Total  Percentual\n",
              "0   331  Cj Esperança/Centro                        25521   34104   74.832864\n",
              "1    72  Antônio Bezerra/Parangaba                  70117   98176   71.419695\n",
              "2    10  Terminal Siqueira                         112780  161334   69.904670\n",
              "3   374  Aracapé/Centro                             13460   19507   69.000871\n",
              "4   243  Parque Universitários/Antônio Bezerra      20875   30272   68.958113\n",
              "5   631  Carlos Albuquerque                         26993   39264   68.747453\n",
              "6   706            Barra do Ceará/Antônio Bezerra   74435  108886   68.360487\n",
              "7   172           Antônio Bezerra/Lagoa/Parangaba   17845   26273   67.921440\n",
              "8     3  Terminal Parangaba I                      334464  494176   67.681150\n",
              "9     1  Terminal Antônio Bezerra                  159528  236709   67.394142\n",
              "10  244         Antônio Bezerra/Parangaba/Montese   15271   22822   66.913505\n",
              "11  122  Antônio Bezerra/Álvaro Weyne               46446   69454   66.873038"
            ],
            "text/html": [
              "\n",
              "  <div id=\"df-94e0ba20-272a-47e8-ac18-8485e9aa1ff9\">\n",
              "    <div class=\"colab-df-container\">\n",
              "      <div>\n",
              "<style scoped>\n",
              "    .dataframe tbody tr th:only-of-type {\n",
              "        vertical-align: middle;\n",
              "    }\n",
              "\n",
              "    .dataframe tbody tr th {\n",
              "        vertical-align: top;\n",
              "    }\n",
              "\n",
              "    .dataframe thead th {\n",
              "        text-align: right;\n",
              "    }\n",
              "</style>\n",
              "<table border=\"1\" class=\"dataframe\">\n",
              "  <thead>\n",
              "    <tr style=\"text-align: right;\">\n",
              "      <th></th>\n",
              "      <th>ID</th>\n",
              "      <th>Nome</th>\n",
              "      <th>Idosos</th>\n",
              "      <th>Total</th>\n",
              "      <th>Percentual</th>\n",
              "    </tr>\n",
              "  </thead>\n",
              "  <tbody>\n",
              "    <tr>\n",
              "      <th>0</th>\n",
              "      <td>331</td>\n",
              "      <td>Cj Esperança/Centro</td>\n",
              "      <td>25521</td>\n",
              "      <td>34104</td>\n",
              "      <td>74.832864</td>\n",
              "    </tr>\n",
              "    <tr>\n",
              "      <th>1</th>\n",
              "      <td>72</td>\n",
              "      <td>Antônio Bezerra/Parangaba</td>\n",
              "      <td>70117</td>\n",
              "      <td>98176</td>\n",
              "      <td>71.419695</td>\n",
              "    </tr>\n",
              "    <tr>\n",
              "      <th>2</th>\n",
              "      <td>10</td>\n",
              "      <td>Terminal Siqueira</td>\n",
              "      <td>112780</td>\n",
              "      <td>161334</td>\n",
              "      <td>69.904670</td>\n",
              "    </tr>\n",
              "    <tr>\n",
              "      <th>3</th>\n",
              "      <td>374</td>\n",
              "      <td>Aracapé/Centro</td>\n",
              "      <td>13460</td>\n",
              "      <td>19507</td>\n",
              "      <td>69.000871</td>\n",
              "    </tr>\n",
              "    <tr>\n",
              "      <th>4</th>\n",
              "      <td>243</td>\n",
              "      <td>Parque Universitários/Antônio Bezerra</td>\n",
              "      <td>20875</td>\n",
              "      <td>30272</td>\n",
              "      <td>68.958113</td>\n",
              "    </tr>\n",
              "    <tr>\n",
              "      <th>5</th>\n",
              "      <td>631</td>\n",
              "      <td>Carlos Albuquerque</td>\n",
              "      <td>26993</td>\n",
              "      <td>39264</td>\n",
              "      <td>68.747453</td>\n",
              "    </tr>\n",
              "    <tr>\n",
              "      <th>6</th>\n",
              "      <td>706</td>\n",
              "      <td>Barra do Ceará/Antônio Bezerra</td>\n",
              "      <td>74435</td>\n",
              "      <td>108886</td>\n",
              "      <td>68.360487</td>\n",
              "    </tr>\n",
              "    <tr>\n",
              "      <th>7</th>\n",
              "      <td>172</td>\n",
              "      <td>Antônio Bezerra/Lagoa/Parangaba</td>\n",
              "      <td>17845</td>\n",
              "      <td>26273</td>\n",
              "      <td>67.921440</td>\n",
              "    </tr>\n",
              "    <tr>\n",
              "      <th>8</th>\n",
              "      <td>3</td>\n",
              "      <td>Terminal Parangaba I</td>\n",
              "      <td>334464</td>\n",
              "      <td>494176</td>\n",
              "      <td>67.681150</td>\n",
              "    </tr>\n",
              "    <tr>\n",
              "      <th>9</th>\n",
              "      <td>1</td>\n",
              "      <td>Terminal Antônio Bezerra</td>\n",
              "      <td>159528</td>\n",
              "      <td>236709</td>\n",
              "      <td>67.394142</td>\n",
              "    </tr>\n",
              "    <tr>\n",
              "      <th>10</th>\n",
              "      <td>244</td>\n",
              "      <td>Antônio Bezerra/Parangaba/Montese</td>\n",
              "      <td>15271</td>\n",
              "      <td>22822</td>\n",
              "      <td>66.913505</td>\n",
              "    </tr>\n",
              "    <tr>\n",
              "      <th>11</th>\n",
              "      <td>122</td>\n",
              "      <td>Antônio Bezerra/Álvaro Weyne</td>\n",
              "      <td>46446</td>\n",
              "      <td>69454</td>\n",
              "      <td>66.873038</td>\n",
              "    </tr>\n",
              "  </tbody>\n",
              "</table>\n",
              "</div>\n",
              "      <button class=\"colab-df-convert\" onclick=\"convertToInteractive('df-94e0ba20-272a-47e8-ac18-8485e9aa1ff9')\"\n",
              "              title=\"Convert this dataframe to an interactive table.\"\n",
              "              style=\"display:none;\">\n",
              "        \n",
              "  <svg xmlns=\"http://www.w3.org/2000/svg\" height=\"24px\"viewBox=\"0 0 24 24\"\n",
              "       width=\"24px\">\n",
              "    <path d=\"M0 0h24v24H0V0z\" fill=\"none\"/>\n",
              "    <path d=\"M18.56 5.44l.94 2.06.94-2.06 2.06-.94-2.06-.94-.94-2.06-.94 2.06-2.06.94zm-11 1L8.5 8.5l.94-2.06 2.06-.94-2.06-.94L8.5 2.5l-.94 2.06-2.06.94zm10 10l.94 2.06.94-2.06 2.06-.94-2.06-.94-.94-2.06-.94 2.06-2.06.94z\"/><path d=\"M17.41 7.96l-1.37-1.37c-.4-.4-.92-.59-1.43-.59-.52 0-1.04.2-1.43.59L10.3 9.45l-7.72 7.72c-.78.78-.78 2.05 0 2.83L4 21.41c.39.39.9.59 1.41.59.51 0 1.02-.2 1.41-.59l7.78-7.78 2.81-2.81c.8-.78.8-2.07 0-2.86zM5.41 20L4 18.59l7.72-7.72 1.47 1.35L5.41 20z\"/>\n",
              "  </svg>\n",
              "      </button>\n",
              "      \n",
              "  <style>\n",
              "    .colab-df-container {\n",
              "      display:flex;\n",
              "      flex-wrap:wrap;\n",
              "      gap: 12px;\n",
              "    }\n",
              "\n",
              "    .colab-df-convert {\n",
              "      background-color: #E8F0FE;\n",
              "      border: none;\n",
              "      border-radius: 50%;\n",
              "      cursor: pointer;\n",
              "      display: none;\n",
              "      fill: #1967D2;\n",
              "      height: 32px;\n",
              "      padding: 0 0 0 0;\n",
              "      width: 32px;\n",
              "    }\n",
              "\n",
              "    .colab-df-convert:hover {\n",
              "      background-color: #E2EBFA;\n",
              "      box-shadow: 0px 1px 2px rgba(60, 64, 67, 0.3), 0px 1px 3px 1px rgba(60, 64, 67, 0.15);\n",
              "      fill: #174EA6;\n",
              "    }\n",
              "\n",
              "    [theme=dark] .colab-df-convert {\n",
              "      background-color: #3B4455;\n",
              "      fill: #D2E3FC;\n",
              "    }\n",
              "\n",
              "    [theme=dark] .colab-df-convert:hover {\n",
              "      background-color: #434B5C;\n",
              "      box-shadow: 0px 1px 3px 1px rgba(0, 0, 0, 0.15);\n",
              "      filter: drop-shadow(0px 1px 2px rgba(0, 0, 0, 0.3));\n",
              "      fill: #FFFFFF;\n",
              "    }\n",
              "  </style>\n",
              "\n",
              "      <script>\n",
              "        const buttonEl =\n",
              "          document.querySelector('#df-94e0ba20-272a-47e8-ac18-8485e9aa1ff9 button.colab-df-convert');\n",
              "        buttonEl.style.display =\n",
              "          google.colab.kernel.accessAllowed ? 'block' : 'none';\n",
              "\n",
              "        async function convertToInteractive(key) {\n",
              "          const element = document.querySelector('#df-94e0ba20-272a-47e8-ac18-8485e9aa1ff9');\n",
              "          const dataTable =\n",
              "            await google.colab.kernel.invokeFunction('convertToInteractive',\n",
              "                                                     [key], {});\n",
              "          if (!dataTable) return;\n",
              "\n",
              "          const docLinkHtml = 'Like what you see? Visit the ' +\n",
              "            '<a target=\"_blank\" href=https://colab.research.google.com/notebooks/data_table.ipynb>data table notebook</a>'\n",
              "            + ' to learn more about interactive tables.';\n",
              "          element.innerHTML = '';\n",
              "          dataTable['output_type'] = 'display_data';\n",
              "          await google.colab.output.renderOutput(dataTable, element);\n",
              "          const docLink = document.createElement('div');\n",
              "          docLink.innerHTML = docLinkHtml;\n",
              "          element.appendChild(docLink);\n",
              "        }\n",
              "      </script>\n",
              "    </div>\n",
              "  </div>\n",
              "  "
            ]
          },
          "metadata": {},
          "execution_count": 161
        }
      ],
      "source": [
        "ranking_idosos"
      ]
    },
    {
      "cell_type": "code",
      "execution_count": 161,
      "metadata": {
        "id": "Vw5QHTqwVfVO"
      },
      "outputs": [],
      "source": []
    },
    {
      "cell_type": "markdown",
      "metadata": {
        "id": "jlwOJQphgwBS"
      },
      "source": [
        "# Comparação entre terminais de ônibus"
      ]
    },
    {
      "cell_type": "code",
      "execution_count": 162,
      "metadata": {
        "id": "mHaeik4kgzJS",
        "colab": {
          "base_uri": "https://localhost:8080/",
          "height": 424
        },
        "outputId": "3c69d117-dd6b-4f17-b72f-802a2a56eb9a"
      },
      "outputs": [
        {
          "output_type": "execute_result",
          "data": {
            "text/plain": [
              "             Data   ID                                      Nome  \\\n",
              "0      2022-01-01    1  Terminal Antônio Bezerra                   \n",
              "1      2022-01-01    1  Terminal Antônio Bezerra                   \n",
              "2      2022-01-01    1  Terminal Antônio Bezerra                   \n",
              "3      2022-01-01    1  Terminal Antônio Bezerra                   \n",
              "4      2022-01-01    1  Terminal Antônio Bezerra                   \n",
              "...           ...  ...                                       ...   \n",
              "166457 2022-02-28  920  Papicu/Caça e Pesca                        \n",
              "166458 2022-02-28  920  Papicu/Caça e Pesca                        \n",
              "166459 2022-02-28  999  Quilometragem/Terminal                     \n",
              "166460 2022-02-28  999  Quilometragem/Terminal                     \n",
              "166461 2022-02-28  999  Quilometragem/Terminal                     \n",
              "\n",
              "        ID Passageiro             Tipo Passageiro  Quantidade  Final de semana  \n",
              "0                   4            Gratuidade Idoso         666             True  \n",
              "1                   5  Vale-transporte (vermelho)           2             True  \n",
              "2                  11         Idoso Identificação          97             True  \n",
              "3                  12        Estudante com débito         873             True  \n",
              "4                  16  Grat. Deficiente - S/Acomp           4             True  \n",
              "...               ...                         ...         ...              ...  \n",
              "166457             32         Gratuidade Infantil           1            False  \n",
              "166458             37     VT Beneficio Piloto BUM           2            False  \n",
              "166459              4            Gratuidade Idoso           2            False  \n",
              "166460             11         Idoso Identificação          15            False  \n",
              "166461             12        Estudante com débito           1            False  \n",
              "\n",
              "[166462 rows x 7 columns]"
            ],
            "text/html": [
              "\n",
              "  <div id=\"df-f24948ab-e370-475b-b5b7-3ac25775fd76\">\n",
              "    <div class=\"colab-df-container\">\n",
              "      <div>\n",
              "<style scoped>\n",
              "    .dataframe tbody tr th:only-of-type {\n",
              "        vertical-align: middle;\n",
              "    }\n",
              "\n",
              "    .dataframe tbody tr th {\n",
              "        vertical-align: top;\n",
              "    }\n",
              "\n",
              "    .dataframe thead th {\n",
              "        text-align: right;\n",
              "    }\n",
              "</style>\n",
              "<table border=\"1\" class=\"dataframe\">\n",
              "  <thead>\n",
              "    <tr style=\"text-align: right;\">\n",
              "      <th></th>\n",
              "      <th>Data</th>\n",
              "      <th>ID</th>\n",
              "      <th>Nome</th>\n",
              "      <th>ID Passageiro</th>\n",
              "      <th>Tipo Passageiro</th>\n",
              "      <th>Quantidade</th>\n",
              "      <th>Final de semana</th>\n",
              "    </tr>\n",
              "  </thead>\n",
              "  <tbody>\n",
              "    <tr>\n",
              "      <th>0</th>\n",
              "      <td>2022-01-01</td>\n",
              "      <td>1</td>\n",
              "      <td>Terminal Antônio Bezerra</td>\n",
              "      <td>4</td>\n",
              "      <td>Gratuidade Idoso</td>\n",
              "      <td>666</td>\n",
              "      <td>True</td>\n",
              "    </tr>\n",
              "    <tr>\n",
              "      <th>1</th>\n",
              "      <td>2022-01-01</td>\n",
              "      <td>1</td>\n",
              "      <td>Terminal Antônio Bezerra</td>\n",
              "      <td>5</td>\n",
              "      <td>Vale-transporte (vermelho)</td>\n",
              "      <td>2</td>\n",
              "      <td>True</td>\n",
              "    </tr>\n",
              "    <tr>\n",
              "      <th>2</th>\n",
              "      <td>2022-01-01</td>\n",
              "      <td>1</td>\n",
              "      <td>Terminal Antônio Bezerra</td>\n",
              "      <td>11</td>\n",
              "      <td>Idoso Identificação</td>\n",
              "      <td>97</td>\n",
              "      <td>True</td>\n",
              "    </tr>\n",
              "    <tr>\n",
              "      <th>3</th>\n",
              "      <td>2022-01-01</td>\n",
              "      <td>1</td>\n",
              "      <td>Terminal Antônio Bezerra</td>\n",
              "      <td>12</td>\n",
              "      <td>Estudante com débito</td>\n",
              "      <td>873</td>\n",
              "      <td>True</td>\n",
              "    </tr>\n",
              "    <tr>\n",
              "      <th>4</th>\n",
              "      <td>2022-01-01</td>\n",
              "      <td>1</td>\n",
              "      <td>Terminal Antônio Bezerra</td>\n",
              "      <td>16</td>\n",
              "      <td>Grat. Deficiente - S/Acomp</td>\n",
              "      <td>4</td>\n",
              "      <td>True</td>\n",
              "    </tr>\n",
              "    <tr>\n",
              "      <th>...</th>\n",
              "      <td>...</td>\n",
              "      <td>...</td>\n",
              "      <td>...</td>\n",
              "      <td>...</td>\n",
              "      <td>...</td>\n",
              "      <td>...</td>\n",
              "      <td>...</td>\n",
              "    </tr>\n",
              "    <tr>\n",
              "      <th>166457</th>\n",
              "      <td>2022-02-28</td>\n",
              "      <td>920</td>\n",
              "      <td>Papicu/Caça e Pesca</td>\n",
              "      <td>32</td>\n",
              "      <td>Gratuidade Infantil</td>\n",
              "      <td>1</td>\n",
              "      <td>False</td>\n",
              "    </tr>\n",
              "    <tr>\n",
              "      <th>166458</th>\n",
              "      <td>2022-02-28</td>\n",
              "      <td>920</td>\n",
              "      <td>Papicu/Caça e Pesca</td>\n",
              "      <td>37</td>\n",
              "      <td>VT Beneficio Piloto BUM</td>\n",
              "      <td>2</td>\n",
              "      <td>False</td>\n",
              "    </tr>\n",
              "    <tr>\n",
              "      <th>166459</th>\n",
              "      <td>2022-02-28</td>\n",
              "      <td>999</td>\n",
              "      <td>Quilometragem/Terminal</td>\n",
              "      <td>4</td>\n",
              "      <td>Gratuidade Idoso</td>\n",
              "      <td>2</td>\n",
              "      <td>False</td>\n",
              "    </tr>\n",
              "    <tr>\n",
              "      <th>166460</th>\n",
              "      <td>2022-02-28</td>\n",
              "      <td>999</td>\n",
              "      <td>Quilometragem/Terminal</td>\n",
              "      <td>11</td>\n",
              "      <td>Idoso Identificação</td>\n",
              "      <td>15</td>\n",
              "      <td>False</td>\n",
              "    </tr>\n",
              "    <tr>\n",
              "      <th>166461</th>\n",
              "      <td>2022-02-28</td>\n",
              "      <td>999</td>\n",
              "      <td>Quilometragem/Terminal</td>\n",
              "      <td>12</td>\n",
              "      <td>Estudante com débito</td>\n",
              "      <td>1</td>\n",
              "      <td>False</td>\n",
              "    </tr>\n",
              "  </tbody>\n",
              "</table>\n",
              "<p>166462 rows × 7 columns</p>\n",
              "</div>\n",
              "      <button class=\"colab-df-convert\" onclick=\"convertToInteractive('df-f24948ab-e370-475b-b5b7-3ac25775fd76')\"\n",
              "              title=\"Convert this dataframe to an interactive table.\"\n",
              "              style=\"display:none;\">\n",
              "        \n",
              "  <svg xmlns=\"http://www.w3.org/2000/svg\" height=\"24px\"viewBox=\"0 0 24 24\"\n",
              "       width=\"24px\">\n",
              "    <path d=\"M0 0h24v24H0V0z\" fill=\"none\"/>\n",
              "    <path d=\"M18.56 5.44l.94 2.06.94-2.06 2.06-.94-2.06-.94-.94-2.06-.94 2.06-2.06.94zm-11 1L8.5 8.5l.94-2.06 2.06-.94-2.06-.94L8.5 2.5l-.94 2.06-2.06.94zm10 10l.94 2.06.94-2.06 2.06-.94-2.06-.94-.94-2.06-.94 2.06-2.06.94z\"/><path d=\"M17.41 7.96l-1.37-1.37c-.4-.4-.92-.59-1.43-.59-.52 0-1.04.2-1.43.59L10.3 9.45l-7.72 7.72c-.78.78-.78 2.05 0 2.83L4 21.41c.39.39.9.59 1.41.59.51 0 1.02-.2 1.41-.59l7.78-7.78 2.81-2.81c.8-.78.8-2.07 0-2.86zM5.41 20L4 18.59l7.72-7.72 1.47 1.35L5.41 20z\"/>\n",
              "  </svg>\n",
              "      </button>\n",
              "      \n",
              "  <style>\n",
              "    .colab-df-container {\n",
              "      display:flex;\n",
              "      flex-wrap:wrap;\n",
              "      gap: 12px;\n",
              "    }\n",
              "\n",
              "    .colab-df-convert {\n",
              "      background-color: #E8F0FE;\n",
              "      border: none;\n",
              "      border-radius: 50%;\n",
              "      cursor: pointer;\n",
              "      display: none;\n",
              "      fill: #1967D2;\n",
              "      height: 32px;\n",
              "      padding: 0 0 0 0;\n",
              "      width: 32px;\n",
              "    }\n",
              "\n",
              "    .colab-df-convert:hover {\n",
              "      background-color: #E2EBFA;\n",
              "      box-shadow: 0px 1px 2px rgba(60, 64, 67, 0.3), 0px 1px 3px 1px rgba(60, 64, 67, 0.15);\n",
              "      fill: #174EA6;\n",
              "    }\n",
              "\n",
              "    [theme=dark] .colab-df-convert {\n",
              "      background-color: #3B4455;\n",
              "      fill: #D2E3FC;\n",
              "    }\n",
              "\n",
              "    [theme=dark] .colab-df-convert:hover {\n",
              "      background-color: #434B5C;\n",
              "      box-shadow: 0px 1px 3px 1px rgba(0, 0, 0, 0.15);\n",
              "      filter: drop-shadow(0px 1px 2px rgba(0, 0, 0, 0.3));\n",
              "      fill: #FFFFFF;\n",
              "    }\n",
              "  </style>\n",
              "\n",
              "      <script>\n",
              "        const buttonEl =\n",
              "          document.querySelector('#df-f24948ab-e370-475b-b5b7-3ac25775fd76 button.colab-df-convert');\n",
              "        buttonEl.style.display =\n",
              "          google.colab.kernel.accessAllowed ? 'block' : 'none';\n",
              "\n",
              "        async function convertToInteractive(key) {\n",
              "          const element = document.querySelector('#df-f24948ab-e370-475b-b5b7-3ac25775fd76');\n",
              "          const dataTable =\n",
              "            await google.colab.kernel.invokeFunction('convertToInteractive',\n",
              "                                                     [key], {});\n",
              "          if (!dataTable) return;\n",
              "\n",
              "          const docLinkHtml = 'Like what you see? Visit the ' +\n",
              "            '<a target=\"_blank\" href=https://colab.research.google.com/notebooks/data_table.ipynb>data table notebook</a>'\n",
              "            + ' to learn more about interactive tables.';\n",
              "          element.innerHTML = '';\n",
              "          dataTable['output_type'] = 'display_data';\n",
              "          await google.colab.output.renderOutput(dataTable, element);\n",
              "          const docLink = document.createElement('div');\n",
              "          docLink.innerHTML = docLinkHtml;\n",
              "          element.appendChild(docLink);\n",
              "        }\n",
              "      </script>\n",
              "    </div>\n",
              "  </div>\n",
              "  "
            ]
          },
          "metadata": {},
          "execution_count": 162
        }
      ],
      "source": [
        "demanda_2"
      ]
    },
    {
      "cell_type": "code",
      "execution_count": 163,
      "metadata": {
        "id": "7bRvoD2dnPHk"
      },
      "outputs": [],
      "source": [
        "terminais = demanda_2[demanda_2[\"ID\"]<11]"
      ]
    },
    {
      "cell_type": "code",
      "execution_count": 164,
      "metadata": {
        "id": "NqxDaCZVniNb"
      },
      "outputs": [],
      "source": [
        "terminais = terminais.groupby(\"ID\").sum()[\"Quantidade\"]\n"
      ]
    },
    {
      "cell_type": "code",
      "execution_count": 165,
      "metadata": {
        "id": "Y0JIUkhhoZKf"
      },
      "outputs": [],
      "source": [
        "terminais = terminais.reset_index()\n",
        "terminais[\"Nome\"] = terminais['ID'].map(s)"
      ]
    },
    {
      "cell_type": "code",
      "execution_count": 166,
      "metadata": {
        "id": "i6Nn_KVwp4Py"
      },
      "outputs": [],
      "source": [
        "terminais=terminais[[\"ID\",\"Nome\",\"Quantidade\"]]"
      ]
    },
    {
      "cell_type": "code",
      "execution_count": 167,
      "metadata": {
        "id": "EVg7RnvXttKT"
      },
      "outputs": [],
      "source": [
        "terminais2 = terminais.copy()"
      ]
    },
    {
      "cell_type": "code",
      "execution_count": 168,
      "metadata": {
        "id": "r57X1zriqA58",
        "colab": {
          "base_uri": "https://localhost:8080/"
        },
        "outputId": "495a7ced-e2a0-4cb0-d661-df41100f3eec"
      },
      "outputs": [
        {
          "output_type": "stream",
          "name": "stderr",
          "text": [
            "/usr/local/lib/python3.7/dist-packages/ipykernel_launcher.py:1: SettingWithCopyWarning: \n",
            "A value is trying to be set on a copy of a slice from a DataFrame\n",
            "\n",
            "See the caveats in the documentation: https://pandas.pydata.org/pandas-docs/stable/user_guide/indexing.html#returning-a-view-versus-a-copy\n",
            "  \"\"\"Entry point for launching an IPython kernel.\n"
          ]
        }
      ],
      "source": [
        "terminais2[\"Quantidade\"][0] = terminais[\"Quantidade\"][0] + terminais[\"Quantidade\"][1]"
      ]
    },
    {
      "cell_type": "code",
      "execution_count": 169,
      "metadata": {
        "id": "Mj99XWBWtXFv"
      },
      "outputs": [],
      "source": [
        "terminais2 = terminais2.drop([1,3])"
      ]
    },
    {
      "cell_type": "code",
      "execution_count": 170,
      "metadata": {
        "id": "a0VTH-NMuxIG"
      },
      "outputs": [],
      "source": [
        "terminais2 = terminais2.reset_index()"
      ]
    },
    {
      "cell_type": "code",
      "execution_count": 171,
      "metadata": {
        "id": "U9maC2L5whB5"
      },
      "outputs": [],
      "source": [
        "terminais2 = terminais2.drop(columns=[\"index\"])"
      ]
    },
    {
      "cell_type": "code",
      "execution_count": 172,
      "metadata": {
        "id": "8RyBJ_rSqJO-"
      },
      "outputs": [],
      "source": [
        "import matplotlib.pyplot as plt\n",
        "\n",
        "x = terminais2[\"Nome\"]\n",
        "x2 = terminais2[\"Nome\"]"
      ]
    },
    {
      "cell_type": "code",
      "execution_count": 173,
      "metadata": {
        "id": "et4CRi1PrYtv",
        "colab": {
          "base_uri": "https://localhost:8080/"
        },
        "outputId": "015e3e84-f10b-4e3e-a617-b4c901dd6e2d"
      },
      "outputs": [
        {
          "output_type": "stream",
          "name": "stderr",
          "text": [
            "/usr/local/lib/python3.7/dist-packages/ipykernel_launcher.py:1: SettingWithCopyWarning: \n",
            "A value is trying to be set on a copy of a slice from a DataFrame\n",
            "\n",
            "See the caveats in the documentation: https://pandas.pydata.org/pandas-docs/stable/user_guide/indexing.html#returning-a-view-versus-a-copy\n",
            "  \"\"\"Entry point for launching an IPython kernel.\n"
          ]
        }
      ],
      "source": [
        "x[0],x[1],x[2],x[3],x[4],x[5],x[6] = \"A. Bezerra\",\"Parangaba\", \"Lagoa\",\"Messejana\",\"Cj Ceará\",\"Papicu\", \"Siqueira\""
      ]
    },
    {
      "cell_type": "code",
      "execution_count": 174,
      "metadata": {
        "id": "_F-LotZiGalJ",
        "colab": {
          "base_uri": "https://localhost:8080/"
        },
        "outputId": "eef6016f-b7fa-4d96-a5ed-e5c2110c8f4e"
      },
      "outputs": [
        {
          "output_type": "execute_result",
          "data": {
            "text/plain": [
              "0    True\n",
              "1    True\n",
              "2    True\n",
              "3    True\n",
              "4    True\n",
              "5    True\n",
              "6    True\n",
              "Name: Nome, dtype: bool"
            ]
          },
          "metadata": {},
          "execution_count": 174
        }
      ],
      "source": [
        "x == x2"
      ]
    },
    {
      "cell_type": "code",
      "execution_count": 175,
      "metadata": {
        "id": "6ZcRepeNIzFO",
        "colab": {
          "base_uri": "https://localhost:8080/"
        },
        "outputId": "61d98354-cd67-4b25-a969-ace6443fd343"
      },
      "outputs": [
        {
          "output_type": "execute_result",
          "data": {
            "text/plain": [
              "['A. Bezerra',\n",
              " 'Parangaba',\n",
              " 'Lagoa',\n",
              " 'Messejana',\n",
              " 'Cj Ceará',\n",
              " 'Papicu',\n",
              " 'Siqueira']"
            ]
          },
          "metadata": {},
          "execution_count": 175
        }
      ],
      "source": [
        "list(x2)"
      ]
    },
    {
      "cell_type": "code",
      "execution_count": 176,
      "metadata": {
        "id": "U0DYdtlCrZaJ"
      },
      "outputs": [],
      "source": [
        "y = terminais2[\"Quantidade\"]"
      ]
    },
    {
      "cell_type": "code",
      "execution_count": 177,
      "metadata": {
        "id": "_eph3OJqEbsV",
        "colab": {
          "base_uri": "https://localhost:8080/"
        },
        "outputId": "ff1cfa00-732d-43cd-ccb6-d14664d7be2d"
      },
      "outputs": [
        {
          "output_type": "execute_result",
          "data": {
            "text/plain": [
              "0    262557\n",
              "1    494176\n",
              "2     60809\n",
              "3    211256\n",
              "4     77735\n",
              "5     91450\n",
              "6    161334\n",
              "Name: Quantidade, dtype: int64"
            ]
          },
          "metadata": {},
          "execution_count": 177
        }
      ],
      "source": [
        "y"
      ]
    },
    {
      "cell_type": "code",
      "execution_count": 178,
      "metadata": {
        "id": "MRxz2ddyyawf",
        "colab": {
          "base_uri": "https://localhost:8080/",
          "height": 476
        },
        "outputId": "549474eb-1d2c-4bc0-bd27-7e32b85bf106"
      },
      "outputs": [
        {
          "output_type": "display_data",
          "data": {
            "text/plain": [
              "<Figure size 720x504 with 1 Axes>"
            ],
            "image/png": "[encoded data removed]"
          },
          "metadata": {
            "needs_background": "light"
          }
        }
      ],
      "source": [
        "plt.figure(figsize=(10, 7)) \n",
        "\n",
        "\n",
        "plt.bar(x2,y,color=\"blue\")\n",
        "plt.xticks(x2,rotation=20)\n",
        "\n",
        "\n",
        "\n",
        "plt.xlabel(\"Terminal\")\n",
        "plt.ylabel(\"Número de passageiros\")\n",
        "plt.title(\"Passageiros nos terminais de ônibus de Fortaleza\")\n",
        "plt.savefig(\"terminais.png\", format=\"png\", bbox_inches='tight')"
      ]
    },
    {
      "cell_type": "code",
      "execution_count": 178,
      "metadata": {
        "id": "XcFtAs2cHryS"
      },
      "outputs": [],
      "source": []
    },
    {
      "cell_type": "markdown",
      "metadata": {
        "id": "yAAIzW5WL1kg"
      },
      "source": [
        "# Distribuição de passageiros por dia da semana"
      ]
    },
    {
      "cell_type": "markdown",
      "metadata": {
        "id": "1EYl5azOHVjB"
      },
      "source": [
        "Passo a passo:\n",
        "- Agrupar os dados por cada dia da semana\n",
        "- Fazer uma média com os próprios dias da semana (ex: tivemos 7 sábados em 2 meses, dividimos o total de passageiros por 7 e fazemos um gráfico de segunda a domingo)\n",
        "- Usar o dataset apenas de dias da semana.\n",
        "- Plotar o gráfico para cada dia"
      ]
    },
    {
      "cell_type": "code",
      "execution_count": 179,
      "metadata": {
        "id": "ixZ9ONMfISUd"
      },
      "outputs": [],
      "source": [
        "df_mask = demanda_2[\"Final de semana\"] == False\n",
        "df_semana = demanda_2[df_mask]"
      ]
    },
    {
      "cell_type": "code",
      "execution_count": 180,
      "metadata": {
        "id": "AmF3pqPTJ5uJ",
        "colab": {
          "base_uri": "https://localhost:8080/",
          "height": 424
        },
        "outputId": "a9322184-1952-4370-bbcb-4454a72a0d42"
      },
      "outputs": [
        {
          "output_type": "execute_result",
          "data": {
            "text/plain": [
              "             Data   ID                                      Nome  \\\n",
              "4235   2022-01-03    1  Terminal Antônio Bezerra                   \n",
              "4236   2022-01-03    1  Terminal Antônio Bezerra                   \n",
              "4237   2022-01-03    1  Terminal Antônio Bezerra                   \n",
              "4238   2022-01-03    1  Terminal Antônio Bezerra                   \n",
              "4239   2022-01-03    1  Terminal Antônio Bezerra                   \n",
              "...           ...  ...                                       ...   \n",
              "166457 2022-02-28  920  Papicu/Caça e Pesca                        \n",
              "166458 2022-02-28  920  Papicu/Caça e Pesca                        \n",
              "166459 2022-02-28  999  Quilometragem/Terminal                     \n",
              "166460 2022-02-28  999  Quilometragem/Terminal                     \n",
              "166461 2022-02-28  999  Quilometragem/Terminal                     \n",
              "\n",
              "        ID Passageiro             Tipo Passageiro  Quantidade  Final de semana  \n",
              "4235                3                   Estudante          36            False  \n",
              "4236                4            Gratuidade Idoso        2989            False  \n",
              "4237                5  Vale-transporte (vermelho)          18            False  \n",
              "4238               11         Idoso Identificação         379            False  \n",
              "4239               12        Estudante com débito        1473            False  \n",
              "...               ...                         ...         ...              ...  \n",
              "166457             32         Gratuidade Infantil           1            False  \n",
              "166458             37     VT Beneficio Piloto BUM           2            False  \n",
              "166459              4            Gratuidade Idoso           2            False  \n",
              "166460             11         Idoso Identificação          15            False  \n",
              "166461             12        Estudante com débito           1            False  \n",
              "\n",
              "[123419 rows x 7 columns]"
            ],
            "text/html": [
              "\n",
              "  <div id=\"df-a930b0e2-7c9f-4f4e-85fe-81ff1928ca60\">\n",
              "    <div class=\"colab-df-container\">\n",
              "      <div>\n",
              "<style scoped>\n",
              "    .dataframe tbody tr th:only-of-type {\n",
              "        vertical-align: middle;\n",
              "    }\n",
              "\n",
              "    .dataframe tbody tr th {\n",
              "        vertical-align: top;\n",
              "    }\n",
              "\n",
              "    .dataframe thead th {\n",
              "        text-align: right;\n",
              "    }\n",
              "</style>\n",
              "<table border=\"1\" class=\"dataframe\">\n",
              "  <thead>\n",
              "    <tr style=\"text-align: right;\">\n",
              "      <th></th>\n",
              "      <th>Data</th>\n",
              "      <th>ID</th>\n",
              "      <th>Nome</th>\n",
              "      <th>ID Passageiro</th>\n",
              "      <th>Tipo Passageiro</th>\n",
              "      <th>Quantidade</th>\n",
              "      <th>Final de semana</th>\n",
              "    </tr>\n",
              "  </thead>\n",
              "  <tbody>\n",
              "    <tr>\n",
              "      <th>4235</th>\n",
              "      <td>2022-01-03</td>\n",
              "      <td>1</td>\n",
              "      <td>Terminal Antônio Bezerra</td>\n",
              "      <td>3</td>\n",
              "      <td>Estudante</td>\n",
              "      <td>36</td>\n",
              "      <td>False</td>\n",
              "    </tr>\n",
              "    <tr>\n",
              "      <th>4236</th>\n",
              "      <td>2022-01-03</td>\n",
              "      <td>1</td>\n",
              "      <td>Terminal Antônio Bezerra</td>\n",
              "      <td>4</td>\n",
              "      <td>Gratuidade Idoso</td>\n",
              "      <td>2989</td>\n",
              "      <td>False</td>\n",
              "    </tr>\n",
              "    <tr>\n",
              "      <th>4237</th>\n",
              "      <td>2022-01-03</td>\n",
              "      <td>1</td>\n",
              "      <td>Terminal Antônio Bezerra</td>\n",
              "      <td>5</td>\n",
              "      <td>Vale-transporte (vermelho)</td>\n",
              "      <td>18</td>\n",
              "      <td>False</td>\n",
              "    </tr>\n",
              "    <tr>\n",
              "      <th>4238</th>\n",
              "      <td>2022-01-03</td>\n",
              "      <td>1</td>\n",
              "      <td>Terminal Antônio Bezerra</td>\n",
              "      <td>11</td>\n",
              "      <td>Idoso Identificação</td>\n",
              "      <td>379</td>\n",
              "      <td>False</td>\n",
              "    </tr>\n",
              "    <tr>\n",
              "      <th>4239</th>\n",
              "      <td>2022-01-03</td>\n",
              "      <td>1</td>\n",
              "      <td>Terminal Antônio Bezerra</td>\n",
              "      <td>12</td>\n",
              "      <td>Estudante com débito</td>\n",
              "      <td>1473</td>\n",
              "      <td>False</td>\n",
              "    </tr>\n",
              "    <tr>\n",
              "      <th>...</th>\n",
              "      <td>...</td>\n",
              "      <td>...</td>\n",
              "      <td>...</td>\n",
              "      <td>...</td>\n",
              "      <td>...</td>\n",
              "      <td>...</td>\n",
              "      <td>...</td>\n",
              "    </tr>\n",
              "    <tr>\n",
              "      <th>166457</th>\n",
              "      <td>2022-02-28</td>\n",
              "      <td>920</td>\n",
              "      <td>Papicu/Caça e Pesca</td>\n",
              "      <td>32</td>\n",
              "      <td>Gratuidade Infantil</td>\n",
              "      <td>1</td>\n",
              "      <td>False</td>\n",
              "    </tr>\n",
              "    <tr>\n",
              "      <th>166458</th>\n",
              "      <td>2022-02-28</td>\n",
              "      <td>920</td>\n",
              "      <td>Papicu/Caça e Pesca</td>\n",
              "      <td>37</td>\n",
              "      <td>VT Beneficio Piloto BUM</td>\n",
              "      <td>2</td>\n",
              "      <td>False</td>\n",
              "    </tr>\n",
              "    <tr>\n",
              "      <th>166459</th>\n",
              "      <td>2022-02-28</td>\n",
              "      <td>999</td>\n",
              "      <td>Quilometragem/Terminal</td>\n",
              "      <td>4</td>\n",
              "      <td>Gratuidade Idoso</td>\n",
              "      <td>2</td>\n",
              "      <td>False</td>\n",
              "    </tr>\n",
              "    <tr>\n",
              "      <th>166460</th>\n",
              "      <td>2022-02-28</td>\n",
              "      <td>999</td>\n",
              "      <td>Quilometragem/Terminal</td>\n",
              "      <td>11</td>\n",
              "      <td>Idoso Identificação</td>\n",
              "      <td>15</td>\n",
              "      <td>False</td>\n",
              "    </tr>\n",
              "    <tr>\n",
              "      <th>166461</th>\n",
              "      <td>2022-02-28</td>\n",
              "      <td>999</td>\n",
              "      <td>Quilometragem/Terminal</td>\n",
              "      <td>12</td>\n",
              "      <td>Estudante com débito</td>\n",
              "      <td>1</td>\n",
              "      <td>False</td>\n",
              "    </tr>\n",
              "  </tbody>\n",
              "</table>\n",
              "<p>123419 rows × 7 columns</p>\n",
              "</div>\n",
              "      <button class=\"colab-df-convert\" onclick=\"convertToInteractive('df-a930b0e2-7c9f-4f4e-85fe-81ff1928ca60')\"\n",
              "              title=\"Convert this dataframe to an interactive table.\"\n",
              "              style=\"display:none;\">\n",
              "        \n",
              "  <svg xmlns=\"http://www.w3.org/2000/svg\" height=\"24px\"viewBox=\"0 0 24 24\"\n",
              "       width=\"24px\">\n",
              "    <path d=\"M0 0h24v24H0V0z\" fill=\"none\"/>\n",
              "    <path d=\"M18.56 5.44l.94 2.06.94-2.06 2.06-.94-2.06-.94-.94-2.06-.94 2.06-2.06.94zm-11 1L8.5 8.5l.94-2.06 2.06-.94-2.06-.94L8.5 2.5l-.94 2.06-2.06.94zm10 10l.94 2.06.94-2.06 2.06-.94-2.06-.94-.94-2.06-.94 2.06-2.06.94z\"/><path d=\"M17.41 7.96l-1.37-1.37c-.4-.4-.92-.59-1.43-.59-.52 0-1.04.2-1.43.59L10.3 9.45l-7.72 7.72c-.78.78-.78 2.05 0 2.83L4 21.41c.39.39.9.59 1.41.59.51 0 1.02-.2 1.41-.59l7.78-7.78 2.81-2.81c.8-.78.8-2.07 0-2.86zM5.41 20L4 18.59l7.72-7.72 1.47 1.35L5.41 20z\"/>\n",
              "  </svg>\n",
              "      </button>\n",
              "      \n",
              "  <style>\n",
              "    .colab-df-container {\n",
              "      display:flex;\n",
              "      flex-wrap:wrap;\n",
              "      gap: 12px;\n",
              "    }\n",
              "\n",
              "    .colab-df-convert {\n",
              "      background-color: #E8F0FE;\n",
              "      border: none;\n",
              "      border-radius: 50%;\n",
              "      cursor: pointer;\n",
              "      display: none;\n",
              "      fill: #1967D2;\n",
              "      height: 32px;\n",
              "      padding: 0 0 0 0;\n",
              "      width: 32px;\n",
              "    }\n",
              "\n",
              "    .colab-df-convert:hover {\n",
              "      background-color: #E2EBFA;\n",
              "      box-shadow: 0px 1px 2px rgba(60, 64, 67, 0.3), 0px 1px 3px 1px rgba(60, 64, 67, 0.15);\n",
              "      fill: #174EA6;\n",
              "    }\n",
              "\n",
              "    [theme=dark] .colab-df-convert {\n",
              "      background-color: #3B4455;\n",
              "      fill: #D2E3FC;\n",
              "    }\n",
              "\n",
              "    [theme=dark] .colab-df-convert:hover {\n",
              "      background-color: #434B5C;\n",
              "      box-shadow: 0px 1px 3px 1px rgba(0, 0, 0, 0.15);\n",
              "      filter: drop-shadow(0px 1px 2px rgba(0, 0, 0, 0.3));\n",
              "      fill: #FFFFFF;\n",
              "    }\n",
              "  </style>\n",
              "\n",
              "      <script>\n",
              "        const buttonEl =\n",
              "          document.querySelector('#df-a930b0e2-7c9f-4f4e-85fe-81ff1928ca60 button.colab-df-convert');\n",
              "        buttonEl.style.display =\n",
              "          google.colab.kernel.accessAllowed ? 'block' : 'none';\n",
              "\n",
              "        async function convertToInteractive(key) {\n",
              "          const element = document.querySelector('#df-a930b0e2-7c9f-4f4e-85fe-81ff1928ca60');\n",
              "          const dataTable =\n",
              "            await google.colab.kernel.invokeFunction('convertToInteractive',\n",
              "                                                     [key], {});\n",
              "          if (!dataTable) return;\n",
              "\n",
              "          const docLinkHtml = 'Like what you see? Visit the ' +\n",
              "            '<a target=\"_blank\" href=https://colab.research.google.com/notebooks/data_table.ipynb>data table notebook</a>'\n",
              "            + ' to learn more about interactive tables.';\n",
              "          element.innerHTML = '';\n",
              "          dataTable['output_type'] = 'display_data';\n",
              "          await google.colab.output.renderOutput(dataTable, element);\n",
              "          const docLink = document.createElement('div');\n",
              "          docLink.innerHTML = docLinkHtml;\n",
              "          element.appendChild(docLink);\n",
              "        }\n",
              "      </script>\n",
              "    </div>\n",
              "  </div>\n",
              "  "
            ]
          },
          "metadata": {},
          "execution_count": 180
        }
      ],
      "source": [
        "df_semana"
      ]
    },
    {
      "cell_type": "code",
      "execution_count": 181,
      "metadata": {
        "id": "oYZ_y_yxL5hT"
      },
      "outputs": [],
      "source": [
        "dias_semana = demanda_2.groupby(\"Data\").sum()"
      ]
    },
    {
      "cell_type": "code",
      "execution_count": 182,
      "metadata": {
        "id": "JmhRDDU7M_CP"
      },
      "outputs": [],
      "source": [
        "dias_semana=dias_semana.reset_index()"
      ]
    },
    {
      "cell_type": "code",
      "execution_count": 183,
      "metadata": {
        "id": "ri6IrhhMMbbd",
        "colab": {
          "base_uri": "https://localhost:8080/",
          "height": 535
        },
        "outputId": "14145821-d384-4137-e481-9e5110d14a57"
      },
      "outputs": [
        {
          "output_type": "display_data",
          "data": {
            "text/plain": [
              "<Figure size 1440x720 with 1 Axes>"
            ],
            "image/png": "[encoded data removed]"
          },
          "metadata": {
            "needs_background": "light"
          }
        }
      ],
      "source": [
        "x_dias = list(dias_semana[\"Data\"])\n",
        "y_dias = dias_semana[\"Quantidade\"]\n",
        "\n",
        "\n",
        "plt.figure(figsize=(20, 10)) \n",
        "plt.bar(x_dias,y_dias,color=\"blue\")\n",
        "\n",
        "\n",
        "plt.xticks(x_dias,rotation=90)\n",
        "\n",
        "plt.xlabel(\"Dias\")\n",
        "plt.ylabel(\"Número de passageiros\")\n",
        "plt.title(\"Distribuição de passageiros por dia da semana\")\n",
        "plt.savefig(\"serie_historica.png\", format=\"png\", bbox_inches='tight')"
      ]
    },
    {
      "cell_type": "markdown",
      "metadata": {
        "id": "sy2u-2B3HvWa"
      },
      "source": [
        "### Plotar os gráficos com média semana de janeiro e média semanal de fevereiro, e média total"
      ]
    },
    {
      "cell_type": "code",
      "execution_count": 184,
      "metadata": {
        "id": "HRRW8qwRLaHX"
      },
      "outputs": [],
      "source": [
        "import math"
      ]
    },
    {
      "cell_type": "code",
      "execution_count": 185,
      "metadata": {
        "id": "4Zmo1YMzIs35"
      },
      "outputs": [],
      "source": [
        "lista_semana = pd.Series([\"Sábado\", \"Domingo\", \"Segunda\",\"Terça\",\"Quarta\", \"Quinta\",\"Sexta\"])\n",
        "lista_semana = np.tile(lista_semana,math.ceil(dias_semana.shape[0]/7))"
      ]
    },
    {
      "cell_type": "code",
      "execution_count": 186,
      "metadata": {
        "id": "MkDmMyDDKLRZ"
      },
      "outputs": [],
      "source": [
        "lista_semana = pd.Series(lista_semana)\n"
      ]
    },
    {
      "cell_type": "code",
      "execution_count": 187,
      "metadata": {
        "id": "u-pOUuV9H-bq"
      },
      "outputs": [],
      "source": [
        "dias_semana [\"Dia\"] = lista_semana"
      ]
    },
    {
      "cell_type": "code",
      "execution_count": 188,
      "metadata": {
        "id": "41tDZf6BJWzW",
        "colab": {
          "base_uri": "https://localhost:8080/",
          "height": 1000
        },
        "outputId": "cde1053e-c6ea-4832-89fd-7da91db79991"
      },
      "outputs": [
        {
          "output_type": "execute_result",
          "data": {
            "text/plain": [
              "         Data       ID  ID Passageiro  Quantidade  Final de semana      Dia\n",
              "0  2022-01-01   761310          28305       90800             2053   Sábado\n",
              "1  2022-01-02   814881          30680      128612             2182  Domingo\n",
              "2  2022-01-03  1137046          41144      457511                0  Segunda\n",
              "3  2022-01-04  1152241          41421      486986                0    Terça\n",
              "4  2022-01-05  1150198          41417      476648                0   Quarta\n",
              "5  2022-01-06  1152270          41389      499692                0   Quinta\n",
              "6  2022-01-07  1147857          41227      502715                0    Sexta\n",
              "7  2022-01-08   993741          34233      304246             2532   Sábado\n",
              "8  2022-01-09   864057          32033      156234             2271  Domingo\n",
              "9  2022-01-10  1157633          42017      515953                0  Segunda\n",
              "10 2022-01-11  1119886          40174      458499                0    Terça\n",
              "11 2022-01-12  1154276          41045      507715                0   Quarta\n",
              "12 2022-01-13  1131348          40419      501371                0   Quinta\n",
              "13 2022-01-14  1150192          41300      486118                0    Sexta\n",
              "14 2022-01-15   967775          33125      279673             2469   Sábado\n",
              "15 2022-01-16   845526          31442      139645             2244  Domingo\n",
              "16 2022-01-17  1143486          41817      485159                0  Segunda\n",
              "17 2022-01-18  1142974          41326      493902                0    Terça\n",
              "18 2022-01-19  1129492          40990      496282                0   Quarta\n",
              "19 2022-01-20  1151934          41692      498035                0   Quinta\n",
              "20 2022-01-21  1155196          41668      494570                0    Sexta\n",
              "21 2022-01-22  1010316          35065      295640             2554   Sábado\n",
              "22 2022-01-23   864993          32550      155601             2283  Domingo\n",
              "23 2022-01-24  1166014          41991      509557                0  Segunda\n",
              "24 2022-01-25  1165299          42629      519970                0    Terça\n",
              "25 2022-01-26  1140684          41534      517042                0   Quarta\n",
              "26 2022-01-27  1144868          41399      505680                0   Quinta\n",
              "27 2022-01-28  1145125          41352      496242                0    Sexta\n",
              "28 2022-01-29  1005264          34803      319268             2550   Sábado\n",
              "29 2022-01-30   892141          32989      162625             2328  Domingo\n",
              "30 2022-01-31  1176982          42575      552719                0  Segunda\n",
              "31 2022-02-01  1182314          42858      567254                0    Terça\n",
              "32 2022-02-02  1173458          43097      581051                0   Quarta\n",
              "33 2022-02-03  1164790          42570      576281                0   Quinta\n",
              "34 2022-02-04  1169550          42393      558825                0    Sexta\n",
              "35 2022-02-05  1005006          35269      332068             2568   Sábado\n",
              "36 2022-02-06   888485          33215      171191             2331  Domingo\n",
              "37 2022-02-07  1192201          44200      597042                0  Segunda\n",
              "38 2022-02-08  1185380          43536      600855                0    Terça\n",
              "39 2022-02-09  1194219          44064      602099                0   Quarta\n",
              "40 2022-02-10  1179509          43547      596817                0   Quinta\n",
              "41 2022-02-11  1191149          43949      583247                0    Sexta\n",
              "42 2022-02-12  1016689          35715      332348             2596   Sábado\n",
              "43 2022-02-13   914118          33909      167736             2376  Domingo\n",
              "44 2022-02-14  1171021          42796      587620                0  Segunda\n",
              "45 2022-02-15  1181399          43177      598136                0    Terça\n",
              "46 2022-02-16  1173353          43381      603729                0   Quarta\n",
              "47 2022-02-17  1169381          42744      605779                0   Quinta\n",
              "48 2022-02-18  1188694          43032      588734                0    Sexta\n",
              "49 2022-02-19  1004031          35537      328911             2566   Sábado\n",
              "50 2022-02-20   883493          32793      161897             2315  Domingo\n",
              "51 2022-02-21  1181226          42978      595735                0  Segunda\n",
              "52 2022-02-22  1184995          43077      610590                0    Terça\n",
              "53 2022-02-23  1188904          43497      612102                0   Quarta\n",
              "54 2022-02-24  1176326          43098      606757                0   Quinta\n",
              "55 2022-02-25  1189879          43100      565480                0    Sexta\n",
              "56 2022-02-26  1003723          34508      293085             2547   Sábado\n",
              "57 2022-02-27   868939          32062      151689             2278  Domingo\n",
              "58 2022-02-28  1112044          39537      370658                0  Segunda"
            ],
            "text/html": [
              "\n",
              "  <div id=\"df-572e05ea-f8d1-4b55-ba98-a4d8affc3cd7\">\n",
              "    <div class=\"colab-df-container\">\n",
              "      <div>\n",
              "<style scoped>\n",
              "    .dataframe tbody tr th:only-of-type {\n",
              "        vertical-align: middle;\n",
              "    }\n",
              "\n",
              "    .dataframe tbody tr th {\n",
              "        vertical-align: top;\n",
              "    }\n",
              "\n",
              "    .dataframe thead th {\n",
              "        text-align: right;\n",
              "    }\n",
              "</style>\n",
              "<table border=\"1\" class=\"dataframe\">\n",
              "  <thead>\n",
              "    <tr style=\"text-align: right;\">\n",
              "      <th></th>\n",
              "      <th>Data</th>\n",
              "      <th>ID</th>\n",
              "      <th>ID Passageiro</th>\n",
              "      <th>Quantidade</th>\n",
              "      <th>Final de semana</th>\n",
              "      <th>Dia</th>\n",
              "    </tr>\n",
              "  </thead>\n",
              "  <tbody>\n",
              "    <tr>\n",
              "      <th>0</th>\n",
              "      <td>2022-01-01</td>\n",
              "      <td>761310</td>\n",
              "      <td>28305</td>\n",
              "      <td>90800</td>\n",
              "      <td>2053</td>\n",
              "      <td>Sábado</td>\n",
              "    </tr>\n",
              "    <tr>\n",
              "      <th>1</th>\n",
              "      <td>2022-01-02</td>\n",
              "      <td>814881</td>\n",
              "      <td>30680</td>\n",
              "      <td>128612</td>\n",
              "      <td>2182</td>\n",
              "      <td>Domingo</td>\n",
              "    </tr>\n",
              "    <tr>\n",
              "      <th>2</th>\n",
              "      <td>2022-01-03</td>\n",
              "      <td>1137046</td>\n",
              "      <td>41144</td>\n",
              "      <td>457511</td>\n",
              "      <td>0</td>\n",
              "      <td>Segunda</td>\n",
              "    </tr>\n",
              "    <tr>\n",
              "      <th>3</th>\n",
              "      <td>2022-01-04</td>\n",
              "      <td>1152241</td>\n",
              "      <td>41421</td>\n",
              "      <td>486986</td>\n",
              "      <td>0</td>\n",
              "      <td>Terça</td>\n",
              "    </tr>\n",
              "    <tr>\n",
              "      <th>4</th>\n",
              "      <td>2022-01-05</td>\n",
              "      <td>1150198</td>\n",
              "      <td>41417</td>\n",
              "      <td>476648</td>\n",
              "      <td>0</td>\n",
              "      <td>Quarta</td>\n",
              "    </tr>\n",
              "    <tr>\n",
              "      <th>5</th>\n",
              "      <td>2022-01-06</td>\n",
              "      <td>1152270</td>\n",
              "      <td>41389</td>\n",
              "      <td>499692</td>\n",
              "      <td>0</td>\n",
              "      <td>Quinta</td>\n",
              "    </tr>\n",
              "    <tr>\n",
              "      <th>6</th>\n",
              "      <td>2022-01-07</td>\n",
              "      <td>1147857</td>\n",
              "      <td>41227</td>\n",
              "      <td>502715</td>\n",
              "      <td>0</td>\n",
              "      <td>Sexta</td>\n",
              "    </tr>\n",
              "    <tr>\n",
              "      <th>7</th>\n",
              "      <td>2022-01-08</td>\n",
              "      <td>993741</td>\n",
              "      <td>34233</td>\n",
              "      <td>304246</td>\n",
              "      <td>2532</td>\n",
              "      <td>Sábado</td>\n",
              "    </tr>\n",
              "    <tr>\n",
              "      <th>8</th>\n",
              "      <td>2022-01-09</td>\n",
              "      <td>864057</td>\n",
              "      <td>32033</td>\n",
              "      <td>156234</td>\n",
              "      <td>2271</td>\n",
              "      <td>Domingo</td>\n",
              "    </tr>\n",
              "    <tr>\n",
              "      <th>9</th>\n",
              "      <td>2022-01-10</td>\n",
              "      <td>1157633</td>\n",
              "      <td>42017</td>\n",
              "      <td>515953</td>\n",
              "      <td>0</td>\n",
              "      <td>Segunda</td>\n",
              "    </tr>\n",
              "    <tr>\n",
              "      <th>10</th>\n",
              "      <td>2022-01-11</td>\n",
              "      <td>1119886</td>\n",
              "      <td>40174</td>\n",
              "      <td>458499</td>\n",
              "      <td>0</td>\n",
              "      <td>Terça</td>\n",
              "    </tr>\n",
              "    <tr>\n",
              "      <th>11</th>\n",
              "      <td>2022-01-12</td>\n",
              "      <td>1154276</td>\n",
              "      <td>41045</td>\n",
              "      <td>507715</td>\n",
              "      <td>0</td>\n",
              "      <td>Quarta</td>\n",
              "    </tr>\n",
              "    <tr>\n",
              "      <th>12</th>\n",
              "      <td>2022-01-13</td>\n",
              "      <td>1131348</td>\n",
              "      <td>40419</td>\n",
              "      <td>501371</td>\n",
              "      <td>0</td>\n",
              "      <td>Quinta</td>\n",
              "    </tr>\n",
              "    <tr>\n",
              "      <th>13</th>\n",
              "      <td>2022-01-14</td>\n",
              "      <td>1150192</td>\n",
              "      <td>41300</td>\n",
              "      <td>486118</td>\n",
              "      <td>0</td>\n",
              "      <td>Sexta</td>\n",
              "    </tr>\n",
              "    <tr>\n",
              "      <th>14</th>\n",
              "      <td>2022-01-15</td>\n",
              "      <td>967775</td>\n",
              "      <td>33125</td>\n",
              "      <td>279673</td>\n",
              "      <td>2469</td>\n",
              "      <td>Sábado</td>\n",
              "    </tr>\n",
              "    <tr>\n",
              "      <th>15</th>\n",
              "      <td>2022-01-16</td>\n",
              "      <td>845526</td>\n",
              "      <td>31442</td>\n",
              "      <td>139645</td>\n",
              "      <td>2244</td>\n",
              "      <td>Domingo</td>\n",
              "    </tr>\n",
              "    <tr>\n",
              "      <th>16</th>\n",
              "      <td>2022-01-17</td>\n",
              "      <td>1143486</td>\n",
              "      <td>41817</td>\n",
              "      <td>485159</td>\n",
              "      <td>0</td>\n",
              "      <td>Segunda</td>\n",
              "    </tr>\n",
              "    <tr>\n",
              "      <th>17</th>\n",
              "      <td>2022-01-18</td>\n",
              "      <td>1142974</td>\n",
              "      <td>41326</td>\n",
              "      <td>493902</td>\n",
              "      <td>0</td>\n",
              "      <td>Terça</td>\n",
              "    </tr>\n",
              "    <tr>\n",
              "      <th>18</th>\n",
              "      <td>2022-01-19</td>\n",
              "      <td>1129492</td>\n",
              "      <td>40990</td>\n",
              "      <td>496282</td>\n",
              "      <td>0</td>\n",
              "      <td>Quarta</td>\n",
              "    </tr>\n",
              "    <tr>\n",
              "      <th>19</th>\n",
              "      <td>2022-01-20</td>\n",
              "      <td>1151934</td>\n",
              "      <td>41692</td>\n",
              "      <td>498035</td>\n",
              "      <td>0</td>\n",
              "      <td>Quinta</td>\n",
              "    </tr>\n",
              "    <tr>\n",
              "      <th>20</th>\n",
              "      <td>2022-01-21</td>\n",
              "      <td>1155196</td>\n",
              "      <td>41668</td>\n",
              "      <td>494570</td>\n",
              "      <td>0</td>\n",
              "      <td>Sexta</td>\n",
              "    </tr>\n",
              "    <tr>\n",
              "      <th>21</th>\n",
              "      <td>2022-01-22</td>\n",
              "      <td>1010316</td>\n",
              "      <td>35065</td>\n",
              "      <td>295640</td>\n",
              "      <td>2554</td>\n",
              "      <td>Sábado</td>\n",
              "    </tr>\n",
              "    <tr>\n",
              "      <th>22</th>\n",
              "      <td>2022-01-23</td>\n",
              "      <td>864993</td>\n",
              "      <td>32550</td>\n",
              "      <td>155601</td>\n",
              "      <td>2283</td>\n",
              "      <td>Domingo</td>\n",
              "    </tr>\n",
              "    <tr>\n",
              "      <th>23</th>\n",
              "      <td>2022-01-24</td>\n",
              "      <td>1166014</td>\n",
              "      <td>41991</td>\n",
              "      <td>509557</td>\n",
              "      <td>0</td>\n",
              "      <td>Segunda</td>\n",
              "    </tr>\n",
              "    <tr>\n",
              "      <th>24</th>\n",
              "      <td>2022-01-25</td>\n",
              "      <td>1165299</td>\n",
              "      <td>42629</td>\n",
              "      <td>519970</td>\n",
              "      <td>0</td>\n",
              "      <td>Terça</td>\n",
              "    </tr>\n",
              "    <tr>\n",
              "      <th>25</th>\n",
              "      <td>2022-01-26</td>\n",
              "      <td>1140684</td>\n",
              "      <td>41534</td>\n",
              "      <td>517042</td>\n",
              "      <td>0</td>\n",
              "      <td>Quarta</td>\n",
              "    </tr>\n",
              "    <tr>\n",
              "      <th>26</th>\n",
              "      <td>2022-01-27</td>\n",
              "      <td>1144868</td>\n",
              "      <td>41399</td>\n",
              "      <td>505680</td>\n",
              "      <td>0</td>\n",
              "      <td>Quinta</td>\n",
              "    </tr>\n",
              "    <tr>\n",
              "      <th>27</th>\n",
              "      <td>2022-01-28</td>\n",
              "      <td>1145125</td>\n",
              "      <td>41352</td>\n",
              "      <td>496242</td>\n",
              "      <td>0</td>\n",
              "      <td>Sexta</td>\n",
              "    </tr>\n",
              "    <tr>\n",
              "      <th>28</th>\n",
              "      <td>2022-01-29</td>\n",
              "      <td>1005264</td>\n",
              "      <td>34803</td>\n",
              "      <td>319268</td>\n",
              "      <td>2550</td>\n",
              "      <td>Sábado</td>\n",
              "    </tr>\n",
              "    <tr>\n",
              "      <th>29</th>\n",
              "      <td>2022-01-30</td>\n",
              "      <td>892141</td>\n",
              "      <td>32989</td>\n",
              "      <td>162625</td>\n",
              "      <td>2328</td>\n",
              "      <td>Domingo</td>\n",
              "    </tr>\n",
              "    <tr>\n",
              "      <th>30</th>\n",
              "      <td>2022-01-31</td>\n",
              "      <td>1176982</td>\n",
              "      <td>42575</td>\n",
              "      <td>552719</td>\n",
              "      <td>0</td>\n",
              "      <td>Segunda</td>\n",
              "    </tr>\n",
              "    <tr>\n",
              "      <th>31</th>\n",
              "      <td>2022-02-01</td>\n",
              "      <td>1182314</td>\n",
              "      <td>42858</td>\n",
              "      <td>567254</td>\n",
              "      <td>0</td>\n",
              "      <td>Terça</td>\n",
              "    </tr>\n",
              "    <tr>\n",
              "      <th>32</th>\n",
              "      <td>2022-02-02</td>\n",
              "      <td>1173458</td>\n",
              "      <td>43097</td>\n",
              "      <td>581051</td>\n",
              "      <td>0</td>\n",
              "      <td>Quarta</td>\n",
              "    </tr>\n",
              "    <tr>\n",
              "      <th>33</th>\n",
              "      <td>2022-02-03</td>\n",
              "      <td>1164790</td>\n",
              "      <td>42570</td>\n",
              "      <td>576281</td>\n",
              "      <td>0</td>\n",
              "      <td>Quinta</td>\n",
              "    </tr>\n",
              "    <tr>\n",
              "      <th>34</th>\n",
              "      <td>2022-02-04</td>\n",
              "      <td>1169550</td>\n",
              "      <td>42393</td>\n",
              "      <td>558825</td>\n",
              "      <td>0</td>\n",
              "      <td>Sexta</td>\n",
              "    </tr>\n",
              "    <tr>\n",
              "      <th>35</th>\n",
              "      <td>2022-02-05</td>\n",
              "      <td>1005006</td>\n",
              "      <td>35269</td>\n",
              "      <td>332068</td>\n",
              "      <td>2568</td>\n",
              "      <td>Sábado</td>\n",
              "    </tr>\n",
              "    <tr>\n",
              "      <th>36</th>\n",
              "      <td>2022-02-06</td>\n",
              "      <td>888485</td>\n",
              "      <td>33215</td>\n",
              "      <td>171191</td>\n",
              "      <td>2331</td>\n",
              "      <td>Domingo</td>\n",
              "    </tr>\n",
              "    <tr>\n",
              "      <th>37</th>\n",
              "      <td>2022-02-07</td>\n",
              "      <td>1192201</td>\n",
              "      <td>44200</td>\n",
              "      <td>597042</td>\n",
              "      <td>0</td>\n",
              "      <td>Segunda</td>\n",
              "    </tr>\n",
              "    <tr>\n",
              "      <th>38</th>\n",
              "      <td>2022-02-08</td>\n",
              "      <td>1185380</td>\n",
              "      <td>43536</td>\n",
              "      <td>600855</td>\n",
              "      <td>0</td>\n",
              "      <td>Terça</td>\n",
              "    </tr>\n",
              "    <tr>\n",
              "      <th>39</th>\n",
              "      <td>2022-02-09</td>\n",
              "      <td>1194219</td>\n",
              "      <td>44064</td>\n",
              "      <td>602099</td>\n",
              "      <td>0</td>\n",
              "      <td>Quarta</td>\n",
              "    </tr>\n",
              "    <tr>\n",
              "      <th>40</th>\n",
              "      <td>2022-02-10</td>\n",
              "      <td>1179509</td>\n",
              "      <td>43547</td>\n",
              "      <td>596817</td>\n",
              "      <td>0</td>\n",
              "      <td>Quinta</td>\n",
              "    </tr>\n",
              "    <tr>\n",
              "      <th>41</th>\n",
              "      <td>2022-02-11</td>\n",
              "      <td>1191149</td>\n",
              "      <td>43949</td>\n",
              "      <td>583247</td>\n",
              "      <td>0</td>\n",
              "      <td>Sexta</td>\n",
              "    </tr>\n",
              "    <tr>\n",
              "      <th>42</th>\n",
              "      <td>2022-02-12</td>\n",
              "      <td>1016689</td>\n",
              "      <td>35715</td>\n",
              "      <td>332348</td>\n",
              "      <td>2596</td>\n",
              "      <td>Sábado</td>\n",
              "    </tr>\n",
              "    <tr>\n",
              "      <th>43</th>\n",
              "      <td>2022-02-13</td>\n",
              "      <td>914118</td>\n",
              "      <td>33909</td>\n",
              "      <td>167736</td>\n",
              "      <td>2376</td>\n",
              "      <td>Domingo</td>\n",
              "    </tr>\n",
              "    <tr>\n",
              "      <th>44</th>\n",
              "      <td>2022-02-14</td>\n",
              "      <td>1171021</td>\n",
              "      <td>42796</td>\n",
              "      <td>587620</td>\n",
              "      <td>0</td>\n",
              "      <td>Segunda</td>\n",
              "    </tr>\n",
              "    <tr>\n",
              "      <th>45</th>\n",
              "      <td>2022-02-15</td>\n",
              "      <td>1181399</td>\n",
              "      <td>43177</td>\n",
              "      <td>598136</td>\n",
              "      <td>0</td>\n",
              "      <td>Terça</td>\n",
              "    </tr>\n",
              "    <tr>\n",
              "      <th>46</th>\n",
              "      <td>2022-02-16</td>\n",
              "      <td>1173353</td>\n",
              "      <td>43381</td>\n",
              "      <td>603729</td>\n",
              "      <td>0</td>\n",
              "      <td>Quarta</td>\n",
              "    </tr>\n",
              "    <tr>\n",
              "      <th>47</th>\n",
              "      <td>2022-02-17</td>\n",
              "      <td>1169381</td>\n",
              "      <td>42744</td>\n",
              "      <td>605779</td>\n",
              "      <td>0</td>\n",
              "      <td>Quinta</td>\n",
              "    </tr>\n",
              "    <tr>\n",
              "      <th>48</th>\n",
              "      <td>2022-02-18</td>\n",
              "      <td>1188694</td>\n",
              "      <td>43032</td>\n",
              "      <td>588734</td>\n",
              "      <td>0</td>\n",
              "      <td>Sexta</td>\n",
              "    </tr>\n",
              "    <tr>\n",
              "      <th>49</th>\n",
              "      <td>2022-02-19</td>\n",
              "      <td>1004031</td>\n",
              "      <td>35537</td>\n",
              "      <td>328911</td>\n",
              "      <td>2566</td>\n",
              "      <td>Sábado</td>\n",
              "    </tr>\n",
              "    <tr>\n",
              "      <th>50</th>\n",
              "      <td>2022-02-20</td>\n",
              "      <td>883493</td>\n",
              "      <td>32793</td>\n",
              "      <td>161897</td>\n",
              "      <td>2315</td>\n",
              "      <td>Domingo</td>\n",
              "    </tr>\n",
              "    <tr>\n",
              "      <th>51</th>\n",
              "      <td>2022-02-21</td>\n",
              "      <td>1181226</td>\n",
              "      <td>42978</td>\n",
              "      <td>595735</td>\n",
              "      <td>0</td>\n",
              "      <td>Segunda</td>\n",
              "    </tr>\n",
              "    <tr>\n",
              "      <th>52</th>\n",
              "      <td>2022-02-22</td>\n",
              "      <td>1184995</td>\n",
              "      <td>43077</td>\n",
              "      <td>610590</td>\n",
              "      <td>0</td>\n",
              "      <td>Terça</td>\n",
              "    </tr>\n",
              "    <tr>\n",
              "      <th>53</th>\n",
              "      <td>2022-02-23</td>\n",
              "      <td>1188904</td>\n",
              "      <td>43497</td>\n",
              "      <td>612102</td>\n",
              "      <td>0</td>\n",
              "      <td>Quarta</td>\n",
              "    </tr>\n",
              "    <tr>\n",
              "      <th>54</th>\n",
              "      <td>2022-02-24</td>\n",
              "      <td>1176326</td>\n",
              "      <td>43098</td>\n",
              "      <td>606757</td>\n",
              "      <td>0</td>\n",
              "      <td>Quinta</td>\n",
              "    </tr>\n",
              "    <tr>\n",
              "      <th>55</th>\n",
              "      <td>2022-02-25</td>\n",
              "      <td>1189879</td>\n",
              "      <td>43100</td>\n",
              "      <td>565480</td>\n",
              "      <td>0</td>\n",
              "      <td>Sexta</td>\n",
              "    </tr>\n",
              "    <tr>\n",
              "      <th>56</th>\n",
              "      <td>2022-02-26</td>\n",
              "      <td>1003723</td>\n",
              "      <td>34508</td>\n",
              "      <td>293085</td>\n",
              "      <td>2547</td>\n",
              "      <td>Sábado</td>\n",
              "    </tr>\n",
              "    <tr>\n",
              "      <th>57</th>\n",
              "      <td>2022-02-27</td>\n",
              "      <td>868939</td>\n",
              "      <td>32062</td>\n",
              "      <td>151689</td>\n",
              "      <td>2278</td>\n",
              "      <td>Domingo</td>\n",
              "    </tr>\n",
              "    <tr>\n",
              "      <th>58</th>\n",
              "      <td>2022-02-28</td>\n",
              "      <td>1112044</td>\n",
              "      <td>39537</td>\n",
              "      <td>370658</td>\n",
              "      <td>0</td>\n",
              "      <td>Segunda</td>\n",
              "    </tr>\n",
              "  </tbody>\n",
              "</table>\n",
              "</div>\n",
              "      <button class=\"colab-df-convert\" onclick=\"convertToInteractive('df-572e05ea-f8d1-4b55-ba98-a4d8affc3cd7')\"\n",
              "              title=\"Convert this dataframe to an interactive table.\"\n",
              "              style=\"display:none;\">\n",
              "        \n",
              "  <svg xmlns=\"http://www.w3.org/2000/svg\" height=\"24px\"viewBox=\"0 0 24 24\"\n",
              "       width=\"24px\">\n",
              "    <path d=\"M0 0h24v24H0V0z\" fill=\"none\"/>\n",
              "    <path d=\"M18.56 5.44l.94 2.06.94-2.06 2.06-.94-2.06-.94-.94-2.06-.94 2.06-2.06.94zm-11 1L8.5 8.5l.94-2.06 2.06-.94-2.06-.94L8.5 2.5l-.94 2.06-2.06.94zm10 10l.94 2.06.94-2.06 2.06-.94-2.06-.94-.94-2.06-.94 2.06-2.06.94z\"/><path d=\"M17.41 7.96l-1.37-1.37c-.4-.4-.92-.59-1.43-.59-.52 0-1.04.2-1.43.59L10.3 9.45l-7.72 7.72c-.78.78-.78 2.05 0 2.83L4 21.41c.39.39.9.59 1.41.59.51 0 1.02-.2 1.41-.59l7.78-7.78 2.81-2.81c.8-.78.8-2.07 0-2.86zM5.41 20L4 18.59l7.72-7.72 1.47 1.35L5.41 20z\"/>\n",
              "  </svg>\n",
              "      </button>\n",
              "      \n",
              "  <style>\n",
              "    .colab-df-container {\n",
              "      display:flex;\n",
              "      flex-wrap:wrap;\n",
              "      gap: 12px;\n",
              "    }\n",
              "\n",
              "    .colab-df-convert {\n",
              "      background-color: #E8F0FE;\n",
              "      border: none;\n",
              "      border-radius: 50%;\n",
              "      cursor: pointer;\n",
              "      display: none;\n",
              "      fill: #1967D2;\n",
              "      height: 32px;\n",
              "      padding: 0 0 0 0;\n",
              "      width: 32px;\n",
              "    }\n",
              "\n",
              "    .colab-df-convert:hover {\n",
              "      background-color: #E2EBFA;\n",
              "      box-shadow: 0px 1px 2px rgba(60, 64, 67, 0.3), 0px 1px 3px 1px rgba(60, 64, 67, 0.15);\n",
              "      fill: #174EA6;\n",
              "    }\n",
              "\n",
              "    [theme=dark] .colab-df-convert {\n",
              "      background-color: #3B4455;\n",
              "      fill: #D2E3FC;\n",
              "    }\n",
              "\n",
              "    [theme=dark] .colab-df-convert:hover {\n",
              "      background-color: #434B5C;\n",
              "      box-shadow: 0px 1px 3px 1px rgba(0, 0, 0, 0.15);\n",
              "      filter: drop-shadow(0px 1px 2px rgba(0, 0, 0, 0.3));\n",
              "      fill: #FFFFFF;\n",
              "    }\n",
              "  </style>\n",
              "\n",
              "      <script>\n",
              "        const buttonEl =\n",
              "          document.querySelector('#df-572e05ea-f8d1-4b55-ba98-a4d8affc3cd7 button.colab-df-convert');\n",
              "        buttonEl.style.display =\n",
              "          google.colab.kernel.accessAllowed ? 'block' : 'none';\n",
              "\n",
              "        async function convertToInteractive(key) {\n",
              "          const element = document.querySelector('#df-572e05ea-f8d1-4b55-ba98-a4d8affc3cd7');\n",
              "          const dataTable =\n",
              "            await google.colab.kernel.invokeFunction('convertToInteractive',\n",
              "                                                     [key], {});\n",
              "          if (!dataTable) return;\n",
              "\n",
              "          const docLinkHtml = 'Like what you see? Visit the ' +\n",
              "            '<a target=\"_blank\" href=https://colab.research.google.com/notebooks/data_table.ipynb>data table notebook</a>'\n",
              "            + ' to learn more about interactive tables.';\n",
              "          element.innerHTML = '';\n",
              "          dataTable['output_type'] = 'display_data';\n",
              "          await google.colab.output.renderOutput(dataTable, element);\n",
              "          const docLink = document.createElement('div');\n",
              "          docLink.innerHTML = docLinkHtml;\n",
              "          element.appendChild(docLink);\n",
              "        }\n",
              "      </script>\n",
              "    </div>\n",
              "  </div>\n",
              "  "
            ]
          },
          "metadata": {},
          "execution_count": 188
        }
      ],
      "source": [
        "dias_semana"
      ]
    },
    {
      "cell_type": "code",
      "execution_count": 189,
      "metadata": {
        "id": "YDgWxj4gLi0f"
      },
      "outputs": [],
      "source": [
        "df_semanal = dias_semana.groupby(\"Dia\").mean()"
      ]
    },
    {
      "cell_type": "code",
      "execution_count": 190,
      "metadata": {
        "id": "DkPLjDsoLpVr"
      },
      "outputs": [],
      "source": [
        "df_semanal = df_semanal.reset_index()"
      ]
    },
    {
      "cell_type": "code",
      "execution_count": 191,
      "metadata": {
        "id": "DxeJrdTWMmWz"
      },
      "outputs": [],
      "source": [
        "df_semanal = df_semanal.reindex([3,6,1,2,4,5,0])"
      ]
    },
    {
      "cell_type": "code",
      "execution_count": 192,
      "metadata": {
        "id": "LLgNr1aLOC8O",
        "colab": {
          "base_uri": "https://localhost:8080/",
          "height": 269
        },
        "outputId": "36b4cd19-afba-49f8-8917-ea9af9d76ea1"
      },
      "outputs": [
        {
          "output_type": "execute_result",
          "data": {
            "text/plain": [
              "       Dia            ID  ID Passageiro     Quantidade  Final de semana\n",
              "3  Segunda  1.159739e+06   42117.222222  519106.000000         0.000000\n",
              "6    Terça  1.164311e+06   42274.750000  542024.000000         0.000000\n",
              "1   Quarta  1.163073e+06   42378.125000  549583.500000         0.000000\n",
              "2   Quinta  1.158803e+06   42107.250000  548801.500000         0.000000\n",
              "4    Sexta  1.167205e+06   42252.625000  534491.375000         0.000000\n",
              "5   Sábado  9.742061e+05   34062.222222  286226.555556      2492.777778\n",
              "0  Domingo  8.707370e+05   32408.111111  155025.555556      2289.777778"
            ],
            "text/html": [
              "\n",
              "  <div id=\"df-35ddcf15-980d-4846-83e6-9c60b70e27bd\">\n",
              "    <div class=\"colab-df-container\">\n",
              "      <div>\n",
              "<style scoped>\n",
              "    .dataframe tbody tr th:only-of-type {\n",
              "        vertical-align: middle;\n",
              "    }\n",
              "\n",
              "    .dataframe tbody tr th {\n",
              "        vertical-align: top;\n",
              "    }\n",
              "\n",
              "    .dataframe thead th {\n",
              "        text-align: right;\n",
              "    }\n",
              "</style>\n",
              "<table border=\"1\" class=\"dataframe\">\n",
              "  <thead>\n",
              "    <tr style=\"text-align: right;\">\n",
              "      <th></th>\n",
              "      <th>Dia</th>\n",
              "      <th>ID</th>\n",
              "      <th>ID Passageiro</th>\n",
              "      <th>Quantidade</th>\n",
              "      <th>Final de semana</th>\n",
              "    </tr>\n",
              "  </thead>\n",
              "  <tbody>\n",
              "    <tr>\n",
              "      <th>3</th>\n",
              "      <td>Segunda</td>\n",
              "      <td>1.159739e+06</td>\n",
              "      <td>42117.222222</td>\n",
              "      <td>519106.000000</td>\n",
              "      <td>0.000000</td>\n",
              "    </tr>\n",
              "    <tr>\n",
              "      <th>6</th>\n",
              "      <td>Terça</td>\n",
              "      <td>1.164311e+06</td>\n",
              "      <td>42274.750000</td>\n",
              "      <td>542024.000000</td>\n",
              "      <td>0.000000</td>\n",
              "    </tr>\n",
              "    <tr>\n",
              "      <th>1</th>\n",
              "      <td>Quarta</td>\n",
              "      <td>1.163073e+06</td>\n",
              "      <td>42378.125000</td>\n",
              "      <td>549583.500000</td>\n",
              "      <td>0.000000</td>\n",
              "    </tr>\n",
              "    <tr>\n",
              "      <th>2</th>\n",
              "      <td>Quinta</td>\n",
              "      <td>1.158803e+06</td>\n",
              "      <td>42107.250000</td>\n",
              "      <td>548801.500000</td>\n",
              "      <td>0.000000</td>\n",
              "    </tr>\n",
              "    <tr>\n",
              "      <th>4</th>\n",
              "      <td>Sexta</td>\n",
              "      <td>1.167205e+06</td>\n",
              "      <td>42252.625000</td>\n",
              "      <td>534491.375000</td>\n",
              "      <td>0.000000</td>\n",
              "    </tr>\n",
              "    <tr>\n",
              "      <th>5</th>\n",
              "      <td>Sábado</td>\n",
              "      <td>9.742061e+05</td>\n",
              "      <td>34062.222222</td>\n",
              "      <td>286226.555556</td>\n",
              "      <td>2492.777778</td>\n",
              "    </tr>\n",
              "    <tr>\n",
              "      <th>0</th>\n",
              "      <td>Domingo</td>\n",
              "      <td>8.707370e+05</td>\n",
              "      <td>32408.111111</td>\n",
              "      <td>155025.555556</td>\n",
              "      <td>2289.777778</td>\n",
              "    </tr>\n",
              "  </tbody>\n",
              "</table>\n",
              "</div>\n",
              "      <button class=\"colab-df-convert\" onclick=\"convertToInteractive('df-35ddcf15-980d-4846-83e6-9c60b70e27bd')\"\n",
              "              title=\"Convert this dataframe to an interactive table.\"\n",
              "              style=\"display:none;\">\n",
              "        \n",
              "  <svg xmlns=\"http://www.w3.org/2000/svg\" height=\"24px\"viewBox=\"0 0 24 24\"\n",
              "       width=\"24px\">\n",
              "    <path d=\"M0 0h24v24H0V0z\" fill=\"none\"/>\n",
              "    <path d=\"M18.56 5.44l.94 2.06.94-2.06 2.06-.94-2.06-.94-.94-2.06-.94 2.06-2.06.94zm-11 1L8.5 8.5l.94-2.06 2.06-.94-2.06-.94L8.5 2.5l-.94 2.06-2.06.94zm10 10l.94 2.06.94-2.06 2.06-.94-2.06-.94-.94-2.06-.94 2.06-2.06.94z\"/><path d=\"M17.41 7.96l-1.37-1.37c-.4-.4-.92-.59-1.43-.59-.52 0-1.04.2-1.43.59L10.3 9.45l-7.72 7.72c-.78.78-.78 2.05 0 2.83L4 21.41c.39.39.9.59 1.41.59.51 0 1.02-.2 1.41-.59l7.78-7.78 2.81-2.81c.8-.78.8-2.07 0-2.86zM5.41 20L4 18.59l7.72-7.72 1.47 1.35L5.41 20z\"/>\n",
              "  </svg>\n",
              "      </button>\n",
              "      \n",
              "  <style>\n",
              "    .colab-df-container {\n",
              "      display:flex;\n",
              "      flex-wrap:wrap;\n",
              "      gap: 12px;\n",
              "    }\n",
              "\n",
              "    .colab-df-convert {\n",
              "      background-color: #E8F0FE;\n",
              "      border: none;\n",
              "      border-radius: 50%;\n",
              "      cursor: pointer;\n",
              "      display: none;\n",
              "      fill: #1967D2;\n",
              "      height: 32px;\n",
              "      padding: 0 0 0 0;\n",
              "      width: 32px;\n",
              "    }\n",
              "\n",
              "    .colab-df-convert:hover {\n",
              "      background-color: #E2EBFA;\n",
              "      box-shadow: 0px 1px 2px rgba(60, 64, 67, 0.3), 0px 1px 3px 1px rgba(60, 64, 67, 0.15);\n",
              "      fill: #174EA6;\n",
              "    }\n",
              "\n",
              "    [theme=dark] .colab-df-convert {\n",
              "      background-color: #3B4455;\n",
              "      fill: #D2E3FC;\n",
              "    }\n",
              "\n",
              "    [theme=dark] .colab-df-convert:hover {\n",
              "      background-color: #434B5C;\n",
              "      box-shadow: 0px 1px 3px 1px rgba(0, 0, 0, 0.15);\n",
              "      filter: drop-shadow(0px 1px 2px rgba(0, 0, 0, 0.3));\n",
              "      fill: #FFFFFF;\n",
              "    }\n",
              "  </style>\n",
              "\n",
              "      <script>\n",
              "        const buttonEl =\n",
              "          document.querySelector('#df-35ddcf15-980d-4846-83e6-9c60b70e27bd button.colab-df-convert');\n",
              "        buttonEl.style.display =\n",
              "          google.colab.kernel.accessAllowed ? 'block' : 'none';\n",
              "\n",
              "        async function convertToInteractive(key) {\n",
              "          const element = document.querySelector('#df-35ddcf15-980d-4846-83e6-9c60b70e27bd');\n",
              "          const dataTable =\n",
              "            await google.colab.kernel.invokeFunction('convertToInteractive',\n",
              "                                                     [key], {});\n",
              "          if (!dataTable) return;\n",
              "\n",
              "          const docLinkHtml = 'Like what you see? Visit the ' +\n",
              "            '<a target=\"_blank\" href=https://colab.research.google.com/notebooks/data_table.ipynb>data table notebook</a>'\n",
              "            + ' to learn more about interactive tables.';\n",
              "          element.innerHTML = '';\n",
              "          dataTable['output_type'] = 'display_data';\n",
              "          await google.colab.output.renderOutput(dataTable, element);\n",
              "          const docLink = document.createElement('div');\n",
              "          docLink.innerHTML = docLinkHtml;\n",
              "          element.appendChild(docLink);\n",
              "        }\n",
              "      </script>\n",
              "    </div>\n",
              "  </div>\n",
              "  "
            ]
          },
          "metadata": {},
          "execution_count": 192
        }
      ],
      "source": [
        "df_semanal"
      ]
    },
    {
      "cell_type": "code",
      "execution_count": 193,
      "metadata": {
        "id": "1y3KB_SDOMM0"
      },
      "outputs": [],
      "source": [
        "df_janeiro = dias_semana[:31]"
      ]
    },
    {
      "cell_type": "code",
      "execution_count": 194,
      "metadata": {
        "id": "nmlMraIdPycy"
      },
      "outputs": [],
      "source": [
        "df_janeiro_media = df_janeiro.groupby(\"Dia\").mean()"
      ]
    },
    {
      "cell_type": "code",
      "execution_count": 195,
      "metadata": {
        "id": "d7PGYEZ-Qf9k",
        "colab": {
          "base_uri": "https://localhost:8080/",
          "height": 300
        },
        "outputId": "713f7959-be78-4e9f-a428-6db6c3978f55"
      },
      "outputs": [
        {
          "output_type": "execute_result",
          "data": {
            "text/plain": [
              "                ID  ID Passageiro  Quantidade  Final de semana\n",
              "Dia                                                           \n",
              "Domingo   856319.6       31938.80   148543.40           2261.6\n",
              "Quarta   1143662.5       41246.50   499421.75              0.0\n",
              "Quinta   1145105.0       41224.75   501194.50              0.0\n",
              "Segunda  1156232.2       41908.80   504179.80              0.0\n",
              "Sexta    1149592.5       41386.75   494911.25              0.0\n",
              "Sábado    947681.2       33106.20   257925.40           2431.6\n",
              "Terça    1145100.0       41387.50   489839.25              0.0"
            ],
            "text/html": [
              "\n",
              "  <div id=\"df-a34c64f5-de3e-4d32-ba34-71fa510d3c5b\">\n",
              "    <div class=\"colab-df-container\">\n",
              "      <div>\n",
              "<style scoped>\n",
              "    .dataframe tbody tr th:only-of-type {\n",
              "        vertical-align: middle;\n",
              "    }\n",
              "\n",
              "    .dataframe tbody tr th {\n",
              "        vertical-align: top;\n",
              "    }\n",
              "\n",
              "    .dataframe thead th {\n",
              "        text-align: right;\n",
              "    }\n",
              "</style>\n",
              "<table border=\"1\" class=\"dataframe\">\n",
              "  <thead>\n",
              "    <tr style=\"text-align: right;\">\n",
              "      <th></th>\n",
              "      <th>ID</th>\n",
              "      <th>ID Passageiro</th>\n",
              "      <th>Quantidade</th>\n",
              "      <th>Final de semana</th>\n",
              "    </tr>\n",
              "    <tr>\n",
              "      <th>Dia</th>\n",
              "      <th></th>\n",
              "      <th></th>\n",
              "      <th></th>\n",
              "      <th></th>\n",
              "    </tr>\n",
              "  </thead>\n",
              "  <tbody>\n",
              "    <tr>\n",
              "      <th>Domingo</th>\n",
              "      <td>856319.6</td>\n",
              "      <td>31938.80</td>\n",
              "      <td>148543.40</td>\n",
              "      <td>2261.6</td>\n",
              "    </tr>\n",
              "    <tr>\n",
              "      <th>Quarta</th>\n",
              "      <td>1143662.5</td>\n",
              "      <td>41246.50</td>\n",
              "      <td>499421.75</td>\n",
              "      <td>0.0</td>\n",
              "    </tr>\n",
              "    <tr>\n",
              "      <th>Quinta</th>\n",
              "      <td>1145105.0</td>\n",
              "      <td>41224.75</td>\n",
              "      <td>501194.50</td>\n",
              "      <td>0.0</td>\n",
              "    </tr>\n",
              "    <tr>\n",
              "      <th>Segunda</th>\n",
              "      <td>1156232.2</td>\n",
              "      <td>41908.80</td>\n",
              "      <td>504179.80</td>\n",
              "      <td>0.0</td>\n",
              "    </tr>\n",
              "    <tr>\n",
              "      <th>Sexta</th>\n",
              "      <td>1149592.5</td>\n",
              "      <td>41386.75</td>\n",
              "      <td>494911.25</td>\n",
              "      <td>0.0</td>\n",
              "    </tr>\n",
              "    <tr>\n",
              "      <th>Sábado</th>\n",
              "      <td>947681.2</td>\n",
              "      <td>33106.20</td>\n",
              "      <td>257925.40</td>\n",
              "      <td>2431.6</td>\n",
              "    </tr>\n",
              "    <tr>\n",
              "      <th>Terça</th>\n",
              "      <td>1145100.0</td>\n",
              "      <td>41387.50</td>\n",
              "      <td>489839.25</td>\n",
              "      <td>0.0</td>\n",
              "    </tr>\n",
              "  </tbody>\n",
              "</table>\n",
              "</div>\n",
              "      <button class=\"colab-df-convert\" onclick=\"convertToInteractive('df-a34c64f5-de3e-4d32-ba34-71fa510d3c5b')\"\n",
              "              title=\"Convert this dataframe to an interactive table.\"\n",
              "              style=\"display:none;\">\n",
              "        \n",
              "  <svg xmlns=\"http://www.w3.org/2000/svg\" height=\"24px\"viewBox=\"0 0 24 24\"\n",
              "       width=\"24px\">\n",
              "    <path d=\"M0 0h24v24H0V0z\" fill=\"none\"/>\n",
              "    <path d=\"M18.56 5.44l.94 2.06.94-2.06 2.06-.94-2.06-.94-.94-2.06-.94 2.06-2.06.94zm-11 1L8.5 8.5l.94-2.06 2.06-.94-2.06-.94L8.5 2.5l-.94 2.06-2.06.94zm10 10l.94 2.06.94-2.06 2.06-.94-2.06-.94-.94-2.06-.94 2.06-2.06.94z\"/><path d=\"M17.41 7.96l-1.37-1.37c-.4-.4-.92-.59-1.43-.59-.52 0-1.04.2-1.43.59L10.3 9.45l-7.72 7.72c-.78.78-.78 2.05 0 2.83L4 21.41c.39.39.9.59 1.41.59.51 0 1.02-.2 1.41-.59l7.78-7.78 2.81-2.81c.8-.78.8-2.07 0-2.86zM5.41 20L4 18.59l7.72-7.72 1.47 1.35L5.41 20z\"/>\n",
              "  </svg>\n",
              "      </button>\n",
              "      \n",
              "  <style>\n",
              "    .colab-df-container {\n",
              "      display:flex;\n",
              "      flex-wrap:wrap;\n",
              "      gap: 12px;\n",
              "    }\n",
              "\n",
              "    .colab-df-convert {\n",
              "      background-color: #E8F0FE;\n",
              "      border: none;\n",
              "      border-radius: 50%;\n",
              "      cursor: pointer;\n",
              "      display: none;\n",
              "      fill: #1967D2;\n",
              "      height: 32px;\n",
              "      padding: 0 0 0 0;\n",
              "      width: 32px;\n",
              "    }\n",
              "\n",
              "    .colab-df-convert:hover {\n",
              "      background-color: #E2EBFA;\n",
              "      box-shadow: 0px 1px 2px rgba(60, 64, 67, 0.3), 0px 1px 3px 1px rgba(60, 64, 67, 0.15);\n",
              "      fill: #174EA6;\n",
              "    }\n",
              "\n",
              "    [theme=dark] .colab-df-convert {\n",
              "      background-color: #3B4455;\n",
              "      fill: #D2E3FC;\n",
              "    }\n",
              "\n",
              "    [theme=dark] .colab-df-convert:hover {\n",
              "      background-color: #434B5C;\n",
              "      box-shadow: 0px 1px 3px 1px rgba(0, 0, 0, 0.15);\n",
              "      filter: drop-shadow(0px 1px 2px rgba(0, 0, 0, 0.3));\n",
              "      fill: #FFFFFF;\n",
              "    }\n",
              "  </style>\n",
              "\n",
              "      <script>\n",
              "        const buttonEl =\n",
              "          document.querySelector('#df-a34c64f5-de3e-4d32-ba34-71fa510d3c5b button.colab-df-convert');\n",
              "        buttonEl.style.display =\n",
              "          google.colab.kernel.accessAllowed ? 'block' : 'none';\n",
              "\n",
              "        async function convertToInteractive(key) {\n",
              "          const element = document.querySelector('#df-a34c64f5-de3e-4d32-ba34-71fa510d3c5b');\n",
              "          const dataTable =\n",
              "            await google.colab.kernel.invokeFunction('convertToInteractive',\n",
              "                                                     [key], {});\n",
              "          if (!dataTable) return;\n",
              "\n",
              "          const docLinkHtml = 'Like what you see? Visit the ' +\n",
              "            '<a target=\"_blank\" href=https://colab.research.google.com/notebooks/data_table.ipynb>data table notebook</a>'\n",
              "            + ' to learn more about interactive tables.';\n",
              "          element.innerHTML = '';\n",
              "          dataTable['output_type'] = 'display_data';\n",
              "          await google.colab.output.renderOutput(dataTable, element);\n",
              "          const docLink = document.createElement('div');\n",
              "          docLink.innerHTML = docLinkHtml;\n",
              "          element.appendChild(docLink);\n",
              "        }\n",
              "      </script>\n",
              "    </div>\n",
              "  </div>\n",
              "  "
            ]
          },
          "metadata": {},
          "execution_count": 195
        }
      ],
      "source": [
        "df_janeiro_media"
      ]
    },
    {
      "cell_type": "code",
      "execution_count": 196,
      "metadata": {
        "id": "SWTsxYOKQDxV"
      },
      "outputs": [],
      "source": [
        "\n",
        "df_janeiro_media = df_janeiro_media.reset_index()"
      ]
    },
    {
      "cell_type": "code",
      "execution_count": 197,
      "metadata": {
        "id": "_tppuC9nQTCs"
      },
      "outputs": [],
      "source": [
        "df_janeiro_media\n",
        "df_janeiro_media=df_janeiro_media.reindex([3,6,1,2,4,5,0])"
      ]
    },
    {
      "cell_type": "code",
      "execution_count": 198,
      "metadata": {
        "id": "AT1FzZGO08Mo"
      },
      "outputs": [],
      "source": [
        "df_fevereiro_media = dias_semana[31:]"
      ]
    },
    {
      "cell_type": "code",
      "execution_count": 199,
      "metadata": {
        "id": "J9qehPcV1Get"
      },
      "outputs": [],
      "source": [
        "df_fevereiro_media\n",
        "df_fevereiro_agrupado = df_fevereiro_media.groupby(\"Dia\").mean()"
      ]
    },
    {
      "cell_type": "code",
      "execution_count": 200,
      "metadata": {
        "id": "YjSw2M8a1etu"
      },
      "outputs": [],
      "source": [
        "df_fevereiro_agrupado = df_fevereiro_agrupado.reset_index()"
      ]
    },
    {
      "cell_type": "code",
      "execution_count": 201,
      "metadata": {
        "id": "p3qxK3sm1qNB"
      },
      "outputs": [],
      "source": [
        "df_fevereiro_agrupado=df_fevereiro_agrupado.reindex([3,6,1,2,4,5,0])"
      ]
    },
    {
      "cell_type": "code",
      "execution_count": 202,
      "metadata": {
        "id": "R3pt1vW52QTh",
        "colab": {
          "base_uri": "https://localhost:8080/",
          "height": 269
        },
        "outputId": "c426f6f9-a72c-4866-8209-93cf78010611"
      },
      "outputs": [
        {
          "output_type": "execute_result",
          "data": {
            "text/plain": [
              "       Dia          ID  ID Passageiro  Quantidade  Final de semana\n",
              "3  Segunda  1164123.00       42377.75   537763.75             0.00\n",
              "6    Terça  1183522.00       43162.00   594208.75             0.00\n",
              "1   Quarta  1182483.50       43509.75   599745.25             0.00\n",
              "2   Quinta  1172501.50       42989.75   596408.50             0.00\n",
              "4    Sexta  1184818.00       43118.50   574071.50             0.00\n",
              "5   Sábado  1007362.25       35257.25   321603.00          2569.25\n",
              "0  Domingo   888758.75       32994.75   163128.25          2325.00"
            ],
            "text/html": [
              "\n",
              "  <div id=\"df-672d8114-df7d-4bee-b5c5-2bce10bbc834\">\n",
              "    <div class=\"colab-df-container\">\n",
              "      <div>\n",
              "<style scoped>\n",
              "    .dataframe tbody tr th:only-of-type {\n",
              "        vertical-align: middle;\n",
              "    }\n",
              "\n",
              "    .dataframe tbody tr th {\n",
              "        vertical-align: top;\n",
              "    }\n",
              "\n",
              "    .dataframe thead th {\n",
              "        text-align: right;\n",
              "    }\n",
              "</style>\n",
              "<table border=\"1\" class=\"dataframe\">\n",
              "  <thead>\n",
              "    <tr style=\"text-align: right;\">\n",
              "      <th></th>\n",
              "      <th>Dia</th>\n",
              "      <th>ID</th>\n",
              "      <th>ID Passageiro</th>\n",
              "      <th>Quantidade</th>\n",
              "      <th>Final de semana</th>\n",
              "    </tr>\n",
              "  </thead>\n",
              "  <tbody>\n",
              "    <tr>\n",
              "      <th>3</th>\n",
              "      <td>Segunda</td>\n",
              "      <td>1164123.00</td>\n",
              "      <td>42377.75</td>\n",
              "      <td>537763.75</td>\n",
              "      <td>0.00</td>\n",
              "    </tr>\n",
              "    <tr>\n",
              "      <th>6</th>\n",
              "      <td>Terça</td>\n",
              "      <td>1183522.00</td>\n",
              "      <td>43162.00</td>\n",
              "      <td>594208.75</td>\n",
              "      <td>0.00</td>\n",
              "    </tr>\n",
              "    <tr>\n",
              "      <th>1</th>\n",
              "      <td>Quarta</td>\n",
              "      <td>1182483.50</td>\n",
              "      <td>43509.75</td>\n",
              "      <td>599745.25</td>\n",
              "      <td>0.00</td>\n",
              "    </tr>\n",
              "    <tr>\n",
              "      <th>2</th>\n",
              "      <td>Quinta</td>\n",
              "      <td>1172501.50</td>\n",
              "      <td>42989.75</td>\n",
              "      <td>596408.50</td>\n",
              "      <td>0.00</td>\n",
              "    </tr>\n",
              "    <tr>\n",
              "      <th>4</th>\n",
              "      <td>Sexta</td>\n",
              "      <td>1184818.00</td>\n",
              "      <td>43118.50</td>\n",
              "      <td>574071.50</td>\n",
              "      <td>0.00</td>\n",
              "    </tr>\n",
              "    <tr>\n",
              "      <th>5</th>\n",
              "      <td>Sábado</td>\n",
              "      <td>1007362.25</td>\n",
              "      <td>35257.25</td>\n",
              "      <td>321603.00</td>\n",
              "      <td>2569.25</td>\n",
              "    </tr>\n",
              "    <tr>\n",
              "      <th>0</th>\n",
              "      <td>Domingo</td>\n",
              "      <td>888758.75</td>\n",
              "      <td>32994.75</td>\n",
              "      <td>163128.25</td>\n",
              "      <td>2325.00</td>\n",
              "    </tr>\n",
              "  </tbody>\n",
              "</table>\n",
              "</div>\n",
              "      <button class=\"colab-df-convert\" onclick=\"convertToInteractive('df-672d8114-df7d-4bee-b5c5-2bce10bbc834')\"\n",
              "              title=\"Convert this dataframe to an interactive table.\"\n",
              "              style=\"display:none;\">\n",
              "        \n",
              "  <svg xmlns=\"http://www.w3.org/2000/svg\" height=\"24px\"viewBox=\"0 0 24 24\"\n",
              "       width=\"24px\">\n",
              "    <path d=\"M0 0h24v24H0V0z\" fill=\"none\"/>\n",
              "    <path d=\"M18.56 5.44l.94 2.06.94-2.06 2.06-.94-2.06-.94-.94-2.06-.94 2.06-2.06.94zm-11 1L8.5 8.5l.94-2.06 2.06-.94-2.06-.94L8.5 2.5l-.94 2.06-2.06.94zm10 10l.94 2.06.94-2.06 2.06-.94-2.06-.94-.94-2.06-.94 2.06-2.06.94z\"/><path d=\"M17.41 7.96l-1.37-1.37c-.4-.4-.92-.59-1.43-.59-.52 0-1.04.2-1.43.59L10.3 9.45l-7.72 7.72c-.78.78-.78 2.05 0 2.83L4 21.41c.39.39.9.59 1.41.59.51 0 1.02-.2 1.41-.59l7.78-7.78 2.81-2.81c.8-.78.8-2.07 0-2.86zM5.41 20L4 18.59l7.72-7.72 1.47 1.35L5.41 20z\"/>\n",
              "  </svg>\n",
              "      </button>\n",
              "      \n",
              "  <style>\n",
              "    .colab-df-container {\n",
              "      display:flex;\n",
              "      flex-wrap:wrap;\n",
              "      gap: 12px;\n",
              "    }\n",
              "\n",
              "    .colab-df-convert {\n",
              "      background-color: #E8F0FE;\n",
              "      border: none;\n",
              "      border-radius: 50%;\n",
              "      cursor: pointer;\n",
              "      display: none;\n",
              "      fill: #1967D2;\n",
              "      height: 32px;\n",
              "      padding: 0 0 0 0;\n",
              "      width: 32px;\n",
              "    }\n",
              "\n",
              "    .colab-df-convert:hover {\n",
              "      background-color: #E2EBFA;\n",
              "      box-shadow: 0px 1px 2px rgba(60, 64, 67, 0.3), 0px 1px 3px 1px rgba(60, 64, 67, 0.15);\n",
              "      fill: #174EA6;\n",
              "    }\n",
              "\n",
              "    [theme=dark] .colab-df-convert {\n",
              "      background-color: #3B4455;\n",
              "      fill: #D2E3FC;\n",
              "    }\n",
              "\n",
              "    [theme=dark] .colab-df-convert:hover {\n",
              "      background-color: #434B5C;\n",
              "      box-shadow: 0px 1px 3px 1px rgba(0, 0, 0, 0.15);\n",
              "      filter: drop-shadow(0px 1px 2px rgba(0, 0, 0, 0.3));\n",
              "      fill: #FFFFFF;\n",
              "    }\n",
              "  </style>\n",
              "\n",
              "      <script>\n",
              "        const buttonEl =\n",
              "          document.querySelector('#df-672d8114-df7d-4bee-b5c5-2bce10bbc834 button.colab-df-convert');\n",
              "        buttonEl.style.display =\n",
              "          google.colab.kernel.accessAllowed ? 'block' : 'none';\n",
              "\n",
              "        async function convertToInteractive(key) {\n",
              "          const element = document.querySelector('#df-672d8114-df7d-4bee-b5c5-2bce10bbc834');\n",
              "          const dataTable =\n",
              "            await google.colab.kernel.invokeFunction('convertToInteractive',\n",
              "                                                     [key], {});\n",
              "          if (!dataTable) return;\n",
              "\n",
              "          const docLinkHtml = 'Like what you see? Visit the ' +\n",
              "            '<a target=\"_blank\" href=https://colab.research.google.com/notebooks/data_table.ipynb>data table notebook</a>'\n",
              "            + ' to learn more about interactive tables.';\n",
              "          element.innerHTML = '';\n",
              "          dataTable['output_type'] = 'display_data';\n",
              "          await google.colab.output.renderOutput(dataTable, element);\n",
              "          const docLink = document.createElement('div');\n",
              "          docLink.innerHTML = docLinkHtml;\n",
              "          element.appendChild(docLink);\n",
              "        }\n",
              "      </script>\n",
              "    </div>\n",
              "  </div>\n",
              "  "
            ]
          },
          "metadata": {},
          "execution_count": 202
        }
      ],
      "source": [
        "df_fevereiro_agrupado"
      ]
    },
    {
      "cell_type": "markdown",
      "metadata": {
        "id": "SDUHtcLLHDuE"
      },
      "source": [
        "### Tirando os dois outliers"
      ]
    },
    {
      "cell_type": "code",
      "execution_count": 203,
      "metadata": {
        "id": "b3VF0r1YHGFo"
      },
      "outputs": [],
      "source": [
        "dias_semana2 = dias_semana.copy()"
      ]
    },
    {
      "cell_type": "code",
      "execution_count": 204,
      "metadata": {
        "id": "CqyUkbrvHRaS"
      },
      "outputs": [],
      "source": [
        "dias_semana2.drop(0,inplace=True)"
      ]
    },
    {
      "cell_type": "code",
      "execution_count": 205,
      "metadata": {
        "id": "Xp1mkKtmHhc9"
      },
      "outputs": [],
      "source": [
        "dias_semana2.drop(58,inplace=True)"
      ]
    },
    {
      "cell_type": "code",
      "execution_count": 206,
      "metadata": {
        "id": "aYUM7zD8H4OX"
      },
      "outputs": [],
      "source": [
        "df_semanal2 = dias_semana2.groupby(\"Dia\").mean()"
      ]
    },
    {
      "cell_type": "code",
      "execution_count": 207,
      "metadata": {
        "id": "_6CxJ3KGH4OY"
      },
      "outputs": [],
      "source": [
        "df_semanal2 = df_semanal2.reset_index()"
      ]
    },
    {
      "cell_type": "code",
      "execution_count": 208,
      "metadata": {
        "id": "Yu2hfuiDH4OY"
      },
      "outputs": [],
      "source": [
        "df_semanal2 = df_semanal2.reindex([3,6,1,2,4,5,0])"
      ]
    },
    {
      "cell_type": "code",
      "execution_count": 209,
      "metadata": {
        "id": "FCyymKXlH4OZ",
        "colab": {
          "base_uri": "https://localhost:8080/",
          "height": 269
        },
        "outputId": "ca6c1f31-3b87-4f80-bd38-1675a79a15ff"
      },
      "outputs": [
        {
          "output_type": "execute_result",
          "data": {
            "text/plain": [
              "       Dia           ID  ID Passageiro     Quantidade  Final de semana\n",
              "3  Segunda  1165701.125   42439.750000  537662.000000         0.000000\n",
              "6    Terça  1164311.000   42274.750000  542024.000000         0.000000\n",
              "1   Quarta  1163073.000   42378.125000  549583.500000         0.000000\n",
              "2   Quinta  1158803.250   42107.250000  548801.500000         0.000000\n",
              "4    Sexta  1167205.250   42252.625000  534491.375000         0.000000\n",
              "5   Sábado  1000818.125   34781.875000  310654.875000      2547.750000\n",
              "0  Domingo   870737.000   32408.111111  155025.555556      2289.777778"
            ],
            "text/html": [
              "\n",
              "  <div id=\"df-138ff7ec-ea86-40fe-a10e-7a6840d2cf21\">\n",
              "    <div class=\"colab-df-container\">\n",
              "      <div>\n",
              "<style scoped>\n",
              "    .dataframe tbody tr th:only-of-type {\n",
              "        vertical-align: middle;\n",
              "    }\n",
              "\n",
              "    .dataframe tbody tr th {\n",
              "        vertical-align: top;\n",
              "    }\n",
              "\n",
              "    .dataframe thead th {\n",
              "        text-align: right;\n",
              "    }\n",
              "</style>\n",
              "<table border=\"1\" class=\"dataframe\">\n",
              "  <thead>\n",
              "    <tr style=\"text-align: right;\">\n",
              "      <th></th>\n",
              "      <th>Dia</th>\n",
              "      <th>ID</th>\n",
              "      <th>ID Passageiro</th>\n",
              "      <th>Quantidade</th>\n",
              "      <th>Final de semana</th>\n",
              "    </tr>\n",
              "  </thead>\n",
              "  <tbody>\n",
              "    <tr>\n",
              "      <th>3</th>\n",
              "      <td>Segunda</td>\n",
              "      <td>1165701.125</td>\n",
              "      <td>42439.750000</td>\n",
              "      <td>537662.000000</td>\n",
              "      <td>0.000000</td>\n",
              "    </tr>\n",
              "    <tr>\n",
              "      <th>6</th>\n",
              "      <td>Terça</td>\n",
              "      <td>1164311.000</td>\n",
              "      <td>42274.750000</td>\n",
              "      <td>542024.000000</td>\n",
              "      <td>0.000000</td>\n",
              "    </tr>\n",
              "    <tr>\n",
              "      <th>1</th>\n",
              "      <td>Quarta</td>\n",
              "      <td>1163073.000</td>\n",
              "      <td>42378.125000</td>\n",
              "      <td>549583.500000</td>\n",
              "      <td>0.000000</td>\n",
              "    </tr>\n",
              "    <tr>\n",
              "      <th>2</th>\n",
              "      <td>Quinta</td>\n",
              "      <td>1158803.250</td>\n",
              "      <td>42107.250000</td>\n",
              "      <td>548801.500000</td>\n",
              "      <td>0.000000</td>\n",
              "    </tr>\n",
              "    <tr>\n",
              "      <th>4</th>\n",
              "      <td>Sexta</td>\n",
              "      <td>1167205.250</td>\n",
              "      <td>42252.625000</td>\n",
              "      <td>534491.375000</td>\n",
              "      <td>0.000000</td>\n",
              "    </tr>\n",
              "    <tr>\n",
              "      <th>5</th>\n",
              "      <td>Sábado</td>\n",
              "      <td>1000818.125</td>\n",
              "      <td>34781.875000</td>\n",
              "      <td>310654.875000</td>\n",
              "      <td>2547.750000</td>\n",
              "    </tr>\n",
              "    <tr>\n",
              "      <th>0</th>\n",
              "      <td>Domingo</td>\n",
              "      <td>870737.000</td>\n",
              "      <td>32408.111111</td>\n",
              "      <td>155025.555556</td>\n",
              "      <td>2289.777778</td>\n",
              "    </tr>\n",
              "  </tbody>\n",
              "</table>\n",
              "</div>\n",
              "      <button class=\"colab-df-convert\" onclick=\"convertToInteractive('df-138ff7ec-ea86-40fe-a10e-7a6840d2cf21')\"\n",
              "              title=\"Convert this dataframe to an interactive table.\"\n",
              "              style=\"display:none;\">\n",
              "        \n",
              "  <svg xmlns=\"http://www.w3.org/2000/svg\" height=\"24px\"viewBox=\"0 0 24 24\"\n",
              "       width=\"24px\">\n",
              "    <path d=\"M0 0h24v24H0V0z\" fill=\"none\"/>\n",
              "    <path d=\"M18.56 5.44l.94 2.06.94-2.06 2.06-.94-2.06-.94-.94-2.06-.94 2.06-2.06.94zm-11 1L8.5 8.5l.94-2.06 2.06-.94-2.06-.94L8.5 2.5l-.94 2.06-2.06.94zm10 10l.94 2.06.94-2.06 2.06-.94-2.06-.94-.94-2.06-.94 2.06-2.06.94z\"/><path d=\"M17.41 7.96l-1.37-1.37c-.4-.4-.92-.59-1.43-.59-.52 0-1.04.2-1.43.59L10.3 9.45l-7.72 7.72c-.78.78-.78 2.05 0 2.83L4 21.41c.39.39.9.59 1.41.59.51 0 1.02-.2 1.41-.59l7.78-7.78 2.81-2.81c.8-.78.8-2.07 0-2.86zM5.41 20L4 18.59l7.72-7.72 1.47 1.35L5.41 20z\"/>\n",
              "  </svg>\n",
              "      </button>\n",
              "      \n",
              "  <style>\n",
              "    .colab-df-container {\n",
              "      display:flex;\n",
              "      flex-wrap:wrap;\n",
              "      gap: 12px;\n",
              "    }\n",
              "\n",
              "    .colab-df-convert {\n",
              "      background-color: #E8F0FE;\n",
              "      border: none;\n",
              "      border-radius: 50%;\n",
              "      cursor: pointer;\n",
              "      display: none;\n",
              "      fill: #1967D2;\n",
              "      height: 32px;\n",
              "      padding: 0 0 0 0;\n",
              "      width: 32px;\n",
              "    }\n",
              "\n",
              "    .colab-df-convert:hover {\n",
              "      background-color: #E2EBFA;\n",
              "      box-shadow: 0px 1px 2px rgba(60, 64, 67, 0.3), 0px 1px 3px 1px rgba(60, 64, 67, 0.15);\n",
              "      fill: #174EA6;\n",
              "    }\n",
              "\n",
              "    [theme=dark] .colab-df-convert {\n",
              "      background-color: #3B4455;\n",
              "      fill: #D2E3FC;\n",
              "    }\n",
              "\n",
              "    [theme=dark] .colab-df-convert:hover {\n",
              "      background-color: #434B5C;\n",
              "      box-shadow: 0px 1px 3px 1px rgba(0, 0, 0, 0.15);\n",
              "      filter: drop-shadow(0px 1px 2px rgba(0, 0, 0, 0.3));\n",
              "      fill: #FFFFFF;\n",
              "    }\n",
              "  </style>\n",
              "\n",
              "      <script>\n",
              "        const buttonEl =\n",
              "          document.querySelector('#df-138ff7ec-ea86-40fe-a10e-7a6840d2cf21 button.colab-df-convert');\n",
              "        buttonEl.style.display =\n",
              "          google.colab.kernel.accessAllowed ? 'block' : 'none';\n",
              "\n",
              "        async function convertToInteractive(key) {\n",
              "          const element = document.querySelector('#df-138ff7ec-ea86-40fe-a10e-7a6840d2cf21');\n",
              "          const dataTable =\n",
              "            await google.colab.kernel.invokeFunction('convertToInteractive',\n",
              "                                                     [key], {});\n",
              "          if (!dataTable) return;\n",
              "\n",
              "          const docLinkHtml = 'Like what you see? Visit the ' +\n",
              "            '<a target=\"_blank\" href=https://colab.research.google.com/notebooks/data_table.ipynb>data table notebook</a>'\n",
              "            + ' to learn more about interactive tables.';\n",
              "          element.innerHTML = '';\n",
              "          dataTable['output_type'] = 'display_data';\n",
              "          await google.colab.output.renderOutput(dataTable, element);\n",
              "          const docLink = document.createElement('div');\n",
              "          docLink.innerHTML = docLinkHtml;\n",
              "          element.appendChild(docLink);\n",
              "        }\n",
              "      </script>\n",
              "    </div>\n",
              "  </div>\n",
              "  "
            ]
          },
          "metadata": {},
          "execution_count": 209
        }
      ],
      "source": [
        "df_semanal2"
      ]
    },
    {
      "cell_type": "code",
      "execution_count": 210,
      "metadata": {
        "id": "cAil8qMAH4OZ"
      },
      "outputs": [],
      "source": [
        "df_janeiro2 = dias_semana2[:31]"
      ]
    },
    {
      "cell_type": "code",
      "execution_count": 211,
      "metadata": {
        "id": "0DvdMeL0H4OZ"
      },
      "outputs": [],
      "source": [
        "df_janeiro_media2 = df_janeiro2.groupby(\"Dia\").mean()"
      ]
    },
    {
      "cell_type": "code",
      "execution_count": 212,
      "metadata": {
        "id": "h8pg_wT1H4Oa",
        "colab": {
          "base_uri": "https://localhost:8080/",
          "height": 300
        },
        "outputId": "875cb5ff-bb8c-4779-9bb3-1bf4256b5528"
      },
      "outputs": [
        {
          "output_type": "execute_result",
          "data": {
            "text/plain": [
              "                ID  ID Passageiro  Quantidade  Final de semana\n",
              "Dia                                                           \n",
              "Domingo   856319.6       31938.80   148543.40          2261.60\n",
              "Quarta   1143662.5       41246.50   499421.75             0.00\n",
              "Quinta   1145105.0       41224.75   501194.50             0.00\n",
              "Segunda  1156232.2       41908.80   504179.80             0.00\n",
              "Sexta    1149592.5       41386.75   494911.25             0.00\n",
              "Sábado    994274.0       34306.50   299706.75          2526.25\n",
              "Terça    1152542.8       41681.60   505322.20             0.00"
            ],
            "text/html": [
              "\n",
              "  <div id=\"df-c4293d5a-462d-4821-97f9-2c566b79af7b\">\n",
              "    <div class=\"colab-df-container\">\n",
              "      <div>\n",
              "<style scoped>\n",
              "    .dataframe tbody tr th:only-of-type {\n",
              "        vertical-align: middle;\n",
              "    }\n",
              "\n",
              "    .dataframe tbody tr th {\n",
              "        vertical-align: top;\n",
              "    }\n",
              "\n",
              "    .dataframe thead th {\n",
              "        text-align: right;\n",
              "    }\n",
              "</style>\n",
              "<table border=\"1\" class=\"dataframe\">\n",
              "  <thead>\n",
              "    <tr style=\"text-align: right;\">\n",
              "      <th></th>\n",
              "      <th>ID</th>\n",
              "      <th>ID Passageiro</th>\n",
              "      <th>Quantidade</th>\n",
              "      <th>Final de semana</th>\n",
              "    </tr>\n",
              "    <tr>\n",
              "      <th>Dia</th>\n",
              "      <th></th>\n",
              "      <th></th>\n",
              "      <th></th>\n",
              "      <th></th>\n",
              "    </tr>\n",
              "  </thead>\n",
              "  <tbody>\n",
              "    <tr>\n",
              "      <th>Domingo</th>\n",
              "      <td>856319.6</td>\n",
              "      <td>31938.80</td>\n",
              "      <td>148543.40</td>\n",
              "      <td>2261.60</td>\n",
              "    </tr>\n",
              "    <tr>\n",
              "      <th>Quarta</th>\n",
              "      <td>1143662.5</td>\n",
              "      <td>41246.50</td>\n",
              "      <td>499421.75</td>\n",
              "      <td>0.00</td>\n",
              "    </tr>\n",
              "    <tr>\n",
              "      <th>Quinta</th>\n",
              "      <td>1145105.0</td>\n",
              "      <td>41224.75</td>\n",
              "      <td>501194.50</td>\n",
              "      <td>0.00</td>\n",
              "    </tr>\n",
              "    <tr>\n",
              "      <th>Segunda</th>\n",
              "      <td>1156232.2</td>\n",
              "      <td>41908.80</td>\n",
              "      <td>504179.80</td>\n",
              "      <td>0.00</td>\n",
              "    </tr>\n",
              "    <tr>\n",
              "      <th>Sexta</th>\n",
              "      <td>1149592.5</td>\n",
              "      <td>41386.75</td>\n",
              "      <td>494911.25</td>\n",
              "      <td>0.00</td>\n",
              "    </tr>\n",
              "    <tr>\n",
              "      <th>Sábado</th>\n",
              "      <td>994274.0</td>\n",
              "      <td>34306.50</td>\n",
              "      <td>299706.75</td>\n",
              "      <td>2526.25</td>\n",
              "    </tr>\n",
              "    <tr>\n",
              "      <th>Terça</th>\n",
              "      <td>1152542.8</td>\n",
              "      <td>41681.60</td>\n",
              "      <td>505322.20</td>\n",
              "      <td>0.00</td>\n",
              "    </tr>\n",
              "  </tbody>\n",
              "</table>\n",
              "</div>\n",
              "      <button class=\"colab-df-convert\" onclick=\"convertToInteractive('df-c4293d5a-462d-4821-97f9-2c566b79af7b')\"\n",
              "              title=\"Convert this dataframe to an interactive table.\"\n",
              "              style=\"display:none;\">\n",
              "        \n",
              "  <svg xmlns=\"http://www.w3.org/2000/svg\" height=\"24px\"viewBox=\"0 0 24 24\"\n",
              "       width=\"24px\">\n",
              "    <path d=\"M0 0h24v24H0V0z\" fill=\"none\"/>\n",
              "    <path d=\"M18.56 5.44l.94 2.06.94-2.06 2.06-.94-2.06-.94-.94-2.06-.94 2.06-2.06.94zm-11 1L8.5 8.5l.94-2.06 2.06-.94-2.06-.94L8.5 2.5l-.94 2.06-2.06.94zm10 10l.94 2.06.94-2.06 2.06-.94-2.06-.94-.94-2.06-.94 2.06-2.06.94z\"/><path d=\"M17.41 7.96l-1.37-1.37c-.4-.4-.92-.59-1.43-.59-.52 0-1.04.2-1.43.59L10.3 9.45l-7.72 7.72c-.78.78-.78 2.05 0 2.83L4 21.41c.39.39.9.59 1.41.59.51 0 1.02-.2 1.41-.59l7.78-7.78 2.81-2.81c.8-.78.8-2.07 0-2.86zM5.41 20L4 18.59l7.72-7.72 1.47 1.35L5.41 20z\"/>\n",
              "  </svg>\n",
              "      </button>\n",
              "      \n",
              "  <style>\n",
              "    .colab-df-container {\n",
              "      display:flex;\n",
              "      flex-wrap:wrap;\n",
              "      gap: 12px;\n",
              "    }\n",
              "\n",
              "    .colab-df-convert {\n",
              "      background-color: #E8F0FE;\n",
              "      border: none;\n",
              "      border-radius: 50%;\n",
              "      cursor: pointer;\n",
              "      display: none;\n",
              "      fill: #1967D2;\n",
              "      height: 32px;\n",
              "      padding: 0 0 0 0;\n",
              "      width: 32px;\n",
              "    }\n",
              "\n",
              "    .colab-df-convert:hover {\n",
              "      background-color: #E2EBFA;\n",
              "      box-shadow: 0px 1px 2px rgba(60, 64, 67, 0.3), 0px 1px 3px 1px rgba(60, 64, 67, 0.15);\n",
              "      fill: #174EA6;\n",
              "    }\n",
              "\n",
              "    [theme=dark] .colab-df-convert {\n",
              "      background-color: #3B4455;\n",
              "      fill: #D2E3FC;\n",
              "    }\n",
              "\n",
              "    [theme=dark] .colab-df-convert:hover {\n",
              "      background-color: #434B5C;\n",
              "      box-shadow: 0px 1px 3px 1px rgba(0, 0, 0, 0.15);\n",
              "      filter: drop-shadow(0px 1px 2px rgba(0, 0, 0, 0.3));\n",
              "      fill: #FFFFFF;\n",
              "    }\n",
              "  </style>\n",
              "\n",
              "      <script>\n",
              "        const buttonEl =\n",
              "          document.querySelector('#df-c4293d5a-462d-4821-97f9-2c566b79af7b button.colab-df-convert');\n",
              "        buttonEl.style.display =\n",
              "          google.colab.kernel.accessAllowed ? 'block' : 'none';\n",
              "\n",
              "        async function convertToInteractive(key) {\n",
              "          const element = document.querySelector('#df-c4293d5a-462d-4821-97f9-2c566b79af7b');\n",
              "          const dataTable =\n",
              "            await google.colab.kernel.invokeFunction('convertToInteractive',\n",
              "                                                     [key], {});\n",
              "          if (!dataTable) return;\n",
              "\n",
              "          const docLinkHtml = 'Like what you see? Visit the ' +\n",
              "            '<a target=\"_blank\" href=https://colab.research.google.com/notebooks/data_table.ipynb>data table notebook</a>'\n",
              "            + ' to learn more about interactive tables.';\n",
              "          element.innerHTML = '';\n",
              "          dataTable['output_type'] = 'display_data';\n",
              "          await google.colab.output.renderOutput(dataTable, element);\n",
              "          const docLink = document.createElement('div');\n",
              "          docLink.innerHTML = docLinkHtml;\n",
              "          element.appendChild(docLink);\n",
              "        }\n",
              "      </script>\n",
              "    </div>\n",
              "  </div>\n",
              "  "
            ]
          },
          "metadata": {},
          "execution_count": 212
        }
      ],
      "source": [
        "df_janeiro_media2"
      ]
    },
    {
      "cell_type": "code",
      "execution_count": 213,
      "metadata": {
        "id": "Hjz7CmlHH4Oa"
      },
      "outputs": [],
      "source": [
        "\n",
        "df_janeiro_media2 = df_janeiro_media2.reset_index()"
      ]
    },
    {
      "cell_type": "code",
      "execution_count": 214,
      "metadata": {
        "id": "CjDeYOUSH4Oc"
      },
      "outputs": [],
      "source": [
        "df_janeiro_media2\n",
        "df_janeiro_media2=df_janeiro_media2.reindex([3,6,1,2,4,5,0])"
      ]
    },
    {
      "cell_type": "code",
      "execution_count": 215,
      "metadata": {
        "id": "qSJmyB51H4Oc"
      },
      "outputs": [],
      "source": [
        "df_fevereiro_media2 = dias_semana2[31:]"
      ]
    },
    {
      "cell_type": "code",
      "execution_count": 216,
      "metadata": {
        "id": "jZd2k8yYH4Oc"
      },
      "outputs": [],
      "source": [
        "df_fevereiro_media2\n",
        "df_fevereiro_agrupado2 = df_fevereiro_media2.groupby(\"Dia\").mean()"
      ]
    },
    {
      "cell_type": "code",
      "execution_count": 217,
      "metadata": {
        "id": "9J6InQ73H4Od"
      },
      "outputs": [],
      "source": [
        "df_fevereiro_agrupado2 = df_fevereiro_agrupado2.reset_index()"
      ]
    },
    {
      "cell_type": "code",
      "execution_count": 218,
      "metadata": {
        "id": "pB2NyHrKH4Od"
      },
      "outputs": [],
      "source": [
        "df_fevereiro_agrupado2=df_fevereiro_agrupado2.reindex([3,6,1,2,4,5,0])"
      ]
    },
    {
      "cell_type": "code",
      "execution_count": 219,
      "metadata": {
        "id": "px6KtYPbH4Od",
        "colab": {
          "base_uri": "https://localhost:8080/",
          "height": 269
        },
        "outputId": "06c68e9c-8535-4dd1-c32e-d549c9205604"
      },
      "outputs": [
        {
          "output_type": "execute_result",
          "data": {
            "text/plain": [
              "       Dia            ID  ID Passageiro     Quantidade  Final de semana\n",
              "3  Segunda  1.181483e+06   43324.666667  593465.666667             0.00\n",
              "6    Terça  1.183925e+06   43263.333333  603193.666667             0.00\n",
              "1   Quarta  1.182484e+06   43509.750000  599745.250000             0.00\n",
              "2   Quinta  1.172502e+06   42989.750000  596408.500000             0.00\n",
              "4    Sexta  1.184818e+06   43118.500000  574071.500000             0.00\n",
              "5   Sábado  1.007362e+06   35257.250000  321603.000000          2569.25\n",
              "0  Domingo  8.887588e+05   32994.750000  163128.250000          2325.00"
            ],
            "text/html": [
              "\n",
              "  <div id=\"df-015fe99f-6711-4c1a-ae96-56a2e90a3a97\">\n",
              "    <div class=\"colab-df-container\">\n",
              "      <div>\n",
              "<style scoped>\n",
              "    .dataframe tbody tr th:only-of-type {\n",
              "        vertical-align: middle;\n",
              "    }\n",
              "\n",
              "    .dataframe tbody tr th {\n",
              "        vertical-align: top;\n",
              "    }\n",
              "\n",
              "    .dataframe thead th {\n",
              "        text-align: right;\n",
              "    }\n",
              "</style>\n",
              "<table border=\"1\" class=\"dataframe\">\n",
              "  <thead>\n",
              "    <tr style=\"text-align: right;\">\n",
              "      <th></th>\n",
              "      <th>Dia</th>\n",
              "      <th>ID</th>\n",
              "      <th>ID Passageiro</th>\n",
              "      <th>Quantidade</th>\n",
              "      <th>Final de semana</th>\n",
              "    </tr>\n",
              "  </thead>\n",
              "  <tbody>\n",
              "    <tr>\n",
              "      <th>3</th>\n",
              "      <td>Segunda</td>\n",
              "      <td>1.181483e+06</td>\n",
              "      <td>43324.666667</td>\n",
              "      <td>593465.666667</td>\n",
              "      <td>0.00</td>\n",
              "    </tr>\n",
              "    <tr>\n",
              "      <th>6</th>\n",
              "      <td>Terça</td>\n",
              "      <td>1.183925e+06</td>\n",
              "      <td>43263.333333</td>\n",
              "      <td>603193.666667</td>\n",
              "      <td>0.00</td>\n",
              "    </tr>\n",
              "    <tr>\n",
              "      <th>1</th>\n",
              "      <td>Quarta</td>\n",
              "      <td>1.182484e+06</td>\n",
              "      <td>43509.750000</td>\n",
              "      <td>599745.250000</td>\n",
              "      <td>0.00</td>\n",
              "    </tr>\n",
              "    <tr>\n",
              "      <th>2</th>\n",
              "      <td>Quinta</td>\n",
              "      <td>1.172502e+06</td>\n",
              "      <td>42989.750000</td>\n",
              "      <td>596408.500000</td>\n",
              "      <td>0.00</td>\n",
              "    </tr>\n",
              "    <tr>\n",
              "      <th>4</th>\n",
              "      <td>Sexta</td>\n",
              "      <td>1.184818e+06</td>\n",
              "      <td>43118.500000</td>\n",
              "      <td>574071.500000</td>\n",
              "      <td>0.00</td>\n",
              "    </tr>\n",
              "    <tr>\n",
              "      <th>5</th>\n",
              "      <td>Sábado</td>\n",
              "      <td>1.007362e+06</td>\n",
              "      <td>35257.250000</td>\n",
              "      <td>321603.000000</td>\n",
              "      <td>2569.25</td>\n",
              "    </tr>\n",
              "    <tr>\n",
              "      <th>0</th>\n",
              "      <td>Domingo</td>\n",
              "      <td>8.887588e+05</td>\n",
              "      <td>32994.750000</td>\n",
              "      <td>163128.250000</td>\n",
              "      <td>2325.00</td>\n",
              "    </tr>\n",
              "  </tbody>\n",
              "</table>\n",
              "</div>\n",
              "      <button class=\"colab-df-convert\" onclick=\"convertToInteractive('df-015fe99f-6711-4c1a-ae96-56a2e90a3a97')\"\n",
              "              title=\"Convert this dataframe to an interactive table.\"\n",
              "              style=\"display:none;\">\n",
              "        \n",
              "  <svg xmlns=\"http://www.w3.org/2000/svg\" height=\"24px\"viewBox=\"0 0 24 24\"\n",
              "       width=\"24px\">\n",
              "    <path d=\"M0 0h24v24H0V0z\" fill=\"none\"/>\n",
              "    <path d=\"M18.56 5.44l.94 2.06.94-2.06 2.06-.94-2.06-.94-.94-2.06-.94 2.06-2.06.94zm-11 1L8.5 8.5l.94-2.06 2.06-.94-2.06-.94L8.5 2.5l-.94 2.06-2.06.94zm10 10l.94 2.06.94-2.06 2.06-.94-2.06-.94-.94-2.06-.94 2.06-2.06.94z\"/><path d=\"M17.41 7.96l-1.37-1.37c-.4-.4-.92-.59-1.43-.59-.52 0-1.04.2-1.43.59L10.3 9.45l-7.72 7.72c-.78.78-.78 2.05 0 2.83L4 21.41c.39.39.9.59 1.41.59.51 0 1.02-.2 1.41-.59l7.78-7.78 2.81-2.81c.8-.78.8-2.07 0-2.86zM5.41 20L4 18.59l7.72-7.72 1.47 1.35L5.41 20z\"/>\n",
              "  </svg>\n",
              "      </button>\n",
              "      \n",
              "  <style>\n",
              "    .colab-df-container {\n",
              "      display:flex;\n",
              "      flex-wrap:wrap;\n",
              "      gap: 12px;\n",
              "    }\n",
              "\n",
              "    .colab-df-convert {\n",
              "      background-color: #E8F0FE;\n",
              "      border: none;\n",
              "      border-radius: 50%;\n",
              "      cursor: pointer;\n",
              "      display: none;\n",
              "      fill: #1967D2;\n",
              "      height: 32px;\n",
              "      padding: 0 0 0 0;\n",
              "      width: 32px;\n",
              "    }\n",
              "\n",
              "    .colab-df-convert:hover {\n",
              "      background-color: #E2EBFA;\n",
              "      box-shadow: 0px 1px 2px rgba(60, 64, 67, 0.3), 0px 1px 3px 1px rgba(60, 64, 67, 0.15);\n",
              "      fill: #174EA6;\n",
              "    }\n",
              "\n",
              "    [theme=dark] .colab-df-convert {\n",
              "      background-color: #3B4455;\n",
              "      fill: #D2E3FC;\n",
              "    }\n",
              "\n",
              "    [theme=dark] .colab-df-convert:hover {\n",
              "      background-color: #434B5C;\n",
              "      box-shadow: 0px 1px 3px 1px rgba(0, 0, 0, 0.15);\n",
              "      filter: drop-shadow(0px 1px 2px rgba(0, 0, 0, 0.3));\n",
              "      fill: #FFFFFF;\n",
              "    }\n",
              "  </style>\n",
              "\n",
              "      <script>\n",
              "        const buttonEl =\n",
              "          document.querySelector('#df-015fe99f-6711-4c1a-ae96-56a2e90a3a97 button.colab-df-convert');\n",
              "        buttonEl.style.display =\n",
              "          google.colab.kernel.accessAllowed ? 'block' : 'none';\n",
              "\n",
              "        async function convertToInteractive(key) {\n",
              "          const element = document.querySelector('#df-015fe99f-6711-4c1a-ae96-56a2e90a3a97');\n",
              "          const dataTable =\n",
              "            await google.colab.kernel.invokeFunction('convertToInteractive',\n",
              "                                                     [key], {});\n",
              "          if (!dataTable) return;\n",
              "\n",
              "          const docLinkHtml = 'Like what you see? Visit the ' +\n",
              "            '<a target=\"_blank\" href=https://colab.research.google.com/notebooks/data_table.ipynb>data table notebook</a>'\n",
              "            + ' to learn more about interactive tables.';\n",
              "          element.innerHTML = '';\n",
              "          dataTable['output_type'] = 'display_data';\n",
              "          await google.colab.output.renderOutput(dataTable, element);\n",
              "          const docLink = document.createElement('div');\n",
              "          docLink.innerHTML = docLinkHtml;\n",
              "          element.appendChild(docLink);\n",
              "        }\n",
              "      </script>\n",
              "    </div>\n",
              "  </div>\n",
              "  "
            ]
          },
          "metadata": {},
          "execution_count": 219
        }
      ],
      "source": [
        "df_fevereiro_agrupado2"
      ]
    },
    {
      "cell_type": "markdown",
      "metadata": {
        "id": "TnmlvaTWH4Oe"
      },
      "source": [
        "### Tirando os dois outliers"
      ]
    },
    {
      "cell_type": "code",
      "execution_count": 220,
      "metadata": {
        "id": "Y4uAB-ExH4Oe"
      },
      "outputs": [],
      "source": [
        "dias_semana2 = dias_semana.copy()"
      ]
    },
    {
      "cell_type": "code",
      "execution_count": 227,
      "metadata": {
        "id": "YG0lcB-GMFEH",
        "colab": {
          "base_uri": "https://localhost:8080/",
          "height": 513
        },
        "outputId": "21637dc0-2e12-4004-a8d3-f7c8942e2897"
      },
      "outputs": [
        {
          "output_type": "display_data",
          "data": {
            "text/plain": [
              "<Figure size 864x576 with 1 Axes>"
            ],
            "image/png": "[encoded data removed]"
          },
          "metadata": {
            "needs_background": "light"
          }
        }
      ],
      "source": [
        "x_semanal = list(df_semanal[\"Dia\"])\n",
        "y_semanal = df_semanal[\"Quantidade\"]\n",
        "\n",
        "x_janeiro = list(df_janeiro_media[\"Dia\"])\n",
        "y_janeiro = df_janeiro_media[\"Quantidade\"]\n",
        "\n",
        "x_fevereiro = list(df_fevereiro_agrupado[\"Dia\"])\n",
        "y_fevereiro = df_fevereiro_agrupado[\"Quantidade\"]\n",
        "\n",
        "\n",
        "X_axis = np.arange(len(x_semanal))\n",
        "\n",
        "plt.figure(figsize=(12, 8)) \n",
        "\n",
        "plt.bar(X_axis -0.2,y_janeiro,0.25,color=\"black\", label = \"Janeiro\")\n",
        "plt.bar(X_axis +0.05,y_fevereiro,0.25,color=\"blue\", label = \"Fevereiro\")\n",
        "plt.bar(X_axis +0.3,y_semanal,0.25,color=\"pink\",label=\"Médial geral\")\n",
        "\n",
        "\n",
        "plt.xticks(X_axis,x_semanal)\n",
        "\n",
        "plt.xlabel(\"Dias\", fontweight=20)\n",
        "plt.ylabel(\"Número de passageiros\")\n",
        "plt.title(\"Distribuição de passageiros por dia da semana (sem outliers)\")\n",
        "plt.legend()\n",
        "plt.savefig(\"media_dias_.png\", format=\"png\", bbox_inches='tight')"
      ]
    },
    {
      "cell_type": "code",
      "execution_count": 229,
      "metadata": {
        "id": "pa07KiskJToc",
        "colab": {
          "base_uri": "https://localhost:8080/",
          "height": 513
        },
        "outputId": "3f7c8c96-2484-4a4a-c891-47b5cbef60ce"
      },
      "outputs": [
        {
          "output_type": "display_data",
          "data": {
            "text/plain": [
              "<Figure size 864x576 with 1 Axes>"
            ],
            "image/png": "[encoded data removed]"
          },
          "metadata": {
            "needs_background": "light"
          }
        }
      ],
      "source": [
        "### gráfico sem outliers - a fazer\n",
        "x2_semanal= list(df_semanal2[\"Dia\"])\n",
        "y2_semanal = df_semanal2[\"Quantidade\"]\n",
        "\n",
        "x2_janeiro = list(df_janeiro_media2[\"Dia\"])\n",
        "y2_janeiro = df_janeiro_media2[\"Quantidade\"]\n",
        "\n",
        "x2_fevereiro = list(df_fevereiro_agrupado2[\"Dia\"])\n",
        "y2_fevereiro = df_fevereiro_agrupado2[\"Quantidade\"]\n",
        "\n",
        "X_axis = np.arange(len(x2_semanal))\n",
        "\n",
        "plt.figure(figsize=(12, 8)) \n",
        "\n",
        "plt.bar(X_axis -0.2,y2_janeiro,0.25,color=\"black\", label = \"Janeiro\")\n",
        "plt.bar(X_axis +0.05,y2_fevereiro,0.25,color=\"blue\", label = \"Fevereiro\")\n",
        "plt.bar(X_axis +0.3,y2_semanal,0.25,color=\"pink\",label=\"Médial geral\")\n",
        "\n",
        "\n",
        "plt.xticks(X_axis,x2_semanal)\n",
        "\n",
        "plt.xlabel(\"Dias\", fontweight=20)\n",
        "plt.ylabel(\"Número de passageiros\")\n",
        "plt.title(\"Distribuição de passageiros por dia da semana(sem outliers)\")\n",
        "plt.legend()\n",
        "plt.savefig(\"media_dias2.png\", format=\"png\", bbox_inches='tight')"
      ]
    },
    {
      "cell_type": "markdown",
      "metadata": {
        "id": "jEbxLQBxgtDs"
      },
      "source": [
        "# Relação passageiros/chuvas"
      ]
    },
    {
      "cell_type": "code",
      "execution_count": 223,
      "metadata": {
        "id": "3qzkwnTHgwvY",
        "colab": {
          "base_uri": "https://localhost:8080/",
          "height": 328
        },
        "outputId": "02089c07-9c36-4626-d36f-d13b206dc9e6"
      },
      "outputs": [
        {
          "output_type": "error",
          "ename": "FileNotFoundError",
          "evalue": "ignored",
          "traceback": [
            "\u001b[0;31m---------------------------------------------------------------------------\u001b[0m",
            "\u001b[0;31mFileNotFoundError\u001b[0m                         Traceback (most recent call last)",
            "\u001b[0;32m<ipython-input-223-027e44924fc3>\u001b[0m in \u001b[0;36m<module>\u001b[0;34m\u001b[0m\n\u001b[0;32m----> 1\u001b[0;31m \u001b[0mchuvas\u001b[0m \u001b[0;34m=\u001b[0m \u001b[0mpd\u001b[0m\u001b[0;34m.\u001b[0m\u001b[0mread_csv\u001b[0m\u001b[0;34m(\u001b[0m\u001b[0;34m\"./chuvas_fortaleza.csv\"\u001b[0m\u001b[0;34m)\u001b[0m\u001b[0;34m\u001b[0m\u001b[0;34m\u001b[0m\u001b[0m\n\u001b[0m",
            "\u001b[0;32m/usr/local/lib/python3.7/dist-packages/pandas/util/_decorators.py\u001b[0m in \u001b[0;36mwrapper\u001b[0;34m(*args, **kwargs)\u001b[0m\n\u001b[1;32m    309\u001b[0m                     \u001b[0mstacklevel\u001b[0m\u001b[0;34m=\u001b[0m\u001b[0mstacklevel\u001b[0m\u001b[0;34m,\u001b[0m\u001b[0;34m\u001b[0m\u001b[0;34m\u001b[0m\u001b[0m\n\u001b[1;32m    310\u001b[0m                 )\n\u001b[0;32m--> 311\u001b[0;31m             \u001b[0;32mreturn\u001b[0m \u001b[0mfunc\u001b[0m\u001b[0;34m(\u001b[0m\u001b[0;34m*\u001b[0m\u001b[0margs\u001b[0m\u001b[0;34m,\u001b[0m \u001b[0;34m**\u001b[0m\u001b[0mkwargs\u001b[0m\u001b[0;34m)\u001b[0m\u001b[0;34m\u001b[0m\u001b[0;34m\u001b[0m\u001b[0m\n\u001b[0m\u001b[1;32m    312\u001b[0m \u001b[0;34m\u001b[0m\u001b[0m\n\u001b[1;32m    313\u001b[0m         \u001b[0;32mreturn\u001b[0m \u001b[0mwrapper\u001b[0m\u001b[0;34m\u001b[0m\u001b[0;34m\u001b[0m\u001b[0m\n",
            "\u001b[0;32m/usr/local/lib/python3.7/dist-packages/pandas/io/parsers/readers.py\u001b[0m in \u001b[0;36mread_csv\u001b[0;34m(filepath_or_buffer, sep, delimiter, header, names, index_col, usecols, squeeze, prefix, mangle_dupe_cols, dtype, engine, converters, true_values, false_values, skipinitialspace, skiprows, skipfooter, nrows, na_values, keep_default_na, na_filter, verbose, skip_blank_lines, parse_dates, infer_datetime_format, keep_date_col, date_parser, dayfirst, cache_dates, iterator, chunksize, compression, thousands, decimal, lineterminator, quotechar, quoting, doublequote, escapechar, comment, encoding, encoding_errors, dialect, error_bad_lines, warn_bad_lines, on_bad_lines, delim_whitespace, low_memory, memory_map, float_precision, storage_options)\u001b[0m\n\u001b[1;32m    584\u001b[0m     \u001b[0mkwds\u001b[0m\u001b[0;34m.\u001b[0m\u001b[0mupdate\u001b[0m\u001b[0;34m(\u001b[0m\u001b[0mkwds_defaults\u001b[0m\u001b[0;34m)\u001b[0m\u001b[0;34m\u001b[0m\u001b[0;34m\u001b[0m\u001b[0m\n\u001b[1;32m    585\u001b[0m \u001b[0;34m\u001b[0m\u001b[0m\n\u001b[0;32m--> 586\u001b[0;31m     \u001b[0;32mreturn\u001b[0m \u001b[0m_read\u001b[0m\u001b[0;34m(\u001b[0m\u001b[0mfilepath_or_buffer\u001b[0m\u001b[0;34m,\u001b[0m \u001b[0mkwds\u001b[0m\u001b[0;34m)\u001b[0m\u001b[0;34m\u001b[0m\u001b[0;34m\u001b[0m\u001b[0m\n\u001b[0m\u001b[1;32m    587\u001b[0m \u001b[0;34m\u001b[0m\u001b[0m\n\u001b[1;32m    588\u001b[0m \u001b[0;34m\u001b[0m\u001b[0m\n",
            "\u001b[0;32m/usr/local/lib/python3.7/dist-packages/pandas/io/parsers/readers.py\u001b[0m in \u001b[0;36m_read\u001b[0;34m(filepath_or_buffer, kwds)\u001b[0m\n\u001b[1;32m    480\u001b[0m \u001b[0;34m\u001b[0m\u001b[0m\n\u001b[1;32m    481\u001b[0m     \u001b[0;31m# Create the parser.\u001b[0m\u001b[0;34m\u001b[0m\u001b[0;34m\u001b[0m\u001b[0;34m\u001b[0m\u001b[0m\n\u001b[0;32m--> 482\u001b[0;31m     \u001b[0mparser\u001b[0m \u001b[0;34m=\u001b[0m \u001b[0mTextFileReader\u001b[0m\u001b[0;34m(\u001b[0m\u001b[0mfilepath_or_buffer\u001b[0m\u001b[0;34m,\u001b[0m \u001b[0;34m**\u001b[0m\u001b[0mkwds\u001b[0m\u001b[0;34m)\u001b[0m\u001b[0;34m\u001b[0m\u001b[0;34m\u001b[0m\u001b[0m\n\u001b[0m\u001b[1;32m    483\u001b[0m \u001b[0;34m\u001b[0m\u001b[0m\n\u001b[1;32m    484\u001b[0m     \u001b[0;32mif\u001b[0m \u001b[0mchunksize\u001b[0m \u001b[0;32mor\u001b[0m \u001b[0miterator\u001b[0m\u001b[0;34m:\u001b[0m\u001b[0;34m\u001b[0m\u001b[0;34m\u001b[0m\u001b[0m\n",
            "\u001b[0;32m/usr/local/lib/python3.7/dist-packages/pandas/io/parsers/readers.py\u001b[0m in \u001b[0;36m__init__\u001b[0;34m(self, f, engine, **kwds)\u001b[0m\n\u001b[1;32m    809\u001b[0m             \u001b[0mself\u001b[0m\u001b[0;34m.\u001b[0m\u001b[0moptions\u001b[0m\u001b[0;34m[\u001b[0m\u001b[0;34m\"has_index_names\"\u001b[0m\u001b[0;34m]\u001b[0m \u001b[0;34m=\u001b[0m \u001b[0mkwds\u001b[0m\u001b[0;34m[\u001b[0m\u001b[0;34m\"has_index_names\"\u001b[0m\u001b[0;34m]\u001b[0m\u001b[0;34m\u001b[0m\u001b[0;34m\u001b[0m\u001b[0m\n\u001b[1;32m    810\u001b[0m \u001b[0;34m\u001b[0m\u001b[0m\n\u001b[0;32m--> 811\u001b[0;31m         \u001b[0mself\u001b[0m\u001b[0;34m.\u001b[0m\u001b[0m_engine\u001b[0m \u001b[0;34m=\u001b[0m \u001b[0mself\u001b[0m\u001b[0;34m.\u001b[0m\u001b[0m_make_engine\u001b[0m\u001b[0;34m(\u001b[0m\u001b[0mself\u001b[0m\u001b[0;34m.\u001b[0m\u001b[0mengine\u001b[0m\u001b[0;34m)\u001b[0m\u001b[0;34m\u001b[0m\u001b[0;34m\u001b[0m\u001b[0m\n\u001b[0m\u001b[1;32m    812\u001b[0m \u001b[0;34m\u001b[0m\u001b[0m\n\u001b[1;32m    813\u001b[0m     \u001b[0;32mdef\u001b[0m \u001b[0mclose\u001b[0m\u001b[0;34m(\u001b[0m\u001b[0mself\u001b[0m\u001b[0;34m)\u001b[0m\u001b[0;34m:\u001b[0m\u001b[0;34m\u001b[0m\u001b[0;34m\u001b[0m\u001b[0m\n",
            "\u001b[0;32m/usr/local/lib/python3.7/dist-packages/pandas/io/parsers/readers.py\u001b[0m in \u001b[0;36m_make_engine\u001b[0;34m(self, engine)\u001b[0m\n\u001b[1;32m   1038\u001b[0m             )\n\u001b[1;32m   1039\u001b[0m         \u001b[0;31m# error: Too many arguments for \"ParserBase\"\u001b[0m\u001b[0;34m\u001b[0m\u001b[0;34m\u001b[0m\u001b[0;34m\u001b[0m\u001b[0m\n\u001b[0;32m-> 1040\u001b[0;31m         \u001b[0;32mreturn\u001b[0m \u001b[0mmapping\u001b[0m\u001b[0;34m[\u001b[0m\u001b[0mengine\u001b[0m\u001b[0;34m]\u001b[0m\u001b[0;34m(\u001b[0m\u001b[0mself\u001b[0m\u001b[0;34m.\u001b[0m\u001b[0mf\u001b[0m\u001b[0;34m,\u001b[0m \u001b[0;34m**\u001b[0m\u001b[0mself\u001b[0m\u001b[0;34m.\u001b[0m\u001b[0moptions\u001b[0m\u001b[0;34m)\u001b[0m  \u001b[0;31m# type: ignore[call-arg]\u001b[0m\u001b[0;34m\u001b[0m\u001b[0;34m\u001b[0m\u001b[0m\n\u001b[0m\u001b[1;32m   1041\u001b[0m \u001b[0;34m\u001b[0m\u001b[0m\n\u001b[1;32m   1042\u001b[0m     \u001b[0;32mdef\u001b[0m \u001b[0m_failover_to_python\u001b[0m\u001b[0;34m(\u001b[0m\u001b[0mself\u001b[0m\u001b[0;34m)\u001b[0m\u001b[0;34m:\u001b[0m\u001b[0;34m\u001b[0m\u001b[0;34m\u001b[0m\u001b[0m\n",
            "\u001b[0;32m/usr/local/lib/python3.7/dist-packages/pandas/io/parsers/c_parser_wrapper.py\u001b[0m in \u001b[0;36m__init__\u001b[0;34m(self, src, **kwds)\u001b[0m\n\u001b[1;32m     49\u001b[0m \u001b[0;34m\u001b[0m\u001b[0m\n\u001b[1;32m     50\u001b[0m         \u001b[0;31m# open handles\u001b[0m\u001b[0;34m\u001b[0m\u001b[0;34m\u001b[0m\u001b[0;34m\u001b[0m\u001b[0m\n\u001b[0;32m---> 51\u001b[0;31m         \u001b[0mself\u001b[0m\u001b[0;34m.\u001b[0m\u001b[0m_open_handles\u001b[0m\u001b[0;34m(\u001b[0m\u001b[0msrc\u001b[0m\u001b[0;34m,\u001b[0m \u001b[0mkwds\u001b[0m\u001b[0;34m)\u001b[0m\u001b[0;34m\u001b[0m\u001b[0;34m\u001b[0m\u001b[0m\n\u001b[0m\u001b[1;32m     52\u001b[0m         \u001b[0;32massert\u001b[0m \u001b[0mself\u001b[0m\u001b[0;34m.\u001b[0m\u001b[0mhandles\u001b[0m \u001b[0;32mis\u001b[0m \u001b[0;32mnot\u001b[0m \u001b[0;32mNone\u001b[0m\u001b[0;34m\u001b[0m\u001b[0;34m\u001b[0m\u001b[0m\n\u001b[1;32m     53\u001b[0m \u001b[0;34m\u001b[0m\u001b[0m\n",
            "\u001b[0;32m/usr/local/lib/python3.7/dist-packages/pandas/io/parsers/base_parser.py\u001b[0m in \u001b[0;36m_open_handles\u001b[0;34m(self, src, kwds)\u001b[0m\n\u001b[1;32m    227\u001b[0m             \u001b[0mmemory_map\u001b[0m\u001b[0;34m=\u001b[0m\u001b[0mkwds\u001b[0m\u001b[0;34m.\u001b[0m\u001b[0mget\u001b[0m\u001b[0;34m(\u001b[0m\u001b[0;34m\"memory_map\"\u001b[0m\u001b[0;34m,\u001b[0m \u001b[0;32mFalse\u001b[0m\u001b[0;34m)\u001b[0m\u001b[0;34m,\u001b[0m\u001b[0;34m\u001b[0m\u001b[0;34m\u001b[0m\u001b[0m\n\u001b[1;32m    228\u001b[0m             \u001b[0mstorage_options\u001b[0m\u001b[0;34m=\u001b[0m\u001b[0mkwds\u001b[0m\u001b[0;34m.\u001b[0m\u001b[0mget\u001b[0m\u001b[0;34m(\u001b[0m\u001b[0;34m\"storage_options\"\u001b[0m\u001b[0;34m,\u001b[0m \u001b[0;32mNone\u001b[0m\u001b[0;34m)\u001b[0m\u001b[0;34m,\u001b[0m\u001b[0;34m\u001b[0m\u001b[0;34m\u001b[0m\u001b[0m\n\u001b[0;32m--> 229\u001b[0;31m             \u001b[0merrors\u001b[0m\u001b[0;34m=\u001b[0m\u001b[0mkwds\u001b[0m\u001b[0;34m.\u001b[0m\u001b[0mget\u001b[0m\u001b[0;34m(\u001b[0m\u001b[0;34m\"encoding_errors\"\u001b[0m\u001b[0;34m,\u001b[0m \u001b[0;34m\"strict\"\u001b[0m\u001b[0;34m)\u001b[0m\u001b[0;34m,\u001b[0m\u001b[0;34m\u001b[0m\u001b[0;34m\u001b[0m\u001b[0m\n\u001b[0m\u001b[1;32m    230\u001b[0m         )\n\u001b[1;32m    231\u001b[0m \u001b[0;34m\u001b[0m\u001b[0m\n",
            "\u001b[0;32m/usr/local/lib/python3.7/dist-packages/pandas/io/common.py\u001b[0m in \u001b[0;36mget_handle\u001b[0;34m(path_or_buf, mode, encoding, compression, memory_map, is_text, errors, storage_options)\u001b[0m\n\u001b[1;32m    705\u001b[0m                 \u001b[0mencoding\u001b[0m\u001b[0;34m=\u001b[0m\u001b[0mioargs\u001b[0m\u001b[0;34m.\u001b[0m\u001b[0mencoding\u001b[0m\u001b[0;34m,\u001b[0m\u001b[0;34m\u001b[0m\u001b[0;34m\u001b[0m\u001b[0m\n\u001b[1;32m    706\u001b[0m                 \u001b[0merrors\u001b[0m\u001b[0;34m=\u001b[0m\u001b[0merrors\u001b[0m\u001b[0;34m,\u001b[0m\u001b[0;34m\u001b[0m\u001b[0;34m\u001b[0m\u001b[0m\n\u001b[0;32m--> 707\u001b[0;31m                 \u001b[0mnewline\u001b[0m\u001b[0;34m=\u001b[0m\u001b[0;34m\"\"\u001b[0m\u001b[0;34m,\u001b[0m\u001b[0;34m\u001b[0m\u001b[0;34m\u001b[0m\u001b[0m\n\u001b[0m\u001b[1;32m    708\u001b[0m             )\n\u001b[1;32m    709\u001b[0m         \u001b[0;32melse\u001b[0m\u001b[0;34m:\u001b[0m\u001b[0;34m\u001b[0m\u001b[0;34m\u001b[0m\u001b[0m\n",
            "\u001b[0;31mFileNotFoundError\u001b[0m: [Errno 2] No such file or directory: './chuvas_fortaleza.csv'"
          ]
        }
      ],
      "source": [
        "chuvas = pd.read_csv(\"./chuvas_fortaleza.csv\")"
      ]
    },
    {
      "cell_type": "code",
      "execution_count": null,
      "metadata": {
        "id": "X2c_vMq1g5RA"
      },
      "outputs": [],
      "source": []
    },
    {
      "cell_type": "code",
      "execution_count": null,
      "metadata": {
        "id": "ntHnjrV9i4jd"
      },
      "outputs": [],
      "source": [
        "df_janeiro_media"
      ]
    },
    {
      "cell_type": "code",
      "execution_count": null,
      "metadata": {
        "id": "nLxB9kqLj0lX"
      },
      "outputs": [],
      "source": [
        "df_fevereiro_agrupado"
      ]
    },
    {
      "cell_type": "code",
      "execution_count": null,
      "metadata": {
        "id": "FOKZqZBkj3gs"
      },
      "outputs": [],
      "source": [
        "dias_semana"
      ]
    },
    {
      "cell_type": "code",
      "execution_count": null,
      "metadata": {
        "id": "CusgOcgZkF8S"
      },
      "outputs": [],
      "source": [
        "dias_semana[\"delta_media\"] = 0"
      ]
    },
    {
      "cell_type": "code",
      "execution_count": null,
      "metadata": {
        "id": "Wch8RXpmt7GG"
      },
      "outputs": [],
      "source": [
        "dias_semana"
      ]
    },
    {
      "cell_type": "code",
      "execution_count": null,
      "metadata": {
        "id": "6bvy5p0k1dSq"
      },
      "outputs": [],
      "source": [
        "def mes(df):\n",
        "  if df[\"Data\"] <= pd.to_datetime(\"2022-01-31\"):\n",
        "    return \"Janeiro\"\n",
        "  else:\n",
        "    return \"Fevereiro\""
      ]
    },
    {
      "cell_type": "code",
      "execution_count": null,
      "metadata": {
        "id": "lbiZ4aPf1tVO"
      },
      "outputs": [],
      "source": [
        "dias_semana[\"Mês\"] = dias_semana.apply(mes,axis=1)"
      ]
    },
    {
      "cell_type": "code",
      "execution_count": null,
      "metadata": {
        "id": "UW1YRjUu140u"
      },
      "outputs": [],
      "source": [
        "medias_janeiro = df_janeiro_media[\"Quantidade\"]"
      ]
    },
    {
      "cell_type": "code",
      "execution_count": null,
      "metadata": {
        "id": "HwVJjf162E9W"
      },
      "outputs": [],
      "source": [
        "medias_fevereiro = df_fevereiro_agrupado[\"Quantidade\"]"
      ]
    },
    {
      "cell_type": "code",
      "execution_count": null,
      "metadata": {
        "id": "yo1Ueqeu2Jzl"
      },
      "outputs": [],
      "source": [
        "medias_janeiro"
      ]
    },
    {
      "cell_type": "code",
      "execution_count": null,
      "metadata": {
        "id": "62eUnDe5OGvv"
      },
      "outputs": [],
      "source": []
    },
    {
      "cell_type": "code",
      "execution_count": null,
      "metadata": {
        "id": "m3UMoBw92K07"
      },
      "outputs": [],
      "source": [
        "for index, rows in dias_semana.iterrows():\n",
        "  if rows[\"Mês\"] == \"Janeiro\" and rows[\"Dia\"] == \"Segunda\":\n",
        "    dias_semana.loc[index,\"Média do dia\"] = medias_janeiro[3]\n",
        "  elif rows[\"Mês\"] == \"Janeiro\" and rows[\"Dia\"] == \"Terça\":\n",
        "    dias_semana.loc[index,\"Média do dia\"] = medias_janeiro[6]\n",
        "  elif rows[\"Mês\"] == \"Janeiro\" and rows[\"Dia\"] == \"Quarta\":\n",
        "    dias_semana.loc[index,\"Média do dia\"] = medias_janeiro[1]\n",
        "  elif rows[\"Mês\"] == \"Janeiro\" and rows[\"Dia\"] == \"Quinta\":\n",
        "    dias_semana.loc[index,\"Média do dia\"] = medias_janeiro[2]\n",
        "  elif rows[\"Mês\"] == \"Janeiro\" and rows[\"Dia\"] == \"Sexta\":\n",
        "    dias_semana.loc[index,\"Média do dia\"] = medias_janeiro[4]\n",
        "  elif rows[\"Mês\"] == \"Janeiro\" and rows[\"Dia\"] == \"Sábado\":\n",
        "    dias_semana.loc[index,\"Média do dia\"] = medias_janeiro[5]\n",
        "  elif rows[\"Mês\"] == \"Janeiro\" and rows[\"Dia\"] == \"Domingo\":\n",
        "    dias_semana.loc[index,\"Média do dia\"] = medias_janeiro[0]"
      ]
    },
    {
      "cell_type": "code",
      "execution_count": null,
      "metadata": {
        "id": "m8En0Lx6A2-p"
      },
      "outputs": [],
      "source": [
        "for index, rows in dias_semana.iterrows():\n",
        "  if rows[\"Mês\"] == \"Fevereiro\" and rows[\"Dia\"] == \"Segunda\":\n",
        "    dias_semana.loc[index,\"Média do dia\"] = medias_fevereiro[3]\n",
        "  elif rows[\"Mês\"] == \"Fevereiro\" and rows[\"Dia\"] == \"Terça\":\n",
        "    dias_semana.loc[index,\"Média do dia\"] = medias_fevereiro[6]\n",
        "  elif rows[\"Mês\"] == \"Fevereiro\" and rows[\"Dia\"] == \"Quarta\":\n",
        "    dias_semana.loc[index,\"Média do dia\"] = medias_fevereiro[1]\n",
        "  elif rows[\"Mês\"] == \"Fevereiro\" and rows[\"Dia\"] == \"Quinta\":\n",
        "    dias_semana.loc[index,\"Média do dia\"] = medias_fevereiro[2]\n",
        "  elif rows[\"Mês\"] == \"Fevereiro\" and rows[\"Dia\"] == \"Sexta\":\n",
        "    dias_semana.loc[index,\"Média do dia\"] = medias_fevereiro[4]\n",
        "  elif rows[\"Mês\"] == \"Fevereiro\" and rows[\"Dia\"] == \"Sábado\":\n",
        "    dias_semana.loc[index,\"Média do dia\"] = medias_fevereiro[5]\n",
        "  elif rows[\"Mês\"] == \"Fevereiro\" and rows[\"Dia\"] == \"Domingo\":\n",
        "    dias_semana.loc[index,\"Média do dia\"] = medias_fevereiro[0]"
      ]
    },
    {
      "cell_type": "code",
      "execution_count": null,
      "metadata": {
        "id": "VPN9gWo1_tcV"
      },
      "outputs": [],
      "source": [
        "dias_semana"
      ]
    },
    {
      "cell_type": "code",
      "execution_count": null,
      "metadata": {
        "id": "Jc3EVsebAQxN"
      },
      "outputs": [],
      "source": [
        "def distancia_media(df):\n",
        "  return df[\"Quantidade\"] - df[\"Média do dia\"]"
      ]
    },
    {
      "cell_type": "code",
      "execution_count": null,
      "metadata": {
        "id": "S-8RSRnZBiUU"
      },
      "outputs": [],
      "source": [
        "dias_semana[\"delta_media\"] = dias_semana.apply(distancia_media,axis=1)"
      ]
    },
    {
      "cell_type": "code",
      "execution_count": null,
      "metadata": {
        "id": "4LoeSyhYBrZg"
      },
      "outputs": [],
      "source": [
        "dias_semana"
      ]
    },
    {
      "cell_type": "code",
      "execution_count": null,
      "metadata": {
        "id": "7xijGpGL9QHZ"
      },
      "outputs": [],
      "source": [
        "dias_semana2 = dias_semana.copy()\n"
      ]
    },
    {
      "cell_type": "markdown",
      "metadata": {
        "id": "zDiah60eJiCf"
      },
      "source": [
        "###DIfereneç sem outliers"
      ]
    },
    {
      "cell_type": "code",
      "execution_count": null,
      "metadata": {
        "id": "BpCGMOZVJgY_"
      },
      "outputs": [],
      "source": []
    },
    {
      "cell_type": "code",
      "execution_count": null,
      "metadata": {
        "id": "1RKgrA_3NU9P"
      },
      "outputs": [],
      "source": [
        "medias_janeiro2 = df_janeiro_media2[\"Quantidade\"]"
      ]
    },
    {
      "cell_type": "code",
      "execution_count": null,
      "metadata": {
        "id": "6B0c5B0WNU9R"
      },
      "outputs": [],
      "source": [
        "medias_fevereiro2 = df_fevereiro_agrupado2[\"Quantidade\"]"
      ]
    },
    {
      "cell_type": "code",
      "execution_count": null,
      "metadata": {
        "id": "5ci3FPbBOQcA"
      },
      "outputs": [],
      "source": [
        "for index, rows in dias_semana2.iterrows():\n",
        "  if rows[\"Mês\"] == \"Janeiro\" and rows[\"Dia\"] == \"Segunda\":\n",
        "    dias_semana2.loc[index,\"Média do dia\"] = medias_janeiro2[3]\n",
        "  elif rows[\"Mês\"] == \"Janeiro\" and rows[\"Dia\"] == \"Terça\":\n",
        "    dias_semana2.loc[index,\"Média do dia\"] = medias_janeiro2[6]\n",
        "  elif rows[\"Mês\"] == \"Janeiro\" and rows[\"Dia\"] == \"Quarta\":\n",
        "    dias_semana2.loc[index,\"Média do dia\"] = medias_janeiro2[1]\n",
        "  elif rows[\"Mês\"] == \"Janeiro\" and rows[\"Dia\"] == \"Quinta\":\n",
        "    dias_semana2.loc[index,\"Média do dia\"] = medias_janeiro2[2]\n",
        "  elif rows[\"Mês\"] == \"Janeiro\" and rows[\"Dia\"] == \"Sexta\":\n",
        "    dias_semana2.loc[index,\"Média do dia\"] = medias_janeiro2[4]\n",
        "  elif rows[\"Mês\"] == \"Janeiro\" and rows[\"Dia\"] == \"Sábado\":\n",
        "    dias_semana2.loc[index,\"Média do dia\"] = medias_janeiro2[5]\n",
        "  elif rows[\"Mês\"] == \"Janeiro\" and rows[\"Dia\"] == \"Domingo\":\n",
        "    dias_semana2.loc[index,\"Média do dia\"] = medias_janeiro2[0]"
      ]
    },
    {
      "cell_type": "code",
      "execution_count": null,
      "metadata": {
        "id": "k7d58oxQOQcC"
      },
      "outputs": [],
      "source": [
        "for index, rows in dias_semana2.iterrows():\n",
        "  if rows[\"Mês\"] == \"Fevereiro\" and rows[\"Dia\"] == \"Segunda\":\n",
        "    dias_semana2.loc[index,\"Média do dia\"] = medias_fevereiro2[3]\n",
        "  elif rows[\"Mês\"] == \"Fevereiro\" and rows[\"Dia\"] == \"Terça\":\n",
        "    dias_semana2.loc[index,\"Média do dia\"] = medias_fevereiro2[6]\n",
        "  elif rows[\"Mês\"] == \"Fevereiro\" and rows[\"Dia\"] == \"Quarta\":\n",
        "    dias_semana2.loc[index,\"Média do dia\"] = medias_fevereiro2[1]\n",
        "  elif rows[\"Mês\"] == \"Fevereiro\" and rows[\"Dia\"] == \"Quinta\":\n",
        "    dias_semana2.loc[index,\"Média do dia\"] = medias_fevereiro2[2]\n",
        "  elif rows[\"Mês\"] == \"Fevereiro\" and rows[\"Dia\"] == \"Sexta\":\n",
        "    dias_semana2.loc[index,\"Média do dia\"] = medias_fevereiro2[4]\n",
        "  elif rows[\"Mês\"] == \"Fevereiro\" and rows[\"Dia\"] == \"Sábado\":\n",
        "    dias_semana2.loc[index,\"Média do dia\"] = medias_fevereiro2[5]\n",
        "  elif rows[\"Mês\"] == \"Fevereiro\" and rows[\"Dia\"] == \"Domingo\":\n",
        "    dias_semana2.loc[index,\"Média do dia\"] = medias_fevereiro2[0]"
      ]
    },
    {
      "cell_type": "code",
      "execution_count": null,
      "metadata": {
        "id": "nXcnJCO4OQcE"
      },
      "outputs": [],
      "source": [
        "chuvas"
      ]
    },
    {
      "cell_type": "code",
      "execution_count": null,
      "metadata": {
        "id": "NHV5DAlgOQcG"
      },
      "outputs": [],
      "source": [
        "def distancia_media2(df):\n",
        "  return df[\"Quantidade\"] - df[\"Média do dia\"]"
      ]
    },
    {
      "cell_type": "code",
      "execution_count": null,
      "metadata": {
        "id": "jHlsR7EjOQcH"
      },
      "outputs": [],
      "source": [
        "dias_semana2[\"delta_media\"] = dias_semana2.apply(distancia_media2,axis=1)"
      ]
    },
    {
      "cell_type": "code",
      "execution_count": null,
      "metadata": {
        "id": "-8HP5MrOOQcI"
      },
      "outputs": [],
      "source": [
        "dias_semana2"
      ]
    },
    {
      "cell_type": "code",
      "execution_count": null,
      "metadata": {
        "id": "JXviOfkRPwcA"
      },
      "outputs": [],
      "source": [
        "dias_semana"
      ]
    },
    {
      "cell_type": "code",
      "execution_count": null,
      "metadata": {
        "id": "aYVlNWmWPrXt"
      },
      "outputs": [],
      "source": [
        "chuvas.drop(0,inplace=True)\n",
        "chuvas.drop(58,inplace=True)"
      ]
    },
    {
      "cell_type": "code",
      "execution_count": null,
      "metadata": {
        "id": "Pau4vJ8oQhmG"
      },
      "outputs": [],
      "source": [
        "dias_semana2[\"Chuva\"] = chuvas[\"Chuva\"]\n",
        "dias_semana[\"Chuva\"] = chuvas[\"Chuva\"]"
      ]
    },
    {
      "cell_type": "code",
      "execution_count": null,
      "metadata": {
        "id": "Tbj7CV25QrlX"
      },
      "outputs": [],
      "source": [
        "dias_semana2"
      ]
    },
    {
      "cell_type": "code",
      "execution_count": null,
      "metadata": {
        "id": "SspMVUTzQspe"
      },
      "outputs": [],
      "source": [
        "dias_semana2.corr(method=\"spearman\")"
      ]
    },
    {
      "cell_type": "code",
      "execution_count": null,
      "metadata": {
        "id": "j0vEPVPnSMfb"
      },
      "outputs": [],
      "source": [
        "dias_semana.corr(method='pearson')"
      ]
    },
    {
      "cell_type": "code",
      "execution_count": null,
      "metadata": {
        "id": "v3TfmiCaSvWl"
      },
      "outputs": [],
      "source": []
    }
  ],
  "metadata": {
    "colab": {
      "collapsed_sections": [
        "fVC-Km7FMzmS"
      ],
      "provenance": [],
      "authorship_tag": "ABX9TyOg6jVV8wx5dfc/08e9xw+w",
      "include_colab_link": true
    },
    "kernelspec": {
      "display_name": "Python 3",
      "name": "python3"
    },
    "language_info": {
      "name": "python"
    }
  },
  "nbformat": 4,
  "nbformat_minor": 0
}